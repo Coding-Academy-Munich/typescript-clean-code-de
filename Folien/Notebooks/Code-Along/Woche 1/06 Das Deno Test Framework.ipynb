{
 "cells": [
  {
   "cell_type": "markdown",
   "id": "234ab8c466f48ceb",
   "metadata": {
    "lang": "de",
    "slideshow": {
     "slide_type": "slide"
    },
    "tags": [
     "slide"
    ]
   },
   "source": [
    "\n",
    "<img src=\"data:image/svg+xml;base64,PHN2ZyBmaWxsPSJub25lIiBoZWlnaHQ9IjUxMiIgdmlld0JveD0iMCAwIDUxMiA1MTIiIHdpZHRo\n",
    "PSI1MTIiIHhtbG5zPSJodHRwOi8vd3d3LnczLm9yZy8yMDAwL3N2ZyI+PHJlY3QgZmlsbD0iIzMx\n",
    "NzhjNiIgaGVpZ2h0PSI1MTIiIHJ4PSI1MCIgd2lkdGg9IjUxMiIvPjxyZWN0IGZpbGw9IiMzMTc4\n",
    "YzYiIGhlaWdodD0iNTEyIiByeD0iNTAiIHdpZHRoPSI1MTIiLz48cGF0aCBjbGlwLXJ1bGU9ImV2\n",
    "ZW5vZGQiIGQ9Im0zMTYuOTM5IDQwNy40MjR2NTAuMDYxYzguMTM4IDQuMTcyIDE3Ljc2MyA3LjMg\n",
    "MjguODc1IDkuMzg2czIyLjgyMyAzLjEyOSAzNS4xMzUgMy4xMjljMTEuOTk5IDAgMjMuMzk3LTEu\n",
    "MTQ3IDM0LjE5Ni0zLjQ0MiAxMC43OTktMi4yOTQgMjAuMjY4LTYuMDc1IDI4LjQwNi0xMS4zNDIg\n",
    "OC4xMzgtNS4yNjYgMTQuNTgxLTEyLjE1IDE5LjMyOC0yMC42NXM3LjEyMS0xOS4wMDcgNy4xMjEt\n",
    "MzEuNTIyYzAtOS4wNzQtMS4zNTYtMTcuMDI2LTQuMDY5LTIzLjg1N3MtNi42MjUtMTIuOTA2LTEx\n",
    "LjczOC0xOC4yMjVjLTUuMTEyLTUuMzE5LTExLjI0Mi0xMC4wOTEtMTguMzg5LTE0LjMxNXMtMTUu\n",
    "MjA3LTguMjEzLTI0LjE4LTExLjk2N2MtNi41NzMtMi43MTItMTIuNDY4LTUuMzQ1LTE3LjY4NS03\n",
    "LjktNS4yMTctMi41NTYtOS42NTEtNS4xNjMtMTMuMzAzLTcuODIyLTMuNjUyLTIuNjYtNi40Njkt\n",
    "NS40NzYtOC40NTEtOC40NDgtMS45ODItMi45NzMtMi45NzQtNi4zMzYtMi45NzQtMTAuMDkxIDAt\n",
    "My40NDEuODg3LTYuNTQ0IDIuNjYxLTkuMzA4czQuMjc4LTUuMTM2IDcuNTEyLTcuMTE4YzMuMjM1\n",
    "LTEuOTgxIDcuMTk5LTMuNTIgMTEuODk0LTQuNjE1IDQuNjk2LTEuMDk1IDkuOTEyLTEuNjQyIDE1\n",
    "LjY1MS0xLjY0MiA0LjE3MyAwIDguNTgxLjMxMyAxMy4yMjQuOTM4IDQuNjQzLjYyNiA5LjMxMiAx\n",
    "LjU5MSAxNC4wMDggMi44OTQgNC42OTUgMS4zMDQgOS4yNTkgMi45NDcgMTMuNjk0IDQuOTI4IDQu\n",
    "NDM0IDEuOTgyIDguNTI5IDQuMjc2IDEyLjI4NSA2Ljg4NHYtNDYuNzc2Yy03LjYxNi0yLjkyLTE1\n",
    "LjkzNy01LjA4NC0yNC45NjItNi40OTJzLTE5LjM4MS0yLjExMi0zMS4wNjYtMi4xMTJjLTExLjg5\n",
    "NSAwLTIzLjE2MyAxLjI3OC0zMy44MDUgMy44MzNzLTIwLjAwNiA2LjU0NC0yOC4wOTMgMTEuOTY3\n",
    "Yy04LjA4NiA1LjQyNC0xNC40NzYgMTIuMzMzLTE5LjE3MSAyMC43MjktNC42OTUgOC4zOTUtNy4w\n",
    "NDMgMTguNDMzLTcuMDQzIDMwLjExNCAwIDE0LjkxNCA0LjMwNCAyNy42MzggMTIuOTEyIDM4LjE3\n",
    "MiA4LjYwNyAxMC41MzMgMjEuNjc1IDE5LjQ1IDM5LjIwNCAyNi43NTEgNi44ODYgMi44MTYgMTMu\n",
    "MzAzIDUuNTc5IDE5LjI1IDguMjkxczExLjA4NiA1LjUyOCAxNS40MTUgOC40NDhjNC4zMyAyLjky\n",
    "IDcuNzQ3IDYuMTAxIDEwLjI1MiA5LjU0MyAyLjUwNCAzLjQ0MSAzLjc1NiA3LjM1MiAzLjc1NiAx\n",
    "MS43MzMgMCAzLjIzMy0uNzgzIDYuMjMxLTIuMzQ4IDguOTk1cy0zLjkzOSA1LjE2Mi03LjEyMSA3\n",
    "LjE5Ni03LjE0NyAzLjYyNC0xMS44OTQgNC43NzFjLTQuNzQ4IDEuMTQ4LTEwLjMwMyAxLjcyMS0x\n",
    "Ni42NjggMS43MjEtMTAuODUxIDAtMjEuNTk3LTEuOTAzLTMyLjI0LTUuNzEtMTAuNjQyLTMuODA2\n",
    "LTIwLjUwMi05LjUxNi0yOS41NzktMTcuMTN6bS04NC4xNTktMTIzLjM0Mmg2NC4yMnYtNDEuMDgy\n",
    "aC0xNzl2NDEuMDgyaDYzLjkwNnYxODIuOTE4aDUwLjg3NHoiIGZpbGw9IiNmZmYiIGZpbGwtcnVs\n",
    "ZT0iZXZlbm9kZCIvPjwvc3ZnPg==\n",
    "\"\n",
    "     alt=\"TypeScript Logo\" style=\"display:block;margin:auto;width:5%\"/>\n",
    "<br>\n",
    "\n",
    "<div style=\"text-align:center; font-size:200%;\">\n",
    "  <b>Das Deno Test Framework</b>\n",
    "</div>\n",
    "<br/>\n",
    "<div style=\"text-align:center; font-size:120%;\">Dr. Matthias Hölzl</div>\n",
    "<br/>\n",
    "<div style=\"text-align:center;\">Coding-Akademie München</div>\n",
    "<br/>"
   ]
  },
  {
   "cell_type": "markdown",
   "id": "515e4e6007cd5618",
   "metadata": {
    "lang": "de",
    "slideshow": {
     "slide_type": "subslide"
    },
    "tags": [
     "subslide"
    ]
   },
   "source": [
    "\n",
    "## Tests in Deno\n",
    "\n",
    "- `Deno.test`-Funktion zum Definieren von Tests\n",
    "- Funktionen zum Schreiben von Zusicherungen (Assertions)\n",
    "- Hilfsmittel für Test-Doubles"
   ]
  },
  {
   "cell_type": "code",
   "execution_count": null,
   "id": "c05aeeda4bd93b02",
   "metadata": {
    "slideshow": {
     "slide_type": "subslide"
    },
    "tags": [
     "keep",
     "subslide"
    ]
   },
   "outputs": [],
   "source": [
    "import { assertEquals } from \"jsr:@std/assert\";"
   ]
  },
  {
   "cell_type": "code",
   "execution_count": null,
   "id": "3e62731d1cd7eb28",
   "metadata": {},
   "outputs": [],
   "source": []
  },
  {
   "cell_type": "code",
   "execution_count": null,
   "id": "9b8e0a137d52add9",
   "metadata": {},
   "outputs": [],
   "source": []
  },
  {
   "cell_type": "markdown",
   "id": "e106ae0ffa9391f4",
   "metadata": {
    "lang": "de",
    "slideshow": {
     "slide_type": "subslide"
    },
    "tags": [
     "subslide"
    ]
   },
   "source": [
    "\n",
    "- Die Argumente werden ja ausgewertet bevor die Funktion aufgerufen wird.\n",
    "- Also müssen wir verhindern, dass der Ausdruck, den wir testen wollen, zu\n",
    "  bald ausgeführt wird.\n",
    "- Stattdessen müssen wir der `assertThrows`-Methode den Code, den wir testen\n",
    "  wollen in einer Form geben, in der sie arrangieren kann, dass  der Code in\n",
    "  einem Kontext ausgeführt wird, in dem Deno überprüfen kann, ob eine\n",
    "  Exception geworfen wird.\n",
    "- Und glücklicherweise hat TypeScript dafür eine elegante Lösung: Lambda\n",
    "  Ausdrücke, die sowohl Ausdrücke als auch Anweisungen kapseln können."
   ]
  },
  {
   "cell_type": "markdown",
   "id": "8ca9508d60846b47",
   "metadata": {
    "lang": "de",
    "slideshow": {
     "slide_type": "subslide"
    },
    "tags": [
     "subslide"
    ]
   },
   "source": [
    "\n",
    "### Einschub: Lambda-Ausdrücke\n",
    "\n",
    "- Lambda-Ausdrücke sind eine Möglichkeit, Funktionen als Argumente zu\n",
    "  übergeben.\n",
    "- Sie können in Funktions-Typen konvertiert werden."
   ]
  },
  {
   "cell_type": "markdown",
   "id": "35a1f81a774304ae",
   "metadata": {
    "lang": "de",
    "slideshow": {
     "slide_type": "subslide"
    },
    "tags": [
     "subslide"
    ]
   },
   "source": [
    "\n",
    "#### Ausdrucks-Lambdas"
   ]
  },
  {
   "cell_type": "code",
   "execution_count": null,
   "id": "267f2c788e384c0f",
   "metadata": {},
   "outputs": [],
   "source": []
  },
  {
   "cell_type": "code",
   "execution_count": null,
   "id": "e35eb081272f14a8",
   "metadata": {},
   "outputs": [],
   "source": []
  },
  {
   "cell_type": "markdown",
   "id": "aad8363b74a9e183",
   "metadata": {
    "lang": "de"
   },
   "source": [
    "\n",
    "#### Anweisungs-Lambdas"
   ]
  },
  {
   "cell_type": "code",
   "execution_count": null,
   "id": "6d37eb5cf6a3b4e7",
   "metadata": {},
   "outputs": [],
   "source": []
  },
  {
   "cell_type": "code",
   "execution_count": null,
   "id": "f674d938d219fbbc",
   "metadata": {},
   "outputs": [],
   "source": []
  },
  {
   "cell_type": "code",
   "execution_count": null,
   "id": "2d4544950032a1d6",
   "metadata": {
    "slideshow": {
     "slide_type": "subslide"
    },
    "tags": [
     "subslide"
    ]
   },
   "outputs": [],
   "source": []
  },
  {
   "cell_type": "code",
   "execution_count": null,
   "id": "b99f04ec1fc4ae3c",
   "metadata": {},
   "outputs": [],
   "source": []
  },
  {
   "cell_type": "markdown",
   "id": "e34096aea5840ff8",
   "metadata": {},
   "source": [
    "```shell\n",
    "> deno test\n",
    "> deno test simple_tests.ts\n",
    "```"
   ]
  },
  {
   "cell_type": "markdown",
   "id": "f968e18de69ebf5e",
   "metadata": {
    "lang": "de",
    "slideshow": {
     "slide_type": "subslide"
    },
    "tags": [
     "subslide"
    ]
   },
   "source": [
    "\n",
    "## Was ist Deno?\n",
    "\n",
    "- Deno ist ein modernes Runtime-und Test-Framework für TypeScript und JavaScript\n",
    "- Open-Source\n",
    "- Einfach in Projekte zu integrieren\n",
    "- Viele Features\n",
    "- Struktur ähnlich zu anderen Test-Frameworks"
   ]
  },
  {
   "cell_type": "markdown",
   "id": "8156524da7633b67",
   "metadata": {
    "lang": "de",
    "slideshow": {
     "slide_type": "subslide"
    },
    "tags": [
     "subslide"
    ]
   },
   "source": [
    "\n",
    "## Features des Deno Test Frameworks\n",
    "\n",
    "- Verwaltung von Tests und Test-Suites\n",
    "- Assertion-Bibliothek für Testfälle\n",
    "- Ausführung von Tests (Test Runner)\n",
    "- Versetzen des SuT in einen definierten Zustand (Test Fixtures)\n",
    "- Unterstützung für parametrisierte Tests"
   ]
  },
  {
   "cell_type": "markdown",
   "id": "7e5a570c334cc408",
   "metadata": {
    "lang": "de",
    "slideshow": {
     "slide_type": "subslide"
    },
    "tags": [
     "subslide"
    ]
   },
   "source": [
    "\n",
    "## Assertions in Deno\n",
    "\n",
    "- `assert`, `assertFalse` um Bedingungen zu prüfen\n",
    "- `assertEquals`, `assertNotEquals` um Werte zu prüfen\n",
    "- `assertStrictEquals`, `assertNotStrictEquals` um auf Identität zu prüfen (`Object.is`)\n",
    "- `assertNull`, `assertNotNull` um auf `null` zu prüfen\n",
    "- `assertThrows` um Exceptions zu prüfen"
   ]
  },
  {
   "cell_type": "code",
   "execution_count": null,
   "id": "88b5509dcd576bb0",
   "metadata": {
    "tags": [
     "keep"
    ]
   },
   "outputs": [],
   "source": [
    "import {\n",
    "    assert,\n",
    "    assertFalse,\n",
    "    assertNotEquals,\n",
    "    assertAlmostEquals,\n",
    "    assertStrictEquals,\n",
    "    assertNotStrictEquals,\n",
    "    assertThrows } from \"jsr:@std/assert\";"
   ]
  },
  {
   "cell_type": "markdown",
   "id": "2fd48cbc3d68c640",
   "metadata": {
    "lang": "de",
    "slideshow": {
     "slide_type": "subslide"
    },
    "tags": [
     "subslide"
    ]
   },
   "source": [
    "\n",
    "### Boolesche Assertions"
   ]
  },
  {
   "cell_type": "code",
   "execution_count": null,
   "id": "6d60195eba1de1e7",
   "metadata": {},
   "outputs": [],
   "source": []
  },
  {
   "cell_type": "code",
   "execution_count": null,
   "id": "228979ba644b986b",
   "metadata": {},
   "outputs": [],
   "source": []
  },
  {
   "cell_type": "code",
   "execution_count": null,
   "id": "79b07c6c23480a58",
   "metadata": {},
   "outputs": [],
   "source": []
  },
  {
   "cell_type": "markdown",
   "id": "bfa4fb24338f8661",
   "metadata": {
    "lang": "de",
    "slideshow": {
     "slide_type": "subslide"
    },
    "tags": [
     "subslide"
    ]
   },
   "source": [
    "\n",
    "### Gleichheits-Assertions"
   ]
  },
  {
   "cell_type": "code",
   "execution_count": null,
   "id": "a38b39451619f1e2",
   "metadata": {},
   "outputs": [],
   "source": []
  },
  {
   "cell_type": "code",
   "execution_count": null,
   "id": "6c5a66a15b9378b1",
   "metadata": {},
   "outputs": [],
   "source": []
  },
  {
   "cell_type": "code",
   "execution_count": null,
   "id": "05cdca24a4a20498",
   "metadata": {
    "slideshow": {
     "slide_type": "subslide"
    },
    "tags": [
     "subslide",
     "keep"
    ]
   },
   "outputs": [],
   "source": [
    "const str1 = \"Hello\";\n",
    "const str2 = \"Hello\";"
   ]
  },
  {
   "cell_type": "code",
   "execution_count": null,
   "id": "b3aa60ff14d929b2",
   "metadata": {},
   "outputs": [],
   "source": []
  },
  {
   "cell_type": "code",
   "execution_count": null,
   "id": "0d7a3cccb1e2e29c",
   "metadata": {},
   "outputs": [],
   "source": []
  },
  {
   "cell_type": "code",
   "execution_count": null,
   "id": "3505a0dc304116c4",
   "metadata": {
    "slideshow": {
     "slide_type": "subslide"
    },
    "tags": [
     "subslide"
    ]
   },
   "outputs": [],
   "source": []
  },
  {
   "cell_type": "code",
   "execution_count": null,
   "id": "2445bfffc25f7014",
   "metadata": {},
   "outputs": [],
   "source": []
  },
  {
   "cell_type": "markdown",
   "id": "8c53310d783fb3e5",
   "metadata": {
    "lang": "de",
    "slideshow": {
     "slide_type": "subslide"
    },
    "tags": [
     "subslide"
    ]
   },
   "source": [
    "\n",
    "#### Vergleich von Gleitkommazahlen"
   ]
  },
  {
   "cell_type": "code",
   "execution_count": null,
   "id": "8efffa3fcaa2c2a3",
   "metadata": {},
   "outputs": [],
   "source": []
  },
  {
   "cell_type": "code",
   "execution_count": null,
   "id": "78cdcbfc40265281",
   "metadata": {},
   "outputs": [],
   "source": []
  },
  {
   "cell_type": "code",
   "execution_count": null,
   "id": "6416fbad38b7f680",
   "metadata": {},
   "outputs": [],
   "source": []
  },
  {
   "cell_type": "code",
   "execution_count": null,
   "id": "26c2af8b6c6c6408",
   "metadata": {
    "lines_to_next_cell": 0
   },
   "outputs": [],
   "source": []
  },
  {
   "cell_type": "code",
   "execution_count": null,
   "id": "a419b7b05e9dabaa",
   "metadata": {},
   "outputs": [],
   "source": []
  },
  {
   "cell_type": "markdown",
   "id": "4b1f9ae2534b512a",
   "metadata": {
    "lang": "de",
    "slideshow": {
     "slide_type": "subslide"
    },
    "tags": [
     "subslide"
    ]
   },
   "source": [
    "\n",
    "### Identitäts-Assertions"
   ]
  },
  {
   "cell_type": "code",
   "execution_count": null,
   "id": "9d0767db51dae2da",
   "metadata": {},
   "outputs": [],
   "source": []
  },
  {
   "cell_type": "code",
   "execution_count": null,
   "id": "8d55d5a36d1fc8de",
   "metadata": {},
   "outputs": [],
   "source": []
  },
  {
   "cell_type": "code",
   "execution_count": null,
   "id": "86912fcd6f12f5f4",
   "metadata": {},
   "outputs": [],
   "source": []
  },
  {
   "cell_type": "code",
   "execution_count": null,
   "id": "3cb2696193db4630",
   "metadata": {},
   "outputs": [],
   "source": []
  },
  {
   "cell_type": "code",
   "execution_count": null,
   "id": "e0e80be6999bb194",
   "metadata": {},
   "outputs": [],
   "source": []
  },
  {
   "cell_type": "code",
   "execution_count": null,
   "id": "67679b38603fbdc6",
   "metadata": {},
   "outputs": [],
   "source": []
  },
  {
   "cell_type": "markdown",
   "id": "776c17ea840d0873",
   "metadata": {
    "lang": "de",
    "slideshow": {
     "slide_type": "subslide"
    },
    "tags": [
     "subslide"
    ]
   },
   "source": [
    "\n",
    "### Exception-Assertions"
   ]
  },
  {
   "cell_type": "code",
   "execution_count": null,
   "id": "45b26b8aee73ddbd",
   "metadata": {},
   "outputs": [],
   "source": []
  },
  {
   "cell_type": "code",
   "execution_count": null,
   "id": "ba72cd4cc01161d3",
   "metadata": {
    "slideshow": {
     "slide_type": "subslide"
    },
    "tags": [
     "subslide"
    ]
   },
   "outputs": [],
   "source": []
  },
  {
   "cell_type": "code",
   "execution_count": null,
   "id": "66d959e327e442ea",
   "metadata": {
    "slideshow": {
     "slide_type": "subslide"
    },
    "tags": [
     "subslide"
    ]
   },
   "outputs": [],
   "source": []
  },
  {
   "cell_type": "code",
   "execution_count": null,
   "id": "010ea2b4107f0e74",
   "metadata": {},
   "outputs": [],
   "source": []
  },
  {
   "cell_type": "code",
   "execution_count": null,
   "id": "b70f7a12a565ad23",
   "metadata": {
    "slideshow": {
     "slide_type": "subslide"
    },
    "tags": [
     "subslide"
    ]
   },
   "outputs": [],
   "source": []
  },
  {
   "cell_type": "code",
   "execution_count": null,
   "id": "a610bcbb8125e4a2",
   "metadata": {
    "slideshow": {
     "slide_type": "subslide"
    },
    "tags": [
     "subslide"
    ]
   },
   "outputs": [],
   "source": []
  },
  {
   "cell_type": "markdown",
   "id": "2758e61951916ea9",
   "metadata": {
    "lang": "de",
    "slideshow": {
     "slide_type": "subslide"
    },
    "tags": [
     "subslide"
    ]
   },
   "source": [
    "\n",
    "## Workshop: Deno Test Basics im Notebook\n",
    "\n",
    "In diesem Workshop sollen Sie ein paar einfache Tests mit Deno schreiben.\n",
    "\n",
    "Hier ist der Code, den Sie testen sollen:"
   ]
  },
  {
   "cell_type": "code",
   "execution_count": null,
   "id": "641d4b7bc3888465",
   "metadata": {
    "tags": [
     "keep"
    ]
   },
   "outputs": [],
   "source": [
    "function mult(a: number, b: number): number {\n",
    "    return a * b;\n",
    "}"
   ]
  },
  {
   "cell_type": "code",
   "execution_count": null,
   "id": "eabb6822642aca02",
   "metadata": {},
   "outputs": [],
   "source": []
  },
  {
   "cell_type": "code",
   "execution_count": null,
   "id": "07c2e060bddac522",
   "metadata": {
    "tags": [
     "keep"
    ]
   },
   "outputs": [],
   "source": [
    "type Person = { name: string, age: number };"
   ]
  },
  {
   "cell_type": "code",
   "execution_count": null,
   "id": "3f96e7332833d897",
   "metadata": {
    "tags": [
     "keep"
    ]
   },
   "outputs": [],
   "source": [
    "function makePerson(name: string, age: number): Person {\n",
    "    return { name, age };\n",
    "}"
   ]
  },
  {
   "cell_type": "code",
   "execution_count": null,
   "id": "bdd289f2a8b3bd30",
   "metadata": {
    "tags": [
     "keep"
    ]
   },
   "outputs": [],
   "source": [
    "type Address = { street: { name: string, number: number }, city: { name: string, zip: string} };"
   ]
  },
  {
   "cell_type": "code",
   "execution_count": null,
   "id": "d5cc04577581b6d8",
   "metadata": {
    "tags": [
     "keep"
    ]
   },
   "outputs": [],
   "source": [
    "function makeAddress(streetName: string, streetNumber: number, cityName: string, cityZip: string): Address {\n",
    "    return { street: { name: streetName, number: streetNumber }, city: { name: cityName, zip: cityZip } };\n",
    "}"
   ]
  },
  {
   "cell_type": "code",
   "execution_count": null,
   "id": "56bbc39c7b0d61f3",
   "metadata": {
    "tags": [
     "keep"
    ]
   },
   "outputs": [],
   "source": [
    "function maybeCopy(o: object, copy: boolean): object {\n",
    "    if (copy) {\n",
    "        return { ...o };\n",
    "    } else {\n",
    "        return o;\n",
    "    }\n",
    "}"
   ]
  },
  {
   "cell_type": "code",
   "execution_count": null,
   "id": "a2e6cb09d4a3e76e",
   "metadata": {},
   "outputs": [],
   "source": []
  },
  {
   "cell_type": "markdown",
   "id": "4fdd358b14a704ae",
   "metadata": {
    "lang": "de"
   },
   "source": [
    "\n",
    "Ein Test mit `assert` und `===` funktioniert nicht, da wir die Gleichheit\n",
    "der Werte prüfen wollen."
   ]
  },
  {
   "cell_type": "markdown",
   "id": "5adbb7ae0884ddc1",
   "metadata": {
    "lang": "de"
   },
   "source": [
    "\n",
    "`assertEquals()` vergleicht die Werte der beiden Objekte."
   ]
  },
  {
   "cell_type": "markdown",
   "id": "8209d5772b5bf541",
   "metadata": {
    "lang": "de"
   },
   "source": [
    "\n",
    "Das funktioniert auch für verschachtelte Objekte."
   ]
  },
  {
   "cell_type": "markdown",
   "id": "20f18208060f988e",
   "metadata": {
    "lang": "de"
   },
   "source": [
    "\n",
    "- Bei `maybeCopy()` müssen wir überprüfen, ob das Objekt kopiert wurde und wenn\n",
    "  ja, ob die Kopie den richtigen Wert hat.\n",
    "- Dazu können wir `assertNotStrictEquals()` verwenden."
   ]
  }
 ],
 "metadata": {
  "jupytext": {
   "cell_metadata_filter": "lang,tags,-all",
   "encoding": "// -*- coding: utf-8 -*-",
   "main_language": "typescript",
   "notebook_metadata_filter": "-all"
  },
  "kernelspec": {
   "display_name": "Deno",
   "language": "typescript",
   "name": "deno"
  },
  "language_info": {
   "codemirror_mode": "typescript",
   "file_extension": ".ts",
   "mimetype": "text/x.typescript",
   "name": "typescript",
   "pygments_lexer": "typescript",
   "version": "5.6.2"
  }
 },
 "nbformat": 4,
 "nbformat_minor": 5
}
