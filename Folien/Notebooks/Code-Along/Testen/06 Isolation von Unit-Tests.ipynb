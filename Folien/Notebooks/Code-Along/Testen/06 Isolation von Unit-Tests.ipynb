{
 "cells": [
  {
   "cell_type": "markdown",
   "id": "f5c3eec030f8fe61",
   "metadata": {
    "lang": "de",
    "slideshow": {
     "slide_type": "slide"
    },
    "tags": [
     "slide"
    ]
   },
   "source": [
    "\n",
    "<img src=\"data:image/svg+xml;base64,PHN2ZyBmaWxsPSJub25lIiBoZWlnaHQ9IjUxMiIgdmlld0JveD0iMCAwIDUxMiA1MTIiIHdpZHRo\n",
    "PSI1MTIiIHhtbG5zPSJodHRwOi8vd3d3LnczLm9yZy8yMDAwL3N2ZyI+PHJlY3QgZmlsbD0iIzMx\n",
    "NzhjNiIgaGVpZ2h0PSI1MTIiIHJ4PSI1MCIgd2lkdGg9IjUxMiIvPjxyZWN0IGZpbGw9IiMzMTc4\n",
    "YzYiIGhlaWdodD0iNTEyIiByeD0iNTAiIHdpZHRoPSI1MTIiLz48cGF0aCBjbGlwLXJ1bGU9ImV2\n",
    "ZW5vZGQiIGQ9Im0zMTYuOTM5IDQwNy40MjR2NTAuMDYxYzguMTM4IDQuMTcyIDE3Ljc2MyA3LjMg\n",
    "MjguODc1IDkuMzg2czIyLjgyMyAzLjEyOSAzNS4xMzUgMy4xMjljMTEuOTk5IDAgMjMuMzk3LTEu\n",
    "MTQ3IDM0LjE5Ni0zLjQ0MiAxMC43OTktMi4yOTQgMjAuMjY4LTYuMDc1IDI4LjQwNi0xMS4zNDIg\n",
    "OC4xMzgtNS4yNjYgMTQuNTgxLTEyLjE1IDE5LjMyOC0yMC42NXM3LjEyMS0xOS4wMDcgNy4xMjEt\n",
    "MzEuNTIyYzAtOS4wNzQtMS4zNTYtMTcuMDI2LTQuMDY5LTIzLjg1N3MtNi42MjUtMTIuOTA2LTEx\n",
    "LjczOC0xOC4yMjVjLTUuMTEyLTUuMzE5LTExLjI0Mi0xMC4wOTEtMTguMzg5LTE0LjMxNXMtMTUu\n",
    "MjA3LTguMjEzLTI0LjE4LTExLjk2N2MtNi41NzMtMi43MTItMTIuNDY4LTUuMzQ1LTE3LjY4NS03\n",
    "LjktNS4yMTctMi41NTYtOS42NTEtNS4xNjMtMTMuMzAzLTcuODIyLTMuNjUyLTIuNjYtNi40Njkt\n",
    "NS40NzYtOC40NTEtOC40NDgtMS45ODItMi45NzMtMi45NzQtNi4zMzYtMi45NzQtMTAuMDkxIDAt\n",
    "My40NDEuODg3LTYuNTQ0IDIuNjYxLTkuMzA4czQuMjc4LTUuMTM2IDcuNTEyLTcuMTE4YzMuMjM1\n",
    "LTEuOTgxIDcuMTk5LTMuNTIgMTEuODk0LTQuNjE1IDQuNjk2LTEuMDk1IDkuOTEyLTEuNjQyIDE1\n",
    "LjY1MS0xLjY0MiA0LjE3MyAwIDguNTgxLjMxMyAxMy4yMjQuOTM4IDQuNjQzLjYyNiA5LjMxMiAx\n",
    "LjU5MSAxNC4wMDggMi44OTQgNC42OTUgMS4zMDQgOS4yNTkgMi45NDcgMTMuNjk0IDQuOTI4IDQu\n",
    "NDM0IDEuOTgyIDguNTI5IDQuMjc2IDEyLjI4NSA2Ljg4NHYtNDYuNzc2Yy03LjYxNi0yLjkyLTE1\n",
    "LjkzNy01LjA4NC0yNC45NjItNi40OTJzLTE5LjM4MS0yLjExMi0zMS4wNjYtMi4xMTJjLTExLjg5\n",
    "NSAwLTIzLjE2MyAxLjI3OC0zMy44MDUgMy44MzNzLTIwLjAwNiA2LjU0NC0yOC4wOTMgMTEuOTY3\n",
    "Yy04LjA4NiA1LjQyNC0xNC40NzYgMTIuMzMzLTE5LjE3MSAyMC43MjktNC42OTUgOC4zOTUtNy4w\n",
    "NDMgMTguNDMzLTcuMDQzIDMwLjExNCAwIDE0LjkxNCA0LjMwNCAyNy42MzggMTIuOTEyIDM4LjE3\n",
    "MiA4LjYwNyAxMC41MzMgMjEuNjc1IDE5LjQ1IDM5LjIwNCAyNi43NTEgNi44ODYgMi44MTYgMTMu\n",
    "MzAzIDUuNTc5IDE5LjI1IDguMjkxczExLjA4NiA1LjUyOCAxNS40MTUgOC40NDhjNC4zMyAyLjky\n",
    "IDcuNzQ3IDYuMTAxIDEwLjI1MiA5LjU0MyAyLjUwNCAzLjQ0MSAzLjc1NiA3LjM1MiAzLjc1NiAx\n",
    "MS43MzMgMCAzLjIzMy0uNzgzIDYuMjMxLTIuMzQ4IDguOTk1cy0zLjkzOSA1LjE2Mi03LjEyMSA3\n",
    "LjE5Ni03LjE0NyAzLjYyNC0xMS44OTQgNC43NzFjLTQuNzQ4IDEuMTQ4LTEwLjMwMyAxLjcyMS0x\n",
    "Ni42NjggMS43MjEtMTAuODUxIDAtMjEuNTk3LTEuOTAzLTMyLjI0LTUuNzEtMTAuNjQyLTMuODA2\n",
    "LTIwLjUwMi05LjUxNi0yOS41NzktMTcuMTN6bS04NC4xNTktMTIzLjM0Mmg2NC4yMnYtNDEuMDgy\n",
    "aC0xNzl2NDEuMDgyaDYzLjkwNnYxODIuOTE4aDUwLjg3NHoiIGZpbGw9IiNmZmYiIGZpbGwtcnVs\n",
    "ZT0iZXZlbm9kZCIvPjwvc3ZnPg==\n",
    "\"\n",
    "     alt=\"TypeScript Logo\" style=\"display:block;margin:auto;width:5%\"/>\n",
    "<br>\n",
    "\n",
    "<div style=\"text-align:center; font-size:200%;\">\n",
    "  <b>Isolation von Unit-Tests</b>\n",
    "</div>\n",
    "<br/>\n",
    "<div style=\"text-align:center; font-size:120%;\">Dr. Matthias Hölzl</div>\n",
    "<br/>\n",
    "<div style=\"text-align:center;\">Coding-Akademie München</div>\n",
    "<br/>"
   ]
  },
  {
   "cell_type": "markdown",
   "id": "7743b396c6bd290f",
   "metadata": {
    "lang": "de",
    "slideshow": {
     "slide_type": "subslide"
    },
    "tags": [
     "subslide"
    ]
   },
   "source": [
    "\n",
    "## Unit-Test\n",
    "\n",
    "- Testet einen kleinen Teil des Codes (eine **\"Unit\"**)\n",
    "- Hat kurze Laufzeit\n",
    "- *Ist isoliert*"
   ]
  },
  {
   "cell_type": "markdown",
   "id": "98560c91ea75a1b3",
   "metadata": {
    "lang": "de",
    "slideshow": {
     "slide_type": "subslide"
    },
    "tags": [
     "subslide"
    ]
   },
   "source": [
    "\n",
    "## Was ist eine \"Unit\"?\n",
    "\n",
    "- Ein Verhalten?\n",
    "  - *Unit of behavior*\n",
    "  - Teil eines Szenarios/Use-Cases/...\n",
    "  - Ursprüngliche Intention von Kent Beck\n",
    "- Ein Code-Bestandteil?\n",
    "  - *Unit of code*\n",
    "  - Oft Unit = Klasse\n",
    "  - In der Literatur weit verbreitete Ansicht"
   ]
  },
  {
   "cell_type": "markdown",
   "id": "38256732e438746f",
   "metadata": {
    "lang": "de",
    "slideshow": {
     "slide_type": "subslide"
    },
    "tags": [
     "subslide"
    ]
   },
   "source": [
    "\n",
    "## Was bedeutet \"isolierter\" Test?\n",
    "\n",
    "- Keine Interaktion zwischen Tests?\n",
    "  - Isolierte Testfälle\n",
    "  - Klassische Unit-Tests (Detroit School, Kent Beck)\n",
    "- Keine Interaktion zwischen getesteter Einheit und dem Rest des Systems?\n",
    "  - Abhängigkeiten werden durch einfache Simulationen ersetzt (Test-Doubles)\n",
    "  - London School"
   ]
  },
  {
   "cell_type": "markdown",
   "id": "c4178f62a9d69b32",
   "metadata": {
    "lang": "de",
    "slideshow": {
     "slide_type": "slide"
    },
    "tags": [
     "slide"
    ]
   },
   "source": [
    "\n",
    "## Isolierte Testfälle (Detroit School)\n",
    "\n",
    "- Jeder Testfall ist unabhängig von den anderen\n",
    "- Tests können in beliebiger Reihenfolge ausgeführt werden\n",
    "- Tests können parallel ausgeführt werden"
   ]
  },
  {
   "cell_type": "markdown",
   "id": "1dd2dc9037d0d118",
   "metadata": {
    "lang": "de",
    "slideshow": {
     "slide_type": "subslide"
    },
    "tags": [
     "subslide"
    ]
   },
   "source": [
    "\n",
    "### Gegenbeispiel: Nicht isolierte Testfälle"
   ]
  },
  {
   "cell_type": "code",
   "execution_count": null,
   "id": "904753b449b3de43",
   "metadata": {},
   "outputs": [],
   "source": []
  },
  {
   "cell_type": "code",
   "execution_count": null,
   "id": "c179bcbf9f424c55",
   "metadata": {},
   "outputs": [],
   "source": []
  },
  {
   "cell_type": "code",
   "execution_count": null,
   "id": "a85e8d293a81eb10",
   "metadata": {},
   "outputs": [],
   "source": []
  },
  {
   "cell_type": "code",
   "execution_count": null,
   "id": "123962fb6cd521fb",
   "metadata": {},
   "outputs": [],
   "source": []
  },
  {
   "cell_type": "code",
   "execution_count": null,
   "id": "8e830b19964a9f2f",
   "metadata": {},
   "outputs": [],
   "source": []
  },
  {
   "cell_type": "code",
   "execution_count": null,
   "id": "cb28eac3d63af132",
   "metadata": {},
   "outputs": [],
   "source": []
  },
  {
   "cell_type": "code",
   "execution_count": null,
   "id": "5ffe6484c8c19ea4",
   "metadata": {},
   "outputs": [],
   "source": []
  },
  {
   "cell_type": "markdown",
   "id": "8b2ea64714863c31",
   "metadata": {
    "lang": "de",
    "slideshow": {
     "slide_type": "subslide"
    },
    "tags": [
     "subslide"
    ]
   },
   "source": [
    "\n",
    "## Gründe für nicht isolierte Testfälle\n",
    "\n",
    "- Veränderlicher globaler/statischer Zustand\n",
    "- Veränderliche externe Ressourcen (Dateien, Datenbanken, Netzwerk, ...)"
   ]
  },
  {
   "cell_type": "markdown",
   "id": "943ed9e6708002d7",
   "metadata": {
    "lang": "de",
    "slideshow": {
     "slide_type": "slide"
    },
    "tags": [
     "slide"
    ]
   },
   "source": [
    "\n",
    "## Isolation der getesteten Unit\n",
    "\n",
    "- Die getestete Unit wird von allen anderen Units isoliert\n",
    "- Test-Doubles für alle Abhängigkeiten"
   ]
  },
  {
   "cell_type": "markdown",
   "id": "58fdb6ea77f489af",
   "metadata": {
    "lang": "de",
    "slideshow": {
     "slide_type": "subslide"
    },
    "tags": [
     "subslide"
    ]
   },
   "source": [
    "\n",
    "### Gegenbeispiel: Nicht isolierte Unit\n",
    "\n",
    "- Verkäufer von Veranstaltungs-Tickets\n",
    "- Konkrete Klasse `Show` repräsentiert eine Veranstaltung"
   ]
  },
  {
   "cell_type": "code",
   "execution_count": null,
   "id": "c9367f74385a5a58",
   "metadata": {},
   "outputs": [],
   "source": []
  },
  {
   "cell_type": "code",
   "execution_count": null,
   "id": "e5cdcb6a2c634640",
   "metadata": {},
   "outputs": [],
   "source": []
  },
  {
   "cell_type": "code",
   "execution_count": null,
   "id": "c17a70c40ee8b638",
   "metadata": {},
   "outputs": [],
   "source": []
  },
  {
   "cell_type": "code",
   "execution_count": null,
   "id": "f54dcda500424918",
   "metadata": {
    "slideshow": {
     "slide_type": "subslide"
    },
    "tags": [
     "keep",
     "subslide"
    ]
   },
   "outputs": [],
   "source": [
    "interface Show {\n",
    "    name: string;\n",
    "    get capacity(): number;\n",
    "    purchase(numTickets: number): void;\n",
    "}"
   ]
  },
  {
   "cell_type": "code",
   "execution_count": null,
   "id": "66069c586da41c67",
   "metadata": {
    "slideshow": {
     "slide_type": "subslide"
    },
    "tags": [
     "keep",
     "subslide"
    ]
   },
   "outputs": [],
   "source": [
    "class ConcreteShow implements Show {\n",
    "    private _capacity: number;\n",
    "    \n",
    "    constructor(readonly name: string, capacity: number) {\n",
    "        this._capacity = capacity;\n",
    "    }\n",
    "    \n",
    "    get capacity() { return this._capacity; }\n",
    "\n",
    "    purchase(numTickets: number): void {\n",
    "        if (numTickets > this.capacity) {\n",
    "            throw new Error(\"Not enough capacity\");\n",
    "        }\n",
    "        this._capacity -= numTickets;\n",
    "    }\n",
    "}"
   ]
  },
  {
   "cell_type": "code",
   "execution_count": null,
   "id": "c86a6ca6c0457743",
   "metadata": {
    "slideshow": {
     "slide_type": "subslide"
    },
    "tags": [
     "keep",
     "subslide"
    ]
   },
   "outputs": [],
   "source": [
    "class TicketOffice {\n",
    "    private shows: { [key: string]: Show } = {};\n",
    "\n",
    "    public addShow(show: Show): void {\n",
    "        this.shows[show.name] = show;\n",
    "    }\n",
    "\n",
    "    public getShow(showName: string): IShow {\n",
    "        return this.shows[showName];\n",
    "    }\n",
    "\n",
    "    public purchaseTickets(showName: string, numTickets: number): boolean {\n",
    "        if (this.shows[showName]) {\n",
    "            try {\n",
    "                this.shows[showName].purchase(numTickets);\n",
    "                return true;\n",
    "            } catch (e) {\n",
    "                console.error(`Cannot purchase ${numTickets} tickets for ${showName}`);\n",
    "                console.error(e.message);\n",
    "                return false;\n",
    "            }\n",
    "        }\n",
    "        return false;\n",
    "    }\n",
    "}"
   ]
  },
  {
   "cell_type": "markdown",
   "id": "9b6ea9968c505f87",
   "metadata": {
    "lang": "de",
    "slideshow": {
     "slide_type": "subslide"
    },
    "tags": [
     "subslide"
    ]
   },
   "source": [
    "\n",
    "### Isolation von `TicketOffice` für Tests\n",
    "\n",
    "- Entkopplung von allen Abhängigkeiten\n",
    "- `ShowMock`-Implementierung für Shows"
   ]
  },
  {
   "cell_type": "code",
   "execution_count": null,
   "id": "ffcd211966be866b",
   "metadata": {
    "tags": [
     "keep"
    ]
   },
   "outputs": [],
   "source": [
    "class ShowMock implements Show {\n",
    "    public name = \"TypeScript Conference\";\n",
    "    public capacity = 90;\n",
    "    public purchaseArgs: number[] = [];\n",
    "\n",
    "    public purchase(numTickets: number): void {\n",
    "        this.purchaseArgs.push(numTickets);\n",
    "    }\n",
    "}"
   ]
  },
  {
   "cell_type": "code",
   "execution_count": null,
   "id": "d0350cddfb4a999f",
   "metadata": {
    "slideshow": {
     "slide_type": "subslide"
    },
    "tags": [
     "keep",
     "subslide"
    ]
   },
   "outputs": [],
   "source": [
    "function testPurchaseTicketsCallsPurchaseCorrectly() {\n",
    "    const ticketOffice = new TicketOffice();\n",
    "    const showMock = new ShowMock();\n",
    "    ticketOffice.addShow(showMock);\n",
    "    const numTickets = 10;\n",
    "\n",
    "    const result = ticketOffice.purchaseTickets(\"TypeScript Conference\", numTickets);\n",
    "\n",
    "    check(result === true, \"Completed purchase successfully.\");\n",
    "    check(showMock.capacity === 90, \"Reduced capacity of conference.\");\n",
    "    check(JSON.stringify(showMock.purchaseArgs) === `[${numTickets}]`, \"Called purchase() with correct args.\");\n",
    "}"
   ]
  },
  {
   "cell_type": "code",
   "execution_count": null,
   "id": "c774120b060e3932",
   "metadata": {},
   "outputs": [],
   "source": []
  },
  {
   "cell_type": "markdown",
   "id": "7c17606ade0c2194",
   "metadata": {
    "lang": "de",
    "slideshow": {
     "slide_type": "subslide"
    },
    "tags": [
     "subslide"
    ]
   },
   "source": [
    "\n",
    "## Vorteile der Isolation der getesteten Unit\n",
    "\n",
    "- Einfache Struktur der Tests\n",
    "  - Jeder Test gehört zu genau einer Unit\n",
    "- Genaue Identifikation von Fehlern\n",
    "- Aufbrechen von Abhängigkeiten/des Objektgraphen"
   ]
  },
  {
   "cell_type": "markdown",
   "id": "dadea4515de652e5",
   "metadata": {
    "lang": "de",
    "slideshow": {
     "slide_type": "subslide"
    },
    "tags": [
     "subslide"
    ]
   },
   "source": [
    "\n",
    "## Nachteile der Isolation der getesteten Unit\n",
    "\n",
    "- Potenziell höherer Aufwand (z.B. Mocks)\n",
    "- Fehler in der Interaktion zwischen Units werden nicht gefunden\n",
    "- Verleiten zum Schreiben von \"Interaktionstests\"\n",
    "- **Risiko von Kopplung an Implementierungsdetails**"
   ]
  },
  {
   "cell_type": "markdown",
   "id": "58476d93abb01a77",
   "metadata": {
    "lang": "de",
    "slideshow": {
     "slide_type": "subslide"
    },
    "tags": [
     "subslide"
    ]
   },
   "source": [
    "\n",
    "## Empfehlung\n",
    "\n",
    "- Verwenden Sie isolierte Unit-Tests (Detroit School)\n",
    "- Isolieren Sie Abhängigkeiten, die \"eine Rakete starten\"\n",
    "  - nicht-deterministisch (z.B. Zufallszahlen, aktuelle Zeit, aktuelles Datum)\n",
    "  - langsam\n",
    "  - externe Systeme (z.B. Datenbank)\n",
    "- Isolieren Sie Abhängigkeiten, die ein komplexes Setup benötigen"
   ]
  },
  {
   "cell_type": "markdown",
   "id": "cd17fe9c312c3e35",
   "metadata": {
    "lang": "de",
    "slideshow": {
     "slide_type": "subslide"
    },
    "tags": [
     "subslide"
    ]
   },
   "source": [
    "\n",
    "## Workshop: Virtuelle Universität\n",
    "\n",
    "- Im `code`-Ordner finden Sie eine Implementierung eins sehr einfachen\n",
    "  Verwaltungssystems für eine Universität:\n",
    "- Es gibt Kurse, Professoren, die die Kurse halten, Studenten, die Aufgaben\n",
    "  bearbeiten und abgeben müssen.\n",
    "- Der Code ist in `Code/StarterKits/virtual-university-sk` zu finden.\n",
    "- Die `Main.cs`-Datei illustriert, wie die Klassen zusammenarbeiten und\n",
    "  verwendet werden können."
   ]
  },
  {
   "cell_type": "markdown",
   "id": "c846a3758a339c8d",
   "metadata": {
    "lang": "de",
    "slideshow": {
     "slide_type": "subslide"
    },
    "tags": [
     "subslide"
    ]
   },
   "source": [
    "\n",
    "- Identifizieren Sie, welche Klassen und Methoden zu den \"wertvollsten\"\n",
    "  Unit-Tests führen.\n",
    "- Implementieren Sie diese Unit-Tests mit xUnit.net.\n",
    "  - Idealerweise implementieren sie Tests für alle Klassen, die sinnvolle\n",
    "    Tests haben.\n",
    "  - Falls Sie dafür nicht genug Zeit haben, können Sie auch nur Tests für\n",
    "    einen Teil des Codes schreiben.\n",
    "  - Die Klasse `Student` ist ein ganz guter Startpunkt, weil sie eine sehr\n",
    "    begrenzte Funktionalität hat, die Sie mit relativ wenigen Tests abdecken\n",
    "    können.\n",
    "- Sind Ihre Tests isoliert?\n",
    "  - Nach der Detroit- oder London-School?"
   ]
  },
  {
   "cell_type": "markdown",
   "id": "fed14049b8872c05",
   "metadata": {
    "lang": "de",
    "slideshow": {
     "slide_type": "subslide"
    },
    "tags": [
     "subslide"
    ]
   },
   "source": [
    "\n",
    "- Falls Sie Ihre Tests nach der Detroit-School isoliert haben:\n",
    "  - Überlegen Sie, wie Sie das System überarbeiten müssten, um die Klassen in\n",
    "    Tests vollständig zu isolieren, also im London School Stil zu testen."
   ]
  }
 ],
 "metadata": {
  "jupytext": {
   "cell_metadata_filter": "tags,lang,-all",
   "encoding": "// -*- coding: utf-8 -*-",
   "main_language": "typescript",
   "notebook_metadata_filter": "-all"
  },
  "kernelspec": {
   "display_name": "Deno",
   "language": "typescript",
   "name": "deno"
  },
  "language_info": {
   "codemirror_mode": "typescript",
   "file_extension": ".ts",
   "mimetype": "text/x.typescript",
   "name": "typescript",
   "pygments_lexer": "typescript",
   "version": "5.6.2"
  }
 },
 "nbformat": 4,
 "nbformat_minor": 5
}
