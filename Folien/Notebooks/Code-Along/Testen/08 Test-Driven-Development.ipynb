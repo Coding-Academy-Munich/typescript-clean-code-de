{
 "cells": [
  {
   "cell_type": "markdown",
   "id": "6ed01c812a72fea1",
   "metadata": {
    "lang": "de",
    "slideshow": {
     "slide_type": "slide"
    },
    "tags": [
     "slide"
    ]
   },
   "source": [
    "\n",
    "<img src=\"data:image/svg+xml;base64,PHN2ZyBmaWxsPSJub25lIiBoZWlnaHQ9IjUxMiIgdmlld0JveD0iMCAwIDUxMiA1MTIiIHdpZHRo\n",
    "PSI1MTIiIHhtbG5zPSJodHRwOi8vd3d3LnczLm9yZy8yMDAwL3N2ZyI+PHJlY3QgZmlsbD0iIzMx\n",
    "NzhjNiIgaGVpZ2h0PSI1MTIiIHJ4PSI1MCIgd2lkdGg9IjUxMiIvPjxyZWN0IGZpbGw9IiMzMTc4\n",
    "YzYiIGhlaWdodD0iNTEyIiByeD0iNTAiIHdpZHRoPSI1MTIiLz48cGF0aCBjbGlwLXJ1bGU9ImV2\n",
    "ZW5vZGQiIGQ9Im0zMTYuOTM5IDQwNy40MjR2NTAuMDYxYzguMTM4IDQuMTcyIDE3Ljc2MyA3LjMg\n",
    "MjguODc1IDkuMzg2czIyLjgyMyAzLjEyOSAzNS4xMzUgMy4xMjljMTEuOTk5IDAgMjMuMzk3LTEu\n",
    "MTQ3IDM0LjE5Ni0zLjQ0MiAxMC43OTktMi4yOTQgMjAuMjY4LTYuMDc1IDI4LjQwNi0xMS4zNDIg\n",
    "OC4xMzgtNS4yNjYgMTQuNTgxLTEyLjE1IDE5LjMyOC0yMC42NXM3LjEyMS0xOS4wMDcgNy4xMjEt\n",
    "MzEuNTIyYzAtOS4wNzQtMS4zNTYtMTcuMDI2LTQuMDY5LTIzLjg1N3MtNi42MjUtMTIuOTA2LTEx\n",
    "LjczOC0xOC4yMjVjLTUuMTEyLTUuMzE5LTExLjI0Mi0xMC4wOTEtMTguMzg5LTE0LjMxNXMtMTUu\n",
    "MjA3LTguMjEzLTI0LjE4LTExLjk2N2MtNi41NzMtMi43MTItMTIuNDY4LTUuMzQ1LTE3LjY4NS03\n",
    "LjktNS4yMTctMi41NTYtOS42NTEtNS4xNjMtMTMuMzAzLTcuODIyLTMuNjUyLTIuNjYtNi40Njkt\n",
    "NS40NzYtOC40NTEtOC40NDgtMS45ODItMi45NzMtMi45NzQtNi4zMzYtMi45NzQtMTAuMDkxIDAt\n",
    "My40NDEuODg3LTYuNTQ0IDIuNjYxLTkuMzA4czQuMjc4LTUuMTM2IDcuNTEyLTcuMTE4YzMuMjM1\n",
    "LTEuOTgxIDcuMTk5LTMuNTIgMTEuODk0LTQuNjE1IDQuNjk2LTEuMDk1IDkuOTEyLTEuNjQyIDE1\n",
    "LjY1MS0xLjY0MiA0LjE3MyAwIDguNTgxLjMxMyAxMy4yMjQuOTM4IDQuNjQzLjYyNiA5LjMxMiAx\n",
    "LjU5MSAxNC4wMDggMi44OTQgNC42OTUgMS4zMDQgOS4yNTkgMi45NDcgMTMuNjk0IDQuOTI4IDQu\n",
    "NDM0IDEuOTgyIDguNTI5IDQuMjc2IDEyLjI4NSA2Ljg4NHYtNDYuNzc2Yy03LjYxNi0yLjkyLTE1\n",
    "LjkzNy01LjA4NC0yNC45NjItNi40OTJzLTE5LjM4MS0yLjExMi0zMS4wNjYtMi4xMTJjLTExLjg5\n",
    "NSAwLTIzLjE2MyAxLjI3OC0zMy44MDUgMy44MzNzLTIwLjAwNiA2LjU0NC0yOC4wOTMgMTEuOTY3\n",
    "Yy04LjA4NiA1LjQyNC0xNC40NzYgMTIuMzMzLTE5LjE3MSAyMC43MjktNC42OTUgOC4zOTUtNy4w\n",
    "NDMgMTguNDMzLTcuMDQzIDMwLjExNCAwIDE0LjkxNCA0LjMwNCAyNy42MzggMTIuOTEyIDM4LjE3\n",
    "MiA4LjYwNyAxMC41MzMgMjEuNjc1IDE5LjQ1IDM5LjIwNCAyNi43NTEgNi44ODYgMi44MTYgMTMu\n",
    "MzAzIDUuNTc5IDE5LjI1IDguMjkxczExLjA4NiA1LjUyOCAxNS40MTUgOC40NDhjNC4zMyAyLjky\n",
    "IDcuNzQ3IDYuMTAxIDEwLjI1MiA5LjU0MyAyLjUwNCAzLjQ0MSAzLjc1NiA3LjM1MiAzLjc1NiAx\n",
    "MS43MzMgMCAzLjIzMy0uNzgzIDYuMjMxLTIuMzQ4IDguOTk1cy0zLjkzOSA1LjE2Mi03LjEyMSA3\n",
    "LjE5Ni03LjE0NyAzLjYyNC0xMS44OTQgNC43NzFjLTQuNzQ4IDEuMTQ4LTEwLjMwMyAxLjcyMS0x\n",
    "Ni42NjggMS43MjEtMTAuODUxIDAtMjEuNTk3LTEuOTAzLTMyLjI0LTUuNzEtMTAuNjQyLTMuODA2\n",
    "LTIwLjUwMi05LjUxNi0yOS41NzktMTcuMTN6bS04NC4xNTktMTIzLjM0Mmg2NC4yMnYtNDEuMDgy\n",
    "aC0xNzl2NDEuMDgyaDYzLjkwNnYxODIuOTE4aDUwLjg3NHoiIGZpbGw9IiNmZmYiIGZpbGwtcnVs\n",
    "ZT0iZXZlbm9kZCIvPjwvc3ZnPg==\n",
    "\"\n",
    "     alt=\"TypeScript Logo\" style=\"display:block;margin:auto;width:5%\"/>\n",
    "<br>\n",
    "\n",
    "<div style=\"text-align:center; font-size:200%;\">\n",
    "  <b>Test-Driven-Development</b>\n",
    "</div>\n",
    "<br/>\n",
    "<div style=\"text-align:center; font-size:120%;\">Dr. Matthias Hölzl</div>\n",
    "<br/>\n",
    "<div style=\"text-align:center;\">Coding-Akademie München</div>\n",
    "<br/>"
   ]
  },
  {
   "cell_type": "markdown",
   "id": "6c5e89df1b7cff46",
   "metadata": {
    "lang": "de",
    "slideshow": {
     "slide_type": "subslide"
    },
    "tags": [
     "subslide"
    ]
   },
   "source": [
    "\n",
    "## Idee\n",
    "\n",
    "- Verwende Tests, um das Design und die Feature-Entwicklung des Programms\n",
    "  voranzutreiben\n",
    "- Jeder neue Test beschreibt ein Feature-Inkrement des Programms\n",
    "- (Gut testbarer Code entsteht dabei quasi als Nebenprodukt)"
   ]
  },
  {
   "cell_type": "markdown",
   "id": "e69a7c35f1e28432",
   "metadata": {
    "lang": "de",
    "slideshow": {
     "slide_type": "subslide"
    },
    "tags": [
     "subslide"
    ]
   },
   "source": [
    "\n",
    "## Problem\n",
    "\n",
    "Wie können Tests das Design des Programms vorantreiben?"
   ]
  },
  {
   "cell_type": "markdown",
   "id": "66dd00ad783b4ae7",
   "metadata": {
    "lang": "de",
    "slideshow": {
     "slide_type": "subslide"
    },
    "tags": [
     "subslide"
    ]
   },
   "source": [
    "\n",
    "## Mögliche Antworten\n",
    "\n",
    "- Tests verwenden die Funktionalität und zeigen komplizierte Interfaces auf\n",
    "- Tests ermöglichen Refactoring"
   ]
  },
  {
   "cell_type": "markdown",
   "id": "2f927b1287a5752f",
   "metadata": {
    "lang": "de",
    "slideshow": {
     "slide_type": "subslide"
    },
    "tags": [
     "subslide"
    ]
   },
   "source": [
    "\n",
    "## Refactoring\n",
    "\n",
    "- Verbessern der Code-Struktur ohne Änderung des Verhaltens\n",
    "- Vorgehen in kleinen Schritten\n",
    "  - Nach jedem Schritt ist der Code wieder ausführbar\n",
    "- Ziele:\n",
    "  - Verbessern des Codes\n",
    "  - Verbesserung des Designs"
   ]
  },
  {
   "cell_type": "markdown",
   "id": "36b0dcf358222c11",
   "metadata": {
    "lang": "de",
    "slideshow": {
     "slide_type": "subslide"
    },
    "tags": [
     "subslide"
    ]
   },
   "source": [
    "\n",
    "## Refactoring und Tests\n",
    "\n",
    "- Durch Refactoring wird das Design des Programms in kleinen Schritten verbessert\n",
    "- Die Korrektheit dieser Schritte wird durch Tests abgesichert"
   ]
  },
  {
   "cell_type": "markdown",
   "id": "b80891c1af6abf27",
   "metadata": {
    "lang": "de",
    "lines_to_next_cell": 2,
    "slideshow": {
     "slide_type": "subslide"
    },
    "tags": [
     "subslide"
    ]
   },
   "source": [
    "\n",
    "## So what???\n",
    "\n",
    "<img src=\"img/dev-velocity.png\"\n",
    "     style=\"display:block;margin:auto;width:70%\"/>"
   ]
  },
  {
   "cell_type": "markdown",
   "id": "d486e36fdf4466fe",
   "metadata": {
    "lang": "de",
    "slideshow": {
     "slide_type": "subslide"
    },
    "tags": [
     "subslide"
    ]
   },
   "source": [
    "\n",
    "## Test-Driven Development\n",
    "\n",
    "- Ziel beim TDD ist nicht in erster Linie, eine hohe Testabdeckung zu erreichen\n",
    "- Ziel beim TDD ist es, durch Tests ein gutes Design zu entdecken\n",
    "  - Beim Schreiben der Tests versucht man, das Interface von Klassen und Funktionen\n",
    "    so zu gestalten, dass es leicht zu benutzen ist\n",
    "  - Dadurch, dass alle wesentlichen Teile des Programms durch Tests abgesichert\n",
    "    sind, kann man das Design durch Refactoring permanent an das aktuelle Feature-Set\n",
    "    anpassen"
   ]
  },
  {
   "cell_type": "markdown",
   "id": "59b3df4b563a8607",
   "metadata": {
    "lang": "de",
    "slideshow": {
     "slide_type": "subslide"
    },
    "tags": [
     "subslide"
    ]
   },
   "source": [
    "\n",
    "## Der TDD-Zyklus\n",
    "\n",
    "- Schreibe einen (minimalen) Test\n",
    "  - Der Test testet nur ein einziges neues (Teil-)Feature: **Baby Steps**\n",
    "  - Dieser Test schlägt fehl\n",
    "- Implementiere die minimale Funktionalität, um den Test zum Laufen zu bringen\n",
    "  - Dabei muss man nicht auf sauberen Code oder gutes Design achten\n",
    "  - Aber: **Solve Simply**\n",
    "- Verbessere den Code\n",
    "  - Entferne die unsauberen Konstrukte, die im vorhergehenden Schritt eingefügt wurden\n",
    "  - Generalisiere die Implementierung, wenn zu viel Wiederholung entstanden ist\n",
    "  - **Dieser Schritt ist nicht optional!!!**"
   ]
  },
  {
   "cell_type": "markdown",
   "id": "f9b0a1d7b5e808f1",
   "metadata": {
    "lang": "de",
    "slideshow": {
     "slide_type": "subslide"
    },
    "tags": [
     "subslide"
    ]
   },
   "source": [
    "\n",
    "## Der TDD-Zyklus\n",
    "\n",
    "- <span style=\"color: red\"><b>Red (fehlschlagender Test)</b></span>\n",
    "- <span style=\"color: green\"><b>Green (alle Tests sind wieder grün)</b></span>\n",
    "- <span style=\"color: blue\"><b>Clean/Refactor (der Code ist wieder sauber)</b></span>"
   ]
  },
  {
   "cell_type": "markdown",
   "id": "eee46f83749a54b1",
   "metadata": {
    "lang": "de",
    "slideshow": {
     "slide_type": "subslide"
    },
    "tags": [
     "subslide"
    ]
   },
   "source": [
    "\n",
    "## Baby-Steps\n",
    "\n",
    "- Das System ist nicht stunden- oder tagelang in einem Zustand, in dem es nicht\n",
    "  baubar, testbar oder ausführbar ist.\n",
    "- Dadurch bekommt man bei jeder Änderung schnell Feedback vom Code.\n",
    "- Häufiges Mergen und CI wird möglich."
   ]
  },
  {
   "cell_type": "markdown",
   "id": "be80b4c3f0c253e0",
   "metadata": {
    "lang": "de",
    "slideshow": {
     "slide_type": "subslide"
    },
    "tags": [
     "subslide"
    ]
   },
   "source": [
    "\n",
    "## Warum Solve Simply?\n",
    "\n",
    "- Eine flexible, generische Lösung erhöht oft die Komplexität des Systems\n",
    "- Das lohnt sich nur, wenn die Flexibilität auch benötigt wird\n",
    "- Entwickler können meist schlecht vorhersehen, an welchen Stellen\n",
    "  Flexibilität/Erweiterbarkeit benötigt wird\n",
    "- Eine flexible, generische Lösung ist oft sehr viel schwerer zu implementieren\n",
    "  als eine einfache Lösung für einen spezielleren Anwendungsfall\n",
    "- Die naheliegendste flexible, generische Lösung ist oft nicht der sauberste und\n",
    "  wartbare Code"
   ]
  },
  {
   "cell_type": "markdown",
   "id": "dcb02115140c8b63",
   "metadata": {
    "lang": "de",
    "slideshow": {
     "slide_type": "subslide"
    },
    "tags": [
     "subslide"
    ]
   },
   "source": [
    "\n",
    "## Annahmen von Solve Simply\n",
    "\n",
    "- Es ist durch Refactoring möglich, Code in einen sauberen, wartbaren Zustand zu\n",
    "  bekommen, ohne dadurch die Funktionalität zu verändern\n",
    "- Es ist möglich, Code iterativ zu erweitern und flexibler zu machen,\n",
    "  wenn das erforderlich ist\n",
    "- Es ist einfacher, die Refactoring- und Iterations-Schritte durchzuführen, als\n",
    "  gleich die endgültige Lösung zu entwickeln\n",
    "- Diese Annahmen sind nur dann erfüllt, wenn hinreichend viele, gute\n",
    "  Unit-Tests vorliegen"
   ]
  },
  {
   "cell_type": "markdown",
   "id": "239ace912b529001",
   "metadata": {
    "lang": "de",
    "slideshow": {
     "slide_type": "subslide"
    },
    "tags": [
     "subslide"
    ]
   },
   "source": [
    "\n",
    "## Noch besser: TDD + Vorbereitungsschritt\n",
    "\n",
    "- Refaktoriere den Code, sodass die Änderung einfach wird\n",
    "  - Das ist oft nicht so einfach…\n",
    "  - Wenn beim Refaktorieren klar wird, dass Tests fehlen, so werden diese hinzugefügt\n",
    "- Führe die einfache Änderung mit dem TDD-Zyklus durch\n",
    "- Wiederhole diese Schritte immer wieder"
   ]
  }
 ],
 "metadata": {
  "jupytext": {
   "cell_metadata_filter": "lang,tags,-all",
   "main_language": "typescript",
   "notebook_metadata_filter": "-all"
  },
  "kernelspec": {
   "display_name": "Deno",
   "language": "typescript",
   "name": "deno"
  },
  "language_info": {
   "codemirror_mode": "typescript",
   "file_extension": ".ts",
   "mimetype": "text/x.typescript",
   "name": "typescript",
   "pygments_lexer": "typescript",
   "version": "5.6.2"
  }
 },
 "nbformat": 4,
 "nbformat_minor": 5
}
