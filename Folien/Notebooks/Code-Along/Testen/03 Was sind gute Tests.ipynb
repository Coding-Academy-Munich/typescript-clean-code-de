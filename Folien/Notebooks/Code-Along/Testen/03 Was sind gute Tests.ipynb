{
 "cells": [
  {
   "cell_type": "markdown",
   "id": "3e0f2888f54f8171",
   "metadata": {
    "lang": "de",
    "slideshow": {
     "slide_type": "slide"
    },
    "tags": [
     "slide"
    ]
   },
   "source": [
    "\n",
    "<img src=\"data:image/svg+xml;base64,PHN2ZyBmaWxsPSJub25lIiBoZWlnaHQ9IjUxMiIgdmlld0JveD0iMCAwIDUxMiA1MTIiIHdpZHRo\n",
    "PSI1MTIiIHhtbG5zPSJodHRwOi8vd3d3LnczLm9yZy8yMDAwL3N2ZyI+PHJlY3QgZmlsbD0iIzMx\n",
    "NzhjNiIgaGVpZ2h0PSI1MTIiIHJ4PSI1MCIgd2lkdGg9IjUxMiIvPjxyZWN0IGZpbGw9IiMzMTc4\n",
    "YzYiIGhlaWdodD0iNTEyIiByeD0iNTAiIHdpZHRoPSI1MTIiLz48cGF0aCBjbGlwLXJ1bGU9ImV2\n",
    "ZW5vZGQiIGQ9Im0zMTYuOTM5IDQwNy40MjR2NTAuMDYxYzguMTM4IDQuMTcyIDE3Ljc2MyA3LjMg\n",
    "MjguODc1IDkuMzg2czIyLjgyMyAzLjEyOSAzNS4xMzUgMy4xMjljMTEuOTk5IDAgMjMuMzk3LTEu\n",
    "MTQ3IDM0LjE5Ni0zLjQ0MiAxMC43OTktMi4yOTQgMjAuMjY4LTYuMDc1IDI4LjQwNi0xMS4zNDIg\n",
    "OC4xMzgtNS4yNjYgMTQuNTgxLTEyLjE1IDE5LjMyOC0yMC42NXM3LjEyMS0xOS4wMDcgNy4xMjEt\n",
    "MzEuNTIyYzAtOS4wNzQtMS4zNTYtMTcuMDI2LTQuMDY5LTIzLjg1N3MtNi42MjUtMTIuOTA2LTEx\n",
    "LjczOC0xOC4yMjVjLTUuMTEyLTUuMzE5LTExLjI0Mi0xMC4wOTEtMTguMzg5LTE0LjMxNXMtMTUu\n",
    "MjA3LTguMjEzLTI0LjE4LTExLjk2N2MtNi41NzMtMi43MTItMTIuNDY4LTUuMzQ1LTE3LjY4NS03\n",
    "LjktNS4yMTctMi41NTYtOS42NTEtNS4xNjMtMTMuMzAzLTcuODIyLTMuNjUyLTIuNjYtNi40Njkt\n",
    "NS40NzYtOC40NTEtOC40NDgtMS45ODItMi45NzMtMi45NzQtNi4zMzYtMi45NzQtMTAuMDkxIDAt\n",
    "My40NDEuODg3LTYuNTQ0IDIuNjYxLTkuMzA4czQuMjc4LTUuMTM2IDcuNTEyLTcuMTE4YzMuMjM1\n",
    "LTEuOTgxIDcuMTk5LTMuNTIgMTEuODk0LTQuNjE1IDQuNjk2LTEuMDk1IDkuOTEyLTEuNjQyIDE1\n",
    "LjY1MS0xLjY0MiA0LjE3MyAwIDguNTgxLjMxMyAxMy4yMjQuOTM4IDQuNjQzLjYyNiA5LjMxMiAx\n",
    "LjU5MSAxNC4wMDggMi44OTQgNC42OTUgMS4zMDQgOS4yNTkgMi45NDcgMTMuNjk0IDQuOTI4IDQu\n",
    "NDM0IDEuOTgyIDguNTI5IDQuMjc2IDEyLjI4NSA2Ljg4NHYtNDYuNzc2Yy03LjYxNi0yLjkyLTE1\n",
    "LjkzNy01LjA4NC0yNC45NjItNi40OTJzLTE5LjM4MS0yLjExMi0zMS4wNjYtMi4xMTJjLTExLjg5\n",
    "NSAwLTIzLjE2MyAxLjI3OC0zMy44MDUgMy44MzNzLTIwLjAwNiA2LjU0NC0yOC4wOTMgMTEuOTY3\n",
    "Yy04LjA4NiA1LjQyNC0xNC40NzYgMTIuMzMzLTE5LjE3MSAyMC43MjktNC42OTUgOC4zOTUtNy4w\n",
    "NDMgMTguNDMzLTcuMDQzIDMwLjExNCAwIDE0LjkxNCA0LjMwNCAyNy42MzggMTIuOTEyIDM4LjE3\n",
    "MiA4LjYwNyAxMC41MzMgMjEuNjc1IDE5LjQ1IDM5LjIwNCAyNi43NTEgNi44ODYgMi44MTYgMTMu\n",
    "MzAzIDUuNTc5IDE5LjI1IDguMjkxczExLjA4NiA1LjUyOCAxNS40MTUgOC40NDhjNC4zMyAyLjky\n",
    "IDcuNzQ3IDYuMTAxIDEwLjI1MiA5LjU0MyAyLjUwNCAzLjQ0MSAzLjc1NiA3LjM1MiAzLjc1NiAx\n",
    "MS43MzMgMCAzLjIzMy0uNzgzIDYuMjMxLTIuMzQ4IDguOTk1cy0zLjkzOSA1LjE2Mi03LjEyMSA3\n",
    "LjE5Ni03LjE0NyAzLjYyNC0xMS44OTQgNC43NzFjLTQuNzQ4IDEuMTQ4LTEwLjMwMyAxLjcyMS0x\n",
    "Ni42NjggMS43MjEtMTAuODUxIDAtMjEuNTk3LTEuOTAzLTMyLjI0LTUuNzEtMTAuNjQyLTMuODA2\n",
    "LTIwLjUwMi05LjUxNi0yOS41NzktMTcuMTN6bS04NC4xNTktMTIzLjM0Mmg2NC4yMnYtNDEuMDgy\n",
    "aC0xNzl2NDEuMDgyaDYzLjkwNnYxODIuOTE4aDUwLjg3NHoiIGZpbGw9IiNmZmYiIGZpbGwtcnVs\n",
    "ZT0iZXZlbm9kZCIvPjwvc3ZnPg==\n",
    "\"\n",
    "     alt=\"TypeScript Logo\" style=\"display:block;margin:auto;width:5%\"/>\n",
    "<br>\n",
    "\n",
    "<div style=\"text-align:center; font-size:200%;\">\n",
    "  <b>Was sind gute Tests?</b>\n",
    "</div>\n",
    "<br/>\n",
    "<div style=\"text-align:center; font-size:120%;\">Dr. Matthias Hölzl</div>\n",
    "<br/>\n",
    "<div style=\"text-align:center;\">Coding-Akademie München</div>\n",
    "<br/>"
   ]
  },
  {
   "cell_type": "markdown",
   "id": "796fedbba61cb19f",
   "metadata": {
    "slideshow": {
     "slide_type": "subslide"
    },
    "tags": [
     "subslide"
    ]
   },
   "source": [
    "\n",
    "<img src=\"img/velocity-tests-03.png\"\n",
    "     alt=\"Velocity vs. Tests 3\"\n",
    "     style=\"width: 75%; margin-left: auto; margin-right: auto;\"/>"
   ]
  },
  {
   "cell_type": "markdown",
   "id": "3196f2596ed51b51",
   "metadata": {
    "lang": "de",
    "slideshow": {
     "slide_type": "subslide"
    },
    "tags": [
     "subslide"
    ]
   },
   "source": [
    "\n",
    "## Welche Eigenschaften sollte ein Test haben?\n",
    "\n",
    "<ul>\n",
    "<li class=\"fragment\">Zeigt viele Fehler/Regressionen im Code auf</li>\n",
    "<li class=\"fragment\">Gibt schnelle Rückmeldung</li>\n",
    "<li class=\"fragment\">Ist deterministisch</li>\n",
    "<li class=\"fragment\">Ist leicht zu warten und verstehen</li>\n",
    "<li class=\"fragment\"><b>Unempfindlich gegenüber Refactorings</b></li>\n",
    "</ul>\n",
    "\n",
    "<p class=\"fragment\">\n",
    "  Leider stehen diese Eigenschaften oft im Konflikt zueinander!\n",
    "</p>"
   ]
  },
  {
   "cell_type": "markdown",
   "id": "dd6fc90376ae5811",
   "metadata": {
    "lang": "de",
    "slideshow": {
     "slide_type": "subslide"
    },
    "tags": [
     "subslide"
    ]
   },
   "source": [
    "\n",
    "## Aufzeigen von Fehlern/Regressionen\n",
    "\n",
    "### Einflüsse\n",
    "\n",
    "<ul>\n",
    "  <li class=\"fragment\">Menge des abgedeckten Codes</li>\n",
    "  <li class=\"fragment\">Komplexität des abgedeckten Codes</li>\n",
    "  <li class=\"fragment\">Interaktion mit externen Systemen</li>\n",
    "  <li class=\"fragment\">Signifikanz des abgedeckten Codes für die Domäne/das\n",
    "  System</li>\n",
    "</ul>"
   ]
  },
  {
   "cell_type": "code",
   "execution_count": null,
   "id": "b40c7f3341024601",
   "metadata": {
    "lines_to_next_cell": 0,
    "slideshow": {
     "slide_type": "subslide"
    },
    "tags": [
     "keep",
     "subslide"
    ]
   },
   "outputs": [],
   "source": [
    "class Item {\n",
    "    private price: number;\n",
    "\n",
    "    constructor(public name: string, public price: number) {\n",
    "        this.name = name;\n",
    "        this.price = (price < 0) ? -price : price;\n",
    "    }\n",
    "\n",
    "    get name(): string {\n",
    "        return this.name;\n",
    "    }\n",
    "\n",
    "    get price(): number {\n",
    "        return this.price;\n",
    "    }\n",
    "\n",
    "    set price(value: number) {\n",
    "        this.price = (value < 0) ? -value : value;\n",
    "    }\n",
    "\n",
    "    toString(): string {\n",
    "        return `Item(${this.name}, ${this.price.toFixed(2)})`;\n",
    "    }\n",
    "}"
   ]
  },
  {
   "cell_type": "code",
   "execution_count": null,
   "id": "ed18bf93174d278c",
   "metadata": {
    "slideshow": {
     "slide_type": "subslide"
    },
    "tags": [
     "keep",
     "subslide"
    ]
   },
   "outputs": [],
   "source": [
    "class Order {\n",
    "    private items: Item[];\n",
    "\n",
    "    constructor(items: Item[]) {\n",
    "        this.items = items;\n",
    "    }\n",
    "\n",
    "    get items() {\n",
    "        return this.items;\n",
    "    }\n",
    "\n",
    "    get total() {\n",
    "        let total = 0;\n",
    "        for (const item of this.items) {\n",
    "            total += item.price;\n",
    "        }\n",
    "        return total;\n",
    "    }\n",
    "\n",
    "    toString() {\n",
    "        const itemsString = this.items.map(item => item.toString()).join(\", \");\n",
    "        return `Order([${itemsString}]), total = ${this.total.toFixed(2)}`;\n",
    "    }\n",
    "}"
   ]
  },
  {
   "cell_type": "code",
   "execution_count": null,
   "id": "682012326cb0fbd9",
   "metadata": {
    "slideshow": {
     "slide_type": "subslide"
    },
    "tags": [
     "subslide",
     "keep"
    ]
   },
   "outputs": [],
   "source": [
    "function check(condition: boolean, message: string): void {\n",
    "    if (!condition) {\n",
    "        console.error(message);\n",
    "    } else {\n",
    "        console.log(\"Success.\");\n",
    "    }\n",
    "}"
   ]
  },
  {
   "cell_type": "code",
   "execution_count": null,
   "id": "fe7ab1e57bed36be",
   "metadata": {
    "lines_to_next_cell": 2,
    "slideshow": {
     "slide_type": "slide"
    },
    "tags": [
     "slide"
    ]
   },
   "outputs": [],
   "source": []
  },
  {
   "cell_type": "code",
   "execution_count": null,
   "id": "89cfb2f33d8ecc0b",
   "metadata": {},
   "outputs": [],
   "source": []
  },
  {
   "cell_type": "code",
   "execution_count": null,
   "id": "d0a3f413558daeed",
   "metadata": {
    "slideshow": {
     "slide_type": "subslide"
    },
    "tags": [
     "subslide"
    ]
   },
   "outputs": [],
   "source": []
  },
  {
   "cell_type": "code",
   "execution_count": null,
   "id": "025a22758e42435b",
   "metadata": {},
   "outputs": [],
   "source": []
  },
  {
   "cell_type": "code",
   "execution_count": null,
   "id": "05572a9cf0c65b3f",
   "metadata": {
    "slideshow": {
     "slide_type": "subslide"
    },
    "tags": [
     "subslide"
    ]
   },
   "outputs": [],
   "source": []
  },
  {
   "cell_type": "code",
   "execution_count": null,
   "id": "4c71eac03fcc7b6f",
   "metadata": {},
   "outputs": [],
   "source": []
  },
  {
   "cell_type": "markdown",
   "id": "7883cd17aa49460e",
   "metadata": {
    "lang": "de",
    "slideshow": {
     "slide_type": "subslide"
    },
    "tags": [
     "subslide"
    ]
   },
   "source": [
    "\n",
    "## Schnelle Rückmeldung\n",
    "\n",
    "### Einflüsse\n",
    "\n",
    "- Menge des abgedeckten Codes\n",
    "- Komplexität/Anzahl Iterationen des abgedeckten Codes\n",
    "- Interaktion mit externen Systemen"
   ]
  },
  {
   "cell_type": "markdown",
   "id": "6a5cc5fed41d1385",
   "metadata": {
    "lang": "de",
    "slideshow": {
     "slide_type": "subslide"
    },
    "tags": [
     "subslide"
    ]
   },
   "source": [
    "\n",
    "## Deterministisch\n",
    "\n",
    "<ul>\n",
    "  <li class=\"fragment\">Gleicher Code führt immer zum gleichen Ergebnis</li>\n",
    "  <li class=\"fragment\">Gründe für Nichtdeterminismus\n",
    "    <ul>\n",
    "      <li class=\"fragment\">Zufallszahlen</li>\n",
    "      <li class=\"fragment\">Zeit/Datum</li>\n",
    "      <li class=\"fragment\">Interaktion mit externen Systemen</li>\n",
    "      <li class=\"fragment\">Nicht initialisierte Variablen</li>\n",
    "      <li class=\"fragment\">Kommunikation zwischen Tests</li>\n",
    "    </ul>\n",
    "  </li>\n",
    "  <li class=\"fragment\">\n",
    "     Tests, die falsche Warnungen erzeugen sind nicht\n",
    "     hilfreich sondern schädlich!\n",
    "  </li>\n",
    "<ul>"
   ]
  },
  {
   "cell_type": "code",
   "execution_count": null,
   "id": "0bdd99377fdc2265",
   "metadata": {
    "slideshow": {
     "slide_type": "subslide"
    },
    "tags": [
     "subslide",
     "keep"
    ]
   },
   "outputs": [],
   "source": [
    "function testRandomBad() {\n",
    "    const random = Math.random();\n",
    "    const roll = Math.floor(random * 2) + 1;\n",
    "\n",
    "    check(roll === 2, \"Roll is not 2\");\n",
    "}"
   ]
  },
  {
   "cell_type": "code",
   "execution_count": null,
   "id": "d18a1ffc74f419a1",
   "metadata": {},
   "outputs": [],
   "source": []
  },
  {
   "cell_type": "code",
   "execution_count": null,
   "id": "a03d4dc02009bc93",
   "metadata": {
    "slideshow": {
     "slide_type": "subslide"
    },
    "tags": [
     "subslide",
     "start"
    ]
   },
   "outputs": [],
   "source": [
    "function testRandomBetter() {\n",
    "    const random = Math.random();\n",
    "    const roll = Math.floor(random * 2) + 1;\n",
    "\n",
    "    check(roll === 2, \"Roll is not 2\");\n",
    "}"
   ]
  },
  {
   "cell_type": "code",
   "execution_count": null,
   "id": "caaee1e4fe68e4e2",
   "metadata": {
    "slideshow": {
     "slide_type": "subslide"
    },
    "tags": [
     "subslide",
     "keep"
    ]
   },
   "outputs": [],
   "source": [
    "class SeededRandom {\n",
    "    private state: number;\n",
    "\n",
    "    constructor(seed: number) {\n",
    "        this.state = seed;\n",
    "    }\n",
    "\n",
    "    next(): number {\n",
    "        this.state = (this.state * 9301 + 49297) % 233280;\n",
    "        return this.state / 233280;\n",
    "    }\n",
    "}"
   ]
  },
  {
   "cell_type": "code",
   "execution_count": null,
   "id": "e223f29fd6008f74",
   "metadata": {},
   "outputs": [],
   "source": []
  },
  {
   "cell_type": "code",
   "execution_count": null,
   "id": "7501cdcaa65fcbe8",
   "metadata": {
    "slideshow": {
     "slide_type": "subslide"
    },
    "tags": [
     "subslide",
     "keep"
    ]
   },
   "outputs": [],
   "source": [
    "function testDateBad() {\n",
    "    const now = new Date();\n",
    "\n",
    "    check(now.getFullYear() === 2024, \"Year is not 2024\");\n",
    "    check(now.getSeconds() % 2 === 0, \"Second is not even\");\n",
    "}"
   ]
  },
  {
   "cell_type": "code",
   "execution_count": null,
   "id": "234b72867a1d89c4",
   "metadata": {},
   "outputs": [],
   "source": []
  },
  {
   "cell_type": "code",
   "execution_count": null,
   "id": "f81de299adacb375",
   "metadata": {
    "slideshow": {
     "slide_type": "subslide"
    },
    "tags": [
     "subslide",
     "start"
    ]
   },
   "outputs": [],
   "source": [
    "function testDateBetter() {\n",
    "    const now = new Date();\n",
    "\n",
    "    check(now.getFullYear() === 2024, \"Year is not 2024\");\n",
    "    check(now.getSeconds() % 2 === 0, \"Second is not even\");\n",
    "}"
   ]
  },
  {
   "cell_type": "code",
   "execution_count": null,
   "id": "92cfbe1c70cd7203",
   "metadata": {},
   "outputs": [],
   "source": []
  },
  {
   "cell_type": "markdown",
   "id": "f62e1e55cb7711e3",
   "metadata": {
    "lang": "de",
    "slideshow": {
     "slide_type": "subslide"
    },
    "tags": [
     "subslide"
    ]
   },
   "source": [
    "\n",
    "## Leicht zu warten\n",
    "\n",
    "<ul>\n",
    "  <li>Einfache, standardisierte Struktur<br>&nbsp;<br>\n",
    "    <table style=\"display:inline;margin:20px 20px;\">\n",
    "    <tr><td style=\"text-align:left;width:60px;padding-left:15px;\">Arrange</td>\n",
    "        <td style=\"text-align:left;width:60px;padding-left:15px;border-left:1px solid black;\">Given</td>\n",
    "        <td style=\"text-align:left;width:600px;padding-left:15px;border-left:1px solid black;\">\n",
    "          Bereite das Test-Environment vor</td></tr>\n",
    "    <tr><td style=\"text-align:left;padding-left:15px;\">Act</td>\n",
    "        <td style=\"text-align:left;width:60px;padding-left:15px;border-left:1px solid black;\">\n",
    "           When</td>\n",
    "        <td style=\"text-align:left;width:600px;padding-left:15px;border-left:1px solid black;\">\n",
    "           Führe die getestete Aktion aus (falls vorhanden)</td></tr>\n",
    "    <tr><td style=\"text-align:left;padding-left:15px;\">Assert</td>\n",
    "        <td style=\"text-align:left;width:60px;padding-left:15px;border-left:1px solid black;\">\n",
    "           Then</td>\n",
    "        <td style=\"text-align:left;width:600px;padding-left:15px;border-left:1px solid black;\">\n",
    "           Überprüfe die Ergebnisse</td></tr>\n",
    "    </table>\n",
    "    <br>&nbsp;<br>\n",
    "  </li>\n",
    "  <li>Wenig Code\n",
    "    <ul>\n",
    "      <li>Wenig Boilerplate</li>\n",
    "      <li>Factories, etc. für Tests</li>\n",
    "    </ul>\n",
    "  </li>\n",
    "</ul>"
   ]
  },
  {
   "cell_type": "markdown",
   "id": "13a418744c76d04f",
   "metadata": {
    "lang": "de",
    "slideshow": {
     "slide_type": "subslide"
    },
    "tags": [
     "subslide"
    ]
   },
   "source": [
    "\n",
    "## Unempfindlich gegenüber Refactorings\n",
    "\n",
    "- Möglichst wenige falsche Positive!\n",
    "- Typischerweise vorhanden oder nicht, wenig Zwischenstufen\n",
    "\n",
    "### Einflüsse\n",
    "\n",
    "- Bezug zu Domäne/System\n",
    "- Zugriff auf interne Strukturen"
   ]
  },
  {
   "cell_type": "code",
   "execution_count": null,
   "id": "ee1dd2d94cbdeaa2",
   "metadata": {
    "slideshow": {
     "slide_type": "subslide"
    },
    "tags": [
     "keep",
     "subslide"
    ]
   },
   "outputs": [],
   "source": [
    "class VeryPrivate {\n",
    "    private secret: number = 42;\n",
    "}"
   ]
  },
  {
   "cell_type": "code",
   "execution_count": null,
   "id": "e1a5f6127cdb0b4b",
   "metadata": {
    "tags": [
     "keep"
    ]
   },
   "outputs": [],
   "source": [
    "function testVeryPrivate() {\n",
    "    const unit = new VeryPrivate();\n",
    "\n",
    "    const secretValue = (unit as any).secret;\n",
    "\n",
    "    check(secretValue === 42, \"Secret is not 42\");\n",
    "}"
   ]
  },
  {
   "cell_type": "code",
   "execution_count": null,
   "id": "89a0a45a6cfd0425",
   "metadata": {},
   "outputs": [],
   "source": []
  },
  {
   "cell_type": "markdown",
   "id": "8b3ef14e7edd3a8a",
   "metadata": {
    "lang": "de",
    "slideshow": {
     "slide_type": "subslide"
    },
    "tags": [
     "subslide"
    ]
   },
   "source": [
    "\n",
    "Die folgenden Einflüsse stehen im Konflikt zueinander:\n",
    "\n",
    "- Erkennen von Fehlern/Regressionen\n",
    "- Schnelle Rückmeldung\n",
    "- Unempfindlich gegenüber Refactorings\n",
    "\n",
    "Die Qualität eines Tests hängt vom *Produkt* dieser Faktoren ab!"
   ]
  },
  {
   "cell_type": "markdown",
   "id": "763eb32c87fff1cc",
   "metadata": {
    "lang": "de",
    "slideshow": {
     "slide_type": "subslide"
    },
    "tags": [
     "subslide"
    ]
   },
   "source": [
    "\n",
    "## Wie finden wir den Trade-Off?\n",
    "\n",
    "- Unempfindlich gegenüber Refactorings kann *nie* geopfert werden\n",
    "- Wir müssen also einen Kompromiss finden zwischen\n",
    "  - Erkennen von Fehlern/Regressionen\n",
    "  - Schnelle Rückmeldung\n",
    "\n",
    "### Typischerweise\n",
    "\n",
    "- Schnelles Feedback für die meisten Tests (Unit-Tests)\n",
    "- Gründliche Fehlererkennung für wenige Tests (Integrationstests)"
   ]
  }
 ],
 "metadata": {
  "jupytext": {
   "cell_metadata_filter": "tags,lang,-all",
   "encoding": "// -*- coding: utf-8 -*-",
   "main_language": "typescript",
   "notebook_metadata_filter": "-all"
  },
  "kernelspec": {
   "display_name": "Deno",
   "language": "typescript",
   "name": "deno"
  },
  "language_info": {
   "codemirror_mode": "typescript",
   "file_extension": ".ts",
   "mimetype": "text/x.typescript",
   "name": "typescript",
   "pygments_lexer": "typescript",
   "version": "5.6.2"
  }
 },
 "nbformat": 4,
 "nbformat_minor": 5
}
