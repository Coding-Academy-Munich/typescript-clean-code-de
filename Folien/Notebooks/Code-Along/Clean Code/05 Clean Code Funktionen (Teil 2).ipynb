{
 "cells": [
  {
   "cell_type": "markdown",
   "id": "f8192ba82c5a451a",
   "metadata": {
    "lang": "de",
    "slideshow": {
     "slide_type": "slide"
    },
    "tags": [
     "slide"
    ]
   },
   "source": [
    "\n",
    "<img src=\"data:image/svg+xml;base64,PHN2ZyBmaWxsPSJub25lIiBoZWlnaHQ9IjUxMiIgdmlld0JveD0iMCAwIDUxMiA1MTIiIHdpZHRo\n",
    "PSI1MTIiIHhtbG5zPSJodHRwOi8vd3d3LnczLm9yZy8yMDAwL3N2ZyI+PHJlY3QgZmlsbD0iIzMx\n",
    "NzhjNiIgaGVpZ2h0PSI1MTIiIHJ4PSI1MCIgd2lkdGg9IjUxMiIvPjxyZWN0IGZpbGw9IiMzMTc4\n",
    "YzYiIGhlaWdodD0iNTEyIiByeD0iNTAiIHdpZHRoPSI1MTIiLz48cGF0aCBjbGlwLXJ1bGU9ImV2\n",
    "ZW5vZGQiIGQ9Im0zMTYuOTM5IDQwNy40MjR2NTAuMDYxYzguMTM4IDQuMTcyIDE3Ljc2MyA3LjMg\n",
    "MjguODc1IDkuMzg2czIyLjgyMyAzLjEyOSAzNS4xMzUgMy4xMjljMTEuOTk5IDAgMjMuMzk3LTEu\n",
    "MTQ3IDM0LjE5Ni0zLjQ0MiAxMC43OTktMi4yOTQgMjAuMjY4LTYuMDc1IDI4LjQwNi0xMS4zNDIg\n",
    "OC4xMzgtNS4yNjYgMTQuNTgxLTEyLjE1IDE5LjMyOC0yMC42NXM3LjEyMS0xOS4wMDcgNy4xMjEt\n",
    "MzEuNTIyYzAtOS4wNzQtMS4zNTYtMTcuMDI2LTQuMDY5LTIzLjg1N3MtNi42MjUtMTIuOTA2LTEx\n",
    "LjczOC0xOC4yMjVjLTUuMTEyLTUuMzE5LTExLjI0Mi0xMC4wOTEtMTguMzg5LTE0LjMxNXMtMTUu\n",
    "MjA3LTguMjEzLTI0LjE4LTExLjk2N2MtNi41NzMtMi43MTItMTIuNDY4LTUuMzQ1LTE3LjY4NS03\n",
    "LjktNS4yMTctMi41NTYtOS42NTEtNS4xNjMtMTMuMzAzLTcuODIyLTMuNjUyLTIuNjYtNi40Njkt\n",
    "NS40NzYtOC40NTEtOC40NDgtMS45ODItMi45NzMtMi45NzQtNi4zMzYtMi45NzQtMTAuMDkxIDAt\n",
    "My40NDEuODg3LTYuNTQ0IDIuNjYxLTkuMzA4czQuMjc4LTUuMTM2IDcuNTEyLTcuMTE4YzMuMjM1\n",
    "LTEuOTgxIDcuMTk5LTMuNTIgMTEuODk0LTQuNjE1IDQuNjk2LTEuMDk1IDkuOTEyLTEuNjQyIDE1\n",
    "LjY1MS0xLjY0MiA0LjE3MyAwIDguNTgxLjMxMyAxMy4yMjQuOTM4IDQuNjQzLjYyNiA5LjMxMiAx\n",
    "LjU5MSAxNC4wMDggMi44OTQgNC42OTUgMS4zMDQgOS4yNTkgMi45NDcgMTMuNjk0IDQuOTI4IDQu\n",
    "NDM0IDEuOTgyIDguNTI5IDQuMjc2IDEyLjI4NSA2Ljg4NHYtNDYuNzc2Yy03LjYxNi0yLjkyLTE1\n",
    "LjkzNy01LjA4NC0yNC45NjItNi40OTJzLTE5LjM4MS0yLjExMi0zMS4wNjYtMi4xMTJjLTExLjg5\n",
    "NSAwLTIzLjE2MyAxLjI3OC0zMy44MDUgMy44MzNzLTIwLjAwNiA2LjU0NC0yOC4wOTMgMTEuOTY3\n",
    "Yy04LjA4NiA1LjQyNC0xNC40NzYgMTIuMzMzLTE5LjE3MSAyMC43MjktNC42OTUgOC4zOTUtNy4w\n",
    "NDMgMTguNDMzLTcuMDQzIDMwLjExNCAwIDE0LjkxNCA0LjMwNCAyNy42MzggMTIuOTEyIDM4LjE3\n",
    "MiA4LjYwNyAxMC41MzMgMjEuNjc1IDE5LjQ1IDM5LjIwNCAyNi43NTEgNi44ODYgMi44MTYgMTMu\n",
    "MzAzIDUuNTc5IDE5LjI1IDguMjkxczExLjA4NiA1LjUyOCAxNS40MTUgOC40NDhjNC4zMyAyLjky\n",
    "IDcuNzQ3IDYuMTAxIDEwLjI1MiA5LjU0MyAyLjUwNCAzLjQ0MSAzLjc1NiA3LjM1MiAzLjc1NiAx\n",
    "MS43MzMgMCAzLjIzMy0uNzgzIDYuMjMxLTIuMzQ4IDguOTk1cy0zLjkzOSA1LjE2Mi03LjEyMSA3\n",
    "LjE5Ni03LjE0NyAzLjYyNC0xMS44OTQgNC43NzFjLTQuNzQ4IDEuMTQ4LTEwLjMwMyAxLjcyMS0x\n",
    "Ni42NjggMS43MjEtMTAuODUxIDAtMjEuNTk3LTEuOTAzLTMyLjI0LTUuNzEtMTAuNjQyLTMuODA2\n",
    "LTIwLjUwMi05LjUxNi0yOS41NzktMTcuMTN6bS04NC4xNTktMTIzLjM0Mmg2NC4yMnYtNDEuMDgy\n",
    "aC0xNzl2NDEuMDgyaDYzLjkwNnYxODIuOTE4aDUwLjg3NHoiIGZpbGw9IiNmZmYiIGZpbGwtcnVs\n",
    "ZT0iZXZlbm9kZCIvPjwvc3ZnPg==\n",
    "\"\n",
    "     alt=\"TypeScript Logo\" style=\"display:block;margin:auto;width:5%\"/>\n",
    "<br>\n",
    "\n",
    "<div style=\"text-align:center; font-size:200%;\">\n",
    "  <b>Clean Code: Funktionen (Teil 2)</b>\n",
    "</div>\n",
    "<br/>\n",
    "<div style=\"text-align:center; font-size:120%;\">Dr. Matthias Hölzl</div>\n",
    "<br/>\n",
    "<div style=\"text-align:center;\">Coding-Akademie München</div>\n",
    "<br/>"
   ]
  },
  {
   "cell_type": "markdown",
   "id": "616b74b69fd65f7b",
   "metadata": {
    "lang": "de",
    "slideshow": {
     "slide_type": "slide"
    },
    "tags": [
     "slide"
    ]
   },
   "source": [
    "\n",
    "## Typ-Tags und Switch-Anweisungen"
   ]
  },
  {
   "cell_type": "code",
   "execution_count": null,
   "id": "808a710491412838",
   "metadata": {
    "slideshow": {
     "slide_type": "subslide"
    },
    "tags": [
     "subslide",
     "keep"
    ]
   },
   "outputs": [],
   "source": [
    "enum EmployeeType {\n",
    "    COMMISSIONED,\n",
    "    HOURLY,\n",
    "    SALARIED\n",
    "}"
   ]
  },
  {
   "cell_type": "code",
   "execution_count": null,
   "id": "c832923782d76173",
   "metadata": {
    "tags": [
     "keep"
    ]
   },
   "outputs": [],
   "source": [
    "class EmployeeV1 {\n",
    "    constructor(public type: EmployeeType) {}\n",
    "}"
   ]
  },
  {
   "cell_type": "code",
   "execution_count": null,
   "id": "734d460985cf5f66",
   "metadata": {
    "slideshow": {
     "slide_type": "subslide"
    },
    "tags": [
     "subslide",
     "keep"
    ]
   },
   "outputs": [],
   "source": [
    "function calculatePay(e: EmployeeV1): number {\n",
    "    switch (e.type) {\n",
    "    case EmployeeType.COMMISSIONED:\n",
    "        return calculateCommissionedPay(e);\n",
    "    case EmployeeType.HOURLY:\n",
    "        return calculateHourlyPay(e);\n",
    "    case EmployeeType.SALARIED:\n",
    "        return calculateSalariedPay(e);\n",
    "    default:\n",
    "        throw new Error(\"No valid employee type.\");\n",
    "    }\n",
    "}"
   ]
  },
  {
   "cell_type": "code",
   "execution_count": null,
   "id": "aa306b1ad6687e72",
   "metadata": {
    "slideshow": {
     "slide_type": "subslide"
    },
    "tags": [
     "subslide",
     "keep"
    ]
   },
   "outputs": [],
   "source": [
    "function calculateCommissionedPay(e: EmployeeV1): number {\n",
    "    return 100.0;\n",
    "}"
   ]
  },
  {
   "cell_type": "code",
   "execution_count": null,
   "id": "4b5aa541f56168a6",
   "metadata": {
    "tags": [
     "keep"
    ]
   },
   "outputs": [],
   "source": [
    "function calculateHourlyPay(e: EmployeeV1): number {\n",
    "    return 120.0;\n",
    "}"
   ]
  },
  {
   "cell_type": "code",
   "execution_count": null,
   "id": "da89e3c8de7c41fe",
   "metadata": {
    "tags": [
     "keep"
    ]
   },
   "outputs": [],
   "source": [
    "function calculateSalariedPay(e: EmployeeV1): number {\n",
    "    return 80.0;\n",
    "}"
   ]
  },
  {
   "cell_type": "code",
   "execution_count": null,
   "id": "bb1c23efdc57d111",
   "metadata": {
    "tags": [
     "keep"
    ]
   },
   "outputs": [],
   "source": [
    "const e1 = new EmployeeV1(EmployeeType.HOURLY);\n",
    "const e2 = new EmployeeV1(EmployeeType.SALARIED);"
   ]
  },
  {
   "cell_type": "code",
   "execution_count": null,
   "id": "57fb735b0dbf4b5a",
   "metadata": {
    "tags": [
     "keep"
    ]
   },
   "outputs": [],
   "source": [
    "console.log(calculatePay(e1));\n",
    "console.log(calculatePay(e2));"
   ]
  },
  {
   "cell_type": "markdown",
   "id": "d21a251ddddc441a",
   "metadata": {
    "lang": "de",
    "slideshow": {
     "slide_type": "slide"
    },
    "tags": [
     "slide"
    ]
   },
   "source": [
    "\n",
    "- Switch-Anweisungen führen oft Operationen auf der gleichen Abstraktionsebene\n",
    "  aus. (für \"Subtypen\" anstelle des ursprünglichen Typs)\n",
    "- \"Subtypen\" werden oft durch Typ-Tags unterschieden\n",
    "- In Python wird das mit `if`-`elif`-`else`-Ketten realisiert, da es keine\n",
    "  `switch`-Anweisung gibt"
   ]
  },
  {
   "cell_type": "markdown",
   "id": "35b261f956886e67",
   "metadata": {
    "lang": "de",
    "slideshow": {
     "slide_type": "subslide"
    },
    "tags": [
     "subslide"
    ]
   },
   "source": [
    "\n",
    "## Ersetze Switch-Anweisung durch Polymorphie\n",
    "\n",
    "Es ist oft besser, switch-Anweisungen durch Vererbung und Polymorphie zu\n",
    "ersetzen:"
   ]
  },
  {
   "cell_type": "code",
   "execution_count": null,
   "id": "0ab7b5c3ab7483f3",
   "metadata": {
    "tags": [
     "keep"
    ]
   },
   "outputs": [],
   "source": [
    "abstract class EmployeeV2 {\n",
    "    abstract calculatePay(): number;\n",
    "}"
   ]
  },
  {
   "cell_type": "code",
   "execution_count": null,
   "id": "62f480bc821008b3",
   "metadata": {
    "slideshow": {
     "slide_type": "subslide"
    },
    "tags": [
     "subslide",
     "keep"
    ]
   },
   "outputs": [],
   "source": [
    "class CommissionedEmployee extends EmployeeV2 {\n",
    "    calculatePay(): number { return 100.0; }\n",
    "}"
   ]
  },
  {
   "cell_type": "code",
   "execution_count": null,
   "id": "b5150b3cb3396fbc",
   "metadata": {
    "tags": [
     "keep"
    ]
   },
   "outputs": [],
   "source": [
    "class HourlyEmployee extends EmployeeV2 {\n",
    "    calculatePay(): number { return 120.0; }\n",
    "}"
   ]
  },
  {
   "cell_type": "code",
   "execution_count": null,
   "id": "ddbc84b0cde79dcb",
   "metadata": {
    "tags": [
     "keep"
    ]
   },
   "outputs": [],
   "source": [
    "class SalariedEmployee extends EmployeeV2 {\n",
    "    calculatePay(): number { return 80.0; }\n",
    "}"
   ]
  },
  {
   "cell_type": "code",
   "execution_count": null,
   "id": "3f257a46b5b6dd51",
   "metadata": {
    "slideshow": {
     "slide_type": "subslide"
    },
    "tags": [
     "subslide",
     "keep"
    ]
   },
   "outputs": [],
   "source": [
    "function createEmployeeV2(employeeType: EmployeeType): EmployeeV2 {\n",
    "    switch (employeeType) {\n",
    "    case EmployeeType.COMMISSIONED:\n",
    "        return new CommissionedEmployee();\n",
    "    case EmployeeType.HOURLY:\n",
    "        return new HourlyEmployee();\n",
    "    case EmployeeType.SALARIED:\n",
    "        return new SalariedEmployee();\n",
    "    default:\n",
    "        throw new Error(\"Not a valid employee type.\");\n",
    "    }\n",
    "}"
   ]
  },
  {
   "cell_type": "code",
   "execution_count": null,
   "id": "1e0c9935ef68f803",
   "metadata": {
    "slideshow": {
     "slide_type": "subslide"
    },
    "tags": [
     "subslide",
     "keep"
    ]
   },
   "outputs": [],
   "source": [
    "const employee1 = createEmployeeV2(EmployeeType.HOURLY);\n",
    "const employee2 = createEmployeeV2(EmployeeType.SALARIED);"
   ]
  },
  {
   "cell_type": "code",
   "execution_count": null,
   "id": "3452ff4f04debfcc",
   "metadata": {
    "tags": [
     "keep"
    ]
   },
   "outputs": [],
   "source": [
    "console.log(employee1.calculatePay());\n",
    "console.log(employee2.calculatePay());"
   ]
  },
  {
   "cell_type": "markdown",
   "id": "b9ee5d4e73b18bb4",
   "metadata": {
    "lang": "de",
    "slideshow": {
     "slide_type": "subslide"
    },
    "tags": [
     "subslide"
    ]
   },
   "source": [
    "\n",
    "## Trade-Offs: Vererbungsvariante\n",
    "\n",
    "- Neue \"Bezahlvarianten\" könne ohne Änderung des bestehenden Codes hinzugefügt\n",
    "  werden\n",
    "- Potentiell Explosion von Unterklassen (bei mehreren Enumerationstypen)"
   ]
  },
  {
   "cell_type": "markdown",
   "id": "026bc1731a7265ec",
   "metadata": {
    "lang": "de",
    "slideshow": {
     "slide_type": "subslide"
    },
    "tags": [
     "subslide"
    ]
   },
   "source": [
    "\n",
    "## Trade-Offs: Switch-Variante\n",
    "\n",
    "- Einfacher zu verstehen\n",
    "- Erleichtert die Definition von Funktionen, die auf die Enumeration zugreifen\n",
    "  - In Python gibt es aber `functools.singledispatch` für die Vererbungsvariante"
   ]
  },
  {
   "cell_type": "markdown",
   "id": "d9792e9a1fe4dee3",
   "metadata": {
    "lang": "de",
    "slideshow": {
     "slide_type": "subslide"
    },
    "tags": [
     "subslide"
    ]
   },
   "source": [
    "\n",
    "## Trade-Offs: Design\n",
    "\n",
    "- Spiegelt sich die Unterscheidung zwischen den Subtypen im Domänenmodell\n",
    "  wieder?"
   ]
  },
  {
   "cell_type": "markdown",
   "id": "ce07370e510fa4a7",
   "metadata": {
    "lang": "de",
    "slideshow": {
     "slide_type": "subslide"
    },
    "tags": [
     "subslide"
    ]
   },
   "source": [
    "\n",
    "## Ersetzen der Enumeration durch Vererbung\n",
    "\n",
    "- Polymorphie statt Enumeration\n",
    "- Nicht auf der Ebene der gesamten Klasse\n",
    "- Mildert die Nachteile der Vererbungsvariante"
   ]
  },
  {
   "cell_type": "markdown",
   "id": "0c3cd988ecd02722",
   "metadata": {
    "lang": "de",
    "slideshow": {
     "slide_type": "subslide"
    },
    "tags": [
     "subslide"
    ]
   },
   "source": [
    "\n",
    "### Beispiel\n",
    "\n",
    "- Abstrakte Klasse `PaymentCalculator` statt `EmployeeType`\n",
    "- Konkrete Unterklasse pro \"Bezahlvariante\"\n",
    "- `Employee` delegiert Berechnung an `PaymentCalculator`"
   ]
  },
  {
   "cell_type": "code",
   "execution_count": null,
   "id": "9f126290add26f11",
   "metadata": {
    "slideshow": {
     "slide_type": "subslide"
    },
    "tags": [
     "keep",
     "subslide"
    ]
   },
   "outputs": [],
   "source": [
    "abstract class PaymentCalculator {\n",
    "    abstract calculatePay(): number;\n",
    "}"
   ]
  },
  {
   "cell_type": "code",
   "execution_count": null,
   "id": "f89b524d565915da",
   "metadata": {
    "tags": [
     "keep"
    ]
   },
   "outputs": [],
   "source": [
    "class CommissionedPaymentCalculator extends PaymentCalculator {\n",
    "    calculatePay(): number { return 100.0; }\n",
    "}"
   ]
  },
  {
   "cell_type": "code",
   "execution_count": null,
   "id": "b0c5d863c8d50ac0",
   "metadata": {
    "slideshow": {
     "slide_type": "subslide"
    },
    "tags": [
     "subslide",
     "keep"
    ]
   },
   "outputs": [],
   "source": [
    "class HourlyPaymentCalculator extends PaymentCalculator {\n",
    "    calculatePay(): number { return 120.0; }\n",
    "}"
   ]
  },
  {
   "cell_type": "code",
   "execution_count": null,
   "id": "9da871830f8620ac",
   "metadata": {
    "lines_to_next_cell": 0,
    "tags": [
     "keep"
    ]
   },
   "outputs": [],
   "source": [
    "class SalariedPaymentCalculator extends PaymentCalculator {\n",
    "    calculatePay(): number { return 80.0; }\n",
    "}"
   ]
  },
  {
   "cell_type": "code",
   "execution_count": null,
   "id": "0cb5b2b3c48b88df",
   "metadata": {
    "slideshow": {
     "slide_type": "subslide"
    },
    "tags": [
     "subslide",
     "keep"
    ]
   },
   "outputs": [],
   "source": [
    "interface PaymentCalculator {\n",
    "    calculatePay(employee: EmployeeV3): number;\n",
    "}\n",
    "\n",
    "class EmployeeV3 {\n",
    "    constructor(private paymentCalculator: PaymentCalculator) {}\n",
    "\n",
    "    calculatePay(): number {\n",
    "        return this.paymentCalculator.calculatePay(this);\n",
    "    }\n",
    "}"
   ]
  },
  {
   "cell_type": "code",
   "execution_count": null,
   "id": "82427df3ca6aa25c",
   "metadata": {
    "slideshow": {
     "slide_type": "subslide"
    },
    "tags": [
     "keep",
     "subslide"
    ]
   },
   "outputs": [],
   "source": [
    "function createEmployeeV3(employeeType: EmployeeType): EmployeeV3 {\n",
    "    switch (employeeType) {\n",
    "        case EmployeeType.COMMISSIONED:\n",
    "            return new EmployeeV3(new CommissionedPaymentCalculator());\n",
    "        case EmployeeType.HOURLY:\n",
    "            return new EmployeeV3(new HourlyPaymentCalculator());\n",
    "        case EmployeeType.SALARIED:\n",
    "            return new EmployeeV3(new SalariedPaymentCalculator());\n",
    "        default:\n",
    "            throw new Error(\"Not a valid employee type.\");\n",
    "    }\n",
    "}"
   ]
  },
  {
   "cell_type": "code",
   "execution_count": null,
   "id": "d56173ac828358d2",
   "metadata": {
    "slideshow": {
     "slide_type": "subslide"
    },
    "tags": [
     "subslide",
     "keep"
    ]
   },
   "outputs": [],
   "source": [
    "const employee1 = createEmployeeV3(EmployeeType.HOURLY);\n",
    "const employee2 = createEmployeeV3(EmployeeType.SALARIED);"
   ]
  },
  {
   "cell_type": "code",
   "execution_count": null,
   "id": "5f5008f8bac9c4ea",
   "metadata": {
    "tags": [
     "keep"
    ]
   },
   "outputs": [],
   "source": [
    "console.log(employee1.calculatePay());\n",
    "console.log(employee2.calculatePay());"
   ]
  },
  {
   "cell_type": "markdown",
   "id": "973329c94bc52af6",
   "metadata": {
    "lang": "de",
    "slideshow": {
     "slide_type": "slide"
    },
    "tags": [
     "slide"
    ]
   },
   "source": [
    "\n",
    "## Workshop: Ersetzen von Switch-Anweisungen\n",
    "\n",
    "Strukturieren Sie den folgenden Code so um, dass nur noch bei der Erzeugung\n",
    "der Objekte eine \"switch-Anweisung\" verwendet wird:"
   ]
  },
  {
   "cell_type": "code",
   "execution_count": null,
   "id": "b28eb124ef2b7d4f",
   "metadata": {
    "tags": [
     "keep"
    ]
   },
   "outputs": [],
   "source": [
    "enum ComputerType {\n",
    "    PC,\n",
    "    MAC,\n",
    "    CHROMEBOOK\n",
    "}"
   ]
  },
  {
   "cell_type": "code",
   "execution_count": null,
   "id": "f6a87dec97218604",
   "metadata": {
    "tags": [
     "keep"
    ]
   },
   "outputs": [],
   "source": [
    "class ComputerV1 {\n",
    "    constructor(public computerType: ComputerType) {}\n",
    "}"
   ]
  },
  {
   "cell_type": "code",
   "execution_count": null,
   "id": "ac9e1c91474635f6",
   "metadata": {
    "slideshow": {
     "slide_type": "subslide"
    },
    "tags": [
     "keep",
     "subslide"
    ]
   },
   "outputs": [],
   "source": [
    "function compileCode(computer: ComputerV1): void {\n",
    "    switch (computer.computerType) {\n",
    "        case ComputerType.PC:\n",
    "        console.log(\"Compiling code for PC.\");\n",
    "            break;\n",
    "        case ComputerType.MAC:\n",
    "        console.log(\"Compiling code for Mac.\");\n",
    "            break;\n",
    "        case ComputerType.CHROMEBOOK:\n",
    "        console.log(\"Compiling code for Chromebook.\");\n",
    "            break;\n",
    "        default:\n",
    "        throw new Error(\"Don't know how to compile code for this computer.\");\n",
    "    }\n",
    "}"
   ]
  },
  {
   "cell_type": "code",
   "execution_count": null,
   "id": "8c745edb7b4f5f9e",
   "metadata": {
    "tags": [
     "keep"
    ]
   },
   "outputs": [],
   "source": [
    "const myPc = new ComputerV1(ComputerType.PC);\n",
    "const myMac = new ComputerV1(ComputerType.MAC);\n",
    "const myChromebook = new ComputerV1(ComputerType.CHROMEBOOK);"
   ]
  },
  {
   "cell_type": "code",
   "execution_count": null,
   "id": "cb0c2624767edb70",
   "metadata": {
    "tags": [
     "keep"
    ]
   },
   "outputs": [],
   "source": [
    "compileCode(myPc);\n",
    "compileCode(myMac);\n",
    "compileCode(myChromebook);"
   ]
  },
  {
   "cell_type": "code",
   "execution_count": null,
   "id": "045738ac8f38aad8",
   "metadata": {
    "slideshow": {
     "slide_type": "subslide"
    },
    "tags": [
     "keep",
     "subslide"
    ]
   },
   "outputs": [],
   "source": [
    "const myPcV2 = createComputerV2(ComputerType.PC);\n",
    "const myMacV2 = createComputerV2(ComputerType.MAC);\n",
    "const myChromebookV2 = createComputerV2(ComputerType.CHROMEBOOK);"
   ]
  },
  {
   "cell_type": "code",
   "execution_count": null,
   "id": "c64e11edddcc1c1d",
   "metadata": {},
   "outputs": [],
   "source": []
  },
  {
   "cell_type": "code",
   "execution_count": null,
   "id": "417c5227e85e38b1",
   "metadata": {},
   "outputs": [],
   "source": []
  },
  {
   "cell_type": "code",
   "execution_count": null,
   "id": "59816efd5f672ca9",
   "metadata": {},
   "outputs": [],
   "source": []
  },
  {
   "cell_type": "code",
   "execution_count": null,
   "id": "fb8be239f899bcde",
   "metadata": {},
   "outputs": [],
   "source": []
  },
  {
   "cell_type": "code",
   "execution_count": null,
   "id": "a5ed0d2bfd48d43b",
   "metadata": {},
   "outputs": [],
   "source": []
  },
  {
   "cell_type": "code",
   "execution_count": null,
   "id": "f5062cc19fd95b12",
   "metadata": {},
   "outputs": [],
   "source": []
  },
  {
   "cell_type": "code",
   "execution_count": null,
   "id": "c312d85fbb51c3d4",
   "metadata": {
    "lines_to_next_cell": 0
   },
   "outputs": [],
   "source": []
  },
  {
   "cell_type": "code",
   "execution_count": null,
   "id": "2bd6fe80dbb044b2",
   "metadata": {},
   "outputs": [],
   "source": []
  },
  {
   "cell_type": "code",
   "execution_count": null,
   "id": "6b4e03423667dbb7",
   "metadata": {},
   "outputs": [],
   "source": []
  }
 ],
 "metadata": {
  "jupytext": {
   "cell_metadata_filter": "tags,lang,-all",
   "encoding": "// -*- coding: utf-8 -*-",
   "main_language": "typescript",
   "notebook_metadata_filter": "-all"
  },
  "kernelspec": {
   "display_name": "Deno",
   "language": "typescript",
   "name": "deno"
  },
  "language_info": {
   "codemirror_mode": "typescript",
   "file_extension": ".ts",
   "mimetype": "text/x.typescript",
   "name": "typescript",
   "pygments_lexer": "typescript",
   "version": "5.6.2"
  }
 },
 "nbformat": 4,
 "nbformat_minor": 5
}
