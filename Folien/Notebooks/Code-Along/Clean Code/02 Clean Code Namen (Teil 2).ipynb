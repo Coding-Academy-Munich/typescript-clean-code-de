{
 "cells": [
  {
   "cell_type": "markdown",
   "id": "bb2dd88527aee758",
   "metadata": {
    "lang": "de",
    "slideshow": {
     "slide_type": "slide"
    },
    "tags": [
     "slide"
    ]
   },
   "source": [
    "\n",
    "<img src=\"data:image/svg+xml;base64,PHN2ZyBmaWxsPSJub25lIiBoZWlnaHQ9IjUxMiIgdmlld0JveD0iMCAwIDUxMiA1MTIiIHdpZHRo\n",
    "PSI1MTIiIHhtbG5zPSJodHRwOi8vd3d3LnczLm9yZy8yMDAwL3N2ZyI+PHJlY3QgZmlsbD0iIzMx\n",
    "NzhjNiIgaGVpZ2h0PSI1MTIiIHJ4PSI1MCIgd2lkdGg9IjUxMiIvPjxyZWN0IGZpbGw9IiMzMTc4\n",
    "YzYiIGhlaWdodD0iNTEyIiByeD0iNTAiIHdpZHRoPSI1MTIiLz48cGF0aCBjbGlwLXJ1bGU9ImV2\n",
    "ZW5vZGQiIGQ9Im0zMTYuOTM5IDQwNy40MjR2NTAuMDYxYzguMTM4IDQuMTcyIDE3Ljc2MyA3LjMg\n",
    "MjguODc1IDkuMzg2czIyLjgyMyAzLjEyOSAzNS4xMzUgMy4xMjljMTEuOTk5IDAgMjMuMzk3LTEu\n",
    "MTQ3IDM0LjE5Ni0zLjQ0MiAxMC43OTktMi4yOTQgMjAuMjY4LTYuMDc1IDI4LjQwNi0xMS4zNDIg\n",
    "OC4xMzgtNS4yNjYgMTQuNTgxLTEyLjE1IDE5LjMyOC0yMC42NXM3LjEyMS0xOS4wMDcgNy4xMjEt\n",
    "MzEuNTIyYzAtOS4wNzQtMS4zNTYtMTcuMDI2LTQuMDY5LTIzLjg1N3MtNi42MjUtMTIuOTA2LTEx\n",
    "LjczOC0xOC4yMjVjLTUuMTEyLTUuMzE5LTExLjI0Mi0xMC4wOTEtMTguMzg5LTE0LjMxNXMtMTUu\n",
    "MjA3LTguMjEzLTI0LjE4LTExLjk2N2MtNi41NzMtMi43MTItMTIuNDY4LTUuMzQ1LTE3LjY4NS03\n",
    "LjktNS4yMTctMi41NTYtOS42NTEtNS4xNjMtMTMuMzAzLTcuODIyLTMuNjUyLTIuNjYtNi40Njkt\n",
    "NS40NzYtOC40NTEtOC40NDgtMS45ODItMi45NzMtMi45NzQtNi4zMzYtMi45NzQtMTAuMDkxIDAt\n",
    "My40NDEuODg3LTYuNTQ0IDIuNjYxLTkuMzA4czQuMjc4LTUuMTM2IDcuNTEyLTcuMTE4YzMuMjM1\n",
    "LTEuOTgxIDcuMTk5LTMuNTIgMTEuODk0LTQuNjE1IDQuNjk2LTEuMDk1IDkuOTEyLTEuNjQyIDE1\n",
    "LjY1MS0xLjY0MiA0LjE3MyAwIDguNTgxLjMxMyAxMy4yMjQuOTM4IDQuNjQzLjYyNiA5LjMxMiAx\n",
    "LjU5MSAxNC4wMDggMi44OTQgNC42OTUgMS4zMDQgOS4yNTkgMi45NDcgMTMuNjk0IDQuOTI4IDQu\n",
    "NDM0IDEuOTgyIDguNTI5IDQuMjc2IDEyLjI4NSA2Ljg4NHYtNDYuNzc2Yy03LjYxNi0yLjkyLTE1\n",
    "LjkzNy01LjA4NC0yNC45NjItNi40OTJzLTE5LjM4MS0yLjExMi0zMS4wNjYtMi4xMTJjLTExLjg5\n",
    "NSAwLTIzLjE2MyAxLjI3OC0zMy44MDUgMy44MzNzLTIwLjAwNiA2LjU0NC0yOC4wOTMgMTEuOTY3\n",
    "Yy04LjA4NiA1LjQyNC0xNC40NzYgMTIuMzMzLTE5LjE3MSAyMC43MjktNC42OTUgOC4zOTUtNy4w\n",
    "NDMgMTguNDMzLTcuMDQzIDMwLjExNCAwIDE0LjkxNCA0LjMwNCAyNy42MzggMTIuOTEyIDM4LjE3\n",
    "MiA4LjYwNyAxMC41MzMgMjEuNjc1IDE5LjQ1IDM5LjIwNCAyNi43NTEgNi44ODYgMi44MTYgMTMu\n",
    "MzAzIDUuNTc5IDE5LjI1IDguMjkxczExLjA4NiA1LjUyOCAxNS40MTUgOC40NDhjNC4zMyAyLjky\n",
    "IDcuNzQ3IDYuMTAxIDEwLjI1MiA5LjU0MyAyLjUwNCAzLjQ0MSAzLjc1NiA3LjM1MiAzLjc1NiAx\n",
    "MS43MzMgMCAzLjIzMy0uNzgzIDYuMjMxLTIuMzQ4IDguOTk1cy0zLjkzOSA1LjE2Mi03LjEyMSA3\n",
    "LjE5Ni03LjE0NyAzLjYyNC0xMS44OTQgNC43NzFjLTQuNzQ4IDEuMTQ4LTEwLjMwMyAxLjcyMS0x\n",
    "Ni42NjggMS43MjEtMTAuODUxIDAtMjEuNTk3LTEuOTAzLTMyLjI0LTUuNzEtMTAuNjQyLTMuODA2\n",
    "LTIwLjUwMi05LjUxNi0yOS41NzktMTcuMTN6bS04NC4xNTktMTIzLjM0Mmg2NC4yMnYtNDEuMDgy\n",
    "aC0xNzl2NDEuMDgyaDYzLjkwNnYxODIuOTE4aDUwLjg3NHoiIGZpbGw9IiNmZmYiIGZpbGwtcnVs\n",
    "ZT0iZXZlbm9kZCIvPjwvc3ZnPg==\n",
    "\"\n",
    "     alt=\"TypeScript Logo\" style=\"display:block;margin:auto;width:5%\"/>\n",
    "<br>\n",
    "\n",
    "<div style=\"text-align:center; font-size:200%;\">\n",
    "  <b>Clean Code: Namen (Teil 2)</b>\n",
    "</div>\n",
    "<br/>\n",
    "<div style=\"text-align:center; font-size:120%;\">Dr. Matthias Hölzl</div>\n",
    "<br/>\n",
    "<div style=\"text-align:center;\">Coding-Akademie München</div>\n",
    "<br/>"
   ]
  },
  {
   "cell_type": "markdown",
   "id": "cdf2a6ee08931195",
   "metadata": {
    "lang": "de",
    "slideshow": {
     "slide_type": "subslide"
    },
    "tags": [
     "subslide"
    ]
   },
   "source": [
    "\n",
    "## Namensregeln für TypeScript\n",
    "\n",
    "- Namen entsprechen Code-Konventionen, z.B.\n",
    "  - [Google TypeScript Coding Conventions](https://google.github.io/styleguide/tsguide.html)"
   ]
  },
  {
   "cell_type": "markdown",
   "id": "641e4a4353a15fa5",
   "metadata": {
    "lang": "de",
    "slideshow": {
     "slide_type": "subslide"
    },
    "tags": [
     "subslide"
    ]
   },
   "source": [
    "\n",
    "## Clean Code Namensregeln\n",
    "\n",
    "Gute Namen\n",
    "\n",
    "- sind selbsterklärend\n",
    "- kommunizieren die Intention\n",
    "- sind aussprechbar und durchsuchbar\n",
    "- beschreiben das Problem, nicht die Implementierung\n",
    "- vermeiden Kodierungen (ungarische Notation) und Füllwörter\n",
    "- verwenden die richtige Wortart (lexikalische Kategorie)\n",
    "- verwenden die Regeln für Umfang und Länge (Scope-Length Rules)\n",
    "- vermeiden Disinformation und benennen eine sinnvolle Unterscheidung"
   ]
  },
  {
   "cell_type": "markdown",
   "id": "e08aa4769cacb0e8",
   "metadata": {
    "lang": "de",
    "slideshow": {
     "slide_type": "subslide"
    },
    "tags": [
     "subslide"
    ]
   },
   "source": [
    "\n",
    "## Selbsterklärende Namen"
   ]
  },
  {
   "cell_type": "code",
   "execution_count": null,
   "id": "de8fed863355d1a2",
   "metadata": {
    "tags": [
     "keep"
    ]
   },
   "outputs": [],
   "source": [
    "let d = 0;"
   ]
  },
  {
   "cell_type": "code",
   "execution_count": null,
   "id": "cdcfc77627c36201",
   "metadata": {
    "tags": [
     "keep"
    ]
   },
   "outputs": [],
   "source": [
    "let elapsedTimeInDays = 0;"
   ]
  },
  {
   "cell_type": "markdown",
   "id": "607bad85fbd1dc94",
   "metadata": {
    "lang": "de",
    "slideshow": {
     "slide_type": "slide"
    },
    "tags": [
     "slide"
    ]
   },
   "source": [
    "\n",
    "## Kommuniziere Intention\n",
    "\n",
    "Namen sollen Absicht, Verhalten, Existenzberechtigung reflektieren"
   ]
  },
  {
   "cell_type": "code",
   "execution_count": null,
   "id": "f281e2cbf4cd18d1",
   "metadata": {
    "tags": [
     "keep"
    ]
   },
   "outputs": [],
   "source": [
    "let myList: number[] = [31, 28, 31, 30, 31, 30, 31, 31, 30, 31, 30, 31];"
   ]
  },
  {
   "cell_type": "code",
   "execution_count": null,
   "id": "5ed31e3870719e44",
   "metadata": {
    "tags": [
     "keep"
    ]
   },
   "outputs": [],
   "source": [
    "let dpmLst: number[] = [31, 28, 31, 30, 31, 30, 31, 31, 30, 31, 30, 31];"
   ]
  },
  {
   "cell_type": "markdown",
   "id": "10d11ab7faba61f4",
   "metadata": {
    "lang": "de",
    "slideshow": {
     "slide_type": "subslide"
    },
    "tags": [
     "subslide"
    ]
   },
   "source": [
    "\n",
    "## Aussprechbare Namen\n",
    "\n",
    "Sind oft auch besser zu suchen"
   ]
  },
  {
   "cell_type": "code",
   "execution_count": null,
   "id": "13775138bc43ce74",
   "metadata": {
    "tags": [
     "keep"
    ]
   },
   "outputs": [],
   "source": [
    "let hwCrsrPxy: number[] = [0, 0];"
   ]
  },
  {
   "cell_type": "code",
   "execution_count": null,
   "id": "ac5e2681c2b344fb",
   "metadata": {
    "lines_to_next_cell": 2
   },
   "outputs": [],
   "source": []
  },
  {
   "cell_type": "markdown",
   "id": "71b75b26812fc926",
   "metadata": {
    "lang": "de",
    "slideshow": {
     "slide_type": "subslide"
    },
    "tags": [
     "subslide"
    ]
   },
   "source": [
    "\n",
    "## Beschreibe Problem, nicht Implementierung\n",
    "\n",
    "Vermeide Namen, die sich auf Implementierungsdetails beziehen:\n",
    "- Sie verraten nicht, warum der Code so geschrieben wurde, wie er geschrieben\n",
    "  ist\n",
    "- Aber die Kommunikation der Intention hinter dem Code hat höchste Priorität!"
   ]
  },
  {
   "cell_type": "code",
   "execution_count": null,
   "id": "758782b6d3ded11d",
   "metadata": {
    "slideshow": {
     "slide_type": "subslide"
    },
    "tags": [
     "keep",
     "subslide"
    ]
   },
   "outputs": [],
   "source": [
    "function addElements(lst: number[]): number {\n",
    "    return lst.reduce((sum, value) => sum + value, 0);\n",
    "}"
   ]
  },
  {
   "cell_type": "code",
   "execution_count": null,
   "id": "9153ca3c749f32f2",
   "metadata": {
    "lines_to_next_cell": 2,
    "tags": [
     "keep"
    ]
   },
   "outputs": [],
   "source": [
    "console.log(addElements([31, 28, 31, 30, 31, 30, 31, 31, 30, 31, 30, 31])); // Seems reasonable"
   ]
  },
  {
   "cell_type": "code",
   "execution_count": null,
   "id": "2d87ac07323786cf",
   "metadata": {},
   "outputs": [],
   "source": []
  },
  {
   "cell_type": "code",
   "execution_count": null,
   "id": "d40afc228b8514e5",
   "metadata": {
    "lines_to_next_cell": 2
   },
   "outputs": [],
   "source": []
  },
  {
   "cell_type": "markdown",
   "id": "a2b99c92645d61ad",
   "metadata": {
    "lang": "de",
    "slideshow": {
     "slide_type": "slide"
    },
    "tags": [
     "slide"
    ]
   },
   "source": [
    "\n",
    "## Vermeide Kodierungen\n",
    "\n",
    "Verwende keine ungarische Notation:"
   ]
  },
  {
   "cell_type": "code",
   "execution_count": null,
   "id": "5465de6cc9b11158",
   "metadata": {
    "tags": [
     "keep"
    ]
   },
   "outputs": [],
   "source": [
    "let iDays = 12;\n",
    "let iMonth = 3;"
   ]
  },
  {
   "cell_type": "markdown",
   "id": "5db267642a064fbb",
   "metadata": {
    "lang": "de",
    "slideshow": {
     "slide_type": "subslide"
    },
    "tags": [
     "subslide"
    ]
   },
   "source": [
    "\n",
    "## Vermeide Kodierungen\n",
    "\n",
    "Verwende keine Präfixe für Attribute:"
   ]
  },
  {
   "cell_type": "code",
   "execution_count": null,
   "id": "305cd18010dd149f",
   "metadata": {
    "tags": [
     "keep"
    ]
   },
   "outputs": [],
   "source": [
    "class Point {\n",
    "    m_x: number;\n",
    "    m_y: number;\n",
    "\n",
    "    constructor(x: number, y: number) {\n",
    "        this.m_x = x;\n",
    "        this.m_y = y;\n",
    "    }\n",
    "}"
   ]
  },
  {
   "cell_type": "code",
   "execution_count": null,
   "id": "3d6de42d8f289632",
   "metadata": {},
   "outputs": [],
   "source": []
  },
  {
   "cell_type": "code",
   "execution_count": null,
   "id": "82f6b3ef63244591",
   "metadata": {
    "tags": [
     "keep"
    ]
   },
   "outputs": [],
   "source": [
    "class Point {\n",
    "    constructor(public x: number, public y: number) {}\n",
    "}"
   ]
  },
  {
   "cell_type": "code",
   "execution_count": null,
   "id": "183566d32fe5590f",
   "metadata": {},
   "outputs": [],
   "source": []
  },
  {
   "cell_type": "code",
   "execution_count": null,
   "id": "00309ddba82045f1",
   "metadata": {
    "tags": [
     "keep"
    ]
   },
   "outputs": [],
   "source": [
    "class MyClass {\n",
    "    private m_days: number;\n",
    "    private m_months: number;\n",
    "\n",
    "    constructor(days: number, months: number) {\n",
    "        this.m_days = days;\n",
    "        this.m_months = months;\n",
    "    }\n",
    "\n",
    "    public get days(): number {\n",
    "        return this.m_days;\n",
    "    }\n",
    "\n",
    "    public get months(): number {\n",
    "        return this.m_months;\n",
    "    }\n",
    "}"
   ]
  },
  {
   "cell_type": "code",
   "execution_count": null,
   "id": "c389a04bc1b2fd94",
   "metadata": {},
   "outputs": [],
   "source": []
  },
  {
   "cell_type": "code",
   "execution_count": null,
   "id": "9a23f03d5567a5d9",
   "metadata": {},
   "outputs": [],
   "source": []
  },
  {
   "cell_type": "code",
   "execution_count": null,
   "id": "6aa6ab8dfa3eed92",
   "metadata": {},
   "outputs": [],
   "source": []
  },
  {
   "cell_type": "code",
   "execution_count": null,
   "id": "e1a919f6293e48b8",
   "metadata": {
    "tags": [
     "keep"
    ]
   },
   "outputs": [],
   "source": [
    "class MyClass {\n",
    "    private _days: number;\n",
    "    private _months: number;\n",
    "\n",
    "    constructor(days: number, months: number) {\n",
    "        this._days = days;\n",
    "        this._months = months;\n",
    "    }\n",
    "\n",
    "    public get days(): number {\n",
    "        return this._days;\n",
    "    }\n",
    "\n",
    "    public get months(): number {\n",
    "        return this._months;\n",
    "    }\n",
    "}"
   ]
  },
  {
   "cell_type": "code",
   "execution_count": null,
   "id": "670984fd71137f82",
   "metadata": {},
   "outputs": [],
   "source": []
  },
  {
   "cell_type": "code",
   "execution_count": null,
   "id": "9cf21859bf0b6491",
   "metadata": {},
   "outputs": [],
   "source": []
  },
  {
   "cell_type": "code",
   "execution_count": null,
   "id": "c2bf7e7fd6f72097",
   "metadata": {},
   "outputs": [],
   "source": []
  },
  {
   "cell_type": "code",
   "execution_count": null,
   "id": "fefdebc8bc69a418",
   "metadata": {
    "tags": [
     "keep"
    ]
   },
   "outputs": [],
   "source": [
    "class MyClass {\n",
    "    constructor(readonly days: number, readonly months: number) {}\n",
    "}"
   ]
  },
  {
   "cell_type": "code",
   "execution_count": null,
   "id": "cb6e07493b7aff65",
   "metadata": {},
   "outputs": [],
   "source": []
  },
  {
   "cell_type": "code",
   "execution_count": null,
   "id": "beeb08faf6af3f8e",
   "metadata": {},
   "outputs": [],
   "source": []
  },
  {
   "cell_type": "code",
   "execution_count": null,
   "id": "1d16d089f99a39c4",
   "metadata": {},
   "outputs": [],
   "source": []
  },
  {
   "cell_type": "markdown",
   "id": "a0eab5dcdd0619ca",
   "metadata": {
    "lang": "de",
    "slideshow": {
     "slide_type": "subslide"
    },
    "tags": [
     "subslide"
    ]
   },
   "source": [
    "\n",
    "## Vermeide Kodierungen\n",
    "\n",
    "Vermeiden Sie Präfixe wie C/I: CClass, IInterface"
   ]
  },
  {
   "cell_type": "code",
   "execution_count": null,
   "id": "7013401869606f14",
   "metadata": {
    "tags": [
     "keep"
    ]
   },
   "outputs": [],
   "source": [
    "class CPoint {\n",
    "    public x: number;\n",
    "    public y: number;\n",
    "}"
   ]
  },
  {
   "cell_type": "code",
   "execution_count": null,
   "id": "639a7d2ce51f7783",
   "metadata": {},
   "outputs": [],
   "source": []
  },
  {
   "cell_type": "markdown",
   "id": "d9f88eb346725d39",
   "metadata": {
    "lang": "de",
    "slideshow": {
     "slide_type": "slide"
    },
    "tags": [
     "slide"
    ]
   },
   "source": [
    "\n",
    "## Verwende die richtige lexikalische Kategorie\n",
    "\n",
    "- Klassen und Variablen: Substantive oder Substantivphrasen\n",
    "- Funktionen: Verben oder Verbphrasen\n",
    "- Enums: oft Adjektive\n",
    "- Boolesche Variablen und Funktionen: oft Prädikate: `is...`, `has...`"
   ]
  },
  {
   "cell_type": "code",
   "execution_count": null,
   "id": "4f12835415bb71f5",
   "metadata": {
    "tags": [
     "keep"
    ]
   },
   "outputs": [],
   "source": [
    "class GoToTheServer {\n",
    "    // Connect to the server\n",
    "    connection(): void {\n",
    "        // ...\n",
    "    }\n",
    "\n",
    "    serverAvailability(): boolean {\n",
    "        return true;\n",
    "    }\n",
    "}"
   ]
  },
  {
   "cell_type": "code",
   "execution_count": null,
   "id": "0c72e4e47e075bc4",
   "metadata": {},
   "outputs": [],
   "source": []
  },
  {
   "cell_type": "code",
   "execution_count": null,
   "id": "826ece6c635f40e7",
   "metadata": {},
   "outputs": [],
   "source": []
  },
  {
   "cell_type": "code",
   "execution_count": null,
   "id": "7ca7941a1dd6accb",
   "metadata": {},
   "outputs": [],
   "source": []
  },
  {
   "cell_type": "code",
   "execution_count": null,
   "id": "5fc1e7458b8e7b3b",
   "metadata": {
    "tags": [
     "keep"
    ]
   },
   "outputs": [],
   "source": [
    "class ServerConnection {\n",
    "    connect(): void {\n",
    "        // ...\n",
    "    }\n",
    "\n",
    "    isServerAvailable(): boolean {\n",
    "        return true;\n",
    "    }\n",
    "}"
   ]
  },
  {
   "cell_type": "code",
   "execution_count": null,
   "id": "652f0a77b6a2c8b4",
   "metadata": {},
   "outputs": [],
   "source": []
  },
  {
   "cell_type": "code",
   "execution_count": null,
   "id": "60a4c5acbd1e84a6",
   "metadata": {},
   "outputs": [],
   "source": []
  },
  {
   "cell_type": "code",
   "execution_count": null,
   "id": "15f0a188bc16927a",
   "metadata": {},
   "outputs": [],
   "source": []
  },
  {
   "cell_type": "markdown",
   "id": "03470ddaabe118f2",
   "metadata": {
    "lang": "de",
    "slideshow": {
     "slide_type": "subslide"
    },
    "tags": [
     "subslide"
    ]
   },
   "source": [
    "\n",
    "## Vermeide Füllwörter\n",
    "\n",
    "Vermeide Wörter, die keine Bedeutung haben, wie Manager, Processor, Data,\n",
    "Info"
   ]
  },
  {
   "cell_type": "code",
   "execution_count": null,
   "id": "6623c29b9d4c71f6",
   "metadata": {
    "tags": [
     "keep"
    ]
   },
   "outputs": [],
   "source": [
    "class ObjectManager {\n",
    "}"
   ]
  },
  {
   "cell_type": "markdown",
   "id": "089c77fbf0cc9563",
   "metadata": {
    "lang": "de",
    "slideshow": {
     "slide_type": "slide"
    },
    "tags": [
     "slide"
    ]
   },
   "source": [
    "\n",
    "## TypeScript-Spezifisch\n",
    "\n",
    "- Verwende Attribute statt Getter/Setter.\n",
    "- Verwende Properties (`get foo()`) für Zugriff auf Attribute statt Getter/Setter (`getFoo()`):"
   ]
  },
  {
   "cell_type": "code",
   "execution_count": null,
   "id": "0b9cfedb6d74706f",
   "metadata": {
    "tags": [
     "keep"
    ]
   },
   "outputs": [],
   "source": [
    "class MyBox {\n",
    "    private x: number;\n",
    "\n",
    "    constructor(x: number) {\n",
    "        this.x = x;\n",
    "    }\n",
    "\n",
    "    getX(): number {\n",
    "        return this.x;\n",
    "    }\n",
    "\n",
    "    setX(newX: number): number {\n",
    "        this.x = newX;\n",
    "    }\n",
    "}"
   ]
  },
  {
   "cell_type": "code",
   "execution_count": null,
   "id": "89c8ddca263c51e2",
   "metadata": {},
   "outputs": [],
   "source": []
  },
  {
   "cell_type": "code",
   "execution_count": null,
   "id": "270d019b2f0b4753",
   "metadata": {},
   "outputs": [],
   "source": []
  },
  {
   "cell_type": "code",
   "execution_count": null,
   "id": "99bc045b8239e402",
   "metadata": {},
   "outputs": [],
   "source": []
  },
  {
   "cell_type": "code",
   "execution_count": null,
   "id": "9200ebcfc80faffe",
   "metadata": {
    "tags": [
     "keep"
    ]
   },
   "outputs": [],
   "source": [
    "class MyBox {\n",
    "    public x: number;\n",
    "\n",
    "    constructor(x: number) {\n",
    "        this.x = x;\n",
    "    }\n",
    "}"
   ]
  },
  {
   "cell_type": "code",
   "execution_count": null,
   "id": "67a8ca3b16791158",
   "metadata": {},
   "outputs": [],
   "source": []
  },
  {
   "cell_type": "code",
   "execution_count": null,
   "id": "b2cb4961516d51a4",
   "metadata": {},
   "outputs": [],
   "source": []
  },
  {
   "cell_type": "code",
   "execution_count": null,
   "id": "67a3ee825b982edc",
   "metadata": {},
   "outputs": [],
   "source": []
  },
  {
   "cell_type": "markdown",
   "id": "c9195acb4dfe9726",
   "metadata": {
    "lang": "de",
    "slideshow": {
     "slide_type": "subslide"
    },
    "tags": [
     "subslide"
    ]
   },
   "source": [
    "\n",
    "Mit Properties kann kontrollierter oder berechneter Zugriff\n",
    "auf Attribute implementiert werden:"
   ]
  },
  {
   "cell_type": "code",
   "execution_count": null,
   "id": "0a6a135e1900d6a7",
   "metadata": {
    "tags": [
     "start"
    ]
   },
   "outputs": [],
   "source": [
    "class ControlledBox {\n",
    "    public x: number;\n",
    "\n",
    "    constructor(x: number) {\n",
    "        this.x = x;\n",
    "    }\n",
    "}"
   ]
  },
  {
   "cell_type": "code",
   "execution_count": null,
   "id": "1efd3e63130e680b",
   "metadata": {
    "slideshow": {
     "slide_type": "subslide"
    },
    "tags": [
     "subslide",
     "keep"
    ]
   },
   "outputs": [],
   "source": [
    "let yourBox = new ControlledBox(-2);\n",
    "console.log(yourBox.x);"
   ]
  },
  {
   "cell_type": "code",
   "execution_count": null,
   "id": "c0bfd6b66a1de85f",
   "metadata": {
    "slideshow": {
     "slide_type": "subslide"
    },
    "tags": [
     "subslide",
     "keep"
    ]
   },
   "outputs": [],
   "source": [
    "yourBox.x = -200;\n",
    "console.log(yourBox.x);"
   ]
  },
  {
   "cell_type": "markdown",
   "id": "331bd36af88e3a18",
   "metadata": {
    "lang": "de",
    "slideshow": {
     "slide_type": "slide"
    },
    "tags": [
     "slide"
    ]
   },
   "source": [
    "\n",
    "## Regeln für Umfang und Länge (Scope-Length Rules)\n",
    "\n",
    "- Variablen:\n",
    "  - Langer Geltungsbereich = langer Name\n",
    "  - Kurzer Geltungsbereich = kurzer Name\n",
    "- Klassen und Methoden\n",
    "  - Langer Geltungsbereich = kurzer Name (wenn häufig verwendet?)\n",
    "  - Kurzer Geltungsbereich = langer Name (wenn selten verwendet?)\n",
    "\n",
    "**Oder:** Verwende lange Namen für lange Geltungsbereiche"
   ]
  },
  {
   "cell_type": "code",
   "execution_count": null,
   "id": "cb5b4ede57b02bcd",
   "metadata": {
    "slideshow": {
     "slide_type": "subslide"
    },
    "tags": [
     "subslide",
     "keep"
    ]
   },
   "outputs": [],
   "source": [
    "class FixedSizeOrderedCollectionIndexedByInts {\n",
    "}"
   ]
  },
  {
   "cell_type": "code",
   "execution_count": null,
   "id": "7809edf3e730c08d",
   "metadata": {
    "tags": [
     "keep"
    ]
   },
   "outputs": [],
   "source": [
    "class MyArray {\n",
    "}"
   ]
  },
  {
   "cell_type": "markdown",
   "id": "8a688033899df4f4",
   "metadata": {
    "lang": "de",
    "slideshow": {
     "slide_type": "subslide"
    },
    "tags": [
     "subslide"
    ]
   },
   "source": [
    "\n",
    "## Workshop: Namen\n",
    "\n",
    "In diesem Workshop wenden Sie die Clean Code Namensregeln an, die wir gerade\n",
    "gelernt haben. Sie werden mit mehreren Code-Schnipseln konfrontiert, die\n",
    "gegen eine oder mehrere dieser Regeln verstoßen.\n",
    "\n",
    "Ihre Aufgabe:\n",
    "1. Identifizieren Sie, welche Namensregeln in jedem Beispiel verletzt werden.\n",
    "2. Schreiben Sie den Code mit verbesserten Namen um, die den\n",
    "   Clean Code-Prinzipien folgen.\n",
    "3. Seien Sie bereit, Ihre Änderungen zu erklären und zu begründen, warum sie\n",
    "   die Lesbarkeit und Wartbarkeit des Codes verbessern.\n",
    "\n",
    "Denken Sie an die Schlüsselprinzipien:\n",
    "- Namen sollten selbsterklärend und die Absicht offenbaren\n",
    "- Verwenden Sie aussprechbare und durchsuchbare Namen\n",
    "- Vermeiden Sie Kodierungen und Füllwörter\n",
    "- Verwenden Sie die richtige Wortart\n",
    "- Wenden Sie die Umfangs-Längen-Regeln angemessen an"
   ]
  },
  {
   "cell_type": "code",
   "execution_count": null,
   "id": "cf5145e5f53caac0",
   "metadata": {},
   "outputs": [],
   "source": []
  },
  {
   "cell_type": "code",
   "execution_count": null,
   "id": "3e06b7b12fb41200",
   "metadata": {
    "tags": [
     "keep"
    ]
   },
   "outputs": [],
   "source": [
    "let theList: string[] = [\"Apple\", \"Banana\", \"Cherry\"];"
   ]
  },
  {
   "cell_type": "code",
   "execution_count": null,
   "id": "856b9bf3a0bc9935",
   "metadata": {},
   "outputs": [],
   "source": []
  },
  {
   "cell_type": "code",
   "execution_count": null,
   "id": "620f10164cca0a00",
   "metadata": {
    "tags": [
     "keep"
    ]
   },
   "outputs": [],
   "source": [
    "let flag = false;  // Indicates if the user is logged in"
   ]
  },
  {
   "cell_type": "code",
   "execution_count": null,
   "id": "25c1060ce4337b1d",
   "metadata": {},
   "outputs": [],
   "source": []
  },
  {
   "cell_type": "code",
   "execution_count": null,
   "id": "b66798669cfac890",
   "metadata": {
    "tags": [
     "keep"
    ]
   },
   "outputs": [],
   "source": [
    "function StuffManager(s: string) {\n",
    "    // Process the input string\n",
    "}"
   ]
  },
  {
   "cell_type": "code",
   "execution_count": null,
   "id": "e8c5477e974f4621",
   "metadata": {},
   "outputs": [],
   "source": []
  },
  {
   "cell_type": "code",
   "execution_count": null,
   "id": "c6f2b0df2a51f373",
   "metadata": {
    "tags": [
     "keep"
    ]
   },
   "outputs": [],
   "source": [
    "class DataInfoManager {\n",
    "    private strName: string;\n",
    "    private iAge: number;\n",
    "}"
   ]
  },
  {
   "cell_type": "code",
   "execution_count": null,
   "id": "6bd04473d53412fd",
   "metadata": {},
   "outputs": [],
   "source": []
  },
  {
   "cell_type": "code",
   "execution_count": null,
   "id": "ab350cd1a7c091f3",
   "metadata": {
    "tags": [
     "keep"
    ]
   },
   "outputs": [],
   "source": [
    "function chkandvldtinpt(s: string): boolean {\n",
    "    // Check if input is valid\n",
    "    return !s.trim().length;\n",
    "}"
   ]
  },
  {
   "cell_type": "code",
   "execution_count": null,
   "id": "d61dbeccf2794a14",
   "metadata": {},
   "outputs": [],
   "source": []
  },
  {
   "cell_type": "code",
   "execution_count": null,
   "id": "cd051edea4804b6a",
   "metadata": {
    "tags": [
     "keep"
    ]
   },
   "outputs": [],
   "source": [
    "let x = 0;  // index into array"
   ]
  },
  {
   "cell_type": "code",
   "execution_count": null,
   "id": "67b43ded8c2b7b5d",
   "metadata": {},
   "outputs": [],
   "source": []
  },
  {
   "cell_type": "code",
   "execution_count": null,
   "id": "0f514f8b12ab7f90",
   "metadata": {
    "tags": [
     "keep"
    ]
   },
   "outputs": [],
   "source": [
    "class MakeAndManageEmployees {\n",
    "    // Methods for employee management\n",
    "}"
   ]
  },
  {
   "cell_type": "code",
   "execution_count": null,
   "id": "07ec537344f5a1e5",
   "metadata": {},
   "outputs": [],
   "source": []
  },
  {
   "cell_type": "code",
   "execution_count": null,
   "id": "1e3bc59daef307a3",
   "metadata": {
    "tags": [
     "keep"
    ]
   },
   "outputs": [],
   "source": [
    "function setvalue(NV: number) {\n",
    "    // Set the value of an internal variable\n",
    "}"
   ]
  },
  {
   "cell_type": "code",
   "execution_count": null,
   "id": "1fc48ec4e88cd446",
   "metadata": {},
   "outputs": [],
   "source": []
  },
  {
   "cell_type": "code",
   "execution_count": null,
   "id": "9ccd12709747dd69",
   "metadata": {
    "tags": [
     "keep"
    ]
   },
   "outputs": [],
   "source": [
    "let processSuccessful = false; // Was the process successful?"
   ]
  },
  {
   "cell_type": "code",
   "execution_count": null,
   "id": "623361853da3fd94",
   "metadata": {},
   "outputs": [],
   "source": []
  }
 ],
 "metadata": {
  "jupytext": {
   "cell_metadata_filter": "tags,lang,-all",
   "encoding": "// -*- coding: utf-8 -*-",
   "main_language": "typescript",
   "notebook_metadata_filter": "-all"
  },
  "kernelspec": {
   "display_name": "Deno",
   "language": "typescript",
   "name": "deno"
  },
  "language_info": {
   "codemirror_mode": "typescript",
   "file_extension": ".ts",
   "mimetype": "text/x.typescript",
   "name": "typescript",
   "pygments_lexer": "typescript",
   "version": "5.6.2"
  }
 },
 "nbformat": 4,
 "nbformat_minor": 5
}
