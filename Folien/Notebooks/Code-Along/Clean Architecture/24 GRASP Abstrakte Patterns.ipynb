{
 "cells": [
  {
   "cell_type": "markdown",
   "id": "e0508913a0ae0ef3",
   "metadata": {
    "lang": "de",
    "slideshow": {
     "slide_type": "slide"
    },
    "tags": [
     "slide"
    ]
   },
   "source": [
    "\n",
    "<img src=\"data:image/svg+xml;base64,PHN2ZyBmaWxsPSJub25lIiBoZWlnaHQ9IjUxMiIgdmlld0JveD0iMCAwIDUxMiA1MTIiIHdpZHRo\n",
    "PSI1MTIiIHhtbG5zPSJodHRwOi8vd3d3LnczLm9yZy8yMDAwL3N2ZyI+PHJlY3QgZmlsbD0iIzMx\n",
    "NzhjNiIgaGVpZ2h0PSI1MTIiIHJ4PSI1MCIgd2lkdGg9IjUxMiIvPjxyZWN0IGZpbGw9IiMzMTc4\n",
    "YzYiIGhlaWdodD0iNTEyIiByeD0iNTAiIHdpZHRoPSI1MTIiLz48cGF0aCBjbGlwLXJ1bGU9ImV2\n",
    "ZW5vZGQiIGQ9Im0zMTYuOTM5IDQwNy40MjR2NTAuMDYxYzguMTM4IDQuMTcyIDE3Ljc2MyA3LjMg\n",
    "MjguODc1IDkuMzg2czIyLjgyMyAzLjEyOSAzNS4xMzUgMy4xMjljMTEuOTk5IDAgMjMuMzk3LTEu\n",
    "MTQ3IDM0LjE5Ni0zLjQ0MiAxMC43OTktMi4yOTQgMjAuMjY4LTYuMDc1IDI4LjQwNi0xMS4zNDIg\n",
    "OC4xMzgtNS4yNjYgMTQuNTgxLTEyLjE1IDE5LjMyOC0yMC42NXM3LjEyMS0xOS4wMDcgNy4xMjEt\n",
    "MzEuNTIyYzAtOS4wNzQtMS4zNTYtMTcuMDI2LTQuMDY5LTIzLjg1N3MtNi42MjUtMTIuOTA2LTEx\n",
    "LjczOC0xOC4yMjVjLTUuMTEyLTUuMzE5LTExLjI0Mi0xMC4wOTEtMTguMzg5LTE0LjMxNXMtMTUu\n",
    "MjA3LTguMjEzLTI0LjE4LTExLjk2N2MtNi41NzMtMi43MTItMTIuNDY4LTUuMzQ1LTE3LjY4NS03\n",
    "LjktNS4yMTctMi41NTYtOS42NTEtNS4xNjMtMTMuMzAzLTcuODIyLTMuNjUyLTIuNjYtNi40Njkt\n",
    "NS40NzYtOC40NTEtOC40NDgtMS45ODItMi45NzMtMi45NzQtNi4zMzYtMi45NzQtMTAuMDkxIDAt\n",
    "My40NDEuODg3LTYuNTQ0IDIuNjYxLTkuMzA4czQuMjc4LTUuMTM2IDcuNTEyLTcuMTE4YzMuMjM1\n",
    "LTEuOTgxIDcuMTk5LTMuNTIgMTEuODk0LTQuNjE1IDQuNjk2LTEuMDk1IDkuOTEyLTEuNjQyIDE1\n",
    "LjY1MS0xLjY0MiA0LjE3MyAwIDguNTgxLjMxMyAxMy4yMjQuOTM4IDQuNjQzLjYyNiA5LjMxMiAx\n",
    "LjU5MSAxNC4wMDggMi44OTQgNC42OTUgMS4zMDQgOS4yNTkgMi45NDcgMTMuNjk0IDQuOTI4IDQu\n",
    "NDM0IDEuOTgyIDguNTI5IDQuMjc2IDEyLjI4NSA2Ljg4NHYtNDYuNzc2Yy03LjYxNi0yLjkyLTE1\n",
    "LjkzNy01LjA4NC0yNC45NjItNi40OTJzLTE5LjM4MS0yLjExMi0zMS4wNjYtMi4xMTJjLTExLjg5\n",
    "NSAwLTIzLjE2MyAxLjI3OC0zMy44MDUgMy44MzNzLTIwLjAwNiA2LjU0NC0yOC4wOTMgMTEuOTY3\n",
    "Yy04LjA4NiA1LjQyNC0xNC40NzYgMTIuMzMzLTE5LjE3MSAyMC43MjktNC42OTUgOC4zOTUtNy4w\n",
    "NDMgMTguNDMzLTcuMDQzIDMwLjExNCAwIDE0LjkxNCA0LjMwNCAyNy42MzggMTIuOTEyIDM4LjE3\n",
    "MiA4LjYwNyAxMC41MzMgMjEuNjc1IDE5LjQ1IDM5LjIwNCAyNi43NTEgNi44ODYgMi44MTYgMTMu\n",
    "MzAzIDUuNTc5IDE5LjI1IDguMjkxczExLjA4NiA1LjUyOCAxNS40MTUgOC40NDhjNC4zMyAyLjky\n",
    "IDcuNzQ3IDYuMTAxIDEwLjI1MiA5LjU0MyAyLjUwNCAzLjQ0MSAzLjc1NiA3LjM1MiAzLjc1NiAx\n",
    "MS43MzMgMCAzLjIzMy0uNzgzIDYuMjMxLTIuMzQ4IDguOTk1cy0zLjkzOSA1LjE2Mi03LjEyMSA3\n",
    "LjE5Ni03LjE0NyAzLjYyNC0xMS44OTQgNC43NzFjLTQuNzQ4IDEuMTQ4LTEwLjMwMyAxLjcyMS0x\n",
    "Ni42NjggMS43MjEtMTAuODUxIDAtMjEuNTk3LTEuOTAzLTMyLjI0LTUuNzEtMTAuNjQyLTMuODA2\n",
    "LTIwLjUwMi05LjUxNi0yOS41NzktMTcuMTN6bS04NC4xNTktMTIzLjM0Mmg2NC4yMnYtNDEuMDgy\n",
    "aC0xNzl2NDEuMDgyaDYzLjkwNnYxODIuOTE4aDUwLjg3NHoiIGZpbGw9IiNmZmYiIGZpbGwtcnVs\n",
    "ZT0iZXZlbm9kZCIvPjwvc3ZnPg==\n",
    "\"\n",
    "     alt=\"TypeScript Logo\" style=\"display:block;margin:auto;width:5%\"/>\n",
    "<br>\n",
    "\n",
    "<div style=\"text-align:center; font-size:200%;\">\n",
    "  <b>GRASP: Abstrakte Patterns</b>\n",
    "</div>\n",
    "<br/>\n",
    "<div style=\"text-align:center; font-size:120%;\">Dr. Matthias Hölzl</div>\n",
    "<br/>\n",
    "<div style=\"text-align:center;\">Coding-Akademie München</div>\n",
    "<br/>"
   ]
  },
  {
   "cell_type": "markdown",
   "id": "34c6bbee3659aa60",
   "metadata": {
    "lang": "de",
    "slideshow": {
     "slide_type": "slide"
    },
    "tags": [
     "slide"
    ]
   },
   "source": [
    "\n",
    "# GRASP: Polymorphie\n",
    "\n",
    "- Polymorphe Operationen beschreiben ähnliche (aber nicht identische)\n",
    "  Verhaltensweisen, die sich je nach Typ eines Objekts ändern können\n",
    "- Normalerweise kein Wechsel zwischen den Verhaltensweisen während der Laufzeit"
   ]
  },
  {
   "cell_type": "markdown",
   "id": "12228476e8908901",
   "metadata": {
    "lang": "de",
    "lines_to_next_cell": 2,
    "slideshow": {
     "slide_type": "subslide"
    },
    "tags": [
     "subslide"
    ]
   },
   "source": [
    "\n",
    "## In TypeScript\n",
    "\n",
    "- (Dynamische) Polymorphie: Vererbung, virtuelle Methoden\n",
    "  - Sehr flexibel\n",
    "  - Selektion der Funktionalität zur Laufzeit (dynamischer Typ)\n",
    "  - Overhead in Laufzeit und Speicherplatz (mit Profiler messen!)\n",
    "  - Heterogene Arrays möglich\n",
    "- Callbacks oder Closures:\n",
    "  - Ähnlich zu virtuellen Methoden\n",
    "  - Manchmal syntaktisch einfacher, weniger Code"
   ]
  },
  {
   "cell_type": "markdown",
   "id": "b181eefed32e6b59",
   "metadata": {
    "lang": "de",
    "slideshow": {
     "slide_type": "slide"
    },
    "tags": [
     "slide"
    ]
   },
   "source": [
    "\n",
    "# GRASP: Pure Fabrication\n",
    "\n",
    "Welchem Objekt geben wir die Verantwortung für eine Aufgabe, wenn z.B.\n",
    "Information Expert oder Creator zu Lösungen führen, die nicht gut sind, weil\n",
    "sie niedrige Kohäsion oder hohe Kopplung haben?"
   ]
  },
  {
   "cell_type": "markdown",
   "id": "2f129cf22fe9c035",
   "metadata": {
    "lang": "de",
    "slideshow": {
     "slide_type": "subslide"
    },
    "tags": [
     "subslide"
    ]
   },
   "source": [
    "\n",
    "# GRASP: Pure Fabrication\n",
    "\n",
    "- Eine Klasse, die nicht im Domänenmodell vorkommt\n",
    "- Typischerweise ein Gegengewicht zum Informationsexperten, der die Funktionalität\n",
    "  in einer einzigen Klasse konzentrieren will\n",
    "- Beispiel:\n",
    "  - Datenbankfunktionalität in Domänenklassen\n",
    "  - Konsistent mit Information Expert\n",
    "  - Aber: geringe Kohäsion, hohe Kopplung\n",
    "  - Einführung von Data Access Objects (eine Pure Fabrication)"
   ]
  },
  {
   "cell_type": "markdown",
   "id": "138920a294ba7dc0",
   "metadata": {
    "lang": "de",
    "slideshow": {
     "slide_type": "subslide"
    },
    "tags": [
     "subslide"
    ]
   },
   "source": [
    "\n",
    "## Vorsicht vor übermäßiger Verwendung\n",
    "\n",
    "- Werden Pure Fabrications zu häufig verwendet, kann das zu einem Verlust der\n",
    "  niedrigen Repräsentationslücke führen\n",
    "- Oft wird dadurch auch die Kohäsion der Domänenklassen verringert\n",
    "- Besonders Entwickler mit Background in prozeduralen Sprachen neigen dazu,\n",
    "  sehr viele \"Verhaltensobjekte\" einzuführen, bei denen die\n",
    "  Verantwortlichkeiten *nicht* mit den für ihre Erfüllung benötigten\n",
    "  Informationen zusammenfallen"
   ]
  },
  {
   "cell_type": "markdown",
   "id": "1d6340af66c74d50",
   "metadata": {
    "lang": "de",
    "slideshow": {
     "slide_type": "slide"
    },
    "tags": [
     "slide"
    ]
   },
   "source": [
    "\n",
    "# GRASP: Indirektion\n",
    "\n",
    "<div>\n",
    "\"Jedes Problem in der Informatik kann gelöst werden, indem man eine weitere\n",
    "Indirektion hinzufügt.\"\n",
    "<div style=\"float:right;\">- David Wheeler</div>\n",
    "</div>\n",
    "\n",
    "<br>\n",
    "<div> \"Außer zu viele Indirektionen.\"\n",
    "<div style=\"float:right;\">– N.N.</div>\n",
    "</div>"
   ]
  },
  {
   "cell_type": "markdown",
   "id": "8ac7466214ab36b7",
   "metadata": {
    "lang": "de",
    "slideshow": {
     "slide_type": "subslide"
    },
    "tags": [
     "subslide"
    ]
   },
   "source": [
    "\n",
    "- Wie können wir die Kopplung zwischen zwei Objekten verringern?\n",
    "- Wir führen eine weitere Schicht ein, die die beiden Objekte entkoppelt"
   ]
  },
  {
   "cell_type": "markdown",
   "id": "a3ae21db65d2d12e",
   "metadata": {
    "lang": "de",
    "slideshow": {
     "slide_type": "subslide"
    },
    "tags": [
     "subslide"
    ]
   },
   "source": [
    "\n",
    "## Indirektion\n",
    "\n",
    "- Sehr häufige Muster auf jeder Schicht\n",
    "  - Betriebssystem\n",
    "  - Virtuelle Maschinen\n",
    "  - Polymorphe Methodenaufrufe\n",
    "- Testen:\n",
    "  - Indirektionen sind Nahtstellen, die für Testzwecke verwendet werden können"
   ]
  },
  {
   "cell_type": "markdown",
   "id": "fa31c1547f6ee2e2",
   "metadata": {
    "lang": "de",
    "slideshow": {
     "slide_type": "slide"
    },
    "tags": [
     "slide"
    ]
   },
   "source": [
    "\n",
    "## Protected Variation\n",
    "\n",
    "Problem: Wie können wir Komponenten so gestalten, dass Variations- oder\n",
    "Evolutionspunkte keine unerwünschten Auswirkungen auf andere Komponenten haben?"
   ]
  },
  {
   "cell_type": "markdown",
   "id": "bf97a87173c90ec8",
   "metadata": {
    "lang": "de",
    "slideshow": {
     "slide_type": "subslide"
    },
    "tags": [
     "subslide"
    ]
   },
   "source": [
    "\n",
    "## Protected Variation\n",
    "\n",
    "Lösung:\n",
    "- Identifiziere die Punkte, an denen Variationen oder Evolutionen auftreten können\n",
    "- Führe einer stabilen Schnittstelle zum Schutz dieser Punkte ein\n",
    "- Diese Schnittstellen sind häufig Pure Fabrications\n",
    "- Oft führen diese Schnittstellen eine Indirection ein"
   ]
  },
  {
   "cell_type": "markdown",
   "id": "d2fd9b42b498bcce",
   "metadata": {
    "lang": "de",
    "slideshow": {
     "slide_type": "subslide"
    },
    "tags": [
     "subslide"
    ]
   },
   "source": [
    "\n",
    "## Protected Variations\n",
    "\n",
    "- Sehr häufig angewandt:\n",
    "  - Private Attribute mit Gettern/Settern\n",
    "  - Schnittstellen, Polymorphismus\n",
    "  - Virtuelle Maschinen\n",
    "  - Standards\n",
    "- Testen:\n",
    "  - Geschützte Variationen sind oft Einstiegspunkte für Tests\n",
    "  - Aber oft müssen zusätzliche Tests geschrieben werden, um sicherzustellen,\n",
    "    dass das System noch funktioniert, wenn die Variabilität tatsächlich\n",
    "    verwendet wird"
   ]
  },
  {
   "cell_type": "markdown",
   "id": "707426819b2acd1e",
   "metadata": {
    "lang": "de",
    "slideshow": {
     "slide_type": "subslide"
    },
    "tags": [
     "subslide"
    ]
   },
   "source": [
    "\n",
    "- Protected Variation ist ein sehr allgemeines Prinzip\n",
    "- Fast alle anderen Software-Entwicklungsprinzipien und Patterns sind\n",
    "  spezielle Fälle von Protected Variation"
   ]
  },
  {
   "cell_type": "markdown",
   "id": "e67e1d59963307ad",
   "metadata": {
    "lang": "de",
    "slideshow": {
     "slide_type": "subslide"
    },
    "tags": [
     "subslide"
    ]
   },
   "source": [
    "\n",
    "## Vorsicht vor übermäßiger Verwendung\n",
    "\n",
    "- Protected Variation kann zwei verschiedene Arten von Änderung unterstützen:\n",
    "  - Variationspunkte: Varianten, die im existierenden System vorhanden sind\n",
    "  - Evolutionspunkte: Spekulative Abstraktionen, die die zukünftige\n",
    "    Entwicklung des Systems unterstützen sollen\n",
    "- Oft sind die Kosten von spekulativen Abstraktionen höher als die Kosten von\n",
    "  sie später einzuführen"
   ]
  }
 ],
 "metadata": {
  "jupytext": {
   "cell_metadata_filter": "tags,lang,-all",
   "encoding": "// -*- coding: utf-8 -*-",
   "main_language": "typescript",
   "notebook_metadata_filter": "-all"
  },
  "kernelspec": {
   "display_name": "Deno",
   "language": "typescript",
   "name": "deno"
  },
  "language_info": {
   "codemirror_mode": "typescript",
   "file_extension": ".ts",
   "mimetype": "text/x.typescript",
   "name": "typescript",
   "pygments_lexer": "typescript",
   "version": "5.6.2"
  }
 },
 "nbformat": 4,
 "nbformat_minor": 5
}
