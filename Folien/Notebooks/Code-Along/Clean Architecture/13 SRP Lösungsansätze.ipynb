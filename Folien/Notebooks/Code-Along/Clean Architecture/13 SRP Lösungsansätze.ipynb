{
 "cells": [
  {
   "cell_type": "markdown",
   "id": "a6150667f2f7aafd",
   "metadata": {
    "lang": "de",
    "slideshow": {
     "slide_type": "slide"
    },
    "tags": [
     "slide"
    ]
   },
   "source": [
    "\n",
    "<img src=\"data:image/svg+xml;base64,PHN2ZyBmaWxsPSJub25lIiBoZWlnaHQ9IjUxMiIgdmlld0JveD0iMCAwIDUxMiA1MTIiIHdpZHRo\n",
    "PSI1MTIiIHhtbG5zPSJodHRwOi8vd3d3LnczLm9yZy8yMDAwL3N2ZyI+PHJlY3QgZmlsbD0iIzMx\n",
    "NzhjNiIgaGVpZ2h0PSI1MTIiIHJ4PSI1MCIgd2lkdGg9IjUxMiIvPjxyZWN0IGZpbGw9IiMzMTc4\n",
    "YzYiIGhlaWdodD0iNTEyIiByeD0iNTAiIHdpZHRoPSI1MTIiLz48cGF0aCBjbGlwLXJ1bGU9ImV2\n",
    "ZW5vZGQiIGQ9Im0zMTYuOTM5IDQwNy40MjR2NTAuMDYxYzguMTM4IDQuMTcyIDE3Ljc2MyA3LjMg\n",
    "MjguODc1IDkuMzg2czIyLjgyMyAzLjEyOSAzNS4xMzUgMy4xMjljMTEuOTk5IDAgMjMuMzk3LTEu\n",
    "MTQ3IDM0LjE5Ni0zLjQ0MiAxMC43OTktMi4yOTQgMjAuMjY4LTYuMDc1IDI4LjQwNi0xMS4zNDIg\n",
    "OC4xMzgtNS4yNjYgMTQuNTgxLTEyLjE1IDE5LjMyOC0yMC42NXM3LjEyMS0xOS4wMDcgNy4xMjEt\n",
    "MzEuNTIyYzAtOS4wNzQtMS4zNTYtMTcuMDI2LTQuMDY5LTIzLjg1N3MtNi42MjUtMTIuOTA2LTEx\n",
    "LjczOC0xOC4yMjVjLTUuMTEyLTUuMzE5LTExLjI0Mi0xMC4wOTEtMTguMzg5LTE0LjMxNXMtMTUu\n",
    "MjA3LTguMjEzLTI0LjE4LTExLjk2N2MtNi41NzMtMi43MTItMTIuNDY4LTUuMzQ1LTE3LjY4NS03\n",
    "LjktNS4yMTctMi41NTYtOS42NTEtNS4xNjMtMTMuMzAzLTcuODIyLTMuNjUyLTIuNjYtNi40Njkt\n",
    "NS40NzYtOC40NTEtOC40NDgtMS45ODItMi45NzMtMi45NzQtNi4zMzYtMi45NzQtMTAuMDkxIDAt\n",
    "My40NDEuODg3LTYuNTQ0IDIuNjYxLTkuMzA4czQuMjc4LTUuMTM2IDcuNTEyLTcuMTE4YzMuMjM1\n",
    "LTEuOTgxIDcuMTk5LTMuNTIgMTEuODk0LTQuNjE1IDQuNjk2LTEuMDk1IDkuOTEyLTEuNjQyIDE1\n",
    "LjY1MS0xLjY0MiA0LjE3MyAwIDguNTgxLjMxMyAxMy4yMjQuOTM4IDQuNjQzLjYyNiA5LjMxMiAx\n",
    "LjU5MSAxNC4wMDggMi44OTQgNC42OTUgMS4zMDQgOS4yNTkgMi45NDcgMTMuNjk0IDQuOTI4IDQu\n",
    "NDM0IDEuOTgyIDguNTI5IDQuMjc2IDEyLjI4NSA2Ljg4NHYtNDYuNzc2Yy03LjYxNi0yLjkyLTE1\n",
    "LjkzNy01LjA4NC0yNC45NjItNi40OTJzLTE5LjM4MS0yLjExMi0zMS4wNjYtMi4xMTJjLTExLjg5\n",
    "NSAwLTIzLjE2MyAxLjI3OC0zMy44MDUgMy44MzNzLTIwLjAwNiA2LjU0NC0yOC4wOTMgMTEuOTY3\n",
    "Yy04LjA4NiA1LjQyNC0xNC40NzYgMTIuMzMzLTE5LjE3MSAyMC43MjktNC42OTUgOC4zOTUtNy4w\n",
    "NDMgMTguNDMzLTcuMDQzIDMwLjExNCAwIDE0LjkxNCA0LjMwNCAyNy42MzggMTIuOTEyIDM4LjE3\n",
    "MiA4LjYwNyAxMC41MzMgMjEuNjc1IDE5LjQ1IDM5LjIwNCAyNi43NTEgNi44ODYgMi44MTYgMTMu\n",
    "MzAzIDUuNTc5IDE5LjI1IDguMjkxczExLjA4NiA1LjUyOCAxNS40MTUgOC40NDhjNC4zMyAyLjky\n",
    "IDcuNzQ3IDYuMTAxIDEwLjI1MiA5LjU0MyAyLjUwNCAzLjQ0MSAzLjc1NiA3LjM1MiAzLjc1NiAx\n",
    "MS43MzMgMCAzLjIzMy0uNzgzIDYuMjMxLTIuMzQ4IDguOTk1cy0zLjkzOSA1LjE2Mi03LjEyMSA3\n",
    "LjE5Ni03LjE0NyAzLjYyNC0xMS44OTQgNC43NzFjLTQuNzQ4IDEuMTQ4LTEwLjMwMyAxLjcyMS0x\n",
    "Ni42NjggMS43MjEtMTAuODUxIDAtMjEuNTk3LTEuOTAzLTMyLjI0LTUuNzEtMTAuNjQyLTMuODA2\n",
    "LTIwLjUwMi05LjUxNi0yOS41NzktMTcuMTN6bS04NC4xNTktMTIzLjM0Mmg2NC4yMnYtNDEuMDgy\n",
    "aC0xNzl2NDEuMDgyaDYzLjkwNnYxODIuOTE4aDUwLjg3NHoiIGZpbGw9IiNmZmYiIGZpbGwtcnVs\n",
    "ZT0iZXZlbm9kZCIvPjwvc3ZnPg==\n",
    "\"\n",
    "     alt=\"TypeScript Logo\" style=\"display:block;margin:auto;width:5%\"/>\n",
    "<br>\n",
    "\n",
    "<div style=\"text-align:center; font-size:200%;\">\n",
    "  <b>SRP: Lösungsansätze</b>\n",
    "</div>\n",
    "<br/>\n",
    "<div style=\"text-align:center; font-size:120%;\">Dr. Matthias Hölzl</div>\n",
    "<br/>\n",
    "<div style=\"text-align:center;\">Coding-Akademie München</div>\n",
    "<br/>"
   ]
  },
  {
   "cell_type": "markdown",
   "id": "73c069516d1c7122",
   "metadata": {
    "lang": "de",
    "slideshow": {
     "slide_type": "subslide"
    },
    "tags": [
     "subslide"
    ]
   },
   "source": [
    "\n",
    "## Ein Änderungsgrund?\n",
    "\n",
    "<img src=\"img/book_01.png\"\n",
    "     style=\"display:block;margin:auto;width:35%\"/>\n"
   ]
  },
  {
   "cell_type": "markdown",
   "id": "525438e34b060d3a",
   "metadata": {
    "lang": "de",
    "slideshow": {
     "slide_type": "subslide"
    },
    "tags": [
     "subslide"
    ]
   },
   "source": [
    "\n",
    "## Verletzung des SRPs\n",
    "\n",
    "<img src=\"img/book_02.png\"\n",
    "     style=\"display:block;margin:auto;width:60%\"/>"
   ]
  },
  {
   "cell_type": "code",
   "execution_count": null,
   "id": "ce03b35e4114e3ce",
   "metadata": {
    "slideshow": {
     "slide_type": "subslide"
    },
    "tags": [
     "keep",
     "subslide"
    ]
   },
   "outputs": [],
   "source": [
    "class Book {\n",
    "    constructor(\n",
    "        public readonly title: string,\n",
    "        public readonly author: string,\n",
    "        public readonly pages: number\n",
    "    ) {}\n",
    "\n",
    "    print(): void {\n",
    "        // Lots of code that handles the printer\n",
    "        console.log(`Printing ${this.title} to printer.`);\n",
    "    }\n",
    "\n",
    "    save(): void {\n",
    "        // Lots of code that handles the database\n",
    "        console.log(`Saving ${this.title} to database.`);\n",
    "    }\n",
    "}"
   ]
  },
  {
   "cell_type": "code",
   "execution_count": null,
   "id": "a71f885b98bea801",
   "metadata": {
    "slideshow": {
     "slide_type": "subslide"
    },
    "tags": [
     "subslide",
     "keep"
    ]
   },
   "outputs": [],
   "source": [
    "const book = new Book(\"Clean Code\", \"Robert C. Martin\", 464);"
   ]
  },
  {
   "cell_type": "code",
   "execution_count": null,
   "id": "532259a968ff9565",
   "metadata": {},
   "outputs": [],
   "source": []
  },
  {
   "cell_type": "code",
   "execution_count": null,
   "id": "abb77babac5962a0",
   "metadata": {},
   "outputs": [],
   "source": []
  },
  {
   "cell_type": "markdown",
   "id": "e0928d5ad8a40dc8",
   "metadata": {
    "lang": "de",
    "slideshow": {
     "slide_type": "subslide"
    },
    "tags": [
     "subslide"
    ]
   },
   "source": [
    "\n",
    "## Auflösung der SRP-Verletzung (Version 1a)\n",
    "\n",
    "Vorschlag in Clean Architecture:\n",
    "\n",
    "<img src=\"img/book_resolution_1a_srp.png\"\n",
    "     style=\"display:block;margin:auto;width:40%\"/>"
   ]
  },
  {
   "cell_type": "code",
   "execution_count": null,
   "id": "0081c5cc288a7080",
   "metadata": {
    "slideshow": {
     "slide_type": "subslide"
    },
    "tags": [
     "keep",
     "subslide"
    ]
   },
   "outputs": [],
   "source": [
    "class BookV1 {\n",
    "    constructor(\n",
    "        public readonly title: string,\n",
    "        public readonly author: string,\n",
    "        public readonly pages: number\n",
    "    ) {}\n",
    "}"
   ]
  },
  {
   "cell_type": "code",
   "execution_count": null,
   "id": "bf20d6874ae2020c",
   "metadata": {
    "slideshow": {
     "slide_type": "subslide"
    },
    "tags": [
     "keep",
     "subslide"
    ]
   },
   "outputs": [],
   "source": [
    "class BookPrinterV1a {\n",
    "    constructor(private readonly book: BookV1) {}\n",
    "\n",
    "    print(): void {\n",
    "        // Lots of code that handles the printer\n",
    "        console.log(`Printing ${this.book.title} to printer.`);\n",
    "    }\n",
    "}"
   ]
  },
  {
   "cell_type": "code",
   "execution_count": null,
   "id": "3924f9c215fb601e",
   "metadata": {
    "slideshow": {
     "slide_type": "subslide"
    },
    "tags": [
     "keep",
     "subslide"
    ]
   },
   "outputs": [],
   "source": [
    "class BookDatabaseV1a {\n",
    "    constructor(private readonly book: BookV1) {}\n",
    "\n",
    "    save(): void {\n",
    "        // Lots of code that handles the database\n",
    "        console.log(`Saving ${this.book.title} to database.`);\n",
    "    }\n",
    "}"
   ]
  },
  {
   "cell_type": "code",
   "execution_count": null,
   "id": "8f34fb281288c215",
   "metadata": {
    "slideshow": {
     "slide_type": "subslide"
    },
    "tags": [
     "subslide",
     "keep"
    ]
   },
   "outputs": [],
   "source": [
    "const bookV1 = new BookV1(\"Clean Code\", \"Robert C. Martin\", 464);"
   ]
  },
  {
   "cell_type": "code",
   "execution_count": null,
   "id": "ab86e43a2c35fe7f",
   "metadata": {
    "tags": [
     "keep"
    ]
   },
   "outputs": [],
   "source": [
    "const bookPrinterV1a = new BookPrinterV1a(bookV1);"
   ]
  },
  {
   "cell_type": "code",
   "execution_count": null,
   "id": "fd90ca747fc9fb6f",
   "metadata": {},
   "outputs": [],
   "source": []
  },
  {
   "cell_type": "code",
   "execution_count": null,
   "id": "78aa0b02bfa9d0b8",
   "metadata": {
    "tags": [
     "keep"
    ]
   },
   "outputs": [],
   "source": [
    "const bookDatabaseV1a = new BookDatabaseV1a(bookV1);"
   ]
  },
  {
   "cell_type": "code",
   "execution_count": null,
   "id": "0d1a746adacfaf66",
   "metadata": {},
   "outputs": [],
   "source": []
  },
  {
   "cell_type": "markdown",
   "id": "a577e5f8c478252f",
   "metadata": {
    "lang": "de",
    "slideshow": {
     "slide_type": "subslide"
    },
    "tags": [
     "subslide"
    ]
   },
   "source": [
    "\n",
    "## Auflösung der SRP-Verletzung (Version 1a mit Fassade)\n",
    "\n",
    "<img src=\"img/book_resolution_1a_srp_facade.png\"\n",
    "     style=\"display:block;margin:auto;width:50%\"/>"
   ]
  },
  {
   "cell_type": "code",
   "execution_count": null,
   "id": "88ca084a111f3cac",
   "metadata": {
    "slideshow": {
     "slide_type": "subslide"
    },
    "tags": [
     "keep",
     "subslide"
    ]
   },
   "outputs": [],
   "source": [
    "class BookPrinterFacadeV1a {\n",
    "    constructor(book: BookV1) {\n",
    "        this.bookPrinter = new BookPrinterV1a(book);\n",
    "        this.bookDatabase = new BookDatabaseV1a(book);\n",
    "    }\n",
    "\n",
    "    print(): void {\n",
    "        this.bookPrinter.print();\n",
    "    }\n",
    "\n",
    "    save(): void {\n",
    "        this.bookDatabase.save();\n",
    "    }\n",
    "\n",
    "    private readonly bookPrinter: BookPrinterV1a;\n",
    "    private readonly bookDatabase: BookDatabaseV1a;\n",
    "}"
   ]
  },
  {
   "cell_type": "code",
   "execution_count": null,
   "id": "24f983344d25aa38",
   "metadata": {
    "slideshow": {
     "slide_type": "subslide"
    },
    "tags": [
     "subslide",
     "keep"
    ]
   },
   "outputs": [],
   "source": [
    "const bookPrinterFacadeV1a = new BookPrinterFacadeV1a(bookV1);"
   ]
  },
  {
   "cell_type": "code",
   "execution_count": null,
   "id": "156e26fb6654180c",
   "metadata": {},
   "outputs": [],
   "source": []
  },
  {
   "cell_type": "code",
   "execution_count": null,
   "id": "28bf03184720cf5f",
   "metadata": {},
   "outputs": [],
   "source": []
  },
  {
   "cell_type": "markdown",
   "id": "8156e0140de8f29f",
   "metadata": {
    "lang": "de",
    "slideshow": {
     "slide_type": "subslide"
    },
    "tags": [
     "subslide"
    ]
   },
   "source": [
    "\n",
    "## Auflösung der SRP-Verletzung (Version 1b)\n",
    "\n",
    "<img src=\"img/book_resolution_1_srp.png\"\n",
    "     style=\"display:block;margin:auto;width:50%\"/>"
   ]
  },
  {
   "cell_type": "code",
   "execution_count": null,
   "id": "0c3f124280023ceb",
   "metadata": {
    "slideshow": {
     "slide_type": "subslide"
    },
    "tags": [
     "keep",
     "subslide"
    ]
   },
   "outputs": [],
   "source": [
    "class BookPrinterV1b {\n",
    "    print(book: BookV1): void {\n",
    "        // Lots of code that handles the printer\n",
    "        console.log(`Printing ${book.title} to printer.`);\n",
    "    }\n",
    "}"
   ]
  },
  {
   "cell_type": "code",
   "execution_count": null,
   "id": "40ef2d421b047d48",
   "metadata": {
    "tags": [
     "keep"
    ]
   },
   "outputs": [],
   "source": [
    "class BookDatabaseV1b {\n",
    "    save(book: BookV1): void {\n",
    "        // Lots of code that handles the database\n",
    "        console.log(`Saving ${book.title} to database.`);\n",
    "    }\n",
    "}"
   ]
  },
  {
   "cell_type": "code",
   "execution_count": null,
   "id": "c4073238a47da705",
   "metadata": {
    "slideshow": {
     "slide_type": "subslide"
    },
    "tags": [
     "subslide",
     "keep"
    ]
   },
   "outputs": [],
   "source": [
    "const bookV1 = new BookV1(\"Clean Code\", \"Robert C. Martin\", 464);"
   ]
  },
  {
   "cell_type": "code",
   "execution_count": null,
   "id": "9e11d6642b21c371",
   "metadata": {
    "tags": [
     "keep"
    ]
   },
   "outputs": [],
   "source": [
    "const bookPrinterV1b = new BookPrinterV1b();"
   ]
  },
  {
   "cell_type": "code",
   "execution_count": null,
   "id": "1ddfc4b32f17bd28",
   "metadata": {},
   "outputs": [],
   "source": []
  },
  {
   "cell_type": "code",
   "execution_count": null,
   "id": "e508b7dcca37976c",
   "metadata": {
    "tags": [
     "keep"
    ]
   },
   "outputs": [],
   "source": [
    "const bookDatabaseV1b = new BookDatabaseV1b();"
   ]
  },
  {
   "cell_type": "code",
   "execution_count": null,
   "id": "f6dbeb4f4d651c20",
   "metadata": {},
   "outputs": [],
   "source": []
  },
  {
   "cell_type": "markdown",
   "id": "ed2c69f88b0d9f0d",
   "metadata": {
    "lang": "de",
    "slideshow": {
     "slide_type": "subslide"
    },
    "tags": [
     "subslide"
    ]
   },
   "source": [
    "\n",
    "## Auflösung der SRP-Verletzung (Version 1b mit Fassade)\n",
    "\n",
    "<img src=\"img/book_resolution_1_srp_facade.png\"\n",
    "     style=\"display:block;margin:auto;width:50%\"/>"
   ]
  },
  {
   "cell_type": "code",
   "execution_count": null,
   "id": "390f3d553661cd6c",
   "metadata": {
    "slideshow": {
     "slide_type": "subslide"
    },
    "tags": [
     "subslide",
     "keep"
    ]
   },
   "outputs": [],
   "source": [
    "class BookFacadeV1b {\n",
    "    private readonly book: BookV1;\n",
    "    private readonly bookPrinter: BookPrinterV1b;\n",
    "    private readonly bookDatabase: BookDatabaseV1b;\n",
    "\n",
    "    constructor(book: BookV1) {\n",
    "        this.book = book;\n",
    "        this.bookPrinter = new BookPrinterV1b();\n",
    "        this.bookDatabase = new BookDatabaseV1b();\n",
    "    }\n",
    "\n",
    "    print(): void {\n",
    "        this.bookPrinter.print(this.book);\n",
    "    }\n",
    "\n",
    "    save(): void {\n",
    "        this.bookDatabase.save(this.book);\n",
    "    }\n",
    "}"
   ]
  },
  {
   "cell_type": "code",
   "execution_count": null,
   "id": "bbf5e52e19795a47",
   "metadata": {
    "slideshow": {
     "slide_type": "subslide"
    },
    "tags": [
     "subslide",
     "keep"
    ]
   },
   "outputs": [],
   "source": [
    "const bookFacadeV1 = new BookFacadeV1b(bookV1);"
   ]
  },
  {
   "cell_type": "code",
   "execution_count": null,
   "id": "7f1dc3955b40347c",
   "metadata": {},
   "outputs": [],
   "source": []
  },
  {
   "cell_type": "code",
   "execution_count": null,
   "id": "053bf83b339f7dcc",
   "metadata": {},
   "outputs": [],
   "source": []
  },
  {
   "cell_type": "markdown",
   "id": "e80bd7467cd6753d",
   "metadata": {
    "lang": "de",
    "slideshow": {
     "slide_type": "subslide"
    },
    "tags": [
     "subslide"
    ]
   },
   "source": [
    "\n",
    "## Auflösung der SRP-Verletzung (Version 1c)"
   ]
  },
  {
   "cell_type": "code",
   "execution_count": null,
   "id": "4e391cfb15cbc15d",
   "metadata": {
    "tags": [
     "keep"
    ]
   },
   "outputs": [],
   "source": [
    "class BookPrinterV1c {\n",
    "    static print(book: BookV1): void {\n",
    "        // Lots of code that handles the printer\n",
    "        console.log(`Printing ${book.title} to printer.`);\n",
    "    }\n",
    "}"
   ]
  },
  {
   "cell_type": "code",
   "execution_count": null,
   "id": "b4ea25fa0f8924ff",
   "metadata": {
    "tags": [
     "keep"
    ]
   },
   "outputs": [],
   "source": [
    "class BookDatabaseV1c {\n",
    "    static save(book: BookV1): void {\n",
    "        // Lots of code that handles the database\n",
    "        console.log(`Saving ${book.title} to database.`);\n",
    "    }\n",
    "}"
   ]
  },
  {
   "cell_type": "code",
   "execution_count": null,
   "id": "a1c8420d25caa656",
   "metadata": {
    "slideshow": {
     "slide_type": "subslide"
    },
    "tags": [
     "subslide",
     "keep"
    ]
   },
   "outputs": [],
   "source": [
    "const bookV1 = new BookV1(\"Clean Code\", \"Robert C. Martin\", 464);"
   ]
  },
  {
   "cell_type": "code",
   "execution_count": null,
   "id": "4e4a4374ef141d20",
   "metadata": {},
   "outputs": [],
   "source": []
  },
  {
   "cell_type": "code",
   "execution_count": null,
   "id": "338842ac76baf0db",
   "metadata": {},
   "outputs": [],
   "source": []
  },
  {
   "cell_type": "markdown",
   "id": "97b686d3472bee96",
   "metadata": {
    "lang": "de",
    "slideshow": {
     "slide_type": "subslide"
    },
    "tags": [
     "subslide"
    ]
   },
   "source": [
    "\n",
    "## Auflösung der SRP-Verletzung (Version 2)\n",
    "\n",
    "<img src=\"img/book_resolution_2_srp.png\"\n",
    "     style=\"display:block;margin:auto;width:60%\"/>"
   ]
  },
  {
   "cell_type": "code",
   "execution_count": null,
   "id": "6210c87ce2e1a537",
   "metadata": {
    "slideshow": {
     "slide_type": "subslide"
    },
    "tags": [
     "keep",
     "subslide"
    ]
   },
   "outputs": [],
   "source": [
    "interface IBook {\n",
    "    get title(): string;\n",
    "}"
   ]
  },
  {
   "cell_type": "code",
   "execution_count": null,
   "id": "156f30e6f96ba120",
   "metadata": {
    "tags": [
     "keep"
    ]
   },
   "outputs": [],
   "source": [
    "class BookPrinterV2 {\n",
    "    print(book: IBook): void {\n",
    "        // Lots of code that handles the printer\n",
    "        console.log(`Printing ${book.title} to printer.`);\n",
    "    }\n",
    "}"
   ]
  },
  {
   "cell_type": "code",
   "execution_count": null,
   "id": "c49ed4fb9ed18270",
   "metadata": {
    "tags": [
     "keep"
    ]
   },
   "outputs": [],
   "source": [
    "class BookDatabaseV2 {\n",
    "    save(book: IBook): void {\n",
    "        // Lots of code that handles the database\n",
    "        console.log(`Saving ${book.title} to database.`);\n",
    "    }\n",
    "}"
   ]
  },
  {
   "cell_type": "code",
   "execution_count": null,
   "id": "ce14d14007efce26",
   "metadata": {
    "slideshow": {
     "slide_type": "subslide"
    },
    "tags": [
     "keep",
     "subslide"
    ]
   },
   "outputs": [],
   "source": [
    "class BookV2 implements IBook {\n",
    "    constructor(\n",
    "        readonly title: string,\n",
    "        readonly author: string,\n",
    "        readonly pages: number) {}\n",
    "\n",
    "\n",
    "    print(): void {\n",
    "        this.bookPrinter.print(this);\n",
    "    }\n",
    "\n",
    "    save(): void {\n",
    "        this.bookDatabase.save(this);\n",
    "    }\n",
    "\n",
    "    private readonly bookPrinter = new BookPrinterV2();\n",
    "    private readonly bookDatabase = new BookDatabaseV2();\n",
    "}"
   ]
  },
  {
   "cell_type": "code",
   "execution_count": null,
   "id": "9e3ac9de816f62f2",
   "metadata": {
    "slideshow": {
     "slide_type": "subslide"
    },
    "tags": [
     "subslide",
     "keep"
    ]
   },
   "outputs": [],
   "source": [
    "const bookV2 = new BookV2(\"Clean Code\", \"Robert C. Martin\", 464);"
   ]
  },
  {
   "cell_type": "code",
   "execution_count": null,
   "id": "6149899725aea81f",
   "metadata": {},
   "outputs": [],
   "source": []
  },
  {
   "cell_type": "code",
   "execution_count": null,
   "id": "6a7f2e0c0ed730d1",
   "metadata": {},
   "outputs": [],
   "source": []
  },
  {
   "cell_type": "markdown",
   "id": "17ea7114ee3b6e69",
   "metadata": {
    "lang": "de",
    "slideshow": {
     "slide_type": "subslide"
    },
    "tags": [
     "subslide"
    ]
   },
   "source": [
    "\n",
    "## Vergleich\n",
    "\n",
    "<div>\n",
    "<img src=\"img/book_resolution_1a_srp.png\"\n",
    "     style=\"float:left;padding:5px;width:40%\"/>\n",
    "<img src=\"img/book_resolution_2_srp.png\"\n",
    "     style=\"float:right;padding:5px;width:50%\"/>\n",
    "</div>"
   ]
  },
  {
   "cell_type": "markdown",
   "id": "f9d7d78e37ecb4b1",
   "metadata": {
    "lang": "de",
    "slideshow": {
     "slide_type": "subslide"
    },
    "tags": [
     "subslide"
    ]
   },
   "source": [
    "\n",
    "## Workshop: Wetter-App\n",
    "\n",
    "Sie arbeiten an einer vielseitigen Wetteranwendung namens WeatherWise. Die\n",
    "WeatherWise App bietet ihren Benutzern aktuelle Wetterinformationen aus\n",
    "verschiedenen Online-Plattformen. Über die Anzeige der aktuellen Bedingungen\n",
    "hinaus ermöglicht die App den Benutzern, die Vorhersage in verschiedenen\n",
    "visuellen Formaten anzuzeigen, und sie protokolliert Fehler für alle Probleme\n",
    "während des Datenabrufs oder der Analyse.\n",
    "\n",
    "Während WeatherWise für seine Funktionen gut ankommt, sieht sich das\n",
    "Entwicklungsteam mit Herausforderungen bei der Wartung und Erweiterung der\n",
    "Anwendung konfrontiert. Die Entwickler haben festgestellt, dass die\n",
    "Kernklasse, `Weather`, zunehmend komplex wird. Sie behandelt alles von der\n",
    "Datenbeschaffung bis zur Datendarstellung. Diese Komplexität erschwert die\n",
    "Einführung neuer Funktionen, ohne dass dabei die Gefahr besteht, Fehler\n",
    "einzuführen.\n",
    "\n",
    "Ihre Aufgabe: Refaktorisieren Sie die Klasse `Weather`, indem Sie\n",
    "sicherstellen, dass jede Klasse im System dem Single Responsibility Principle\n",
    "entspricht."
   ]
  },
  {
   "cell_type": "markdown",
   "id": "2f150c9892faf5bb",
   "metadata": {
    "lang": "de",
    "slideshow": {
     "slide_type": "subslide"
    },
    "tags": [
     "subslide"
    ]
   },
   "source": [
    "\n",
    "### Klassendiagramm der Wetter-App\n",
    "\n",
    "<img src=\"img/weather_app_class.png\"\n",
    "     style=\"display:block;margin:auto;width:40%\"/>"
   ]
  },
  {
   "cell_type": "markdown",
   "id": "715f3c3429f6b9ba",
   "metadata": {
    "lang": "de",
    "slideshow": {
     "slide_type": "subslide"
    },
    "tags": [
     "subslide"
    ]
   },
   "source": [
    "\n",
    "### RunWeatherApp() Sequenzdiagramm\n",
    "\n",
    "<img src=\"img/weather_app_sequence.png\"\n",
    "     style=\"display:block;margin:auto;width:40%\"/>"
   ]
  },
  {
   "cell_type": "code",
   "execution_count": null,
   "id": "3cf50eb0b969f970",
   "metadata": {
    "slideshow": {
     "slide_type": "subslide"
    },
    "tags": [
     "keep",
     "subslide"
    ]
   },
   "outputs": [],
   "source": [
    "class Weather {\n",
    "    fetchDataFromSource(): void {\n",
    "        // Simulating fetching data from some source\n",
    "        this.rawData = \"Sunny, 25°C\";\n",
    "        console.log(\"Data fetched from source.\");\n",
    "    }\n",
    "\n",
    "    parseData(): void {\n",
    "        // Simulate data parsing\n",
    "        if (!this.rawData) {\n",
    "            this.logError(\"No data available\");\n",
    "            return;\n",
    "        }\n",
    "        this.data = [10.0, 12.0, 8.0, 15.0, 20.0, 22.0, 25.0];\n",
    "        console.log(\"Data parsed: \" + this.formatData());\n",
    "    }\n",
    "\n",
    "    displayInFormatA(): void {\n",
    "        // Simulating one display format\n",
    "        if (this.data.length === 0) {\n",
    "            this.logError(\"No data available\");\n",
    "            return;\n",
    "        }\n",
    "        console.log(\"Format A: \" + this.formatData());\n",
    "    }\n",
    "\n",
    "    displayInFormatB(): void {\n",
    "        // Simulating another display format\n",
    "        if (this.data.length === 0) {\n",
    "            this.logError(\"No data available\");\n",
    "            return;\n",
    "        }\n",
    "        console.log(\"Format B: === \" + this.formatData() + \" ===\");\n",
    "    }\n",
    "\n",
    "    logError(errorMsg: string): void {\n",
    "        // Simulating error logging\n",
    "        console.log(\"Error: \" + errorMsg);\n",
    "    }\n",
    "\n",
    "    private formatData(): string {\n",
    "        return this.data.join(\", \");\n",
    "    }\n",
    "\n",
    "    private rawData: string = \"\";\n",
    "    private data: number[] = [];\n",
    "}"
   ]
  },
  {
   "cell_type": "code",
   "execution_count": null,
   "id": "e78b572b0e7218a4",
   "metadata": {
    "slideshow": {
     "slide_type": "subslide"
    },
    "tags": [
     "keep",
     "subslide"
    ]
   },
   "outputs": [],
   "source": [
    "function runWeatherApp(introduceError: boolean) {\n",
    "    const w = new Weather();\n",
    "    w.fetchDataFromSource();\n",
    "    if (!introduceError) {\n",
    "        w.parseData();\n",
    "    }\n",
    "    w.displayInFormatA();\n",
    "    w.displayInFormatB();\n",
    "}"
   ]
  },
  {
   "cell_type": "code",
   "execution_count": null,
   "id": "7bce1f97c3a04c78",
   "metadata": {
    "slideshow": {
     "slide_type": "subslide"
    },
    "tags": [
     "keep",
     "subslide"
    ]
   },
   "outputs": [],
   "source": [
    "runWeatherApp(false);"
   ]
  },
  {
   "cell_type": "code",
   "execution_count": null,
   "id": "7bfcefc60f9eb190",
   "metadata": {
    "tags": [
     "keep"
    ]
   },
   "outputs": [],
   "source": [
    "runWeatherApp(true);"
   ]
  }
 ],
 "metadata": {
  "jupytext": {
   "cell_metadata_filter": "lang,tags,-all",
   "encoding": "// -*- coding: utf-8 -*-",
   "main_language": "typescript",
   "notebook_metadata_filter": "-all"
  },
  "kernelspec": {
   "display_name": "Deno",
   "language": "typescript",
   "name": "deno"
  },
  "language_info": {
   "codemirror_mode": "typescript",
   "file_extension": ".ts",
   "mimetype": "text/x.typescript",
   "name": "typescript",
   "pygments_lexer": "typescript",
   "version": "5.6.2"
  }
 },
 "nbformat": 4,
 "nbformat_minor": 5
}
