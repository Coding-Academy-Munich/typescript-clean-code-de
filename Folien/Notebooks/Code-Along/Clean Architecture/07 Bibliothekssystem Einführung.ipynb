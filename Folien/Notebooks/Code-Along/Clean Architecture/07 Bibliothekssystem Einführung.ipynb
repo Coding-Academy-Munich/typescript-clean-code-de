{
 "cells": [
  {
   "cell_type": "markdown",
   "id": "8d7f0da2d97504e5",
   "metadata": {
    "lang": "de",
    "slideshow": {
     "slide_type": "slide"
    },
    "tags": [
     "slide"
    ]
   },
   "source": [
    "\n",
    "<img src=\"data:image/svg+xml;base64,PHN2ZyBmaWxsPSJub25lIiBoZWlnaHQ9IjUxMiIgdmlld0JveD0iMCAwIDUxMiA1MTIiIHdpZHRo\n",
    "PSI1MTIiIHhtbG5zPSJodHRwOi8vd3d3LnczLm9yZy8yMDAwL3N2ZyI+PHJlY3QgZmlsbD0iIzMx\n",
    "NzhjNiIgaGVpZ2h0PSI1MTIiIHJ4PSI1MCIgd2lkdGg9IjUxMiIvPjxyZWN0IGZpbGw9IiMzMTc4\n",
    "YzYiIGhlaWdodD0iNTEyIiByeD0iNTAiIHdpZHRoPSI1MTIiLz48cGF0aCBjbGlwLXJ1bGU9ImV2\n",
    "ZW5vZGQiIGQ9Im0zMTYuOTM5IDQwNy40MjR2NTAuMDYxYzguMTM4IDQuMTcyIDE3Ljc2MyA3LjMg\n",
    "MjguODc1IDkuMzg2czIyLjgyMyAzLjEyOSAzNS4xMzUgMy4xMjljMTEuOTk5IDAgMjMuMzk3LTEu\n",
    "MTQ3IDM0LjE5Ni0zLjQ0MiAxMC43OTktMi4yOTQgMjAuMjY4LTYuMDc1IDI4LjQwNi0xMS4zNDIg\n",
    "OC4xMzgtNS4yNjYgMTQuNTgxLTEyLjE1IDE5LjMyOC0yMC42NXM3LjEyMS0xOS4wMDcgNy4xMjEt\n",
    "MzEuNTIyYzAtOS4wNzQtMS4zNTYtMTcuMDI2LTQuMDY5LTIzLjg1N3MtNi42MjUtMTIuOTA2LTEx\n",
    "LjczOC0xOC4yMjVjLTUuMTEyLTUuMzE5LTExLjI0Mi0xMC4wOTEtMTguMzg5LTE0LjMxNXMtMTUu\n",
    "MjA3LTguMjEzLTI0LjE4LTExLjk2N2MtNi41NzMtMi43MTItMTIuNDY4LTUuMzQ1LTE3LjY4NS03\n",
    "LjktNS4yMTctMi41NTYtOS42NTEtNS4xNjMtMTMuMzAzLTcuODIyLTMuNjUyLTIuNjYtNi40Njkt\n",
    "NS40NzYtOC40NTEtOC40NDgtMS45ODItMi45NzMtMi45NzQtNi4zMzYtMi45NzQtMTAuMDkxIDAt\n",
    "My40NDEuODg3LTYuNTQ0IDIuNjYxLTkuMzA4czQuMjc4LTUuMTM2IDcuNTEyLTcuMTE4YzMuMjM1\n",
    "LTEuOTgxIDcuMTk5LTMuNTIgMTEuODk0LTQuNjE1IDQuNjk2LTEuMDk1IDkuOTEyLTEuNjQyIDE1\n",
    "LjY1MS0xLjY0MiA0LjE3MyAwIDguNTgxLjMxMyAxMy4yMjQuOTM4IDQuNjQzLjYyNiA5LjMxMiAx\n",
    "LjU5MSAxNC4wMDggMi44OTQgNC42OTUgMS4zMDQgOS4yNTkgMi45NDcgMTMuNjk0IDQuOTI4IDQu\n",
    "NDM0IDEuOTgyIDguNTI5IDQuMjc2IDEyLjI4NSA2Ljg4NHYtNDYuNzc2Yy03LjYxNi0yLjkyLTE1\n",
    "LjkzNy01LjA4NC0yNC45NjItNi40OTJzLTE5LjM4MS0yLjExMi0zMS4wNjYtMi4xMTJjLTExLjg5\n",
    "NSAwLTIzLjE2MyAxLjI3OC0zMy44MDUgMy44MzNzLTIwLjAwNiA2LjU0NC0yOC4wOTMgMTEuOTY3\n",
    "Yy04LjA4NiA1LjQyNC0xNC40NzYgMTIuMzMzLTE5LjE3MSAyMC43MjktNC42OTUgOC4zOTUtNy4w\n",
    "NDMgMTguNDMzLTcuMDQzIDMwLjExNCAwIDE0LjkxNCA0LjMwNCAyNy42MzggMTIuOTEyIDM4LjE3\n",
    "MiA4LjYwNyAxMC41MzMgMjEuNjc1IDE5LjQ1IDM5LjIwNCAyNi43NTEgNi44ODYgMi44MTYgMTMu\n",
    "MzAzIDUuNTc5IDE5LjI1IDguMjkxczExLjA4NiA1LjUyOCAxNS40MTUgOC40NDhjNC4zMyAyLjky\n",
    "IDcuNzQ3IDYuMTAxIDEwLjI1MiA5LjU0MyAyLjUwNCAzLjQ0MSAzLjc1NiA3LjM1MiAzLjc1NiAx\n",
    "MS43MzMgMCAzLjIzMy0uNzgzIDYuMjMxLTIuMzQ4IDguOTk1cy0zLjkzOSA1LjE2Mi03LjEyMSA3\n",
    "LjE5Ni03LjE0NyAzLjYyNC0xMS44OTQgNC43NzFjLTQuNzQ4IDEuMTQ4LTEwLjMwMyAxLjcyMS0x\n",
    "Ni42NjggMS43MjEtMTAuODUxIDAtMjEuNTk3LTEuOTAzLTMyLjI0LTUuNzEtMTAuNjQyLTMuODA2\n",
    "LTIwLjUwMi05LjUxNi0yOS41NzktMTcuMTN6bS04NC4xNTktMTIzLjM0Mmg2NC4yMnYtNDEuMDgy\n",
    "aC0xNzl2NDEuMDgyaDYzLjkwNnYxODIuOTE4aDUwLjg3NHoiIGZpbGw9IiNmZmYiIGZpbGwtcnVs\n",
    "ZT0iZXZlbm9kZCIvPjwvc3ZnPg==\n",
    "\"\n",
    "     alt=\"TypeScript Logo\" style=\"display:block;margin:auto;width:5%\"/>\n",
    "<br>\n",
    "\n",
    "<div style=\"text-align:center; font-size:200%;\">\n",
    "  <b>Bibliothekssystem: Einführung</b>\n",
    "</div>\n",
    "<br/>\n",
    "<div style=\"text-align:center; font-size:120%;\">Dr. Matthias Hölzl</div>\n",
    "<br/>\n",
    "<div style=\"text-align:center;\">Coding-Akademie München</div>\n",
    "<br/>"
   ]
  },
  {
   "cell_type": "markdown",
   "id": "e5b95063adc10b4e",
   "metadata": {
    "lang": "de",
    "slideshow": {
     "slide_type": "subslide"
    },
    "tags": [
     "subslide"
    ]
   },
   "source": [
    "\n",
    "# Bibliotheks-Verwaltungssystem\n",
    "\n",
    "- System zur Verwaltung von Benutzern und Medienbestand in Bibliotheken\n",
    "- Sowohl für Bibliothekare als auch Benutzer\n",
    "- Aktivitäten: Registrierung, Suche, Ausleihe, Rückgabe, Strafzahlungen\n",
    "- Suche von Medien in anderen Bibliotheken und Online-Repositories\n",
    "- Empfehlungen für Benutzer\n",
    "- Verschiedene Oberflächen (Web, App, Terminal)"
   ]
  },
  {
   "cell_type": "markdown",
   "id": "aa88a7e7fc4986b5",
   "metadata": {
    "lang": "de",
    "slideshow": {
     "slide_type": "subslide"
    },
    "tags": [
     "subslide"
    ]
   },
   "source": [
    "\n",
    "- Wie könnte das Domänenmodell für ein solches System aussehen?\n",
    "- Welche Konzepte gibt es?\n",
    "- Welche Use-Cases/Anwendungsfälle gibt es?"
   ]
  },
  {
   "cell_type": "markdown",
   "id": "1e5ae98ccaf6610d",
   "metadata": {
    "lang": "de",
    "slideshow": {
     "slide_type": "subslide"
    },
    "tags": [
     "subslide"
    ]
   },
   "source": [
    "\n",
    "## Domänenmodell: Konzepte\n",
    "\n",
    "- Medien\n",
    "  - Bücher, Videos, Musik, ...\n",
    "  - Unterschiedliche Metadaten für verschiedene Medien\n",
    "- Benutzer\n",
    "  - Mitglieder, Besucher\n",
    "  - verschiedene Typen von Mitgliedern: Kinder, Studenten, Senioren, ...\n",
    "  - Unterschiedliche Privilegien\n",
    "  - Aktivitäten: Ausleihen von Medien, Rückgabe, Suche, Strafzahlungen\n",
    "- Bibliothekare\n",
    "  - Verwalten von Benutzern und Medien\n",
    "  - Aktivitäten: Registrierung, Suche, Ausleihe, Rückgabe, Strafzahlungen"
   ]
  },
  {
   "cell_type": "markdown",
   "id": "4ad5b882be870b35",
   "metadata": {
    "lang": "de",
    "slideshow": {
     "slide_type": "subslide"
    },
    "tags": [
     "subslide"
    ]
   },
   "source": [
    "\n",
    "## Aktivitäten (Bibliothekar)\n",
    "\n",
    "- Verwalten von Mitgliedern (Registrierung, Löschen, Suche, Modifikation,\n",
    "  ...)\n",
    "- Verwaltung von Medien (Hinzufügen, Löschen, Suche, Modifikation ...)\n",
    "- Ausleihen und Rückgabe von Medien\n",
    "- Veranlassen von Erinnerungen, Strafzahlungen\n",
    "- Anzeige bisheriger Aktivitäten (Hinzufügen, Ausleihen, ...) für alle\n",
    "  Benutzer\n",
    "- Anzeige von Aktivitäten für alle Medien"
   ]
  },
  {
   "cell_type": "markdown",
   "id": "f8a74c7bcbd70588",
   "metadata": {
    "lang": "de",
    "slideshow": {
     "slide_type": "subslide"
    },
    "tags": [
     "subslide"
    ]
   },
   "source": [
    "\n",
    "## Aktivitäten (Benutzer)\n",
    "\n",
    "- Registrierung, Abmeldung, Mitteilung von Adressänderungen\n",
    "- Suche nach Medien\n",
    "- Ausleihen und Rückgabe von Medien (Benutzer-Seite)\n",
    "- Anzeige der bisherigen Aktivitäten (Ausleihen, Rückgaben, Strafzahlungen)\n",
    "  für den Benutzer"
   ]
  },
  {
   "cell_type": "markdown",
   "id": "f8a63103e5510c6d",
   "metadata": {
    "lang": "de",
    "slideshow": {
     "slide_type": "subslide"
    },
    "tags": [
     "subslide"
    ]
   },
   "source": [
    "\n",
    "## Workshop: Bibliotheks-Verwaltungssystem (Teil 1)\n",
    "\n",
    "- Entwickeln Sie ein erstes Domänenmodell für das Bibliotheks-Verwaltungssystem\n",
    "  - Sie können z.B. ein Klassendiagramm verwenden oder einfach nur eine Liste\n",
    "    von Klassen und Attributen\n",
    "- Welche Klassen in Ihrem Domänenmodell haben Assoziationen zu\n",
    "  - Mitgliedern?\n",
    "  - Büchern?"
   ]
  },
  {
   "cell_type": "markdown",
   "id": "ec7a1eddabbe49aa",
   "metadata": {
    "lang": "de",
    "slideshow": {
     "slide_type": "subslide"
    },
    "tags": [
     "subslide"
    ]
   },
   "source": [
    "\n",
    "- Verwenden Sie das Creator Pattern um zu entscheiden, welche Klasse die\n",
    "  Verantwortung für das Erstellen von Mitgliedern und welche die Verantwortung\n",
    "  für das Erstellen von Büchern hat\n",
    "- Verwenden Sie das Information Expert Pattern um zu entscheiden, welche Klasse\n",
    "  die Verantwortung für das Suchen von Mitgliedern und welche die Verantwortung\n",
    "  für das Suchen von Büchern hat\n",
    "- Implementieren Sie diesen Teil des Domänenmodells in TypeScript\n",
    "- Versuchen Sie dabei das Prinzip der niedrigen Repräsentationslücke anzuwenden"
   ]
  },
  {
   "cell_type": "code",
   "execution_count": null,
   "id": "ea9c3c9dbc4b530c",
   "metadata": {
    "slideshow": {
     "slide_type": "subslide"
    },
    "tags": [
     "subslide"
    ]
   },
   "outputs": [],
   "source": []
  },
  {
   "cell_type": "code",
   "execution_count": null,
   "id": "6b4e03423667dbb7",
   "metadata": {},
   "outputs": [],
   "source": []
  }
 ],
 "metadata": {
  "jupytext": {
   "cell_metadata_filter": "lang,tags,-all",
   "encoding": "// -*- coding: utf-8 -*-",
   "main_language": "typescript",
   "notebook_metadata_filter": "-all"
  },
  "kernelspec": {
   "display_name": "Deno",
   "language": "typescript",
   "name": "deno"
  },
  "language_info": {
   "codemirror_mode": "typescript",
   "file_extension": ".ts",
   "mimetype": "text/x.typescript",
   "name": "typescript",
   "pygments_lexer": "typescript",
   "version": "5.6.2"
  }
 },
 "nbformat": 4,
 "nbformat_minor": 5
}
