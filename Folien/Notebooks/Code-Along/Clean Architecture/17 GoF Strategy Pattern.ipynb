{
 "cells": [
  {
   "cell_type": "markdown",
   "id": "b378e1b2bf248f13",
   "metadata": {
    "lang": "de",
    "slideshow": {
     "slide_type": "slide"
    },
    "tags": [
     "slide"
    ]
   },
   "source": [
    "\n",
    "<img src=\"data:image/svg+xml;base64,PHN2ZyBmaWxsPSJub25lIiBoZWlnaHQ9IjUxMiIgdmlld0JveD0iMCAwIDUxMiA1MTIiIHdpZHRo\n",
    "PSI1MTIiIHhtbG5zPSJodHRwOi8vd3d3LnczLm9yZy8yMDAwL3N2ZyI+PHJlY3QgZmlsbD0iIzMx\n",
    "NzhjNiIgaGVpZ2h0PSI1MTIiIHJ4PSI1MCIgd2lkdGg9IjUxMiIvPjxyZWN0IGZpbGw9IiMzMTc4\n",
    "YzYiIGhlaWdodD0iNTEyIiByeD0iNTAiIHdpZHRoPSI1MTIiLz48cGF0aCBjbGlwLXJ1bGU9ImV2\n",
    "ZW5vZGQiIGQ9Im0zMTYuOTM5IDQwNy40MjR2NTAuMDYxYzguMTM4IDQuMTcyIDE3Ljc2MyA3LjMg\n",
    "MjguODc1IDkuMzg2czIyLjgyMyAzLjEyOSAzNS4xMzUgMy4xMjljMTEuOTk5IDAgMjMuMzk3LTEu\n",
    "MTQ3IDM0LjE5Ni0zLjQ0MiAxMC43OTktMi4yOTQgMjAuMjY4LTYuMDc1IDI4LjQwNi0xMS4zNDIg\n",
    "OC4xMzgtNS4yNjYgMTQuNTgxLTEyLjE1IDE5LjMyOC0yMC42NXM3LjEyMS0xOS4wMDcgNy4xMjEt\n",
    "MzEuNTIyYzAtOS4wNzQtMS4zNTYtMTcuMDI2LTQuMDY5LTIzLjg1N3MtNi42MjUtMTIuOTA2LTEx\n",
    "LjczOC0xOC4yMjVjLTUuMTEyLTUuMzE5LTExLjI0Mi0xMC4wOTEtMTguMzg5LTE0LjMxNXMtMTUu\n",
    "MjA3LTguMjEzLTI0LjE4LTExLjk2N2MtNi41NzMtMi43MTItMTIuNDY4LTUuMzQ1LTE3LjY4NS03\n",
    "LjktNS4yMTctMi41NTYtOS42NTEtNS4xNjMtMTMuMzAzLTcuODIyLTMuNjUyLTIuNjYtNi40Njkt\n",
    "NS40NzYtOC40NTEtOC40NDgtMS45ODItMi45NzMtMi45NzQtNi4zMzYtMi45NzQtMTAuMDkxIDAt\n",
    "My40NDEuODg3LTYuNTQ0IDIuNjYxLTkuMzA4czQuMjc4LTUuMTM2IDcuNTEyLTcuMTE4YzMuMjM1\n",
    "LTEuOTgxIDcuMTk5LTMuNTIgMTEuODk0LTQuNjE1IDQuNjk2LTEuMDk1IDkuOTEyLTEuNjQyIDE1\n",
    "LjY1MS0xLjY0MiA0LjE3MyAwIDguNTgxLjMxMyAxMy4yMjQuOTM4IDQuNjQzLjYyNiA5LjMxMiAx\n",
    "LjU5MSAxNC4wMDggMi44OTQgNC42OTUgMS4zMDQgOS4yNTkgMi45NDcgMTMuNjk0IDQuOTI4IDQu\n",
    "NDM0IDEuOTgyIDguNTI5IDQuMjc2IDEyLjI4NSA2Ljg4NHYtNDYuNzc2Yy03LjYxNi0yLjkyLTE1\n",
    "LjkzNy01LjA4NC0yNC45NjItNi40OTJzLTE5LjM4MS0yLjExMi0zMS4wNjYtMi4xMTJjLTExLjg5\n",
    "NSAwLTIzLjE2MyAxLjI3OC0zMy44MDUgMy44MzNzLTIwLjAwNiA2LjU0NC0yOC4wOTMgMTEuOTY3\n",
    "Yy04LjA4NiA1LjQyNC0xNC40NzYgMTIuMzMzLTE5LjE3MSAyMC43MjktNC42OTUgOC4zOTUtNy4w\n",
    "NDMgMTguNDMzLTcuMDQzIDMwLjExNCAwIDE0LjkxNCA0LjMwNCAyNy42MzggMTIuOTEyIDM4LjE3\n",
    "MiA4LjYwNyAxMC41MzMgMjEuNjc1IDE5LjQ1IDM5LjIwNCAyNi43NTEgNi44ODYgMi44MTYgMTMu\n",
    "MzAzIDUuNTc5IDE5LjI1IDguMjkxczExLjA4NiA1LjUyOCAxNS40MTUgOC40NDhjNC4zMyAyLjky\n",
    "IDcuNzQ3IDYuMTAxIDEwLjI1MiA5LjU0MyAyLjUwNCAzLjQ0MSAzLjc1NiA3LjM1MiAzLjc1NiAx\n",
    "MS43MzMgMCAzLjIzMy0uNzgzIDYuMjMxLTIuMzQ4IDguOTk1cy0zLjkzOSA1LjE2Mi03LjEyMSA3\n",
    "LjE5Ni03LjE0NyAzLjYyNC0xMS44OTQgNC43NzFjLTQuNzQ4IDEuMTQ4LTEwLjMwMyAxLjcyMS0x\n",
    "Ni42NjggMS43MjEtMTAuODUxIDAtMjEuNTk3LTEuOTAzLTMyLjI0LTUuNzEtMTAuNjQyLTMuODA2\n",
    "LTIwLjUwMi05LjUxNi0yOS41NzktMTcuMTN6bS04NC4xNTktMTIzLjM0Mmg2NC4yMnYtNDEuMDgy\n",
    "aC0xNzl2NDEuMDgyaDYzLjkwNnYxODIuOTE4aDUwLjg3NHoiIGZpbGw9IiNmZmYiIGZpbGwtcnVs\n",
    "ZT0iZXZlbm9kZCIvPjwvc3ZnPg==\n",
    "\"\n",
    "     alt=\"TypeScript Logo\" style=\"display:block;margin:auto;width:5%\"/>\n",
    "<br>\n",
    "\n",
    "<div style=\"text-align:center; font-size:200%;\">\n",
    "  <b>GoF: Strategy Pattern</b>\n",
    "</div>\n",
    "<br/>\n",
    "<div style=\"text-align:center; font-size:120%;\">Dr. Matthias Hölzl</div>\n",
    "<br/>\n",
    "<div style=\"text-align:center;\">Coding-Akademie München</div>\n",
    "<br/>"
   ]
  },
  {
   "cell_type": "markdown",
   "id": "6d590633c00d3032",
   "metadata": {
    "lang": "de",
    "slideshow": {
     "slide_type": "subslide"
    },
    "tags": [
     "subslide"
    ]
   },
   "source": [
    "\n",
    "### Zweck\n",
    "\n",
    "- Austauschbare Algorithmen / austauschbares Verhalten\n",
    "- Algorithmen unabhängig von Klassen, die sie verwenden"
   ]
  },
  {
   "cell_type": "markdown",
   "id": "0a38cdf05c04ee48",
   "metadata": {
    "lang": "de",
    "slideshow": {
     "slide_type": "subslide"
    },
    "tags": [
     "subslide"
    ]
   },
   "source": [
    "\n",
    "### Auch bekannt als\n",
    "\n",
    "Policy"
   ]
  },
  {
   "cell_type": "markdown",
   "id": "e82bddc0f3c57782",
   "metadata": {
    "lang": "de",
    "slideshow": {
     "slide_type": "slide"
    },
    "tags": [
     "slide"
    ]
   },
   "source": [
    "\n",
    "### Motivation\n",
    "\n",
    "- Wir wollen einen Text in einem Feld mit begrenzter Breite darstellen\n",
    "- Dafür gibt es verschiedene Möglichkeiten:\n",
    "  - Abschneiden nach einer bestimmten Anzahl von Zeichen (mit/ohne Ellipse)\n",
    "  - Umbruch nach einer bestimmten Anzahl von Zeichen\n",
    "    - Umbruch mitten im Wort\n",
    "    - Umbruch bei Leerzeichen (greedy/dynamische Programmierung)"
   ]
  },
  {
   "cell_type": "markdown",
   "id": "db8880fc3454b5df",
   "metadata": {
    "lang": "de",
    "slideshow": {
     "slide_type": "subslide"
    },
    "tags": [
     "subslide"
    ]
   },
   "source": [
    "\n",
    "## Struktur\n",
    "\n",
    "<img src=\"img/pat_strategy.png\"\n",
    "     style=\"display:block;margin:auto;width:80%\"/>"
   ]
  },
  {
   "cell_type": "markdown",
   "id": "cb6aa29f6e2d2487",
   "metadata": {
    "lang": "de",
    "slideshow": {
     "slide_type": "subslide"
    },
    "tags": [
     "subslide"
    ]
   },
   "source": [
    "\n",
    "## Teilnehmer\n",
    "\n",
    "- `Strategy`\n",
    "  - gemeinsames Interface für alle unterstützten Algorithmen\n",
    "- `ConcreteStrategy`\n",
    "  - implementiert den Algorithmus\n",
    "- `Context`\n",
    "  - wird mit einem `ConcreteStrategy`-Objekt konfiguriert\n",
    "  - kennt sein `Strategy`-Objekt\n",
    "  - optional: Interface, das der Strategie Zugriff die Kontext-Daten ermöglicht"
   ]
  },
  {
   "cell_type": "code",
   "execution_count": null,
   "id": "4f2a11088ab185c0",
   "metadata": {
    "slideshow": {
     "slide_type": "subslide"
    },
    "tags": [
     "keep",
     "subslide"
    ]
   },
   "outputs": [],
   "source": [
    "interface Strategy {\n",
    "    algorithmInterface(): number;\n",
    "}"
   ]
  },
  {
   "cell_type": "code",
   "execution_count": null,
   "id": "79856248ddbca72a",
   "metadata": {
    "slideshow": {
     "slide_type": "subslide"
    },
    "tags": [
     "subslide",
     "keep"
    ]
   },
   "outputs": [],
   "source": [
    "class Context {\n",
    "    constructor(public strategy: Strategy) {}\n",
    "\n",
    "    contextInterface(): number {\n",
    "        return this.strategy.algorithmInterface();\n",
    "    }\n",
    "}"
   ]
  },
  {
   "cell_type": "code",
   "execution_count": null,
   "id": "1f634313d9502e31",
   "metadata": {
    "slideshow": {
     "slide_type": "subslide"
    },
    "tags": [
     "keep",
     "subslide"
    ]
   },
   "outputs": [],
   "source": [
    "class ConcreteStrategyA implements Strategy {\n",
    "    algorithmInterface(): number {\n",
    "        return 1.5;\n",
    "    }\n",
    "}"
   ]
  },
  {
   "cell_type": "code",
   "execution_count": null,
   "id": "adce527d9caa9851",
   "metadata": {
    "tags": [
     "keep"
    ]
   },
   "outputs": [],
   "source": [
    "class ConcreteStrategyB implements Strategy {\n",
    "    algorithmInterface(): number {\n",
    "        return 2.0;\n",
    "    }\n",
    "}"
   ]
  },
  {
   "cell_type": "code",
   "execution_count": null,
   "id": "aad964aa471ce091",
   "metadata": {
    "slideshow": {
     "slide_type": "subslide"
    },
    "tags": [
     "keep",
     "subslide"
    ]
   },
   "outputs": [],
   "source": [
    "const context = new Context(new ConcreteStrategyA());"
   ]
  },
  {
   "cell_type": "code",
   "execution_count": null,
   "id": "fda20cb45ae98d34",
   "metadata": {
    "tags": [
     "keep"
    ]
   },
   "outputs": [],
   "source": [
    "console.log(\"Strategy A: \" + context.contextInterface());"
   ]
  },
  {
   "cell_type": "code",
   "execution_count": null,
   "id": "ae5d27b01dc4a13a",
   "metadata": {
    "tags": [
     "keep"
    ]
   },
   "outputs": [],
   "source": [
    "context.strategy = new ConcreteStrategyB();\n",
    "console.log(\"Strategy B: \" + context.contextInterface());"
   ]
  },
  {
   "cell_type": "markdown",
   "id": "edd47549755a086c",
   "metadata": {
    "lang": "de",
    "slideshow": {
     "slide_type": "subslide"
    },
    "tags": [
     "subslide"
    ]
   },
   "source": [
    "\n",
    "### Interaktionen\n",
    "\n",
    "- Strategie und Kontext interagieren, um den gewählten Algorithmus zu implementieren.\n",
    "  - Kontext kann Daten an Strategie übergeben\n",
    "  - Kontext kann sich selber an Strategie übergeben\n",
    "- Ein Kontext leitet Anfragen seiner Clients an seine Strategie weiter. [...]"
   ]
  },
  {
   "cell_type": "markdown",
   "id": "be9cc9b0802a015e",
   "metadata": {
    "lang": "de",
    "slideshow": {
     "slide_type": "subslide"
    },
    "tags": [
     "subslide"
    ]
   },
   "source": [
    "\n",
    "### Implementierung\n",
    "\n",
    "- `ConcreteStrategy` benötigt effizienten Zugriff auf alle benötigten Daten\n",
    "- ..."
   ]
  },
  {
   "cell_type": "markdown",
   "id": "087cb260cc860d4b",
   "metadata": {
    "lang": "de",
    "slideshow": {
     "slide_type": "subslide"
    },
    "tags": [
     "subslide"
    ]
   },
   "source": [
    "\n",
    "## Beispielcode: Textumbruch für ein Blog"
   ]
  },
  {
   "cell_type": "code",
   "execution_count": null,
   "id": "c184fb08f9514964",
   "metadata": {
    "slideshow": {
     "slide_type": "subslide"
    },
    "tags": [
     "keep",
     "subslide"
    ]
   },
   "outputs": [],
   "source": [
    "interface TextWrapStrategy {\n",
    "    wrap(text: string, width: number): string[];\n",
    "}"
   ]
  },
  {
   "cell_type": "code",
   "execution_count": null,
   "id": "8d208abcf547535c",
   "metadata": {
    "slideshow": {
     "slide_type": "subslide"
    },
    "tags": [
     "subslide",
     "keep"
    ]
   },
   "outputs": [],
   "source": [
    "class TruncationStrategy implements TextWrapStrategy {\n",
    "    wrap(text: string, width: number): string[] {\n",
    "        if (text.length <= width) {\n",
    "            return [text];\n",
    "        }\n",
    "        return [text.substring(0, width - 3) + \"...\"];\n",
    "    }\n",
    "}"
   ]
  },
  {
   "cell_type": "code",
   "execution_count": null,
   "id": "60c915359f649ca9",
   "metadata": {
    "lines_to_next_cell": 0,
    "slideshow": {
     "slide_type": "subslide"
    },
    "tags": [
     "subslide",
     "keep"
    ]
   },
   "outputs": [],
   "source": [
    "class BreakAnywhereStrategy implements TextWrapStrategy {\n",
    "    wrap(text: string, width: number): string[] {\n",
    "        let remainingText = text;\n",
    "        const lines: string[] = [];\n",
    "        while (remainingText.length > width) {\n",
    "            lines.push(remainingText.substring(0, width));\n",
    "            remainingText = remainingText.substring(width);\n",
    "        }\n",
    "        lines.push(remainingText);\n",
    "        return lines;\n",
    "    }\n",
    "}"
   ]
  },
  {
   "cell_type": "code",
   "execution_count": null,
   "id": "b976136a2acf94fe",
   "metadata": {
    "slideshow": {
     "slide_type": "subslide"
    },
    "tags": [
     "subslide",
     "keep"
    ]
   },
   "outputs": [],
   "source": [
    "class BreakOnSpaceStrategy implements TextWrapStrategy {\n",
    "    wrap(text: string, width: number): string[] {\n",
    "        const lines: string[] = [];\n",
    "        let remainingText = text;\n",
    "\n",
    "        while (remainingText.length > width) {\n",
    "            let pos = remainingText.lastIndexOf(' ', width);\n",
    "            if (pos === -1) {\n",
    "                pos = width;\n",
    "            }\n",
    "                lines.push(remainingText.substring(0, pos));\n",
    "                remainingText = remainingText.substring(pos + 1);\n",
    "        }\n",
    "\n",
    "        lines.push(remainingText);\n",
    "        return lines;\n",
    "    }\n",
    "}"
   ]
  },
  {
   "cell_type": "code",
   "execution_count": null,
   "id": "055ac4b0cb635e6f",
   "metadata": {
    "slideshow": {
     "slide_type": "subslide"
    },
    "tags": [
     "keep",
     "subslide"
    ]
   },
   "outputs": [],
   "source": [
    "class BlogPost {\n",
    "    constructor(\n",
    "        readonly author: string,\n",
    "        readonly title: string,\n",
    "        readonly text: string\n",
    "    ) {}\n",
    "}"
   ]
  },
  {
   "cell_type": "code",
   "execution_count": null,
   "id": "6460cafaecdd555f",
   "metadata": {
    "slideshow": {
     "slide_type": "subslide"
    },
    "tags": [
     "keep",
     "subslide"
    ]
   },
   "outputs": [],
   "source": [
    "class Blog {\n",
    "    private readonly posts: BlogPost[] = [];\n",
    "\n",
    "    constructor(public strategy: ITextWrapStrategy) {}\n",
    "\n",
    "    print(width: number): void {\n",
    "        this.posts.forEach(post => {\n",
    "            console.log('-'.repeat(width));\n",
    "            console.log(`Title: ${post.title}`);\n",
    "            console.log(`Author: ${post.author}`);\n",
    "            this.strategy.wrap(post.text, width).forEach(line => {\n",
    "                console.log(line);\n",
    "            });\n",
    "            console.log('-'.repeat(width));\n",
    "        });\n",
    "    }\n",
    "\n",
    "    addPost(post: BlogPost): void {\n",
    "        this.posts.push(post);\n",
    "    }\n",
    "}"
   ]
  },
  {
   "cell_type": "code",
   "execution_count": null,
   "id": "4b55b17a3f5d155e",
   "metadata": {
    "lines_to_next_cell": 0,
    "slideshow": {
     "slide_type": "subslide"
    },
    "tags": [
     "keep",
     "subslide"
    ]
   },
   "outputs": [],
   "source": [
    "const firstPost = \"The quick brown fox jumps over the lazy dog. Lorem ipsum dolor sit amet, \" +\n",
    "    \"consectetur adipiscing elit. Sed do eiusmod tempor incididunt ut labore et \" +\n",
    "    \"dolore magna aliqua. Ut enim ad minim veniam, quis nostrud exercitation ullamco \" +\n",
    "    \"laboris nisi ut aliquip ex ea commodo consequat. Duis aute irure dolor in \" +\n",
    "    \"reprehenderit in voluptate velit esse cillum dolore eu fugiat nulla pariatur. \" +\n",
    "    \"Excepteur sint occaecat cupidatat non proident, sunt in culpa qui officia deserunt \" +\n",
    "    \"mollit anim id est laborum.\";\n",
    "const secondPost = \"To be or not to be that is the question. Whether 'tis nobler in the mind to suffer \" +\n",
    "    \"the slings and arrows of outrageous fortune or to take arms against a sea of \" +\n",
    "    \"troubles and by opposing end them. To die, to sleep no more and by a sleep to say we \" +\n",
    "    \"end the heart-ache and the thousand natural shocks that flesh is heir to. 'Tis a \" +\n",
    "    \"consummation devoutly to be wish'd. To die, to sleep to sleep perchance to dream. \" +\n",
    "    \"Ay, there's the rub. For in that sleep of death what dreams may come when we have \" +\n",
    "    \"shuffled off this mortal coil must give us pause.\";"
   ]
  },
  {
   "cell_type": "code",
   "execution_count": null,
   "id": "e111ecc36814a3ed",
   "metadata": {
    "slideshow": {
     "slide_type": "subslide"
    },
    "tags": [
     "keep",
     "subslide"
    ]
   },
   "outputs": [],
   "source": [
    "const blog = new Blog(new TruncationStrategy());"
   ]
  },
  {
   "cell_type": "code",
   "execution_count": null,
   "id": "8c48c919b35fbb9e",
   "metadata": {
    "tags": [
     "keep"
    ]
   },
   "outputs": [],
   "source": [
    "blog.addPost(new BlogPost(\"John Doe\", \"My first post\", firstPost));\n",
    "blog.addPost(new BlogPost(\"Jane Doe\", \"My second post\", secondPost));\n",
    "\n",
    "blog.print(40);"
   ]
  },
  {
   "cell_type": "code",
   "execution_count": null,
   "id": "b880e2cfcaadc165",
   "metadata": {
    "slideshow": {
     "slide_type": "subslide"
    },
    "tags": [
     "keep",
     "subslide"
    ]
   },
   "outputs": [],
   "source": [
    "blog.strategy = new BreakAnywhereStrategy();\n",
    "blog.print(40);"
   ]
  },
  {
   "cell_type": "code",
   "execution_count": null,
   "id": "9e4d1de44541a951",
   "metadata": {
    "slideshow": {
     "slide_type": "subslide"
    },
    "tags": [
     "keep",
     "subslide"
    ]
   },
   "outputs": [],
   "source": [
    "blog.strategy = new BreakOnSpaceStrategy();\n",
    "blog.print(40);"
   ]
  },
  {
   "cell_type": "markdown",
   "id": "f2c409bcbe934dea",
   "metadata": {
    "lang": "de",
    "slideshow": {
     "slide_type": "subslide"
    },
    "tags": [
     "subslide"
    ]
   },
   "source": [
    "\n",
    "### Anwendbarkeit\n",
    "\n",
    "- Konfiguration von Objekten mit einer von mehreren Verhaltensweisen\n",
    "- Verschiedene Varianten eines Algorithmus\n",
    "- Kapseln von Daten mit Algorithmus (Client muss Daten nicht kennen)\n",
    "- Vermeidung von bedingten Anweisungen zur Auswahl eines Algorithmus"
   ]
  },
  {
   "cell_type": "markdown",
   "id": "2854b2bd37905646",
   "metadata": {
    "lang": "de",
    "slideshow": {
     "slide_type": "subslide"
    },
    "tags": [
     "subslide"
    ]
   },
   "source": [
    "\n",
    "### Konsequenzen\n",
    "\n",
    "- Familien wiederverwendbarer, verwandter Algorithmen\n",
    "- Alternative zu Vererbung\n",
    "- Auswahl einer Strategie ohne bedingte Anweisungen\n",
    "- Context/Clients muss die möglichen Strategien kennen\n",
    "- Kommunikations-Overhead zwischen Strategie und Kontext\n",
    "- Erhöhte Anzahl von Objekten"
   ]
  },
  {
   "cell_type": "markdown",
   "id": "f0b7d17240891ea2",
   "metadata": {
    "lang": "de",
    "slideshow": {
     "slide_type": "subslide"
    },
    "tags": [
     "subslide"
    ]
   },
   "source": [
    "\n",
    "### TypeScript Implementierungs-Tipp\n",
    "\n",
    "In C# kann das Strategy Pattern oft einfach durch ein Funktions-Objekt als\n",
    "Member implementiert werden:"
   ]
  },
  {
   "cell_type": "code",
   "execution_count": null,
   "id": "a931466adc54f7d7",
   "metadata": {
    "slideshow": {
     "slide_type": "subslide"
    },
    "tags": [
     "keep",
     "subslide"
    ]
   },
   "outputs": [],
   "source": [
    "class FunBlog {\n",
    "    private readonly posts: BlogPost[] = [];\n",
    "\n",
    "    constructor(public strategy: (text: string, width: number) => string[]) {}\n",
    "\n",
    "    print(width: number): void {\n",
    "        this.posts.forEach(post => {\n",
    "            console.log('-'.repeat(width));\n",
    "            console.log(`Title: ${post.title}`);\n",
    "            console.log(`Author: ${post.author}`);\n",
    "            this.strategy(post.text, width).forEach(line => {\n",
    "                console.log(line);\n",
    "            });\n",
    "            console.log('-'.repeat(width));\n",
    "        });\n",
    "    }\n",
    "\n",
    "    addPost(post: BlogPost): void {\n",
    "        this.posts.push(post);\n",
    "    }\n",
    "}"
   ]
  },
  {
   "cell_type": "code",
   "execution_count": null,
   "id": "e8fca96f5c66e2ba",
   "metadata": {
    "slideshow": {
     "slide_type": "subslide"
    },
    "tags": [
     "keep",
     "subslide"
    ]
   },
   "outputs": [],
   "source": [
    "function truncateLines(text: string, width: number): string[] {\n",
    "    if (text.length <= width) {\n",
    "        return [text];\n",
    "    }\n",
    "    return [text.substring(0, width - 3) + \"...\"];\n",
    "}"
   ]
  },
  {
   "cell_type": "markdown",
   "id": "9a0c8cc7240648e8",
   "metadata": {
    "lang": "de",
    "slideshow": {
     "slide_type": "subslide"
    },
    "tags": [
     "subslide"
    ]
   },
   "source": [
    "\n",
    "- Hier haben wir eine Funktion `truncateLines()` definiert, die die gleiche\n",
    "  Funktionalität hat wie unsere `TruncationStrategy`"
   ]
  },
  {
   "cell_type": "code",
   "execution_count": null,
   "id": "b4c88539c0d30229",
   "metadata": {
    "tags": [
     "keep"
    ]
   },
   "outputs": [],
   "source": [
    "const funBlog = new FunBlog(truncateLines);"
   ]
  },
  {
   "cell_type": "code",
   "execution_count": null,
   "id": "3b1e404e5c953107",
   "metadata": {
    "tags": [
     "keep"
    ]
   },
   "outputs": [],
   "source": [
    "funBlog.addPost(new BlogPost(\"John Doe\", \"My first post\", firstPost));\n",
    "funBlog.addPost(new BlogPost(\"Jane Doe\", \"My second post\", secondPost));"
   ]
  },
  {
   "cell_type": "code",
   "execution_count": null,
   "id": "954ca0ab98d11e02",
   "metadata": {
    "tags": [
     "keep"
    ]
   },
   "outputs": [],
   "source": [
    "funBlog.print(40);"
   ]
  },
  {
   "cell_type": "code",
   "execution_count": null,
   "id": "cfbf4525430b712e",
   "metadata": {
    "slideshow": {
     "slide_type": "subslide"
    },
    "tags": [
     "keep",
     "subslide"
    ]
   },
   "outputs": [],
   "source": [
    "funBlog.strategy = (text: string, width: number) => {\n",
    "    if (text.length <= width) {\n",
    "        return [text];\n",
    "    }\n",
    "    return [text.substring(0, width - 3) + \"...\"];\n",
    "};\n",
    "\n",
    "funBlog.print(40);"
   ]
  },
  {
   "cell_type": "code",
   "execution_count": null,
   "id": "39609fc8cdc97a7b",
   "metadata": {},
   "outputs": [],
   "source": []
  },
  {
   "cell_type": "code",
   "execution_count": null,
   "id": "bc2e0cf5c0431f2f",
   "metadata": {},
   "outputs": [],
   "source": []
  },
  {
   "cell_type": "markdown",
   "id": "02cbfe9f73cf51ab",
   "metadata": {
    "lang": "de",
    "slideshow": {
     "slide_type": "slide"
    },
    "tags": [
     "slide"
    ]
   },
   "source": [
    "\n",
    "## Workshop: Vorhersagen\n",
    "\n",
    "Sie wollen ein System schreiben, das Vorhersagen für Aktienkurse treffen kann.\n",
    "\n",
    "Schreiben Sie dazu eine Klasse `Predictor` mit einer Methode\n",
    "\n",
    "```typescript\n",
    "predict(values: number[]): number\n",
    "```\n",
    "\n",
    "Verwenden Sie das Strategy Pattern, um mindestens zwei verschiedene\n",
    "Vorhersage-Varianten zu ermöglichen:\n",
    "\n",
    "- Die Vorhersage ist der Mittelwert aller Werte aus `values`\n",
    "- Die Vorhersage ist der letzte Wert in `values` (oder 0, wenn `values` leer ist)\n",
    "\n",
    "Testen Sie Ihre Implementierung mit einigen Beispieldaten."
   ]
  },
  {
   "cell_type": "code",
   "execution_count": null,
   "id": "6b4e03423667dbb7",
   "metadata": {},
   "outputs": [],
   "source": []
  }
 ],
 "metadata": {
  "jupytext": {
   "cell_metadata_filter": "tags,lang,-all",
   "encoding": "// -*- coding: utf-8 -*-",
   "main_language": "typescript",
   "notebook_metadata_filter": "-all"
  },
  "kernelspec": {
   "display_name": "Deno",
   "language": "typescript",
   "name": "deno"
  },
  "language_info": {
   "codemirror_mode": "typescript",
   "file_extension": ".ts",
   "mimetype": "text/x.typescript",
   "name": "typescript",
   "pygments_lexer": "typescript",
   "version": "5.6.2"
  }
 },
 "nbformat": 4,
 "nbformat_minor": 5
}
