{
 "cells": [
  {
   "cell_type": "markdown",
   "id": "78e90233ca1be1eb",
   "metadata": {
    "lang": "de",
    "slideshow": {
     "slide_type": "slide"
    },
    "tags": [
     "slide"
    ]
   },
   "source": [
    "\n",
    "<img src=\"data:image/svg+xml;base64,PHN2ZyBmaWxsPSJub25lIiBoZWlnaHQ9IjUxMiIgdmlld0JveD0iMCAwIDUxMiA1MTIiIHdpZHRo\n",
    "PSI1MTIiIHhtbG5zPSJodHRwOi8vd3d3LnczLm9yZy8yMDAwL3N2ZyI+PHJlY3QgZmlsbD0iIzMx\n",
    "NzhjNiIgaGVpZ2h0PSI1MTIiIHJ4PSI1MCIgd2lkdGg9IjUxMiIvPjxyZWN0IGZpbGw9IiMzMTc4\n",
    "YzYiIGhlaWdodD0iNTEyIiByeD0iNTAiIHdpZHRoPSI1MTIiLz48cGF0aCBjbGlwLXJ1bGU9ImV2\n",
    "ZW5vZGQiIGQ9Im0zMTYuOTM5IDQwNy40MjR2NTAuMDYxYzguMTM4IDQuMTcyIDE3Ljc2MyA3LjMg\n",
    "MjguODc1IDkuMzg2czIyLjgyMyAzLjEyOSAzNS4xMzUgMy4xMjljMTEuOTk5IDAgMjMuMzk3LTEu\n",
    "MTQ3IDM0LjE5Ni0zLjQ0MiAxMC43OTktMi4yOTQgMjAuMjY4LTYuMDc1IDI4LjQwNi0xMS4zNDIg\n",
    "OC4xMzgtNS4yNjYgMTQuNTgxLTEyLjE1IDE5LjMyOC0yMC42NXM3LjEyMS0xOS4wMDcgNy4xMjEt\n",
    "MzEuNTIyYzAtOS4wNzQtMS4zNTYtMTcuMDI2LTQuMDY5LTIzLjg1N3MtNi42MjUtMTIuOTA2LTEx\n",
    "LjczOC0xOC4yMjVjLTUuMTEyLTUuMzE5LTExLjI0Mi0xMC4wOTEtMTguMzg5LTE0LjMxNXMtMTUu\n",
    "MjA3LTguMjEzLTI0LjE4LTExLjk2N2MtNi41NzMtMi43MTItMTIuNDY4LTUuMzQ1LTE3LjY4NS03\n",
    "LjktNS4yMTctMi41NTYtOS42NTEtNS4xNjMtMTMuMzAzLTcuODIyLTMuNjUyLTIuNjYtNi40Njkt\n",
    "NS40NzYtOC40NTEtOC40NDgtMS45ODItMi45NzMtMi45NzQtNi4zMzYtMi45NzQtMTAuMDkxIDAt\n",
    "My40NDEuODg3LTYuNTQ0IDIuNjYxLTkuMzA4czQuMjc4LTUuMTM2IDcuNTEyLTcuMTE4YzMuMjM1\n",
    "LTEuOTgxIDcuMTk5LTMuNTIgMTEuODk0LTQuNjE1IDQuNjk2LTEuMDk1IDkuOTEyLTEuNjQyIDE1\n",
    "LjY1MS0xLjY0MiA0LjE3MyAwIDguNTgxLjMxMyAxMy4yMjQuOTM4IDQuNjQzLjYyNiA5LjMxMiAx\n",
    "LjU5MSAxNC4wMDggMi44OTQgNC42OTUgMS4zMDQgOS4yNTkgMi45NDcgMTMuNjk0IDQuOTI4IDQu\n",
    "NDM0IDEuOTgyIDguNTI5IDQuMjc2IDEyLjI4NSA2Ljg4NHYtNDYuNzc2Yy03LjYxNi0yLjkyLTE1\n",
    "LjkzNy01LjA4NC0yNC45NjItNi40OTJzLTE5LjM4MS0yLjExMi0zMS4wNjYtMi4xMTJjLTExLjg5\n",
    "NSAwLTIzLjE2MyAxLjI3OC0zMy44MDUgMy44MzNzLTIwLjAwNiA2LjU0NC0yOC4wOTMgMTEuOTY3\n",
    "Yy04LjA4NiA1LjQyNC0xNC40NzYgMTIuMzMzLTE5LjE3MSAyMC43MjktNC42OTUgOC4zOTUtNy4w\n",
    "NDMgMTguNDMzLTcuMDQzIDMwLjExNCAwIDE0LjkxNCA0LjMwNCAyNy42MzggMTIuOTEyIDM4LjE3\n",
    "MiA4LjYwNyAxMC41MzMgMjEuNjc1IDE5LjQ1IDM5LjIwNCAyNi43NTEgNi44ODYgMi44MTYgMTMu\n",
    "MzAzIDUuNTc5IDE5LjI1IDguMjkxczExLjA4NiA1LjUyOCAxNS40MTUgOC40NDhjNC4zMyAyLjky\n",
    "IDcuNzQ3IDYuMTAxIDEwLjI1MiA5LjU0MyAyLjUwNCAzLjQ0MSAzLjc1NiA3LjM1MiAzLjc1NiAx\n",
    "MS43MzMgMCAzLjIzMy0uNzgzIDYuMjMxLTIuMzQ4IDguOTk1cy0zLjkzOSA1LjE2Mi03LjEyMSA3\n",
    "LjE5Ni03LjE0NyAzLjYyNC0xMS44OTQgNC43NzFjLTQuNzQ4IDEuMTQ4LTEwLjMwMyAxLjcyMS0x\n",
    "Ni42NjggMS43MjEtMTAuODUxIDAtMjEuNTk3LTEuOTAzLTMyLjI0LTUuNzEtMTAuNjQyLTMuODA2\n",
    "LTIwLjUwMi05LjUxNi0yOS41NzktMTcuMTN6bS04NC4xNTktMTIzLjM0Mmg2NC4yMnYtNDEuMDgy\n",
    "aC0xNzl2NDEuMDgyaDYzLjkwNnYxODIuOTE4aDUwLjg3NHoiIGZpbGw9IiNmZmYiIGZpbGwtcnVs\n",
    "ZT0iZXZlbm9kZCIvPjwvc3ZnPg==\n",
    "\"\n",
    "     alt=\"TypeScript Logo\" style=\"display:block;margin:auto;width:5%\"/>\n",
    "<br>\n",
    "\n",
    "<div style=\"text-align:center; font-size:200%;\">\n",
    "  <b>SOLID: Open-Closed Prinzip</b>\n",
    "</div>\n",
    "<br/>\n",
    "<div style=\"text-align:center; font-size:120%;\">Dr. Matthias Hölzl</div>\n",
    "<br/>\n",
    "<div style=\"text-align:center;\">Coding-Akademie München</div>\n",
    "<br/>"
   ]
  },
  {
   "cell_type": "markdown",
   "id": "6d6d0c3384564cee",
   "metadata": {
    "lang": "de",
    "slideshow": {
     "slide_type": "slide"
    },
    "tags": [
     "slide"
    ]
   },
   "source": [
    "\n",
    "# Open-Closed Prinzip (SOLID)\n",
    "\n",
    "Klassen sollen\n",
    "\n",
    "- Offen für Erweiterung\n",
    "- Geschlossen für Modifikation\n",
    "\n",
    "sein."
   ]
  },
  {
   "cell_type": "code",
   "execution_count": null,
   "id": "f371e66ea84d3b03",
   "metadata": {
    "slideshow": {
     "slide_type": "subslide"
    },
    "tags": [
     "keep",
     "subslide"
    ]
   },
   "outputs": [],
   "source": [
    "enum MovieKindV0 {\n",
    "    Regular,\n",
    "    Children\n",
    "}"
   ]
  },
  {
   "cell_type": "code",
   "execution_count": null,
   "id": "96e0a07f7540867a",
   "metadata": {
    "slideshow": {
     "slide_type": "subslide"
    },
    "tags": [
     "keep",
     "subslide"
    ]
   },
   "outputs": [],
   "source": [
    "class MovieV0 {\n",
    "    constructor(public title: string, public kind: MovieKindV0) {}\n",
    "\n",
    "    computePrice(): number {\n",
    "        switch (this.kind) {\n",
    "            case MovieKindV0.Regular:\n",
    "                return 4.99;\n",
    "            case MovieKindV0.Children:\n",
    "                return 5.99;\n",
    "            default:\n",
    "                return 0.0;\n",
    "        }\n",
    "    }\n",
    "\n",
    "    printInfo(): void {\n",
    "        console.log(`${this.title} costs ${this.computePrice()}`);\n",
    "    }\n",
    "}"
   ]
  },
  {
   "cell_type": "code",
   "execution_count": null,
   "id": "be825d37a6946982",
   "metadata": {
    "slideshow": {
     "slide_type": "subslide"
    },
    "tags": [
     "keep",
     "subslide"
    ]
   },
   "outputs": [],
   "source": [
    "const m1 = new MovieV0(\"Casablanca\", MovieKindV0.Regular);\n",
    "const m2 = new MovieV0(\"Shrek\", MovieKindV0.Children);"
   ]
  },
  {
   "cell_type": "code",
   "execution_count": null,
   "id": "7b2761babde4cdb5",
   "metadata": {
    "tags": [
     "keep"
    ]
   },
   "outputs": [],
   "source": [
    "m1.printInfo();\n",
    "m2.printInfo();"
   ]
  },
  {
   "cell_type": "markdown",
   "id": "f452df4b349d1ff9",
   "metadata": {
    "lang": "de",
    "lines_to_next_cell": 2,
    "slideshow": {
     "slide_type": "subslide"
    },
    "tags": [
     "subslide"
    ]
   },
   "source": [
    "\n",
    "<img src=\"img/movie_v0.png\" alt=\"MovieV0\"\n",
    "     style=\"display:block;margin:auto;width:50%\"/>"
   ]
  },
  {
   "cell_type": "markdown",
   "id": "77316076626eaade",
   "metadata": {
    "lang": "de",
    "slideshow": {
     "slide_type": "subslide"
    },
    "tags": [
     "subslide"
    ]
   },
   "source": [
    "\n",
    "Was passiert, wenn wir eine neue Filmart hinzufügen wollen?"
   ]
  },
  {
   "cell_type": "code",
   "execution_count": null,
   "id": "92da6d3ba425cc2b",
   "metadata": {
    "tags": [
     "start"
    ]
   },
   "outputs": [],
   "source": [
    "enum MovieKind {\n",
    "    Regular,\n",
    "    Children\n",
    "}"
   ]
  },
  {
   "cell_type": "code",
   "execution_count": null,
   "id": "595ce140c99313e3",
   "metadata": {
    "lines_to_next_cell": 0,
    "slideshow": {
     "slide_type": "subslide"
    },
    "tags": [
     "start",
     "subslide"
    ]
   },
   "outputs": [],
   "source": [
    "class MovieV1 {\n",
    "    constructor(public title: string, public kind: MovieKind) {}\n",
    "\n",
    "    computePrice(): number {\n",
    "        switch (this.kind) {\n",
    "            case MovieKind.Regular:\n",
    "                return 4.99;\n",
    "            case MovieKind.Children:\n",
    "                return 5.99;\n",
    "            default:\n",
    "                return 0.0;\n",
    "        }\n",
    "    }\n",
    "\n",
    "    printInfo(): void {\n",
    "        console.log(`${this.title} costs ${this.computePrice()}`);\n",
    "    }\n",
    "}"
   ]
  },
  {
   "cell_type": "code",
   "execution_count": null,
   "id": "139fbb6992c7fb0b",
   "metadata": {
    "slideshow": {
     "slide_type": "subslide"
    },
    "tags": [
     "keep",
     "subslide"
    ]
   },
   "outputs": [],
   "source": [
    "const m1 = new MovieV1(\"Casablanca\", MovieKind.Regular);\n",
    "const m2 = new MovieV1(\"Shrek\", MovieKind.Children);\n",
    "// const m3 = new MovieV1(\"Brand New\", MovieKind.NewRelease);"
   ]
  },
  {
   "cell_type": "code",
   "execution_count": null,
   "id": "560dbcb893d9fd75",
   "metadata": {
    "tags": [
     "keep"
    ]
   },
   "outputs": [],
   "source": [
    "m1.printInfo();\n",
    "m2.printInfo();\n",
    "// m3.printInfo();"
   ]
  },
  {
   "cell_type": "markdown",
   "id": "f918518dd8d5cf1c",
   "metadata": {
    "lang": "de",
    "slideshow": {
     "slide_type": "subslide"
    },
    "tags": [
     "subslide"
    ]
   },
   "source": [
    "\n",
    "<img src=\"img/movie_v1.png\" alt=\"MovieV1\"\n",
    "     style=\"display:block;margin:auto;width:50%\"/>"
   ]
  },
  {
   "cell_type": "markdown",
   "id": "06046b71a83f882d",
   "metadata": {
    "lang": "de",
    "slideshow": {
     "slide_type": "subslide"
    },
    "tags": [
     "subslide"
    ]
   },
   "source": [
    "\n",
    "## OCP-Verletzung\n",
    "\n",
    "- Neue Filmarten erfordern Änderungen an `MovieV1`\n",
    "- `MovieV1` ist nicht geschlossen für Modifikation"
   ]
  },
  {
   "cell_type": "markdown",
   "id": "a4dda57c88ce329b",
   "metadata": {
    "lang": "de",
    "slideshow": {
     "slide_type": "subslide"
    },
    "tags": [
     "subslide"
    ]
   },
   "source": [
    "\n",
    "## Auflösung (Versuch 1: Vererbung)\n",
    "\n",
    "- Neue Filmarten werden als neue Klassen implementiert\n",
    "- `MovieV2` wird abstrakt\n",
    "- `MovieV2` ist geschlossen für Modifikation"
   ]
  },
  {
   "cell_type": "code",
   "execution_count": null,
   "id": "63311aefa6225191",
   "metadata": {
    "slideshow": {
     "slide_type": "subslide"
    },
    "tags": [
     "subslide",
     "keep"
    ]
   },
   "outputs": [],
   "source": [
    "abstract class MovieV2 {\n",
    "    constructor(public title: string) {}\n",
    "\n",
    "    abstract computePrice(): number;\n",
    "\n",
    "    printInfo(): void {\n",
    "        console.log(`${this.title} costs ${this.computePrice()}`);\n",
    "    }\n",
    "}"
   ]
  },
  {
   "cell_type": "code",
   "execution_count": null,
   "id": "fd7113da08e9913f",
   "metadata": {
    "slideshow": {
     "slide_type": "subslide"
    },
    "tags": [
     "subslide",
     "keep"
    ]
   },
   "outputs": [],
   "source": [
    "class RegularMovie extends MovieV2 {\n",
    "    constructor(title: string) {\n",
    "        super(title);\n",
    "    }\n",
    "\n",
    "    override computePrice(): number {\n",
    "        return 4.99;\n",
    "    }\n",
    "}"
   ]
  },
  {
   "cell_type": "code",
   "execution_count": null,
   "id": "8d76be1184baa8d8",
   "metadata": {
    "tags": [
     "keep"
    ]
   },
   "outputs": [],
   "source": [
    "class ChildrenMovie extends MovieV2 {\n",
    "    constructor(title: string) {\n",
    "        super(title);\n",
    "    }\n",
    "\n",
    "    override computePrice(): number {\n",
    "        return 5.99;\n",
    "    }\n",
    "}"
   ]
  },
  {
   "cell_type": "code",
   "execution_count": null,
   "id": "62962f8d8968679d",
   "metadata": {
    "lines_to_next_cell": 0,
    "tags": [
     "keep"
    ]
   },
   "outputs": [],
   "source": [
    "class NewReleaseMovie extends MovieV2 {\n",
    "    constructor(title: string) {\n",
    "        super(title);\n",
    "    }\n",
    "\n",
    "    override computePrice(): number {\n",
    "        return 6.99;\n",
    "    }\n",
    "}"
   ]
  },
  {
   "cell_type": "code",
   "execution_count": null,
   "id": "4939cfe30c713367",
   "metadata": {
    "slideshow": {
     "slide_type": "subslide"
    },
    "tags": [
     "subslide",
     "keep"
    ]
   },
   "outputs": [],
   "source": [
    "const m1 = new RegularMovie(\"Casablanca\");\n",
    "const m2 = new ChildrenMovie(\"Shrek\");\n",
    "const m3 = new NewReleaseMovie(\"Brand New\");"
   ]
  },
  {
   "cell_type": "code",
   "execution_count": null,
   "id": "56bbd6a1d6165a63",
   "metadata": {
    "tags": [
     "keep"
    ]
   },
   "outputs": [],
   "source": [
    "m1.printInfo();\n",
    "m2.printInfo();\n",
    "m3.printInfo();"
   ]
  },
  {
   "cell_type": "markdown",
   "id": "8894f552f6213987",
   "metadata": {
    "lang": "de",
    "slideshow": {
     "slide_type": "subslide"
    },
    "tags": [
     "subslide"
    ]
   },
   "source": [
    "\n",
    "<img src=\"img/movie_v2.png\" alt=\"MovieV0\"\n",
    "     style=\"display:block;margin:auto;width:100%\"/>"
   ]
  },
  {
   "cell_type": "markdown",
   "id": "4ef4a80f6515a20b",
   "metadata": {
    "lang": "de",
    "slideshow": {
     "slide_type": "subslide"
    },
    "tags": [
     "subslide"
    ]
   },
   "source": [
    "\n",
    "- `MovieV2` ist offen für Erweiterung\n",
    "- Neue Filmarten können hinzugefügt werden, ohne die bestehenden Klassen zu\n",
    "  ändern\n",
    "- Aber: Die Vererbungshierarchie umfasst die ganze Klasse\n",
    "  - Nur eine Art von Variabilität\n",
    "- Was ist, wenn wir für andere Zwecke eine andere Klassifikation brauchen?\n",
    "  - Z.B. DVD, BluRay, Online?\n",
    "- Mehrfachvererbung?\n",
    "- Produkt von Klassen?\n",
    "  - `ChildrenDVD`, `ChildrenBluRay`, `ChildrenOnline`, ..."
   ]
  },
  {
   "cell_type": "markdown",
   "id": "8d0dcafbc7b47890",
   "metadata": {
    "lang": "de",
    "slideshow": {
     "slide_type": "subslide"
    },
    "tags": [
     "subslide"
    ]
   },
   "source": [
    "\n",
    "## Bessere Auflösung: Strategy Pattern\n",
    "\n",
    "- Das Strategy-Pattern erlaubt es uns, die Vererbung auf kleinere Teile der\n",
    "  Klasse anzuwenden\n",
    "- In fast allen Fällen ist das die bessere Lösung!\n",
    "- Vererbung ist ein sehr mächtiges Werkzeug\n",
    "- Aber je kleiner und lokaler wir unsere Vererbungshierarchien halten, desto\n",
    "  besser"
   ]
  },
  {
   "cell_type": "markdown",
   "id": "5d2cb61027867302",
   "metadata": {
    "lang": "de",
    "slideshow": {
     "slide_type": "slide"
    },
    "tags": [
     "slide"
    ]
   },
   "source": [
    "\n",
    "## Workshop: Smart Home Device Control System\n",
    "\n",
    "In diesem Workshop arbeiten wir mit einem Szenario, das ein Smart Home\n",
    "Gerätesteuerungssystem betrifft. Leider verletzt das vorhandene System\n",
    "das Open-Closed-Prinzip."
   ]
  },
  {
   "cell_type": "markdown",
   "id": "c98a54bc44cdb397",
   "metadata": {
    "lang": "de",
    "slideshow": {
     "slide_type": "subslide"
    },
    "tags": [
     "subslide"
    ]
   },
   "source": [
    "\n",
    "### Szenario\n",
    "\n",
    "Wir haben ein Smart-Home-System. Dieses System steuert verschiedene\n",
    "Geräte: Lichter, Thermostate, Sicherheitskameras und intelligente Schlösser.\n",
    "Jeder Gerätetyp benötigt einen eigenen Steuerungsmechanismus und eigene\n",
    "Automatisierungsregeln.\n",
    "\n",
    "Nun muss das Steuerungssystem des Smart Homes diese Geräte verwalten. Das\n",
    "Problem mit dem aktuellen System ist die Verwendung eines Enums zur Bestimmung\n",
    "des Gerätetyps und basierend darauf seiner Steuermethode. Dieser Ansatz ist\n",
    "nicht skalierbar und verletzt das OCP."
   ]
  },
  {
   "cell_type": "code",
   "execution_count": null,
   "id": "7f18c458d8b58db8",
   "metadata": {
    "slideshow": {
     "slide_type": "subslide"
    },
    "tags": [
     "keep",
     "subslide"
    ]
   },
   "outputs": [],
   "source": [
    "enum DeviceType {\n",
    "    Light,\n",
    "    Thermostat,\n",
    "    SecurityCamera,\n",
    "    SmartLock\n",
    "}"
   ]
  },
  {
   "cell_type": "code",
   "execution_count": null,
   "id": "66e7b636b57a77e1",
   "metadata": {
    "slideshow": {
     "slide_type": "subslide"
    },
    "tags": [
     "keep",
     "subslide"
    ]
   },
   "outputs": [],
   "source": [
    "class DeviceV0 {\n",
    "    constructor(private type: DeviceType) {}\n",
    "\n",
    "    control(): string {\n",
    "        switch (this.type) {\n",
    "            case DeviceType.Light:\n",
    "                return \"Turning light on/off.\";\n",
    "            case DeviceType.Thermostat:\n",
    "                return \"Adjusting temperature.\";\n",
    "            case DeviceType.SecurityCamera:\n",
    "                return \"Activating motion detection.\";\n",
    "            case DeviceType.SmartLock:\n",
    "                return \"Locking/Unlocking door.\";\n",
    "            default:\n",
    "                return \"Unknown device control!\";\n",
    "        }\n",
    "    }\n",
    "\n",
    "    getStatus(): string {\n",
    "        switch (this.type) {\n",
    "            case DeviceType.Light:\n",
    "                return \"Light is on/off.\";\n",
    "            case DeviceType.Thermostat:\n",
    "                return \"Current temperature: 22°C.\";\n",
    "            case DeviceType.SecurityCamera:\n",
    "                return \"Camera is active/inactive.\";\n",
    "            case DeviceType.SmartLock:\n",
    "                return \"Door is locked/unlocked.\";\n",
    "            default:\n",
    "                return \"Unknown device status!\";\n",
    "        }\n",
    "    }\n",
    "}"
   ]
  },
  {
   "cell_type": "code",
   "execution_count": null,
   "id": "d9f4935ed560bb4c",
   "metadata": {
    "slideshow": {
     "slide_type": "subslide"
    },
    "tags": [
     "keep",
     "subslide"
    ]
   },
   "outputs": [],
   "source": [
    "const devicesOriginal: DeviceV0[] = [\n",
    "    new DeviceV0(DeviceType.Light),\n",
    "    new DeviceV0(DeviceType.Thermostat),\n",
    "    new DeviceV0(DeviceType.SecurityCamera)\n",
    "];"
   ]
  },
  {
   "cell_type": "code",
   "execution_count": null,
   "id": "603c44d16ee038be",
   "metadata": {
    "tags": [
     "keep"
    ]
   },
   "outputs": [],
   "source": [
    "function manageDevices(devices: DeviceV0[]): void {\n",
    "    for (const device of devices) {\n",
    "        console.log(device.control() + \" \" + device.getStatus());\n",
    "    }\n",
    "}"
   ]
  },
  {
   "cell_type": "code",
   "execution_count": null,
   "id": "927334b3f871657a",
   "metadata": {
    "tags": [
     "keep"
    ]
   },
   "outputs": [],
   "source": [
    "manageDevices(devicesOriginal);"
   ]
  },
  {
   "cell_type": "markdown",
   "id": "536ed71511162336",
   "metadata": {
    "lang": "de",
    "slideshow": {
     "slide_type": "subslide"
    },
    "tags": [
     "subslide"
    ]
   },
   "source": [
    "\n",
    "- Beseitigen Sie das Problem mit der OCP-Verletzung im vorhandenen Code\n",
    "- Sie können entweder den vorhandenen Code ändern oder eine neue Lösung von\n",
    "  Grund auf neu erstellen"
   ]
  }
 ],
 "metadata": {
  "jupytext": {
   "cell_metadata_filter": "tags,lang,-all",
   "encoding": "// -*- coding: utf-8 -*-",
   "main_language": "typescript",
   "notebook_metadata_filter": "-all"
  },
  "kernelspec": {
   "display_name": "Deno",
   "language": "typescript",
   "name": "deno"
  },
  "language_info": {
   "codemirror_mode": "typescript",
   "file_extension": ".ts",
   "mimetype": "text/x.typescript",
   "name": "typescript",
   "pygments_lexer": "typescript",
   "version": "5.6.2"
  }
 },
 "nbformat": 4,
 "nbformat_minor": 5
}
