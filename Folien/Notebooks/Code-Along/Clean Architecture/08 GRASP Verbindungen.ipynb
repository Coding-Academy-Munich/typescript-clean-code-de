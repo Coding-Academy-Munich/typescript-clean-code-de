{
 "cells": [
  {
   "cell_type": "markdown",
   "id": "0797c6f768020f51",
   "metadata": {
    "lang": "de",
    "slideshow": {
     "slide_type": "slide"
    },
    "tags": [
     "slide"
    ]
   },
   "source": [
    "\n",
    "<img src=\"data:image/svg+xml;base64,PHN2ZyBmaWxsPSJub25lIiBoZWlnaHQ9IjUxMiIgdmlld0JveD0iMCAwIDUxMiA1MTIiIHdpZHRo\n",
    "PSI1MTIiIHhtbG5zPSJodHRwOi8vd3d3LnczLm9yZy8yMDAwL3N2ZyI+PHJlY3QgZmlsbD0iIzMx\n",
    "NzhjNiIgaGVpZ2h0PSI1MTIiIHJ4PSI1MCIgd2lkdGg9IjUxMiIvPjxyZWN0IGZpbGw9IiMzMTc4\n",
    "YzYiIGhlaWdodD0iNTEyIiByeD0iNTAiIHdpZHRoPSI1MTIiLz48cGF0aCBjbGlwLXJ1bGU9ImV2\n",
    "ZW5vZGQiIGQ9Im0zMTYuOTM5IDQwNy40MjR2NTAuMDYxYzguMTM4IDQuMTcyIDE3Ljc2MyA3LjMg\n",
    "MjguODc1IDkuMzg2czIyLjgyMyAzLjEyOSAzNS4xMzUgMy4xMjljMTEuOTk5IDAgMjMuMzk3LTEu\n",
    "MTQ3IDM0LjE5Ni0zLjQ0MiAxMC43OTktMi4yOTQgMjAuMjY4LTYuMDc1IDI4LjQwNi0xMS4zNDIg\n",
    "OC4xMzgtNS4yNjYgMTQuNTgxLTEyLjE1IDE5LjMyOC0yMC42NXM3LjEyMS0xOS4wMDcgNy4xMjEt\n",
    "MzEuNTIyYzAtOS4wNzQtMS4zNTYtMTcuMDI2LTQuMDY5LTIzLjg1N3MtNi42MjUtMTIuOTA2LTEx\n",
    "LjczOC0xOC4yMjVjLTUuMTEyLTUuMzE5LTExLjI0Mi0xMC4wOTEtMTguMzg5LTE0LjMxNXMtMTUu\n",
    "MjA3LTguMjEzLTI0LjE4LTExLjk2N2MtNi41NzMtMi43MTItMTIuNDY4LTUuMzQ1LTE3LjY4NS03\n",
    "LjktNS4yMTctMi41NTYtOS42NTEtNS4xNjMtMTMuMzAzLTcuODIyLTMuNjUyLTIuNjYtNi40Njkt\n",
    "NS40NzYtOC40NTEtOC40NDgtMS45ODItMi45NzMtMi45NzQtNi4zMzYtMi45NzQtMTAuMDkxIDAt\n",
    "My40NDEuODg3LTYuNTQ0IDIuNjYxLTkuMzA4czQuMjc4LTUuMTM2IDcuNTEyLTcuMTE4YzMuMjM1\n",
    "LTEuOTgxIDcuMTk5LTMuNTIgMTEuODk0LTQuNjE1IDQuNjk2LTEuMDk1IDkuOTEyLTEuNjQyIDE1\n",
    "LjY1MS0xLjY0MiA0LjE3MyAwIDguNTgxLjMxMyAxMy4yMjQuOTM4IDQuNjQzLjYyNiA5LjMxMiAx\n",
    "LjU5MSAxNC4wMDggMi44OTQgNC42OTUgMS4zMDQgOS4yNTkgMi45NDcgMTMuNjk0IDQuOTI4IDQu\n",
    "NDM0IDEuOTgyIDguNTI5IDQuMjc2IDEyLjI4NSA2Ljg4NHYtNDYuNzc2Yy03LjYxNi0yLjkyLTE1\n",
    "LjkzNy01LjA4NC0yNC45NjItNi40OTJzLTE5LjM4MS0yLjExMi0zMS4wNjYtMi4xMTJjLTExLjg5\n",
    "NSAwLTIzLjE2MyAxLjI3OC0zMy44MDUgMy44MzNzLTIwLjAwNiA2LjU0NC0yOC4wOTMgMTEuOTY3\n",
    "Yy04LjA4NiA1LjQyNC0xNC40NzYgMTIuMzMzLTE5LjE3MSAyMC43MjktNC42OTUgOC4zOTUtNy4w\n",
    "NDMgMTguNDMzLTcuMDQzIDMwLjExNCAwIDE0LjkxNCA0LjMwNCAyNy42MzggMTIuOTEyIDM4LjE3\n",
    "MiA4LjYwNyAxMC41MzMgMjEuNjc1IDE5LjQ1IDM5LjIwNCAyNi43NTEgNi44ODYgMi44MTYgMTMu\n",
    "MzAzIDUuNTc5IDE5LjI1IDguMjkxczExLjA4NiA1LjUyOCAxNS40MTUgOC40NDhjNC4zMyAyLjky\n",
    "IDcuNzQ3IDYuMTAxIDEwLjI1MiA5LjU0MyAyLjUwNCAzLjQ0MSAzLjc1NiA3LjM1MiAzLjc1NiAx\n",
    "MS43MzMgMCAzLjIzMy0uNzgzIDYuMjMxLTIuMzQ4IDguOTk1cy0zLjkzOSA1LjE2Mi03LjEyMSA3\n",
    "LjE5Ni03LjE0NyAzLjYyNC0xMS44OTQgNC43NzFjLTQuNzQ4IDEuMTQ4LTEwLjMwMyAxLjcyMS0x\n",
    "Ni42NjggMS43MjEtMTAuODUxIDAtMjEuNTk3LTEuOTAzLTMyLjI0LTUuNzEtMTAuNjQyLTMuODA2\n",
    "LTIwLjUwMi05LjUxNi0yOS41NzktMTcuMTN6bS04NC4xNTktMTIzLjM0Mmg2NC4yMnYtNDEuMDgy\n",
    "aC0xNzl2NDEuMDgyaDYzLjkwNnYxODIuOTE4aDUwLjg3NHoiIGZpbGw9IiNmZmYiIGZpbGwtcnVs\n",
    "ZT0iZXZlbm9kZCIvPjwvc3ZnPg==\n",
    "\"\n",
    "     alt=\"TypeScript Logo\" style=\"display:block;margin:auto;width:5%\"/>\n",
    "<br>\n",
    "\n",
    "<div style=\"text-align:center; font-size:200%;\">\n",
    "  <b>GRASP: Verbindungen</b>\n",
    "</div>\n",
    "<br/>\n",
    "<div style=\"text-align:center; font-size:120%;\">Dr. Matthias Hölzl</div>\n",
    "<br/>\n",
    "<div style=\"text-align:center;\">Coding-Akademie München</div>\n",
    "<br/>"
   ]
  },
  {
   "cell_type": "markdown",
   "id": "0a7cbf4f9a9321fa",
   "metadata": {
    "lang": "de",
    "slideshow": {
     "slide_type": "subslide"
    },
    "tags": [
     "subslide"
    ]
   },
   "source": [
    "\n",
    "### Aktueller Stand des Adventure-Spiels\n",
    "\n",
    "- `Code/Completed/GraspAdventure/AdventureV2`\n",
    "- Klassen `Location` und `World`\n",
    "- `World` erzeugt `Location`-Objekte (Creator)\n",
    "- `World` kann `Location`-Objekte finden (Information Expert)"
   ]
  },
  {
   "cell_type": "markdown",
   "id": "aaf7ba06df7a11da",
   "metadata": {
    "lang": "de",
    "slideshow": {
     "slide_type": "subslide"
    },
    "tags": [
     "subslide"
    ]
   },
   "source": [
    "\n",
    "### Nächster Schritt\n",
    "\n",
    "- Verbinden der `Location`-Objekte\n",
    "- Zwei neue Verantwortlichkeiten:\n",
    "  - Erstellen der Verbindungen (Doing)\n",
    "  - Speichern der Verbindungen (Knowing)"
   ]
  },
  {
   "cell_type": "markdown",
   "id": "6b6ff0fc873085b4",
   "metadata": {
    "slideshow": {
     "slide_type": "subslide"
    },
    "tags": [
     "subslide"
    ]
   },
   "source": [
    "\n",
    "<img src=\"img/adventure-v2-overview.png\"\n",
    "     style=\"display:block;margin:auto;width:40%\"/>"
   ]
  },
  {
   "cell_type": "markdown",
   "id": "b63c6e2474f64817",
   "metadata": {
    "lang": "de",
    "slideshow": {
     "slide_type": "subslide"
    },
    "tags": [
     "subslide"
    ]
   },
   "source": [
    "\n",
    "### Wer soll die Verbindungen erzeugen?\n",
    "\n",
    "**Creator:** Wer hat die Initialisierungsdaten?\n",
    "\n",
    "<ul class=\"fragment\">\n",
    "<li><tt>World</tt></li>\n",
    "<li>(Wir brauchen die Daten aller Locations)</li>\n",
    "</ul>"
   ]
  },
  {
   "cell_type": "markdown",
   "id": "fc0b2158d2b55878",
   "metadata": {
    "lang": "de",
    "slideshow": {
     "slide_type": "subslide"
    },
    "tags": [
     "subslide"
    ]
   },
   "source": [
    "\n",
    "### Wer soll die Verbindungen speichern?\n",
    "\n",
    "**Information Expert:** Wer hat die Daten?\n",
    "\n",
    "<ul class=\"fragment\">\n",
    "  <li>Die Klasse mit den meisten Informationen</li>\n",
    "  <li><tt>World</tt> erzeugt alle Verbindungsdaten</li>\n",
    "  <li>Daher ist <tt>World</tt> der Information Expert</li>\n",
    "  <li>Die Verbindungsdaten werden in <tt>World</tt> gespeichert</li>\n",
    "</ul>"
   ]
  },
  {
   "cell_type": "markdown",
   "id": "62bcaa04359156ad",
   "metadata": {
    "lang": "de",
    "slideshow": {
     "slide_type": "subslide"
    },
    "tags": [
     "subslide"
    ]
   },
   "source": [
    "\n",
    "**Das ist keine Richtige Anwendung von Information Expert!**"
   ]
  },
  {
   "cell_type": "markdown",
   "id": "4cce7ef8b90b3a6e",
   "metadata": {
    "lang": "de",
    "slideshow": {
     "slide_type": "subslide"
    },
    "tags": [
     "subslide"
    ]
   },
   "source": [
    "\n",
    "### Was ist das Problem?\n",
    "\n",
    "- `Code/Completed/GraspAdventure/AdventureV3a`"
   ]
  },
  {
   "cell_type": "markdown",
   "id": "4f1f7585722e1c94",
   "metadata": {
    "slideshow": {
     "slide_type": "subslide"
    },
    "tags": [
     "subslide"
    ]
   },
   "source": [
    "\n",
    "```typescript\n",
    "class Connection {\n",
    "    from: Location;\n",
    "    direction: string;\n",
    "    to: Location;\n",
    "\n",
    "    constructor(from: Location, direction: string, to: Location) {\n",
    "        this.from = from;\n",
    "        this.direction = direction;\n",
    "        this.to = to;\n",
    "    }\n",
    "}\n",
    "```"
   ]
  },
  {
   "cell_type": "markdown",
   "id": "9eb783bb6b8d4637",
   "metadata": {
    "slideshow": {
     "slide_type": "subslide"
    },
    "tags": [
     "subslide"
    ]
   },
   "source": [
    "\n",
    "```typescript\n",
    "class World {\n",
    "    private connections: Connection[] = [];\n",
    "\n",
    "    // Other methods and properties...\n",
    "\n",
    "    getConnectedLocation(location: Location, direction: string): Location | undefined {\n",
    "        const connection = this.connections.find(conn => conn.from === location && conn.direction === direction);\n",
    "        return connection ? connection.to : undefined;\n",
    "    }\n",
    "}\n",
    "```"
   ]
  },
  {
   "cell_type": "markdown",
   "id": "7daf317627a95273",
   "metadata": {
    "slideshow": {
     "slide_type": "subslide"
    },
    "tags": [
     "subslide"
    ]
   },
   "source": [
    "\n",
    "<img src=\"img/adventure-v3a-overview.png\"\n",
    "     style=\"display:block;margin:auto;width:50%\"/>"
   ]
  },
  {
   "cell_type": "markdown",
   "id": "05fddd9457ef99f1",
   "metadata": {
    "lang": "de",
    "slideshow": {
     "slide_type": "subslide"
    },
    "tags": [
     "subslide"
    ]
   },
   "source": [
    "\n",
    "- Häufigster Anwendungsfall für \"Verbindungen in Richtung\":\n",
    "  - Navigation von der Location, auf der ein Pawn steht zu einer anderen\n",
    "    Location\n",
    "- Wie geht das mit dieser Implementierung?\n",
    "  - `world.getConnectedLocation(room1, \"north\")`\n",
    "  - Wir haben eine Abhängigkeit von `World` und `Location`!"
   ]
  },
  {
   "cell_type": "markdown",
   "id": "e2c7d7a5cd54141b",
   "metadata": {
    "slideshow": {
     "slide_type": "subslide"
    },
    "tags": [
     "subslide"
    ]
   },
   "source": [
    "\n",
    "<img src=\"img/adv-domain-03-small.png\"\n",
    "     style=\"display:block;margin:auto;width:70%\"/>"
   ]
  },
  {
   "cell_type": "markdown",
   "id": "54562cd1f5dd0cf2",
   "metadata": {
    "lang": "de",
    "slideshow": {
     "slide_type": "subslide"
    },
    "tags": [
     "subslide"
    ]
   },
   "source": [
    "\n",
    "### Wie können wir das vermeiden?\n",
    "\n",
    "- Verlagern der Verantwortlichkeit für die Navigation\n",
    "- Jede `Location` kennt ihre ausgehenden Verbindungen\n",
    "- `room1.getConnectedLocation(\"north\")`"
   ]
  },
  {
   "cell_type": "markdown",
   "id": "1a77d341cf9c80c7",
   "metadata": {
    "lang": "de",
    "slideshow": {
     "slide_type": "subslide"
    },
    "tags": [
     "subslide"
    ]
   },
   "source": [
    "\n",
    "### Hat uns Information Expert in die Irre geführt?\n",
    "\n",
    "Nein. In diesem Fall sagt der Information Expert nicht sehr viel aus, wenn\n",
    "wir ihn korrekt anwenden:\n",
    "\n",
    "- Die Verantwortung, die wir zuweisen wollen, ist das Speichern der\n",
    "  Verbindungen\n",
    "- Jede Verbindung ist eine Beziehung zwischen zwei Locations\n",
    "- Es spielt keine Rolle, dass `World` alle Locations kennt\n",
    "- Wir haben keinen Informations-Experten für das Speichern der Verbindungen"
   ]
  },
  {
   "cell_type": "markdown",
   "id": "06e89ebcb3242f4e",
   "metadata": {
    "lang": "de",
    "slideshow": {
     "slide_type": "subslide"
    },
    "tags": [
     "subslide"
    ]
   },
   "source": [
    "\n",
    "### Lösungen\n",
    "\n",
    "- Zugeordnete Doing-Verantwortlichkeit:\n",
    "  - Finden Sie eine zugehörige Doing-Verantwortlichkeit,\n",
    "  - Wählen Sie die Klasse, die verantwortlich sein sollte, und\n",
    "  - Ordnen Sie die Daten so zu, dass diese Klasse zum Information Expert wird\n",
    "- Verwenden Sie andere Muster oder Techniken, um die Verantwortlichkeit\n",
    "  zuzuweisen"
   ]
  },
  {
   "cell_type": "markdown",
   "id": "87419507e18ed594",
   "metadata": {
    "slideshow": {
     "slide_type": "subslide"
    },
    "tags": [
     "subslide"
    ]
   },
   "source": [
    "\n",
    "<img src=\"img/adventure-v3b-overview.png\"\n",
    "     style=\"display:block;margin:auto;width:50%\"/>"
   ]
  },
  {
   "cell_type": "markdown",
   "id": "e2a17b99283a3f65",
   "metadata": {
    "lang": "de",
    "slideshow": {
     "slide_type": "subslide"
    },
    "tags": [
     "subslide"
    ]
   },
   "source": [
    "\n",
    "### Merkregel: Lokale Informationen > Globaler Zustand\n",
    "\n",
    "- Versuchen Sie, die Verantwortlichkeit für Informationen möglichst lokal zu\n",
    "  halten\n",
    "- Das verringert fast immer die Kopplung im System"
   ]
  }
 ],
 "metadata": {
  "jupytext": {
   "cell_metadata_filter": "lang,tags,-all",
   "encoding": "// -*- coding: utf-8 -*-",
   "main_language": "typescript",
   "notebook_metadata_filter": "-all"
  },
  "kernelspec": {
   "display_name": "Deno",
   "language": "typescript",
   "name": "deno"
  },
  "language_info": {
   "codemirror_mode": "typescript",
   "file_extension": ".ts",
   "mimetype": "text/x.typescript",
   "name": "typescript",
   "pygments_lexer": "typescript",
   "version": "5.6.2"
  }
 },
 "nbformat": 4,
 "nbformat_minor": 5
}
