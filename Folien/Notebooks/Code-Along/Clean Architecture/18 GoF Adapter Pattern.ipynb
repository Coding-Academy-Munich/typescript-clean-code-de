{
 "cells": [
  {
   "cell_type": "markdown",
   "id": "908d4b7be28cbdd5",
   "metadata": {
    "lang": "de",
    "slideshow": {
     "slide_type": "slide"
    },
    "tags": [
     "slide"
    ]
   },
   "source": [
    "\n",
    "<img src=\"data:image/svg+xml;base64,PHN2ZyBmaWxsPSJub25lIiBoZWlnaHQ9IjUxMiIgdmlld0JveD0iMCAwIDUxMiA1MTIiIHdpZHRo\n",
    "PSI1MTIiIHhtbG5zPSJodHRwOi8vd3d3LnczLm9yZy8yMDAwL3N2ZyI+PHJlY3QgZmlsbD0iIzMx\n",
    "NzhjNiIgaGVpZ2h0PSI1MTIiIHJ4PSI1MCIgd2lkdGg9IjUxMiIvPjxyZWN0IGZpbGw9IiMzMTc4\n",
    "YzYiIGhlaWdodD0iNTEyIiByeD0iNTAiIHdpZHRoPSI1MTIiLz48cGF0aCBjbGlwLXJ1bGU9ImV2\n",
    "ZW5vZGQiIGQ9Im0zMTYuOTM5IDQwNy40MjR2NTAuMDYxYzguMTM4IDQuMTcyIDE3Ljc2MyA3LjMg\n",
    "MjguODc1IDkuMzg2czIyLjgyMyAzLjEyOSAzNS4xMzUgMy4xMjljMTEuOTk5IDAgMjMuMzk3LTEu\n",
    "MTQ3IDM0LjE5Ni0zLjQ0MiAxMC43OTktMi4yOTQgMjAuMjY4LTYuMDc1IDI4LjQwNi0xMS4zNDIg\n",
    "OC4xMzgtNS4yNjYgMTQuNTgxLTEyLjE1IDE5LjMyOC0yMC42NXM3LjEyMS0xOS4wMDcgNy4xMjEt\n",
    "MzEuNTIyYzAtOS4wNzQtMS4zNTYtMTcuMDI2LTQuMDY5LTIzLjg1N3MtNi42MjUtMTIuOTA2LTEx\n",
    "LjczOC0xOC4yMjVjLTUuMTEyLTUuMzE5LTExLjI0Mi0xMC4wOTEtMTguMzg5LTE0LjMxNXMtMTUu\n",
    "MjA3LTguMjEzLTI0LjE4LTExLjk2N2MtNi41NzMtMi43MTItMTIuNDY4LTUuMzQ1LTE3LjY4NS03\n",
    "LjktNS4yMTctMi41NTYtOS42NTEtNS4xNjMtMTMuMzAzLTcuODIyLTMuNjUyLTIuNjYtNi40Njkt\n",
    "NS40NzYtOC40NTEtOC40NDgtMS45ODItMi45NzMtMi45NzQtNi4zMzYtMi45NzQtMTAuMDkxIDAt\n",
    "My40NDEuODg3LTYuNTQ0IDIuNjYxLTkuMzA4czQuMjc4LTUuMTM2IDcuNTEyLTcuMTE4YzMuMjM1\n",
    "LTEuOTgxIDcuMTk5LTMuNTIgMTEuODk0LTQuNjE1IDQuNjk2LTEuMDk1IDkuOTEyLTEuNjQyIDE1\n",
    "LjY1MS0xLjY0MiA0LjE3MyAwIDguNTgxLjMxMyAxMy4yMjQuOTM4IDQuNjQzLjYyNiA5LjMxMiAx\n",
    "LjU5MSAxNC4wMDggMi44OTQgNC42OTUgMS4zMDQgOS4yNTkgMi45NDcgMTMuNjk0IDQuOTI4IDQu\n",
    "NDM0IDEuOTgyIDguNTI5IDQuMjc2IDEyLjI4NSA2Ljg4NHYtNDYuNzc2Yy03LjYxNi0yLjkyLTE1\n",
    "LjkzNy01LjA4NC0yNC45NjItNi40OTJzLTE5LjM4MS0yLjExMi0zMS4wNjYtMi4xMTJjLTExLjg5\n",
    "NSAwLTIzLjE2MyAxLjI3OC0zMy44MDUgMy44MzNzLTIwLjAwNiA2LjU0NC0yOC4wOTMgMTEuOTY3\n",
    "Yy04LjA4NiA1LjQyNC0xNC40NzYgMTIuMzMzLTE5LjE3MSAyMC43MjktNC42OTUgOC4zOTUtNy4w\n",
    "NDMgMTguNDMzLTcuMDQzIDMwLjExNCAwIDE0LjkxNCA0LjMwNCAyNy42MzggMTIuOTEyIDM4LjE3\n",
    "MiA4LjYwNyAxMC41MzMgMjEuNjc1IDE5LjQ1IDM5LjIwNCAyNi43NTEgNi44ODYgMi44MTYgMTMu\n",
    "MzAzIDUuNTc5IDE5LjI1IDguMjkxczExLjA4NiA1LjUyOCAxNS40MTUgOC40NDhjNC4zMyAyLjky\n",
    "IDcuNzQ3IDYuMTAxIDEwLjI1MiA5LjU0MyAyLjUwNCAzLjQ0MSAzLjc1NiA3LjM1MiAzLjc1NiAx\n",
    "MS43MzMgMCAzLjIzMy0uNzgzIDYuMjMxLTIuMzQ4IDguOTk1cy0zLjkzOSA1LjE2Mi03LjEyMSA3\n",
    "LjE5Ni03LjE0NyAzLjYyNC0xMS44OTQgNC43NzFjLTQuNzQ4IDEuMTQ4LTEwLjMwMyAxLjcyMS0x\n",
    "Ni42NjggMS43MjEtMTAuODUxIDAtMjEuNTk3LTEuOTAzLTMyLjI0LTUuNzEtMTAuNjQyLTMuODA2\n",
    "LTIwLjUwMi05LjUxNi0yOS41NzktMTcuMTN6bS04NC4xNTktMTIzLjM0Mmg2NC4yMnYtNDEuMDgy\n",
    "aC0xNzl2NDEuMDgyaDYzLjkwNnYxODIuOTE4aDUwLjg3NHoiIGZpbGw9IiNmZmYiIGZpbGwtcnVs\n",
    "ZT0iZXZlbm9kZCIvPjwvc3ZnPg==\n",
    "\"\n",
    "     alt=\"TypeScript Logo\" style=\"display:block;margin:auto;width:5%\"/>\n",
    "<br>\n",
    "\n",
    "<div style=\"text-align:center; font-size:200%;\">\n",
    "  <b>GoF Adapter Pattern</b>\n",
    "</div>\n",
    "<br/>\n",
    "<div style=\"text-align:center; font-size:120%;\">Dr. Matthias Hölzl</div>\n",
    "<br/>\n",
    "<div style=\"text-align:center;\">Coding-Akademie München</div>\n",
    "<br/>"
   ]
  },
  {
   "cell_type": "markdown",
   "id": "c7e95455739226a4",
   "metadata": {
    "lang": "de",
    "slideshow": {
     "slide_type": "slide"
    },
    "tags": [
     "slide"
    ]
   },
   "source": [
    "\n",
    "## Zweck\n",
    "\n",
    "- Anpassung der Schnittstelle einer Klasse an ein erwartetes Interface\n",
    "- Zusammenarbeit von Klassen, die aufgrund inkompatibler Schnittstellen nicht\n",
    "  zusammenarbeiten können"
   ]
  },
  {
   "cell_type": "markdown",
   "id": "484a694d067fcd79",
   "metadata": {
    "lang": "de",
    "slideshow": {
     "slide_type": "subslide"
    },
    "tags": [
     "subslide"
    ]
   },
   "source": [
    "\n",
    "## Auch bekannt als\n",
    "\n",
    "- Wrapper"
   ]
  },
  {
   "cell_type": "markdown",
   "id": "639bb0fffd091f5c",
   "metadata": {
    "lang": "de",
    "slideshow": {
     "slide_type": "subslide"
    },
    "tags": [
     "subslide"
    ]
   },
   "source": [
    "\n",
    "## Motivation\n",
    "\n",
    "- Nutzung einer Bibliotheks-Klasse aufgrund inkompatibler Schnittstellen nicht\n",
    "  möglich\n",
    "- Beispiel: Grafischer Editor\n",
    "  - Grafik-Objekte sind relativ einfach zu realisieren\n",
    "  - Text ist komplexer, möglicherweise ist der Einsatz einer externen Bibliothek\n",
    "    sinnvoll\n",
    "- Die Schnittstelle dieser Bibliothek ist nicht kompatibel mit der Schnittstelle,\n",
    "  die unser Editor erwartet\n",
    "- Mit einem Adapter können wir die Schnittstelle der Bibliothek an die\n",
    "  Schnittstelle unseres Editors anpassen"
   ]
  },
  {
   "cell_type": "markdown",
   "id": "237867fa7eedc07b",
   "metadata": {
    "lang": "de",
    "slideshow": {
     "slide_type": "subslide"
    },
    "tags": [
     "subslide"
    ]
   },
   "source": [
    "\n",
    "<img src=\"img/adapter_example.png\"\n",
    "     style=\"display:block;margin:auto;width:80%\"/>"
   ]
  },
  {
   "cell_type": "markdown",
   "id": "d3831430dbb78aea",
   "metadata": {
    "lang": "de",
    "slideshow": {
     "slide_type": "subslide"
    },
    "tags": [
     "subslide"
    ]
   },
   "source": [
    "\n",
    "## Anwendbarkeit\n",
    "\n",
    "- Nutzung einer bestehenden Klasse mit inkompatibler Schnittstelle\n",
    "- [...]"
   ]
  },
  {
   "cell_type": "markdown",
   "id": "4d9d457e4ec2b195",
   "metadata": {
    "lang": "de",
    "slideshow": {
     "slide_type": "subslide"
    },
    "tags": [
     "subslide"
    ]
   },
   "source": [
    "\n",
    "## Struktur\n",
    "\n",
    "- Es werden zwei Varianten definiert: Klassenadapter und Objektadapter\n",
    "- Klassenadapter verwenden Mehrfachvererbung und werden seltener eingesetzt\n",
    "- Klassendiagramm für Objektadapter:\n",
    "\n",
    "<img src=\"img/pat_adapter.png\"\n",
    "     style=\"display: block; margin: auto; width: 80%;\"/>"
   ]
  },
  {
   "cell_type": "markdown",
   "id": "a352514c2f02378f",
   "metadata": {
    "lang": "de",
    "slideshow": {
     "slide_type": "subslide"
    },
    "tags": [
     "subslide"
    ]
   },
   "source": [
    "\n",
    "## Teilnehmer\n",
    "\n",
    "- `Client`\n",
    "  - Nutzt das Interface von `Target`\n",
    "- `Target`\n",
    "  - Definiert das Interface, das vom `Client` verwendet wird\n",
    "- `Adapter`\n",
    "  - Implementiert das Interface von `Target` und hält eine Referenz auf das `Adaptee`\n",
    "- `Adaptee`\n",
    "  - Die Klasse, deren Schnittstelle angepasst werden soll"
   ]
  },
  {
   "cell_type": "markdown",
   "id": "5c77cdf4448ae7d6",
   "metadata": {
    "lang": "de",
    "slideshow": {
     "slide_type": "subslide"
    },
    "tags": [
     "subslide"
    ]
   },
   "source": [
    "\n",
    "## Interaktionen\n",
    "\n",
    "- Der Client ruft eine Target-Methode auf einem Adapter-Objekt auf\n",
    "- Der Adapter ruft die entsprechende Methode auf dem Adaptee auf"
   ]
  },
  {
   "cell_type": "markdown",
   "id": "4be3729f5489e862",
   "metadata": {
    "lang": "de",
    "slideshow": {
     "slide_type": "subslide"
    },
    "tags": [
     "subslide"
    ]
   },
   "source": [
    "\n",
    "## Konsequenzen\n",
    "\n",
    "- Klassenadapter\n",
    "  - ...\n",
    "- Objektadapter\n",
    "  - ein Adapter kann mit mehreren adaptierten Objekten zusammenarbeiten\n",
    "  - erschwert das Überschreiben von Adaptee-Methoden"
   ]
  },
  {
   "cell_type": "markdown",
   "id": "3dee4b635aa4bc4e",
   "metadata": {
    "lang": "de",
    "slideshow": {
     "slide_type": "subslide"
    },
    "tags": [
     "subslide"
    ]
   },
   "source": [
    "\n",
    "## Beispielcode\n",
    "\n",
    "- Verwaltung von Mitarbeitern in einer Firma\n",
    "- Ein Teil der Daten wird von einem Legacy-System bereitgestellt\n",
    "- Die Schnittstelle des Legacy-Systems ist nicht kompatibel mit der Schnittstelle\n",
    "  der neuen Software\n",
    "- Wir erstellen einen Adapter, der die Schnittstelle des Legacy-Systems an die\n",
    "  Schnittstelle der neuen Software anpasst"
   ]
  },
  {
   "cell_type": "code",
   "execution_count": null,
   "id": "b89fbbb358b5a5ca",
   "metadata": {
    "slideshow": {
     "slide_type": "subslide"
    },
    "tags": [
     "keep",
     "subslide"
    ]
   },
   "outputs": [],
   "source": [
    "interface Employee {\n",
    "    readonly name: string;\n",
    "    readonly salary: number;\n",
    "}"
   ]
  },
  {
   "cell_type": "code",
   "execution_count": null,
   "id": "8c5783e6c222132e",
   "metadata": {
    "slideshow": {
     "slide_type": "subslide"
    },
    "tags": [
     "keep",
     "subslide"
    ]
   },
   "outputs": [],
   "source": [
    "class NewEmployee implements Employee {\n",
    "    constructor(\n",
    "        readonly name: string,\n",
    "        readonly salary: number\n",
    "    ) {}\n",
    "}"
   ]
  },
  {
   "cell_type": "code",
   "execution_count": null,
   "id": "f3b715f62dcaf71d",
   "metadata": {
    "slideshow": {
     "slide_type": "subslide"
    },
    "tags": [
     "keep",
     "subslide"
    ]
   },
   "outputs": [],
   "source": [
    "class LegacyEmployee {\n",
    "    constructor(\n",
    "        public firstName: string,\n",
    "        public lastName: string,\n",
    "        public pay: number  // In cents\n",
    "    ) {}\n",
    "}"
   ]
  },
  {
   "cell_type": "code",
   "execution_count": null,
   "id": "24c73cf589090b0d",
   "metadata": {
    "lines_to_next_cell": 0,
    "slideshow": {
     "slide_type": "subslide"
    },
    "tags": [
     "keep",
     "subslide"
    ]
   },
   "outputs": [],
   "source": [
    "class Company {\n",
    "    constructor(readonly employees: Employee[], readonly monthlyRent: number = 1000.0) {\n",
    "        this.employees = employees;\n",
    "        this.monthlyRent = monthlyRent;\n",
    "    }\n",
    "\n",
    "    monthlyExpenses(): number {\n",
    "        const totalSalary = this.employees.reduce((acc, employee) => acc + employee.salary, 0.0);\n",
    "        return totalSalary + this.monthlyRent;\n",
    "    }\n",
    "\n",
    "    employeesAsString(): string {\n",
    "        return this.employees.reduce((acc, employee) => acc + employee.name + \"\\n\", \"\");\n",
    "    }\n",
    "}"
   ]
  },
  {
   "cell_type": "code",
   "execution_count": null,
   "id": "148744573acc4d1c",
   "metadata": {
    "slideshow": {
     "slide_type": "subslide"
    },
    "tags": [
     "subslide",
     "keep"
    ]
   },
   "outputs": [],
   "source": [
    "class LegacyEmployeeAdapter implements Employee {\n",
    "    constructor(readonly legacyEmployee: LegacyEmployee) {\n",
    "    }\n",
    "\n",
    "    get name(): string {\n",
    "        return `${this.legacyEmployee.firstName} ${this.legacyEmployee.lastName}`;\n",
    "    }\n",
    "\n",
    "    get salary(): number {\n",
    "        return this.legacyEmployee.pay / 100.0;\n",
    "    }\n",
    "}"
   ]
  },
  {
   "cell_type": "code",
   "execution_count": null,
   "id": "9c92dd74e1e970a5",
   "metadata": {
    "slideshow": {
     "slide_type": "subslide"
    },
    "tags": [
     "keep",
     "subslide"
    ]
   },
   "outputs": [],
   "source": [
    "const legacyEmployee1 = new LegacyEmployeeAdapter(new LegacyEmployee(\"John\", \"Doe\", 150_000));\n",
    "const legacyEmployee2 = new LegacyEmployeeAdapter(new LegacyEmployee(\"Jane\", \"Miller\", 200_000));\n",
    "const newEmployee1 = new NewEmployee(\"Max Mustermann\", 2500.0);\n",
    "const newEmployee2 = new NewEmployee(\"Erica Jones\", 3000.0);"
   ]
  },
  {
   "cell_type": "code",
   "execution_count": null,
   "id": "8e3ee30423afdb57",
   "metadata": {
    "tags": [
     "keep"
    ]
   },
   "outputs": [],
   "source": [
    "const employees: Employee[] = [\n",
    "    legacyEmployee1,\n",
    "    legacyEmployee2,\n",
    "    newEmployee1,\n",
    "    newEmployee2\n",
    "];"
   ]
  },
  {
   "cell_type": "code",
   "execution_count": null,
   "id": "6feefed21b2df5e7",
   "metadata": {
    "tags": [
     "keep"
    ]
   },
   "outputs": [],
   "source": [
    "const company = new Company(employees);"
   ]
  },
  {
   "cell_type": "code",
   "execution_count": null,
   "id": "5b7b2a2c1d733ec4",
   "metadata": {
    "tags": [
     "keep"
    ]
   },
   "outputs": [],
   "source": [
    "console.log(\"Monthly expenses: \" + company.monthlyExpenses());"
   ]
  },
  {
   "cell_type": "code",
   "execution_count": null,
   "id": "e31913d3c0606c4e",
   "metadata": {
    "tags": [
     "keep"
    ]
   },
   "outputs": [],
   "source": [
    "console.log(\"Employees:\\n\" + company.employeesAsString());"
   ]
  },
  {
   "cell_type": "markdown",
   "id": "9479c8f1939f4f25",
   "metadata": {
    "lang": "de",
    "slideshow": {
     "slide_type": "subslide"
    },
    "tags": [
     "subslide"
    ]
   },
   "source": [
    "\n",
    "## Praxisbeispiele\n",
    "\n",
    "- ET++ Draw\n",
    "- InterViews 2.6\n",
    "- ..."
   ]
  },
  {
   "cell_type": "markdown",
   "id": "e834c60251d14de2",
   "metadata": {
    "lang": "de",
    "slideshow": {
     "slide_type": "subslide"
    },
    "tags": [
     "subslide"
    ]
   },
   "source": [
    "\n",
    "## Verwandte Muster\n",
    "\n",
    "- Bridge: ähnliche Struktur, aber andere Absicht (Trennung von Schnittstelle und\n",
    "  Implementierung)\n",
    "- Decorator: erweitert anderes Objekt, ohne die Schnittstelle zu ändern\n",
    "- Proxy: Stellvertreter für ein Objekt, das die gleiche Schnittstelle hat"
   ]
  },
  {
   "cell_type": "markdown",
   "id": "8631014e37befd95",
   "metadata": {
    "lang": "de",
    "slideshow": {
     "slide_type": "subslide"
    },
    "tags": [
     "subslide"
    ]
   },
   "source": [
    "\n",
    "## Workshop: Einheitliche Schnittstelle für einen Chat-Client\n",
    "\n",
    "In diesem Workshop sollen verschiedene Messaging-Dienste, wie SMS, E-Mail und\n",
    "eine In-App-Chat-System, zu einer Chat Applikation hinzugefügt werden. Die\n",
    "Herausforderung besteht darin, dass jeder dieser Dienste seine eigene Art\n",
    "hat, Nachrichten zu senden und zu empfangen.\n",
    "\n",
    "Im Folgenden finden Sie den Startercode mit einer Klasse für Benutzer des\n",
    "Dienstes und separaten Klassen für jeden Messaging-Dienst."
   ]
  },
  {
   "cell_type": "code",
   "execution_count": null,
   "id": "b6400fb1a7a0c109",
   "metadata": {
    "slideshow": {
     "slide_type": "subslide"
    },
    "tags": [
     "keep",
     "subslide"
    ]
   },
   "outputs": [],
   "source": [
    "class User {\n",
    "    constructor(\n",
    "        readonly userName: string,\n",
    "        readonly phoneNumber: string,\n",
    "        readonly emailAddress: string\n",
    "    ) {\n",
    "        this.userName = userName;\n",
    "        this.phoneNumber = phoneNumber;\n",
    "        this.emailAddress = emailAddress;\n",
    "    }\n",
    "}"
   ]
  },
  {
   "cell_type": "code",
   "execution_count": null,
   "id": "6fcec9ba03baf765",
   "metadata": {
    "slideshow": {
     "slide_type": "subslide"
    },
    "tags": [
     "keep",
     "subslide"
    ]
   },
   "outputs": [],
   "source": [
    "class SMS {\n",
    "    sendText(number: string, message: string): void {\n",
    "        console.log(`Sending SMS to ${number}: ${message}`);\n",
    "    }\n",
    "\n",
    "    receiveText(number: string): void {\n",
    "        console.log(`Receiving a SMS from ${number}`);\n",
    "    }\n",
    "}"
   ]
  },
  {
   "cell_type": "code",
   "execution_count": null,
   "id": "02bb0cdfddd7c713",
   "metadata": {
    "slideshow": {
     "slide_type": "subslide"
    },
    "tags": [
     "keep",
     "subslide"
    ]
   },
   "outputs": [],
   "source": [
    "class Email {\n",
    "    sendEmail(emailAddress: string, subject: string, message: string): void {\n",
    "        console.log(`Sending email to ${emailAddress} with subject '${subject}': ${message}`);\n",
    "    }\n",
    "\n",
    "    receiveEmail(emailAddress: string): void {\n",
    "        console.log(`Receiving an email from ${emailAddress}`);\n",
    "    }\n",
    "}"
   ]
  },
  {
   "cell_type": "code",
   "execution_count": null,
   "id": "780199deb957e80e",
   "metadata": {
    "slideshow": {
     "slide_type": "subslide"
    },
    "tags": [
     "keep",
     "subslide"
    ]
   },
   "outputs": [],
   "source": [
    "class InAppChat {\n",
    "    sendMessage(user: User, message: string): void {\n",
    "        console.log(`Sending message to ${user.userName}: ${message}`);\n",
    "    }\n",
    "\n",
    "    receiveMessage(user: User) {\n",
    "        console.log(`Receiving a message from ${user.userName}`);\n",
    "    }\n",
    "}"
   ]
  },
  {
   "cell_type": "code",
   "execution_count": null,
   "id": "44a6564a868a1ffa",
   "metadata": {
    "slideshow": {
     "slide_type": "subslide"
    },
    "tags": [
     "keep",
     "subslide"
    ]
   },
   "outputs": [],
   "source": [
    "interface MessagingService {\n",
    "    send(to: User, message: string): void;\n",
    "    receive(from: User): void;\n",
    "}"
   ]
  },
  {
   "cell_type": "code",
   "execution_count": null,
   "id": "e7fdd59d621bc1f7",
   "metadata": {
    "slideshow": {
     "slide_type": "subslide"
    },
    "tags": [
     "keep",
     "subslide"
    ]
   },
   "outputs": [],
   "source": [
    "class ChatApplication {\n",
    "    private adapters: MessagingService[];\n",
    "\n",
    "    constructor(adapters: MessagingService[]) {\n",
    "        this.adapters = adapters;\n",
    "    }\n",
    "\n",
    "    sendMessage(to: User, message: string): void {\n",
    "        this.adapters.forEach(adapter => adapter.send(to, message));\n",
    "    }\n",
    "\n",
    "    receiveMessage(from: User): void {\n",
    "        this.adapters.forEach(adapter => adapter.receive(from));\n",
    "    }\n",
    "}"
   ]
  },
  {
   "cell_type": "markdown",
   "id": "f943c7b74b104450",
   "metadata": {
    "lang": "de",
    "slideshow": {
     "slide_type": "subslide"
    },
    "tags": [
     "subslide"
    ]
   },
   "source": [
    "\n",
    "Die folgenden Variablen definieren die Messaging-Dienste, die von der Chat-Anwendung\n",
    "verwendet werden sollen. Sie müssen nicht geändert werden."
   ]
  },
  {
   "cell_type": "code",
   "execution_count": null,
   "id": "9de7bc31b56ab743",
   "metadata": {
    "tags": [
     "keep"
    ]
   },
   "outputs": [],
   "source": [
    "const sms = new SMS();\n",
    "const email = new Email();\n",
    "const chat = new InAppChat();"
   ]
  },
  {
   "cell_type": "markdown",
   "id": "13668d1376a1da63",
   "metadata": {
    "lang": "de",
    "slideshow": {
     "slide_type": "subslide"
    },
    "tags": [
     "subslide"
    ]
   },
   "source": [
    "\n",
    "- Definieren Sie Adapter für die drei Messaging-Dienste"
   ]
  },
  {
   "cell_type": "markdown",
   "id": "84601e322ba970ed",
   "metadata": {
    "lang": "de",
    "slideshow": {
     "slide_type": "subslide"
    },
    "tags": [
     "subslide"
    ]
   },
   "source": [
    "\n",
    "- Erstellen Sie hier Adapter für die Messaging-Dienste:"
   ]
  },
  {
   "cell_type": "code",
   "execution_count": null,
   "id": "2272a9586c067d80",
   "metadata": {
    "tags": [
     "start"
    ]
   },
   "outputs": [],
   "source": [
    "// const smsAdapter: IMessagingService;\n",
    "// const emailAdapter: IMessagingService;\n",
    "// const chatAdapter: IMessagingService;"
   ]
  },
  {
   "cell_type": "code",
   "execution_count": null,
   "id": "e6ac60c45922e72f",
   "metadata": {
    "slideshow": {
     "slide_type": "subslide"
    },
    "tags": [
     "keep",
     "subslide"
    ]
   },
   "outputs": [],
   "source": [
    "const messagingServices: MessagingService[] = [];"
   ]
  },
  {
   "cell_type": "markdown",
   "id": "79873afef3d88ffc",
   "metadata": {
    "lang": "de"
   },
   "source": [
    "\n",
    "- Fügen Sie die Adapter zur Liste `messagingServices` hinzu"
   ]
  },
  {
   "cell_type": "markdown",
   "id": "485081092b37865a",
   "metadata": {
    "lang": "de",
    "slideshow": {
     "slide_type": "subslide"
    },
    "tags": [
     "subslide"
    ]
   },
   "source": [
    "\n",
    "- Überprüfen Sie, dass Ihre Adapter funktionieren, indem Sie die folgenden\n",
    "  Zeilen ausführen\n",
    "- Sie sollten eine Ausgabe für jeden Messaging-Dienst sehen, in der die\n",
    "  entsprechende Nachricht angezeigt wird"
   ]
  },
  {
   "cell_type": "code",
   "execution_count": null,
   "id": "8b4e2dffa10fbca3",
   "metadata": {
    "slideshow": {
     "slide_type": "subslide"
    },
    "tags": [
     "keep",
     "subslide"
    ]
   },
   "outputs": [],
   "source": [
    "const chatApp = new ChatApplication(messagingServices);"
   ]
  },
  {
   "cell_type": "code",
   "execution_count": null,
   "id": "a4c852b1711db793",
   "metadata": {
    "tags": [
     "keep"
    ]
   },
   "outputs": [],
   "source": [
    "chatApp.sendMessage(new User(\"Joe Example\", \"555-1234\", \"joe@example.org\"), \"Hello!\");"
   ]
  },
  {
   "cell_type": "code",
   "execution_count": null,
   "id": "15ccf47374059a14",
   "metadata": {
    "tags": [
     "keep"
    ]
   },
   "outputs": [],
   "source": [
    "chatApp.receiveMessage(new User(\"Joe Example\", \"555-1234\", \"joe@example.org\"));"
   ]
  }
 ],
 "metadata": {
  "jupytext": {
   "cell_metadata_filter": "tags,lang,-all",
   "encoding": "// -*- coding: utf-8 -*-",
   "main_language": "typescript",
   "notebook_metadata_filter": "-all"
  },
  "kernelspec": {
   "display_name": "Deno",
   "language": "typescript",
   "name": "deno"
  },
  "language_info": {
   "codemirror_mode": "typescript",
   "file_extension": ".ts",
   "mimetype": "text/x.typescript",
   "name": "typescript",
   "pygments_lexer": "typescript",
   "version": "5.6.2"
  }
 },
 "nbformat": 4,
 "nbformat_minor": 5
}
