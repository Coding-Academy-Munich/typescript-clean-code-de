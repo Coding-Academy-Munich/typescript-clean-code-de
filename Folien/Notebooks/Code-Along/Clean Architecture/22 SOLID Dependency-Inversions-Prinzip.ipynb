{
 "cells": [
  {
   "cell_type": "markdown",
   "id": "e44312ed8de8192f",
   "metadata": {
    "lang": "de",
    "slideshow": {
     "slide_type": "slide"
    },
    "tags": [
     "slide"
    ]
   },
   "source": [
    "<!--\n",
    "clang-format off\n",
    "-->\n",
    "\n",
    "<img src=\"data:image/svg+xml;base64,PHN2ZyBmaWxsPSJub25lIiBoZWlnaHQ9IjUxMiIgdmlld0JveD0iMCAwIDUxMiA1MTIiIHdpZHRo\n",
    "PSI1MTIiIHhtbG5zPSJodHRwOi8vd3d3LnczLm9yZy8yMDAwL3N2ZyI+PHJlY3QgZmlsbD0iIzMx\n",
    "NzhjNiIgaGVpZ2h0PSI1MTIiIHJ4PSI1MCIgd2lkdGg9IjUxMiIvPjxyZWN0IGZpbGw9IiMzMTc4\n",
    "YzYiIGhlaWdodD0iNTEyIiByeD0iNTAiIHdpZHRoPSI1MTIiLz48cGF0aCBjbGlwLXJ1bGU9ImV2\n",
    "ZW5vZGQiIGQ9Im0zMTYuOTM5IDQwNy40MjR2NTAuMDYxYzguMTM4IDQuMTcyIDE3Ljc2MyA3LjMg\n",
    "MjguODc1IDkuMzg2czIyLjgyMyAzLjEyOSAzNS4xMzUgMy4xMjljMTEuOTk5IDAgMjMuMzk3LTEu\n",
    "MTQ3IDM0LjE5Ni0zLjQ0MiAxMC43OTktMi4yOTQgMjAuMjY4LTYuMDc1IDI4LjQwNi0xMS4zNDIg\n",
    "OC4xMzgtNS4yNjYgMTQuNTgxLTEyLjE1IDE5LjMyOC0yMC42NXM3LjEyMS0xOS4wMDcgNy4xMjEt\n",
    "MzEuNTIyYzAtOS4wNzQtMS4zNTYtMTcuMDI2LTQuMDY5LTIzLjg1N3MtNi42MjUtMTIuOTA2LTEx\n",
    "LjczOC0xOC4yMjVjLTUuMTEyLTUuMzE5LTExLjI0Mi0xMC4wOTEtMTguMzg5LTE0LjMxNXMtMTUu\n",
    "MjA3LTguMjEzLTI0LjE4LTExLjk2N2MtNi41NzMtMi43MTItMTIuNDY4LTUuMzQ1LTE3LjY4NS03\n",
    "LjktNS4yMTctMi41NTYtOS42NTEtNS4xNjMtMTMuMzAzLTcuODIyLTMuNjUyLTIuNjYtNi40Njkt\n",
    "NS40NzYtOC40NTEtOC40NDgtMS45ODItMi45NzMtMi45NzQtNi4zMzYtMi45NzQtMTAuMDkxIDAt\n",
    "My40NDEuODg3LTYuNTQ0IDIuNjYxLTkuMzA4czQuMjc4LTUuMTM2IDcuNTEyLTcuMTE4YzMuMjM1\n",
    "LTEuOTgxIDcuMTk5LTMuNTIgMTEuODk0LTQuNjE1IDQuNjk2LTEuMDk1IDkuOTEyLTEuNjQyIDE1\n",
    "LjY1MS0xLjY0MiA0LjE3MyAwIDguNTgxLjMxMyAxMy4yMjQuOTM4IDQuNjQzLjYyNiA5LjMxMiAx\n",
    "LjU5MSAxNC4wMDggMi44OTQgNC42OTUgMS4zMDQgOS4yNTkgMi45NDcgMTMuNjk0IDQuOTI4IDQu\n",
    "NDM0IDEuOTgyIDguNTI5IDQuMjc2IDEyLjI4NSA2Ljg4NHYtNDYuNzc2Yy03LjYxNi0yLjkyLTE1\n",
    "LjkzNy01LjA4NC0yNC45NjItNi40OTJzLTE5LjM4MS0yLjExMi0zMS4wNjYtMi4xMTJjLTExLjg5\n",
    "NSAwLTIzLjE2MyAxLjI3OC0zMy44MDUgMy44MzNzLTIwLjAwNiA2LjU0NC0yOC4wOTMgMTEuOTY3\n",
    "Yy04LjA4NiA1LjQyNC0xNC40NzYgMTIuMzMzLTE5LjE3MSAyMC43MjktNC42OTUgOC4zOTUtNy4w\n",
    "NDMgMTguNDMzLTcuMDQzIDMwLjExNCAwIDE0LjkxNCA0LjMwNCAyNy42MzggMTIuOTEyIDM4LjE3\n",
    "MiA4LjYwNyAxMC41MzMgMjEuNjc1IDE5LjQ1IDM5LjIwNCAyNi43NTEgNi44ODYgMi44MTYgMTMu\n",
    "MzAzIDUuNTc5IDE5LjI1IDguMjkxczExLjA4NiA1LjUyOCAxNS40MTUgOC40NDhjNC4zMyAyLjky\n",
    "IDcuNzQ3IDYuMTAxIDEwLjI1MiA5LjU0MyAyLjUwNCAzLjQ0MSAzLjc1NiA3LjM1MiAzLjc1NiAx\n",
    "MS43MzMgMCAzLjIzMy0uNzgzIDYuMjMxLTIuMzQ4IDguOTk1cy0zLjkzOSA1LjE2Mi03LjEyMSA3\n",
    "LjE5Ni03LjE0NyAzLjYyNC0xMS44OTQgNC43NzFjLTQuNzQ4IDEuMTQ4LTEwLjMwMyAxLjcyMS0x\n",
    "Ni42NjggMS43MjEtMTAuODUxIDAtMjEuNTk3LTEuOTAzLTMyLjI0LTUuNzEtMTAuNjQyLTMuODA2\n",
    "LTIwLjUwMi05LjUxNi0yOS41NzktMTcuMTN6bS04NC4xNTktMTIzLjM0Mmg2NC4yMnYtNDEuMDgy\n",
    "aC0xNzl2NDEuMDgyaDYzLjkwNnYxODIuOTE4aDUwLjg3NHoiIGZpbGw9IiNmZmYiIGZpbGwtcnVs\n",
    "ZT0iZXZlbm9kZCIvPjwvc3ZnPg==\n",
    "\"\n",
    "     alt=\"TypeScript Logo\" style=\"display:block;margin:auto;width:5%\"/>\n",
    "<br>\n",
    "\n",
    "<div style=\"text-align:center; font-size:200%;\">\n",
    "  <b>SOLID: Dependency-Inversions-Prinzip</b>\n",
    "</div>\n",
    "<br/>\n",
    "<div style=\"text-align:center; font-size:120%;\">Dr. Matthias Hölzl</div>\n",
    "<br/>\n",
    "<div style=\"text-align:center;\">Coding-Akademie München</div>\n",
    "<br/>"
   ]
  },
  {
   "cell_type": "markdown",
   "id": "390039e5230466df",
   "metadata": {
    "lang": "de",
    "slideshow": {
     "slide_type": "subslide"
    },
    "tags": [
     "subslide"
    ]
   },
   "source": [
    "\n",
    "# Abhängigkeiten\n",
    "\n",
    "- Wir müssen zwei Arten von Abhängigkeiten unterscheiden:\n",
    "  - Daten- und Kontrollfluss\n",
    "  - Quellcode-, Modul- und Package-Abhängigkeiten\n",
    "- Daten- und Kontrollfluss-Abhängigkeiten sind inhärent in der Logik\n",
    "- Quellcode-Abhängigkeiten können wir durch die Architektur kontrollieren"
   ]
  },
  {
   "cell_type": "markdown",
   "id": "bfe4007f71cc4bc6",
   "metadata": {
    "lang": "de",
    "slideshow": {
     "slide_type": "subslide"
    },
    "tags": [
     "subslide"
    ]
   },
   "source": [
    "\n",
    "## Beispiel\n",
    "\n",
    "<img src=\"img/db-example-01.png\"\n",
    "     style=\"display:block;margin:auto;width:75%\"/>\n",
    "\n",
    "Die Quellcode-Abhängigkeit geht in die gleiche Richtung wie der Datenfluss:\n",
    "\n",
    "`MyModule.ts` ⟹ `Database.ts`"
   ]
  },
  {
   "cell_type": "markdown",
   "id": "ef23a2ff30a4ec1d",
   "metadata": {
    "lang": "de",
    "slideshow": {
     "slide_type": "subslide"
    },
    "tags": [
     "subslide"
    ]
   },
   "source": [
    "\n",
    "Modul `Database.ts`"
   ]
  },
  {
   "cell_type": "code",
   "execution_count": null,
   "id": "b7f68a905378d57d",
   "metadata": {
    "tags": [
     "keep"
    ]
   },
   "outputs": [],
   "source": [
    "class Database {\n",
    "    execute(query: string, data: string): string[] {\n",
    "        // Simulate database interaction\n",
    "        const result: string[] = [];\n",
    "        if (query.startsWith(\"SELECT\")) {\n",
    "            result.push(\"Data from the database\");\n",
    "        } else if (query.startsWith(\"INSERT\")) {\n",
    "            console.log(`Inserted: ${data}`);\n",
    "        }\n",
    "        return result;\n",
    "    }\n",
    "}"
   ]
  },
  {
   "cell_type": "markdown",
   "id": "4521ce45f24fa6ca",
   "metadata": {
    "lang": "de",
    "slideshow": {
     "slide_type": "subslide"
    },
    "tags": [
     "subslide"
    ]
   },
   "source": [
    "\n",
    "Modul `MyModule.ts`:"
   ]
  },
  {
   "cell_type": "code",
   "execution_count": null,
   "id": "335098367cc776d3",
   "metadata": {
    "tags": [
     "keep"
    ]
   },
   "outputs": [],
   "source": [
    "class MyDomainClassV1 {\n",
    "    private readonly db = new Database();\n",
    "\n",
    "    performWork(data: string): void {\n",
    "        data = \"Processed: \" + data;\n",
    "        this.db.execute(\"INSERT INTO my_table VALUES (?)\", data);\n",
    "    }\n",
    "\n",
    "    retrieveResult(): string[] {\n",
    "        return this.db.execute(\"SELECT * FROM my_table\", \"\");\n",
    "    }\n",
    "}"
   ]
  },
  {
   "cell_type": "code",
   "execution_count": null,
   "id": "9c2262fb434207ee",
   "metadata": {
    "slideshow": {
     "slide_type": "subslide"
    },
    "tags": [
     "keep",
     "subslide"
    ]
   },
   "outputs": [],
   "source": [
    "const myDomainObjectV1 = new MyDomainClassV1();"
   ]
  },
  {
   "cell_type": "code",
   "execution_count": null,
   "id": "1164856ea338165e",
   "metadata": {
    "tags": [
     "keep"
    ]
   },
   "outputs": [],
   "source": [
    "myDomainObjectV1.performWork(\"Hello World\");"
   ]
  },
  {
   "cell_type": "code",
   "execution_count": null,
   "id": "fe1a2ef68dd74428",
   "metadata": {
    "tags": [
     "keep"
    ]
   },
   "outputs": [],
   "source": [
    "console.log(myDomainObjectV1.retrieveResult());"
   ]
  },
  {
   "cell_type": "markdown",
   "id": "561cf2bcac46f233",
   "metadata": {
    "lang": "de",
    "slideshow": {
     "slide_type": "subslide"
    },
    "tags": [
     "subslide"
    ]
   },
   "source": [
    "\n",
    "Wir würden derartige Abhängigkeiten im Kern unsere Anwendung gerne vermeiden\n",
    "\n",
    "- Einfacher zu testen\n",
    "- Einfacher externe Abhängigkeiten zu ersetzen\n",
    "- Einfacher den Code zu verstehen\n",
    "- ..."
   ]
  },
  {
   "cell_type": "markdown",
   "id": "bb84c0151b793f52",
   "metadata": {
    "lang": "de",
    "slideshow": {
     "slide_type": "subslide"
    },
    "tags": [
     "subslide"
    ]
   },
   "source": [
    "\n",
    "<img src=\"img/db-example-02.png\"\n",
    "     style=\"display:block;margin:auto;width:75%\"/>"
   ]
  },
  {
   "cell_type": "markdown",
   "id": "89d1eb69a02990b3",
   "metadata": {
    "lang": "de",
    "slideshow": {
     "slide_type": "subslide"
    },
    "tags": [
     "subslide"
    ]
   },
   "source": [
    "\n",
    "- Modul `MyModule.ts`:\n",
    "  - Keine Abhängigkeit mehr zu `Database.ts`\n",
    "  - Adapter Pattern"
   ]
  },
  {
   "cell_type": "code",
   "execution_count": null,
   "id": "e44a0ec293ccad22",
   "metadata": {
    "tags": [
     "keep"
    ]
   },
   "outputs": [],
   "source": [
    "interface IAbstractDatabaseAdapter {\n",
    "    saveObject(data: string): void;\n",
    "    retrieveData(): string[];\n",
    "}"
   ]
  },
  {
   "cell_type": "code",
   "execution_count": null,
   "id": "e9a004f30bc13483",
   "metadata": {
    "lines_to_next_cell": 0,
    "slideshow": {
     "slide_type": "subslide"
    },
    "tags": [
     "keep",
     "subslide"
    ]
   },
   "outputs": [],
   "source": [
    "class MyDomainClassV2 {\n",
    "    private readonly db: IAbstractDatabaseAdapter;\n",
    "\n",
    "    constructor(db: IAbstractDatabaseAdapter) {\n",
    "        this.db = db;\n",
    "    }\n",
    "\n",
    "    public performWork(data: string) {\n",
    "        data = \"Processed: \" + data;\n",
    "        this.db.saveObject(data);\n",
    "    }\n",
    "\n",
    "    public retrieveResult(): string[] {\n",
    "        return this.db.retrieveData();\n",
    "    }\n",
    "}"
   ]
  },
  {
   "cell_type": "markdown",
   "id": "c4988e7e50a0c97f",
   "metadata": {
    "lang": "de",
    "slideshow": {
     "slide_type": "subslide"
    },
    "tags": [
     "subslide"
    ]
   },
   "source": [
    "\n",
    "- Modul `ConcreteDatabaseAdapter.ts`:\n",
    "  - Implementiert `IAbstractDatabaseAdapter` für `Database.ts`\n",
    "  - Hängt von `Database.ts` ab"
   ]
  },
  {
   "cell_type": "code",
   "execution_count": null,
   "id": "22e4ecaffd69999f",
   "metadata": {
    "tags": [
     "keep"
    ]
   },
   "outputs": [],
   "source": [
    "class ConcreteDatabaseAdapter implements IAbstractDatabaseAdapter {\n",
    "    private readonly db = new Database();\n",
    "\n",
    "    saveObject(data: string): void {\n",
    "        this.db.execute(\"INSERT INTO my_table VALUES (?)\", data);\n",
    "    }\n",
    "\n",
    "    retrieveData(): string[] {\n",
    "        return this.db.execute(\"SELECT * FROM my_table\", \"\");\n",
    "    }\n",
    "}"
   ]
  },
  {
   "cell_type": "markdown",
   "id": "b484ac698fa60800",
   "metadata": {
    "lang": "de",
    "slideshow": {
     "slide_type": "subslide"
    },
    "tags": [
     "subslide"
    ]
   },
   "source": [
    "\n",
    "- Modul `Main.ts`:"
   ]
  },
  {
   "cell_type": "code",
   "execution_count": null,
   "id": "f033410f87b8a4eb",
   "metadata": {
    "tags": [
     "keep"
    ]
   },
   "outputs": [],
   "source": [
    "const dbAdapter: IAbstractDatabaseAdapter = new ConcreteDatabaseAdapter();"
   ]
  },
  {
   "cell_type": "code",
   "execution_count": null,
   "id": "6dc9d2fa54507b1a",
   "metadata": {
    "tags": [
     "keep"
    ]
   },
   "outputs": [],
   "source": [
    "const myDomainObjectV2: MyDomainClassV2 = new MyDomainClassV2(dbAdapter);"
   ]
  },
  {
   "cell_type": "code",
   "execution_count": null,
   "id": "7756c9328b7c0f1a",
   "metadata": {
    "tags": [
     "keep"
    ]
   },
   "outputs": [],
   "source": [
    "myDomainObjectV2.performWork(\"Hello World\");"
   ]
  },
  {
   "cell_type": "code",
   "execution_count": null,
   "id": "2f5c1a1dc3f99965",
   "metadata": {
    "tags": [
     "keep"
    ]
   },
   "outputs": [],
   "source": [
    "console.log(myDomainObjectV2.retrieveResult());"
   ]
  },
  {
   "cell_type": "markdown",
   "id": "ef27447470f93635",
   "metadata": {
    "lang": "de",
    "slideshow": {
     "slide_type": "slide"
    },
    "tags": [
     "slide"
    ]
   },
   "source": [
    "\n",
    "# SOLID: Dependency Inversion Prinzip\n",
    "\n",
    "- Die Kernfunktionalität eines Systems hängt nicht von seiner Umgebung ab\n",
    "  - **Konkrete Artefakte hängen von Abstraktionen ab** (nicht umgekehrt)\n",
    "  - **Instabile Artefakte hängen von stabilen Artefakten ab** (nicht umgekehrt)\n",
    "  - **Äußere Schichten** der Architektur **hängen von inneren Schichten ab**\n",
    "    (nicht umgekehrt)\n",
    "  - Klassen/Module hängen von Abstraktionen (z. B. Schnittstellen) ab,\n",
    "    nicht von anderen Klassen/Modulen\n",
    "- Abhängigkeitsinversion (Dependency Inversion) erreicht dies durch die Einführung\n",
    "  von Schnittstellen, die \"die Abhängigkeiten umkehren\""
   ]
  },
  {
   "cell_type": "markdown",
   "id": "9ef0329d5f999d2b",
   "metadata": {
    "lang": "de",
    "slideshow": {
     "slide_type": "subslide"
    },
    "tags": [
     "subslide"
    ]
   },
   "source": [
    "\n",
    "### Vorher\n",
    "<img src=\"img/dependency-01.png\"\n",
    "     style=\"display:block;margin:auto;width:75%\"/>\n",
    "\n",
    "### Nachher\n",
    "<img src=\"img/dependency-02.png\"\n",
    "     style=\"display:block;margin:auto;width:75%\"/>"
   ]
  },
  {
   "cell_type": "markdown",
   "id": "a214739d78d35699",
   "metadata": {
    "slideshow": {
     "slide_type": "subslide"
    },
    "tags": [
     "subslide"
    ]
   },
   "source": [
    "\n",
    "<img src=\"img/dip-01.png\"\n",
    "     style=\"display:block;margin:auto;width:95%\"/>"
   ]
  },
  {
   "cell_type": "markdown",
   "id": "999ef1a9f663e746",
   "metadata": {
    "slideshow": {
     "slide_type": "subslide"
    },
    "tags": [
     "subslide"
    ]
   },
   "source": [
    "\n",
    "<img src=\"img/dip-02.png\"\n",
    "     style=\"display:block;margin:auto;width:95%\"/>"
   ]
  },
  {
   "cell_type": "markdown",
   "id": "0b91ecdb2664ac6c",
   "metadata": {
    "slideshow": {
     "slide_type": "subslide"
    },
    "tags": [
     "subslide"
    ]
   },
   "source": [
    "\n",
    "<img src=\"img/dip-03.png\"\n",
    "     style=\"display:block;margin:auto;width:95%\"/>"
   ]
  },
  {
   "cell_type": "markdown",
   "id": "555c411c828ebca1",
   "metadata": {
    "lang": "de",
    "slideshow": {
     "slide_type": "subslide"
    },
    "tags": [
     "subslide"
    ]
   },
   "source": [
    "\n",
    "## Workshop: Wetterbericht\n",
    "\n",
    "Wir haben ein Programm geschrieben, das einen Wetterbericht von einem Server\n",
    "abruft. Leider ist dabei die Abhängigkeit zum Server vom Typ\n",
    "`LegacyWeatherServer` hart kodiert. Aufgrund der Popularität des Programms\n",
    "müssen wir jedoch mit einem neuen Typ von Server `NewWeatherServer`\n",
    "kompatibel werden. Dazu refaktorisieren wir den Code nach dem\n",
    "Dependency-Inversion-Prinzip und Implementieren dann einen zusätzlichen\n",
    "Adapter für `NewWeatherServer`.\n",
    "\n",
    "- Führen Sie eine Abstraktion ein, um die Abhängigkeit umzukehren\n",
    "- Schreiben Sie eine konkrete Implementierung der Abstraktion für\n",
    "  `LegacyWeatherServer`\n",
    "- Testen Sie die Implementierung\n",
    "- Implementieren Sie einen Adapter für `NewWeatherServer`\n",
    "- Testen Sie den Adapter"
   ]
  },
  {
   "cell_type": "code",
   "execution_count": null,
   "id": "76f4630be08f9172",
   "metadata": {
    "slideshow": {
     "slide_type": "subslide"
    },
    "tags": [
     "subslide",
     "keep"
    ]
   },
   "outputs": [],
   "source": [
    "class WeatherReport {\n",
    "    constructor(public temperature: number, public humidity: number) {}\n",
    "}"
   ]
  },
  {
   "cell_type": "code",
   "execution_count": null,
   "id": "75b924a1491fa1a9",
   "metadata": {
    "slideshow": {
     "slide_type": "subslide"
    },
    "tags": [
     "keep",
     "subslide"
    ]
   },
   "outputs": [],
   "source": [
    "class LegacyWeatherServer {\n",
    "    private static readonly random = Math.random;\n",
    "\n",
    "    public getWeatherReport(): WeatherReport {\n",
    "        return new WeatherReport(20.0 + 10.0 * LegacyWeatherServer.random(), 0.5 + 0.5 * LegacyWeatherServer.random());\n",
    "    }\n",
    "}"
   ]
  },
  {
   "cell_type": "code",
   "execution_count": null,
   "id": "4b7fe93c1b91109e",
   "metadata": {
    "slideshow": {
     "slide_type": "subslide"
    },
    "tags": [
     "keep",
     "subslide"
    ]
   },
   "outputs": [],
   "source": [
    "class NewWeatherServer {\n",
    "    private static readonly random = Math.random;\n",
    "\n",
    "    public fetchWeatherData(): WeatherReport {\n",
    "        const temperature = 10.0 + 20.0 * NewWeatherServer.random();\n",
    "        const humidity = 0.7 + 0.4 * NewWeatherServer.random();\n",
    "        return new WeatherReport(temperature, humidity);\n",
    "    }\n",
    "}"
   ]
  },
  {
   "cell_type": "code",
   "execution_count": null,
   "id": "7d8f21a5843830f7",
   "metadata": {
    "slideshow": {
     "slide_type": "subslide"
    },
    "tags": [
     "keep",
     "subslide"
    ]
   },
   "outputs": [],
   "source": [
    "class WeatherReporter {\n",
    "    private readonly server: LegacyWeatherServer;\n",
    "\n",
    "    constructor(server: LegacyWeatherServer) {\n",
    "        this.server = server;\n",
    "    }\n",
    "\n",
    "    public report(): string {\n",
    "        const report = this.server.getWeatherReport();\n",
    "        return report.temperature > 25.0 ? \"It's hot\" : \"It's not hot\";\n",
    "    }\n",
    "}"
   ]
  },
  {
   "cell_type": "code",
   "execution_count": null,
   "id": "aec379a5691d4430",
   "metadata": {
    "slideshow": {
     "slide_type": "subslide"
    },
    "tags": [
     "keep",
     "subslide"
    ]
   },
   "outputs": [],
   "source": [
    "const server = new LegacyWeatherServer();\n",
    "const reporter = new WeatherReporter(server);"
   ]
  },
  {
   "cell_type": "code",
   "execution_count": null,
   "id": "ed0a32ea555f8449",
   "metadata": {
    "tags": [
     "keep"
    ]
   },
   "outputs": [],
   "source": [
    "console.log(reporter.report());"
   ]
  },
  {
   "cell_type": "code",
   "execution_count": null,
   "id": "9aa28952f4238e0b",
   "metadata": {
    "slideshow": {
     "slide_type": "subslide"
    },
    "tags": [
     "subslide"
    ]
   },
   "outputs": [],
   "source": []
  },
  {
   "cell_type": "code",
   "execution_count": null,
   "id": "2da5ac413f8ce0cc",
   "metadata": {},
   "outputs": [],
   "source": []
  },
  {
   "cell_type": "code",
   "execution_count": null,
   "id": "6b4e03423667dbb7",
   "metadata": {},
   "outputs": [],
   "source": []
  }
 ],
 "metadata": {
  "jupytext": {
   "cell_metadata_filter": "tags,lang,-all",
   "encoding": "// -*- coding: utf-8 -*-",
   "main_language": "typescript",
   "notebook_metadata_filter": "-all"
  },
  "kernelspec": {
   "display_name": "Deno",
   "language": "typescript",
   "name": "deno"
  },
  "language_info": {
   "codemirror_mode": "typescript",
   "file_extension": ".ts",
   "mimetype": "text/x.typescript",
   "name": "typescript",
   "pygments_lexer": "typescript",
   "version": "5.6.2"
  }
 },
 "nbformat": 4,
 "nbformat_minor": 5
}
