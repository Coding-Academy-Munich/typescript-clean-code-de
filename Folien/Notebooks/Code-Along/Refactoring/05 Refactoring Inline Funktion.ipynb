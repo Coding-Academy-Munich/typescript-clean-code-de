{
 "cells": [
  {
   "cell_type": "markdown",
   "id": "71dfb02845c2b09c",
   "metadata": {
    "lang": "de",
    "slideshow": {
     "slide_type": "slide"
    },
    "tags": [
     "slide"
    ]
   },
   "source": [
    "\n",
    "<img src=\"data:image/svg+xml;base64,PHN2ZyBmaWxsPSJub25lIiBoZWlnaHQ9IjUxMiIgdmlld0JveD0iMCAwIDUxMiA1MTIiIHdpZHRo\n",
    "PSI1MTIiIHhtbG5zPSJodHRwOi8vd3d3LnczLm9yZy8yMDAwL3N2ZyI+PHJlY3QgZmlsbD0iIzMx\n",
    "NzhjNiIgaGVpZ2h0PSI1MTIiIHJ4PSI1MCIgd2lkdGg9IjUxMiIvPjxyZWN0IGZpbGw9IiMzMTc4\n",
    "YzYiIGhlaWdodD0iNTEyIiByeD0iNTAiIHdpZHRoPSI1MTIiLz48cGF0aCBjbGlwLXJ1bGU9ImV2\n",
    "ZW5vZGQiIGQ9Im0zMTYuOTM5IDQwNy40MjR2NTAuMDYxYzguMTM4IDQuMTcyIDE3Ljc2MyA3LjMg\n",
    "MjguODc1IDkuMzg2czIyLjgyMyAzLjEyOSAzNS4xMzUgMy4xMjljMTEuOTk5IDAgMjMuMzk3LTEu\n",
    "MTQ3IDM0LjE5Ni0zLjQ0MiAxMC43OTktMi4yOTQgMjAuMjY4LTYuMDc1IDI4LjQwNi0xMS4zNDIg\n",
    "OC4xMzgtNS4yNjYgMTQuNTgxLTEyLjE1IDE5LjMyOC0yMC42NXM3LjEyMS0xOS4wMDcgNy4xMjEt\n",
    "MzEuNTIyYzAtOS4wNzQtMS4zNTYtMTcuMDI2LTQuMDY5LTIzLjg1N3MtNi42MjUtMTIuOTA2LTEx\n",
    "LjczOC0xOC4yMjVjLTUuMTEyLTUuMzE5LTExLjI0Mi0xMC4wOTEtMTguMzg5LTE0LjMxNXMtMTUu\n",
    "MjA3LTguMjEzLTI0LjE4LTExLjk2N2MtNi41NzMtMi43MTItMTIuNDY4LTUuMzQ1LTE3LjY4NS03\n",
    "LjktNS4yMTctMi41NTYtOS42NTEtNS4xNjMtMTMuMzAzLTcuODIyLTMuNjUyLTIuNjYtNi40Njkt\n",
    "NS40NzYtOC40NTEtOC40NDgtMS45ODItMi45NzMtMi45NzQtNi4zMzYtMi45NzQtMTAuMDkxIDAt\n",
    "My40NDEuODg3LTYuNTQ0IDIuNjYxLTkuMzA4czQuMjc4LTUuMTM2IDcuNTEyLTcuMTE4YzMuMjM1\n",
    "LTEuOTgxIDcuMTk5LTMuNTIgMTEuODk0LTQuNjE1IDQuNjk2LTEuMDk1IDkuOTEyLTEuNjQyIDE1\n",
    "LjY1MS0xLjY0MiA0LjE3MyAwIDguNTgxLjMxMyAxMy4yMjQuOTM4IDQuNjQzLjYyNiA5LjMxMiAx\n",
    "LjU5MSAxNC4wMDggMi44OTQgNC42OTUgMS4zMDQgOS4yNTkgMi45NDcgMTMuNjk0IDQuOTI4IDQu\n",
    "NDM0IDEuOTgyIDguNTI5IDQuMjc2IDEyLjI4NSA2Ljg4NHYtNDYuNzc2Yy03LjYxNi0yLjkyLTE1\n",
    "LjkzNy01LjA4NC0yNC45NjItNi40OTJzLTE5LjM4MS0yLjExMi0zMS4wNjYtMi4xMTJjLTExLjg5\n",
    "NSAwLTIzLjE2MyAxLjI3OC0zMy44MDUgMy44MzNzLTIwLjAwNiA2LjU0NC0yOC4wOTMgMTEuOTY3\n",
    "Yy04LjA4NiA1LjQyNC0xNC40NzYgMTIuMzMzLTE5LjE3MSAyMC43MjktNC42OTUgOC4zOTUtNy4w\n",
    "NDMgMTguNDMzLTcuMDQzIDMwLjExNCAwIDE0LjkxNCA0LjMwNCAyNy42MzggMTIuOTEyIDM4LjE3\n",
    "MiA4LjYwNyAxMC41MzMgMjEuNjc1IDE5LjQ1IDM5LjIwNCAyNi43NTEgNi44ODYgMi44MTYgMTMu\n",
    "MzAzIDUuNTc5IDE5LjI1IDguMjkxczExLjA4NiA1LjUyOCAxNS40MTUgOC40NDhjNC4zMyAyLjky\n",
    "IDcuNzQ3IDYuMTAxIDEwLjI1MiA5LjU0MyAyLjUwNCAzLjQ0MSAzLjc1NiA3LjM1MiAzLjc1NiAx\n",
    "MS43MzMgMCAzLjIzMy0uNzgzIDYuMjMxLTIuMzQ4IDguOTk1cy0zLjkzOSA1LjE2Mi03LjEyMSA3\n",
    "LjE5Ni03LjE0NyAzLjYyNC0xMS44OTQgNC43NzFjLTQuNzQ4IDEuMTQ4LTEwLjMwMyAxLjcyMS0x\n",
    "Ni42NjggMS43MjEtMTAuODUxIDAtMjEuNTk3LTEuOTAzLTMyLjI0LTUuNzEtMTAuNjQyLTMuODA2\n",
    "LTIwLjUwMi05LjUxNi0yOS41NzktMTcuMTN6bS04NC4xNTktMTIzLjM0Mmg2NC4yMnYtNDEuMDgy\n",
    "aC0xNzl2NDEuMDgyaDYzLjkwNnYxODIuOTE4aDUwLjg3NHoiIGZpbGw9IiNmZmYiIGZpbGwtcnVs\n",
    "ZT0iZXZlbm9kZCIvPjwvc3ZnPg==\n",
    "\"\n",
    "     alt=\"TypeScript Logo\" style=\"display:block;margin:auto;width:5%\"/>\n",
    "<br>\n",
    "\n",
    "<div style=\"text-align:center; font-size:200%;\">\n",
    "  <b>Refactoring: Inline Funktion</b>\n",
    "</div>\n",
    "<br/>\n",
    "<div style=\"text-align:center; font-size:120%;\">Dr. Matthias Hölzl</div>\n",
    "<br/>\n",
    "<div style=\"text-align:center;\">Coding-Akademie München</div>\n",
    "<br/>"
   ]
  },
  {
   "cell_type": "markdown",
   "id": "d67536c8faf1b6a5",
   "metadata": {
    "lang": "de",
    "slideshow": {
     "slide_type": "subslide"
    },
    "tags": [
     "subslide"
    ]
   },
   "source": [
    "\n",
    "### Inline Function\n",
    "\n",
    "- Anwendung\n",
    "  - Wenn eine Funktion nicht mehr tut als ihr Rumpf und der Name nicht mehr\n",
    "    aussagt als der Rumpf\n",
    "  - Wenn wir eine schlecht strukturierte Hilfsfunktion haben\n",
    "- Invers zu *Extrahiere Funktion*"
   ]
  },
  {
   "cell_type": "code",
   "execution_count": null,
   "id": "54c25ed2c9e019bd",
   "metadata": {
    "slideshow": {
     "slide_type": "subslide"
    },
    "tags": [
     "keep",
     "subslide"
    ]
   },
   "outputs": [],
   "source": [
    "class OrderLine {\n",
    "    constructor(public product: string, public quantity: number, public price: number) {}\n",
    "}"
   ]
  },
  {
   "cell_type": "code",
   "execution_count": null,
   "id": "160f5730813fbdb4",
   "metadata": {
    "slideshow": {
     "slide_type": "subslide"
    },
    "tags": [
     "keep",
     "subslide"
    ]
   },
   "outputs": [],
   "source": [
    "function makeOrderLines(): OrderLine[] {\n",
    "    const orderLines: OrderLine[] = [];\n",
    "    orderLines.push(new OrderLine(\"Apple\", 2, 0.5));\n",
    "    orderLines.push(new OrderLine(\"Banana\", 3, 0.3));\n",
    "    orderLines.push(new OrderLine(\"Orange\", 1, 0.8));\n",
    "    return orderLines;\n",
    "}"
   ]
  },
  {
   "cell_type": "code",
   "execution_count": null,
   "id": "376436f553e7f913",
   "metadata": {
    "slideshow": {
     "slide_type": "subslide"
    },
    "tags": [
     "keep",
     "subslide"
    ]
   },
   "outputs": [],
   "source": [
    "class OrderLineProcessor {\n",
    "    static orderLinePrice(orderLine: OrderLine): number {\n",
    "        return orderLine.price;\n",
    "    }\n",
    "\n",
    "    static orderLineQuantity(orderLine: OrderLine): number {\n",
    "        return orderLine.quantity;\n",
    "    }\n",
    "\n",
    "    static computeTotal(orderLines: OrderLine[]): number {\n",
    "        let total = 0.0;\n",
    "        for (const orderLine of orderLines) {\n",
    "            total += this.orderLineQuantity(orderLine) * this.orderLinePrice(orderLine);\n",
    "        }\n",
    "        return total;\n",
    "    }\n",
    "}"
   ]
  },
  {
   "cell_type": "code",
   "execution_count": null,
   "id": "d28cc377d1393a2d",
   "metadata": {
    "tags": [
     "keep"
    ]
   },
   "outputs": [],
   "source": [
    "console.log(OrderLineProcessor.computeTotal(makeOrderLines()));"
   ]
  },
  {
   "cell_type": "code",
   "execution_count": null,
   "id": "450ee6cb0e71c417",
   "metadata": {
    "slideshow": {
     "slide_type": "subslide"
    },
    "tags": [
     "start",
     "subslide"
    ]
   },
   "outputs": [],
   "source": [
    "class OrderLineProcessor {\n",
    "    static orderLinePrice(orderLine: OrderLine): number {\n",
    "        return orderLine.price;\n",
    "    }\n",
    "\n",
    "    static orderLineQuantity(orderLine: OrderLine): number {\n",
    "        return orderLine.quantity;\n",
    "    }\n",
    "\n",
    "    static computeTotal(orderLines: OrderLine[]): number {\n",
    "        let total = 0.0;\n",
    "        for (const orderLine of orderLines) {\n",
    "            total += this.orderLineQuantity(orderLine) * this.orderLinePrice(orderLine);\n",
    "        }\n",
    "        return total;\n",
    "    }\n",
    "}"
   ]
  },
  {
   "cell_type": "code",
   "execution_count": null,
   "id": "ae4335e611a40302",
   "metadata": {
    "tags": [
     "keep"
    ]
   },
   "outputs": [],
   "source": [
    "console.log(OrderLineProcessor.computeTotal(makeOrderLines()));"
   ]
  },
  {
   "cell_type": "markdown",
   "id": "3835e3594e720526",
   "metadata": {
    "lang": "de",
    "slideshow": {
     "slide_type": "subslide"
    },
    "tags": [
     "subslide"
    ]
   },
   "source": [
    "\n",
    "#### Motivation\n",
    "\n",
    "- Manchmal ist eine Funktion nicht leichter zu verstehen als ihr Rumpf\n",
    "- Manchmal sind die von einer Funktion verwendeten Hilfsfunktionen nicht gut\n",
    "  strukturiert\n",
    "- Generell: Potentiell anwendbar, wenn man aufgrund zu vieler Indirektionen\n",
    "  den Überblick verliert"
   ]
  },
  {
   "cell_type": "markdown",
   "id": "f353e019e4d05808",
   "metadata": {
    "lang": "de",
    "slideshow": {
     "slide_type": "subslide"
    },
    "tags": [
     "subslide"
    ]
   },
   "source": [
    "\n",
    "#### Mechanik\n",
    "\n",
    "- Überprüfe, dass die Funktion nicht virtuell ist\n",
    "  - Eine virtuelle Funktion, die von Unterklassen überschrieben wird, können\n",
    "    wir nicht entfernen, ohne die Semantik des Programms zu ändern\n",
    "- Finde alle Aufrufe der Funktion\n",
    "- Ersetze jeden Aufruf durch den Rumpf der Funktion\n",
    "- Test nach jedem Schritt!\n",
    "- Entferne die Funktionsdefinition\n",
    "- Brich ab, falls Schwierigkeiten wegen Rekursion, mehrerer\n",
    "  `return`-Anweisungen, etc. auftreten"
   ]
  },
  {
   "cell_type": "markdown",
   "id": "1c6138ad57ad7076",
   "metadata": {
    "lang": "de",
    "slideshow": {
     "slide_type": "subslide"
    },
    "tags": [
     "subslide"
    ]
   },
   "source": [
    "\n",
    "## Workshop: Inline Function\n",
    "\n",
    "In der folgenden Funktion wurden Hilfsfunktionen verwendet, die die Berechnung\n",
    "nicht übersichtlicher gestalten.\n",
    "\n",
    "Entfernen Sie diese Hilfsfunktionen mit dem *Inline Function*-Refactoring."
   ]
  },
  {
   "cell_type": "code",
   "execution_count": null,
   "id": "65f4e1e2e8e1bb24",
   "metadata": {
    "slideshow": {
     "slide_type": "subslide"
    },
    "tags": [
     "keep",
     "subslide"
    ]
   },
   "outputs": [],
   "source": [
    "function add(a: number, b: number): number {\n",
    "    return a + b;\n",
    "}"
   ]
  },
  {
   "cell_type": "code",
   "execution_count": null,
   "id": "2c9e6a18717f1dbe",
   "metadata": {
    "lines_to_next_cell": 2,
    "tags": [
     "keep"
    ]
   },
   "outputs": [],
   "source": [
    "function subtract(a: number, b: number): number {\n",
    "    return a - b;\n",
    "}"
   ]
  },
  {
   "cell_type": "code",
   "execution_count": null,
   "id": "810d7161e01f71b1",
   "metadata": {
    "tags": [
     "keep"
    ]
   },
   "outputs": [],
   "source": [
    "function multiply(a: number, b: number): number {\n",
    "    return a * b;\n",
    "}"
   ]
  },
  {
   "cell_type": "code",
   "execution_count": null,
   "id": "d4963bdf4137a0c0",
   "metadata": {
    "tags": [
     "keep"
    ]
   },
   "outputs": [],
   "source": [
    "function calculate(x: number, y: number, z: number): number {\n",
    "    let result = this.add(x, y);\n",
    "    result = this.multiply(result, 2);\n",
    "    result = this.subtract(result, z);\n",
    "    return result;\n",
    "}"
   ]
  },
  {
   "cell_type": "code",
   "execution_count": null,
   "id": "cfbd6f90f9e4be5a",
   "metadata": {
    "tags": [
     "keep"
    ]
   },
   "outputs": [],
   "source": [
    "console.log(this.calculate(5, 3, 4));"
   ]
  },
  {
   "cell_type": "code",
   "execution_count": null,
   "id": "3f4b99e777222350",
   "metadata": {
    "slideshow": {
     "slide_type": "subslide"
    },
    "tags": [
     "subslide"
    ]
   },
   "outputs": [],
   "source": []
  },
  {
   "cell_type": "code",
   "execution_count": null,
   "id": "1eb0950a94047813",
   "metadata": {},
   "outputs": [],
   "source": []
  },
  {
   "cell_type": "code",
   "execution_count": null,
   "id": "c95dfefdf9002811",
   "metadata": {},
   "outputs": [],
   "source": []
  },
  {
   "cell_type": "code",
   "execution_count": null,
   "id": "b417825e9969a34b",
   "metadata": {
    "tags": [
     "keep"
    ]
   },
   "outputs": [],
   "source": [
    "calculate(5, 3, 4);"
   ]
  }
 ],
 "metadata": {
  "jupytext": {
   "cell_metadata_filter": "tags,lang,-all",
   "encoding": "// -*- coding: utf-8 -*-",
   "main_language": "typescript",
   "notebook_metadata_filter": "-all"
  },
  "kernelspec": {
   "display_name": "Deno",
   "language": "typescript",
   "name": "deno"
  },
  "language_info": {
   "codemirror_mode": "typescript",
   "file_extension": ".ts",
   "mimetype": "text/x.typescript",
   "name": "typescript",
   "pygments_lexer": "typescript",
   "version": "5.6.2"
  }
 },
 "nbformat": 4,
 "nbformat_minor": 5
}
