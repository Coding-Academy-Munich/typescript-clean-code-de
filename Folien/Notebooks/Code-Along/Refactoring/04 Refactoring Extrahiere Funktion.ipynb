{
 "cells": [
  {
   "cell_type": "markdown",
   "id": "78b1c39fb9e07e51",
   "metadata": {
    "lang": "de",
    "slideshow": {
     "slide_type": "slide"
    },
    "tags": [
     "slide"
    ]
   },
   "source": [
    "\n",
    "<img src=\"data:image/svg+xml;base64,PHN2ZyBmaWxsPSJub25lIiBoZWlnaHQ9IjUxMiIgdmlld0JveD0iMCAwIDUxMiA1MTIiIHdpZHRo\n",
    "PSI1MTIiIHhtbG5zPSJodHRwOi8vd3d3LnczLm9yZy8yMDAwL3N2ZyI+PHJlY3QgZmlsbD0iIzMx\n",
    "NzhjNiIgaGVpZ2h0PSI1MTIiIHJ4PSI1MCIgd2lkdGg9IjUxMiIvPjxyZWN0IGZpbGw9IiMzMTc4\n",
    "YzYiIGhlaWdodD0iNTEyIiByeD0iNTAiIHdpZHRoPSI1MTIiLz48cGF0aCBjbGlwLXJ1bGU9ImV2\n",
    "ZW5vZGQiIGQ9Im0zMTYuOTM5IDQwNy40MjR2NTAuMDYxYzguMTM4IDQuMTcyIDE3Ljc2MyA3LjMg\n",
    "MjguODc1IDkuMzg2czIyLjgyMyAzLjEyOSAzNS4xMzUgMy4xMjljMTEuOTk5IDAgMjMuMzk3LTEu\n",
    "MTQ3IDM0LjE5Ni0zLjQ0MiAxMC43OTktMi4yOTQgMjAuMjY4LTYuMDc1IDI4LjQwNi0xMS4zNDIg\n",
    "OC4xMzgtNS4yNjYgMTQuNTgxLTEyLjE1IDE5LjMyOC0yMC42NXM3LjEyMS0xOS4wMDcgNy4xMjEt\n",
    "MzEuNTIyYzAtOS4wNzQtMS4zNTYtMTcuMDI2LTQuMDY5LTIzLjg1N3MtNi42MjUtMTIuOTA2LTEx\n",
    "LjczOC0xOC4yMjVjLTUuMTEyLTUuMzE5LTExLjI0Mi0xMC4wOTEtMTguMzg5LTE0LjMxNXMtMTUu\n",
    "MjA3LTguMjEzLTI0LjE4LTExLjk2N2MtNi41NzMtMi43MTItMTIuNDY4LTUuMzQ1LTE3LjY4NS03\n",
    "LjktNS4yMTctMi41NTYtOS42NTEtNS4xNjMtMTMuMzAzLTcuODIyLTMuNjUyLTIuNjYtNi40Njkt\n",
    "NS40NzYtOC40NTEtOC40NDgtMS45ODItMi45NzMtMi45NzQtNi4zMzYtMi45NzQtMTAuMDkxIDAt\n",
    "My40NDEuODg3LTYuNTQ0IDIuNjYxLTkuMzA4czQuMjc4LTUuMTM2IDcuNTEyLTcuMTE4YzMuMjM1\n",
    "LTEuOTgxIDcuMTk5LTMuNTIgMTEuODk0LTQuNjE1IDQuNjk2LTEuMDk1IDkuOTEyLTEuNjQyIDE1\n",
    "LjY1MS0xLjY0MiA0LjE3MyAwIDguNTgxLjMxMyAxMy4yMjQuOTM4IDQuNjQzLjYyNiA5LjMxMiAx\n",
    "LjU5MSAxNC4wMDggMi44OTQgNC42OTUgMS4zMDQgOS4yNTkgMi45NDcgMTMuNjk0IDQuOTI4IDQu\n",
    "NDM0IDEuOTgyIDguNTI5IDQuMjc2IDEyLjI4NSA2Ljg4NHYtNDYuNzc2Yy03LjYxNi0yLjkyLTE1\n",
    "LjkzNy01LjA4NC0yNC45NjItNi40OTJzLTE5LjM4MS0yLjExMi0zMS4wNjYtMi4xMTJjLTExLjg5\n",
    "NSAwLTIzLjE2MyAxLjI3OC0zMy44MDUgMy44MzNzLTIwLjAwNiA2LjU0NC0yOC4wOTMgMTEuOTY3\n",
    "Yy04LjA4NiA1LjQyNC0xNC40NzYgMTIuMzMzLTE5LjE3MSAyMC43MjktNC42OTUgOC4zOTUtNy4w\n",
    "NDMgMTguNDMzLTcuMDQzIDMwLjExNCAwIDE0LjkxNCA0LjMwNCAyNy42MzggMTIuOTEyIDM4LjE3\n",
    "MiA4LjYwNyAxMC41MzMgMjEuNjc1IDE5LjQ1IDM5LjIwNCAyNi43NTEgNi44ODYgMi44MTYgMTMu\n",
    "MzAzIDUuNTc5IDE5LjI1IDguMjkxczExLjA4NiA1LjUyOCAxNS40MTUgOC40NDhjNC4zMyAyLjky\n",
    "IDcuNzQ3IDYuMTAxIDEwLjI1MiA5LjU0MyAyLjUwNCAzLjQ0MSAzLjc1NiA3LjM1MiAzLjc1NiAx\n",
    "MS43MzMgMCAzLjIzMy0uNzgzIDYuMjMxLTIuMzQ4IDguOTk1cy0zLjkzOSA1LjE2Mi03LjEyMSA3\n",
    "LjE5Ni03LjE0NyAzLjYyNC0xMS44OTQgNC43NzFjLTQuNzQ4IDEuMTQ4LTEwLjMwMyAxLjcyMS0x\n",
    "Ni42NjggMS43MjEtMTAuODUxIDAtMjEuNTk3LTEuOTAzLTMyLjI0LTUuNzEtMTAuNjQyLTMuODA2\n",
    "LTIwLjUwMi05LjUxNi0yOS41NzktMTcuMTN6bS04NC4xNTktMTIzLjM0Mmg2NC4yMnYtNDEuMDgy\n",
    "aC0xNzl2NDEuMDgyaDYzLjkwNnYxODIuOTE4aDUwLjg3NHoiIGZpbGw9IiNmZmYiIGZpbGwtcnVs\n",
    "ZT0iZXZlbm9kZCIvPjwvc3ZnPg==\n",
    "\"\n",
    "     alt=\"TypeScript Logo\" style=\"display:block;margin:auto;width:5%\"/>\n",
    "<br>\n",
    "\n",
    "<div style=\"text-align:center; font-size:200%;\">\n",
    "  <b>Refactoring: Extrahiere Funktion</b>\n",
    "</div>\n",
    "<br/>\n",
    "<div style=\"text-align:center; font-size:120%;\">Dr. Matthias Hölzl</div>\n",
    "<br/>\n",
    "<div style=\"text-align:center;\">Coding-Akademie München</div>\n",
    "<br/>"
   ]
  },
  {
   "cell_type": "markdown",
   "id": "c0e9616ab3f3bc73",
   "metadata": {
    "lang": "de",
    "slideshow": {
     "slide_type": "subslide"
    },
    "tags": [
     "subslide"
    ]
   },
   "source": [
    "\n",
    "### Extrahiere Funktion\n",
    "\n",
    "- Anwendung:\n",
    "  - Funktion ist zu groß\n",
    "  - Funktion ist zu komplex\n",
    "  - Funktion ist schwer zu verstehen\n",
    "  - Funktion hat zu viele Aufgaben\n",
    "- Invers zu *Inline Function*"
   ]
  },
  {
   "cell_type": "code",
   "execution_count": null,
   "id": "d9886fd3be919fef",
   "metadata": {
    "tags": [
     "keep"
    ]
   },
   "outputs": [],
   "source": [
    "class OrderLine {\n",
    "    constructor(public product: string, public quantity: number, public price: number) { }\n",
    "}"
   ]
  },
  {
   "cell_type": "code",
   "execution_count": null,
   "id": "160f5730813fbdb4",
   "metadata": {
    "slideshow": {
     "slide_type": "subslide"
    },
    "tags": [
     "keep",
     "subslide"
    ]
   },
   "outputs": [],
   "source": [
    "function makeOrderLines(): OrderLine[] {\n",
    "    const orderLines: OrderLine[] = [];\n",
    "    orderLines.push(new OrderLine(\"Apple\", 2, 0.5));\n",
    "    orderLines.push(new OrderLine(\"Banana\", 3, 0.3));\n",
    "    orderLines.push(new OrderLine(\"Orange\", 1, 0.8));\n",
    "    return orderLines;\n",
    "}"
   ]
  },
  {
   "cell_type": "markdown",
   "id": "67bec8564736fd0a",
   "metadata": {
    "lang": "de",
    "slideshow": {
     "slide_type": "subslide"
    },
    "tags": [
     "subslide"
    ]
   },
   "source": [
    "\n",
    "## Beispiel"
   ]
  },
  {
   "cell_type": "code",
   "execution_count": null,
   "id": "70afe296c4a8aa3c",
   "metadata": {
    "tags": [
     "keep"
    ]
   },
   "outputs": [],
   "source": [
    "class ReceiptPrinter {\n",
    "    static printReceipt(orderLines: OrderLine[]): void {\n",
    "        // Print order lines\n",
    "        for (const orderLine of orderLines) {\n",
    "            console.log(`${orderLine.product.padEnd(12)} ${orderLine.quantity.toString().padStart(4)} `\n",
    "                + `x ${orderLine.price.toFixed(2).padStart(6)}€`);\n",
    "        }\n",
    "        // Compute total\n",
    "        let total = 0.0;\n",
    "        for (const orderLine of orderLines) {\n",
    "            total += orderLine.quantity * orderLine.price;\n",
    "        }\n",
    "        // Print total\n",
    "        console.log(`Total: ${total.toFixed(2)}€`);\n",
    "    }\n",
    "}"
   ]
  },
  {
   "cell_type": "code",
   "execution_count": null,
   "id": "6d8fc4da1497ea2b",
   "metadata": {
    "tags": [
     "keep"
    ]
   },
   "outputs": [],
   "source": [
    "ReceiptPrinter.printReceipt(makeOrderLines());"
   ]
  },
  {
   "cell_type": "code",
   "execution_count": null,
   "id": "94048aecd2f1dfb7",
   "metadata": {
    "slideshow": {
     "slide_type": "subslide"
    },
    "tags": [
     "start",
     "subslide"
    ]
   },
   "outputs": [],
   "source": [
    "class ReceiptPrinter {\n",
    "    static printReceipt(orderLines: OrderLine[]): void {\n",
    "        // Print order lines\n",
    "        for (const orderLine of orderLines) {\n",
    "            console.log(`${orderLine.product.padEnd(12)} ${orderLine.quantity.toString().padStart(4)} x ${orderLine.price.toFixed(2).padStart(6)}€`);\n",
    "        }\n",
    "        // Compute total\n",
    "        let total = 0.0;\n",
    "        for (const orderLine of orderLines) {\n",
    "            total += orderLine.quantity * orderLine.price;\n",
    "        }\n",
    "        // Print total\n",
    "        console.log(`Total: ${total.toFixed(2)}€`);\n",
    "    }\n",
    "}"
   ]
  },
  {
   "cell_type": "code",
   "execution_count": null,
   "id": "ef8d7e6c49621cbc",
   "metadata": {
    "slideshow": {
     "slide_type": "subslide"
    },
    "tags": [
     "keep",
     "subslide"
    ]
   },
   "outputs": [],
   "source": [
    "ReceiptPrinter.printReceipt(makeOrderLines());"
   ]
  },
  {
   "cell_type": "markdown",
   "id": "1fd57abae078719e",
   "metadata": {
    "lang": "de",
    "slideshow": {
     "slide_type": "subslide"
    },
    "tags": [
     "subslide"
    ]
   },
   "source": [
    "\n",
    "#### Motivation\n",
    "\n",
    "- Jedes Code-Fragment, das man nicht unmittelbar versteht, sollte in eine\n",
    "  Funktion extrahiert werden\n",
    "- Name der Funktion spiegelt wieder, **was** die Intention des Codes ist\n",
    "- Das kann zu Funktionen führen, die nur eine Zeile Code enthalten\n",
    "- Es ist dabei besonders wichtig, dass die Funktionen **gute** Namen haben\n",
    "- Kommentare in Funktionen, die sagen, was der nächste Code-Block macht,\n",
    "  sind ein Hinweis auf eine mögliche Extraktion"
   ]
  },
  {
   "cell_type": "markdown",
   "id": "bf0e1e8994a5ca2d",
   "metadata": {
    "lang": "de",
    "slideshow": {
     "slide_type": "subslide"
    },
    "tags": [
     "subslide"
    ]
   },
   "source": [
    "\n",
    "#### Mechanik\n",
    "\n",
    "- Erzeuge eine neue Funktion\n",
    "  - Benenne sie nach der Intention des Codes\n",
    "- Kopiere den extrahierten Code in die neue Funktion\n",
    "- Übergebe alle Variablen, die die Funktion benötigt, als Parameter\n",
    "  - Wenn vorher deklarierte Variablen nur in der neuen Funktion verwendet\n",
    "    werden, können sie auch als lokale Variablen in der neuen Funktion\n",
    "    deklariert werden\n",
    "- Breche die Extraktion ab, falls die Funktion zu viele Parameter bekommt\n",
    "  - Wende stattdessen andere Refactorings an, die die Extraktion einfacher\n",
    "    machen (Split Variables, Replace Temp with Query, ...)"
   ]
  },
  {
   "cell_type": "markdown",
   "id": "84e940824b64513d",
   "metadata": {
    "lang": "de",
    "slideshow": {
     "slide_type": "subslide"
    },
    "tags": [
     "subslide"
    ]
   },
   "source": [
    "\n",
    "### Beispiel für fehlgeschlagene Extraktion\n",
    "\n",
    "- Siehe `Code/Completed/Invoice/V2` für ein Beispiel einer Extraktion,\n",
    "  die abgebrochen wird\n",
    "  - IntelliJ kommt beim Refactoring dieser Funktion in eine Endlosschleife\n",
    "    und erzeugt ungültigen Code, wenn man sie abbricht\n",
    "- Siehe `Code/Completed/Invoice/V3` für eine erfolgreiche\n",
    "  Extraktion (nach etwas Refactoring)"
   ]
  },
  {
   "cell_type": "markdown",
   "id": "6a43c362c9b64be2",
   "metadata": {
    "lang": "de",
    "slideshow": {
     "slide_type": "subslide"
    },
    "tags": [
     "subslide"
    ]
   },
   "source": [
    "\n",
    "## Workshop: Extrahiere Funktion\n",
    "\n",
    "- Wenden Sie das \"Extrahiere Funktion\"-Refactoring auf die Methode `processUserData`\n",
    "  an:"
   ]
  },
  {
   "cell_type": "code",
   "execution_count": null,
   "id": "e9c82ed5acc406a0",
   "metadata": {},
   "outputs": [],
   "source": []
  },
  {
   "cell_type": "code",
   "execution_count": null,
   "id": "ddf1ea48a19d84a6",
   "metadata": {
    "tags": [
     "keep"
    ]
   },
   "outputs": [],
   "source": [
    "class UserDataProcessor {\n",
    "    static processUserData(userData: string): void {\n",
    "        // Convert string data to User objects\n",
    "        const userStrings = userData.split(';');\n",
    "        const users: User[] = [];\n",
    "        for(const userString of userStrings) {\n",
    "            const parts = userString.split(',');\n",
    "            users.push(new User(parts[0], parseInt(parts[1])));\n",
    "        }\n",
    "\n",
    "        // Calculate average age\n",
    "        const totalAge = users.reduce((sum, user) => sum + user.age, 0);\n",
    "        const averageAge = totalAge / users.length;\n",
    "    \n",
    "        // Print report\n",
    "        console.log(\"User Report:\");\n",
    "        for(const user of users) {\n",
    "            console.log(`${user.name} is ${user.age} years old`);\n",
    "        }\n",
    "            console.log(`Average age: ${averageAge.toFixed(1)} years`);\n",
    "    }\n",
    "\n",
    "    static run(): void {\n",
    "        const userData = \"Alice,30;Bob,25;Charlie,35\";\n",
    "        UserDataProcessor.processUserData(userData);\n",
    "    }\n",
    "}"
   ]
  },
  {
   "cell_type": "code",
   "execution_count": null,
   "id": "7f06c9d38fa2eabc",
   "metadata": {},
   "outputs": [],
   "source": []
  },
  {
   "cell_type": "code",
   "execution_count": null,
   "id": "8ba937e041d815a1",
   "metadata": {},
   "outputs": [],
   "source": []
  },
  {
   "cell_type": "code",
   "execution_count": null,
   "id": "2328a40a371ee225",
   "metadata": {},
   "outputs": [],
   "source": []
  },
  {
   "cell_type": "code",
   "execution_count": null,
   "id": "6b4e03423667dbb7",
   "metadata": {},
   "outputs": [],
   "source": []
  }
 ],
 "metadata": {
  "jupytext": {
   "cell_metadata_filter": "tags,lang,-all",
   "encoding": "// -*- coding: utf-8 -*-",
   "main_language": "typescript",
   "notebook_metadata_filter": "-all"
  },
  "kernelspec": {
   "display_name": "Deno",
   "language": "typescript",
   "name": "deno"
  },
  "language_info": {
   "codemirror_mode": "typescript",
   "file_extension": ".ts",
   "mimetype": "text/x.typescript",
   "name": "typescript",
   "pygments_lexer": "typescript",
   "version": "5.6.2"
  }
 },
 "nbformat": 4,
 "nbformat_minor": 5
}
