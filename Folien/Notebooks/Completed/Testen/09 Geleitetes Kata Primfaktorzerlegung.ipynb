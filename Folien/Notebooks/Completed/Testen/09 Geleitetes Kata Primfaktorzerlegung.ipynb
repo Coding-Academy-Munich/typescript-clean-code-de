{
 "cells": [
  {
   "cell_type": "code",
   "execution_count": null,
   "id": "6b4e03423667dbb7",
   "metadata": {
    "lines_to_next_cell": 0
   },
   "outputs": [],
   "source": []
  },
  {
   "cell_type": "markdown",
   "id": "5494d9574121c80a",
   "metadata": {
    "lang": "de",
    "slideshow": {
     "slide_type": "slide"
    },
    "tags": [
     "slide"
    ]
   },
   "source": [
    "\n",
    "<img src=\"data:image/svg+xml;base64,PHN2ZyBmaWxsPSJub25lIiBoZWlnaHQ9IjUxMiIgdmlld0JveD0iMCAwIDUxMiA1MTIiIHdpZHRo\n",
    "PSI1MTIiIHhtbG5zPSJodHRwOi8vd3d3LnczLm9yZy8yMDAwL3N2ZyI+PHJlY3QgZmlsbD0iIzMx\n",
    "NzhjNiIgaGVpZ2h0PSI1MTIiIHJ4PSI1MCIgd2lkdGg9IjUxMiIvPjxyZWN0IGZpbGw9IiMzMTc4\n",
    "YzYiIGhlaWdodD0iNTEyIiByeD0iNTAiIHdpZHRoPSI1MTIiLz48cGF0aCBjbGlwLXJ1bGU9ImV2\n",
    "ZW5vZGQiIGQ9Im0zMTYuOTM5IDQwNy40MjR2NTAuMDYxYzguMTM4IDQuMTcyIDE3Ljc2MyA3LjMg\n",
    "MjguODc1IDkuMzg2czIyLjgyMyAzLjEyOSAzNS4xMzUgMy4xMjljMTEuOTk5IDAgMjMuMzk3LTEu\n",
    "MTQ3IDM0LjE5Ni0zLjQ0MiAxMC43OTktMi4yOTQgMjAuMjY4LTYuMDc1IDI4LjQwNi0xMS4zNDIg\n",
    "OC4xMzgtNS4yNjYgMTQuNTgxLTEyLjE1IDE5LjMyOC0yMC42NXM3LjEyMS0xOS4wMDcgNy4xMjEt\n",
    "MzEuNTIyYzAtOS4wNzQtMS4zNTYtMTcuMDI2LTQuMDY5LTIzLjg1N3MtNi42MjUtMTIuOTA2LTEx\n",
    "LjczOC0xOC4yMjVjLTUuMTEyLTUuMzE5LTExLjI0Mi0xMC4wOTEtMTguMzg5LTE0LjMxNXMtMTUu\n",
    "MjA3LTguMjEzLTI0LjE4LTExLjk2N2MtNi41NzMtMi43MTItMTIuNDY4LTUuMzQ1LTE3LjY4NS03\n",
    "LjktNS4yMTctMi41NTYtOS42NTEtNS4xNjMtMTMuMzAzLTcuODIyLTMuNjUyLTIuNjYtNi40Njkt\n",
    "NS40NzYtOC40NTEtOC40NDgtMS45ODItMi45NzMtMi45NzQtNi4zMzYtMi45NzQtMTAuMDkxIDAt\n",
    "My40NDEuODg3LTYuNTQ0IDIuNjYxLTkuMzA4czQuMjc4LTUuMTM2IDcuNTEyLTcuMTE4YzMuMjM1\n",
    "LTEuOTgxIDcuMTk5LTMuNTIgMTEuODk0LTQuNjE1IDQuNjk2LTEuMDk1IDkuOTEyLTEuNjQyIDE1\n",
    "LjY1MS0xLjY0MiA0LjE3MyAwIDguNTgxLjMxMyAxMy4yMjQuOTM4IDQuNjQzLjYyNiA5LjMxMiAx\n",
    "LjU5MSAxNC4wMDggMi44OTQgNC42OTUgMS4zMDQgOS4yNTkgMi45NDcgMTMuNjk0IDQuOTI4IDQu\n",
    "NDM0IDEuOTgyIDguNTI5IDQuMjc2IDEyLjI4NSA2Ljg4NHYtNDYuNzc2Yy03LjYxNi0yLjkyLTE1\n",
    "LjkzNy01LjA4NC0yNC45NjItNi40OTJzLTE5LjM4MS0yLjExMi0zMS4wNjYtMi4xMTJjLTExLjg5\n",
    "NSAwLTIzLjE2MyAxLjI3OC0zMy44MDUgMy44MzNzLTIwLjAwNiA2LjU0NC0yOC4wOTMgMTEuOTY3\n",
    "Yy04LjA4NiA1LjQyNC0xNC40NzYgMTIuMzMzLTE5LjE3MSAyMC43MjktNC42OTUgOC4zOTUtNy4w\n",
    "NDMgMTguNDMzLTcuMDQzIDMwLjExNCAwIDE0LjkxNCA0LjMwNCAyNy42MzggMTIuOTEyIDM4LjE3\n",
    "MiA4LjYwNyAxMC41MzMgMjEuNjc1IDE5LjQ1IDM5LjIwNCAyNi43NTEgNi44ODYgMi44MTYgMTMu\n",
    "MzAzIDUuNTc5IDE5LjI1IDguMjkxczExLjA4NiA1LjUyOCAxNS40MTUgOC40NDhjNC4zMyAyLjky\n",
    "IDcuNzQ3IDYuMTAxIDEwLjI1MiA5LjU0MyAyLjUwNCAzLjQ0MSAzLjc1NiA3LjM1MiAzLjc1NiAx\n",
    "MS43MzMgMCAzLjIzMy0uNzgzIDYuMjMxLTIuMzQ4IDguOTk1cy0zLjkzOSA1LjE2Mi03LjEyMSA3\n",
    "LjE5Ni03LjE0NyAzLjYyNC0xMS44OTQgNC43NzFjLTQuNzQ4IDEuMTQ4LTEwLjMwMyAxLjcyMS0x\n",
    "Ni42NjggMS43MjEtMTAuODUxIDAtMjEuNTk3LTEuOTAzLTMyLjI0LTUuNzEtMTAuNjQyLTMuODA2\n",
    "LTIwLjUwMi05LjUxNi0yOS41NzktMTcuMTN6bS04NC4xNTktMTIzLjM0Mmg2NC4yMnYtNDEuMDgy\n",
    "aC0xNzl2NDEuMDgyaDYzLjkwNnYxODIuOTE4aDUwLjg3NHoiIGZpbGw9IiNmZmYiIGZpbGwtcnVs\n",
    "ZT0iZXZlbm9kZCIvPjwvc3ZnPg==\n",
    "\"\n",
    "     alt=\"TypeScript Logo\" style=\"display:block;margin:auto;width:5%\"/>\n",
    "<br>\n",
    "\n",
    "<div style=\"text-align:center; font-size:200%;\">\n",
    "  <b>Geleitetes Kata: Primfaktorzerlegung</b>\n",
    "</div>\n",
    "<br/>\n",
    "<div style=\"text-align:center; font-size:120%;\">Dr. Matthias Hölzl</div>\n",
    "<br/>\n",
    "<div style=\"text-align:center;\">Coding-Akademie München</div>\n",
    "<br/>"
   ]
  },
  {
   "cell_type": "markdown",
   "id": "471a1e79a2e6c879",
   "metadata": {
    "lang": "de",
    "slideshow": {
     "slide_type": "subslide"
    },
    "tags": [
     "subslide"
    ]
   },
   "source": [
    "\n",
    "## Geleitetes Kata: Primfaktorzerlegung\n",
    "\n",
    "- Eine Übung zu TDD, die zeigt, wie man durch Tests auf eine einfache\n",
    "  Implementierung eines Algorithmus geführt werden kann\n",
    "- Wichtig ist die Vorgehensweise: Tests sollen das Design treiben\n",
    "- Ziel: Lernen inkrementell und iterativ zu arbeiten!"
   ]
  },
  {
   "cell_type": "markdown",
   "id": "3dff5934f7278e33",
   "metadata": {
    "lang": "de",
    "slideshow": {
     "slide_type": "subslide"
    },
    "tags": [
     "subslide"
    ]
   },
   "source": [
    "\n",
    "## Geleitetes Kata: Primfaktorzerlegung\n",
    "\n",
    "Schreiben Sie eine Funktion\n",
    "\n",
    "```typescript\n",
    "function computeAndWritePrimes(n: number): void;\n",
    "```\n",
    "die die Primfaktoren von n in aufsteigender Reihenfolge auf dem Bildschirm\n",
    "ausgibt.\n",
    "\n",
    "Mehrfach vorkommende Primfaktoren sind in der Ausgabe mehrmals enthalten.\n",
    "\n",
    "Die Primfaktoren sind durch Kommas getrennt."
   ]
  },
  {
   "cell_type": "markdown",
   "id": "e3d4c731487c357b",
   "metadata": {
    "lang": "de",
    "slideshow": {
     "slide_type": "subslide"
    },
    "tags": [
     "subslide"
    ]
   },
   "source": [
    "\n",
    "Tests:"
   ]
  },
  {
   "cell_type": "markdown",
   "id": "5dc8b6b03483fc39",
   "metadata": {
    "slideshow": {
     "slide_type": "subslide"
    },
    "tags": [
     "subslide",
     "alt"
    ]
   },
   "source": [
    "```typescript\n",
    "import { assertEquals } from \"jsr:@std/assert\";\n",
    "\n",
    "Deno.test(\"Test prime factors of 1\", () => {\n",
    "    assertEquals(primeFactors(1), []);\n",
    "});\n",
    "```"
   ]
  },
  {
   "cell_type": "markdown",
   "id": "70c26a4cf7426243",
   "metadata": {
    "lang": "de",
    "slideshow": {
     "slide_type": "subslide"
    },
    "tags": [
     "subslide",
     "alt"
    ]
   },
   "source": [
    "\n",
    "Funktion `primeFactors()`"
   ]
  },
  {
   "cell_type": "code",
   "execution_count": null,
   "id": "19e234d5d5b399b3",
   "metadata": {
    "slideshow": {
     "slide_type": "subslide"
    },
    "tags": [
     "subslide",
     "alt"
    ]
   },
   "outputs": [],
   "source": [
    "function primeFactors(n: number): number[] {\n",
    "    return [];\n",
    "}"
   ]
  },
  {
   "cell_type": "code",
   "execution_count": null,
   "id": "c05aeeda4bd93b02",
   "metadata": {
    "slideshow": {
     "slide_type": "subslide"
    },
    "tags": [
     "subslide",
     "alt"
    ]
   },
   "outputs": [],
   "source": [
    "import { assertEquals } from \"jsr:@std/assert\";"
   ]
  },
  {
   "cell_type": "code",
   "execution_count": null,
   "id": "e8fd5eac1307a83a",
   "metadata": {
    "incorrectly_encoded_metadata": "tags=[alt\"]"
   },
   "outputs": [],
   "source": [
    "Deno.test(\"Test prime factors of 1\", () => {\n",
    "    assertEquals(primeFactors(1), []);\n",
    "});"
   ]
  },
  {
   "cell_type": "code",
   "execution_count": null,
   "id": "0a4674ccbd6d6298",
   "metadata": {
    "slideshow": {
     "slide_type": "subslide"
    },
    "tags": [
     "subslide",
     "alt"
    ]
   },
   "outputs": [],
   "source": [
    "// Deno.test(\"Test prime factors of 2\", () => {\n",
    "//     assertEquals(primeFactors(2), [2]);\n",
    "// });"
   ]
  },
  {
   "cell_type": "code",
   "execution_count": null,
   "id": "0370eacce72d77e2",
   "metadata": {
    "slideshow": {
     "slide_type": "subslide"
    },
    "tags": [
     "subslide",
     "alt"
    ]
   },
   "outputs": [],
   "source": [
    "function primeFactors(n: number): number[] {\n",
    "    if (n === 2) {\n",
    "        return [2];\n",
    "    }\n",
    "    return [];\n",
    "}"
   ]
  },
  {
   "cell_type": "code",
   "execution_count": null,
   "id": "f586b3071e5bcaec",
   "metadata": {
    "slideshow": {
     "slide_type": "subslide"
    },
    "tags": [
     "subslide",
     "alt"
    ]
   },
   "outputs": [],
   "source": [
    "Deno.test(\"Test prime factors of 1\", () => {\n",
    "    assertEquals(primeFactors(1), []);\n",
    "});\n",
    "\n",
    "Deno.test(\"Test prime factors of 2\", () => {\n",
    "    assertEquals(primeFactors(2), [2]);\n",
    "});"
   ]
  },
  {
   "cell_type": "code",
   "execution_count": null,
   "id": "196b07612e465553",
   "metadata": {
    "slideshow": {
     "slide_type": "subslide"
    },
    "tags": [
     "subslide",
     "alt"
    ]
   },
   "outputs": [],
   "source": [
    "// Deno.test(\"Test prime factors of 3\", () => {\n",
    "//     assertEquals(primeFactors(3), [3]);\n",
    "// });"
   ]
  },
  {
   "cell_type": "code",
   "execution_count": null,
   "id": "b525b880f5f0f664",
   "metadata": {
    "slideshow": {
     "slide_type": "subslide"
    },
    "tags": [
     "subslide",
     "alt"
    ]
   },
   "outputs": [],
   "source": [
    "function primeFactors(n: number): number[] {\n",
    "    if (n === 2) {\n",
    "        return [2];\n",
    "    }\n",
    "    if (n === 3) {\n",
    "        return [3];\n",
    "    }\n",
    "    return [];\n",
    "}"
   ]
  },
  {
   "cell_type": "code",
   "execution_count": null,
   "id": "fe2ce06bb9b98e3e",
   "metadata": {
    "slideshow": {
     "slide_type": "subslide"
    },
    "tags": [
     "subslide",
     "alt"
    ]
   },
   "outputs": [],
   "source": [
    "Deno.test(\"Test prime factors of 1\", () => {\n",
    "    assertEquals(primeFactors(1), []);\n",
    "});\n",
    "\n",
    "Deno.test(\"Test prime factors of 2\", () => {\n",
    "    assertEquals(primeFactors(2), [2]);\n",
    "});\n",
    "\n",
    "Deno.test(\"Test prime factors of 3\", () => {\n",
    "    assertEquals(primeFactors(3), [3]);\n",
    "});"
   ]
  },
  {
   "cell_type": "code",
   "execution_count": null,
   "id": "9902bcf87ce854b5",
   "metadata": {
    "slideshow": {
     "slide_type": "subslide"
    },
    "tags": [
     "subslide",
     "alt"
    ]
   },
   "outputs": [],
   "source": [
    "function primeFactors(n: number): number[] {\n",
    "    let result: number[] = [];\n",
    "    if (n === 2) {\n",
    "        result.push(2);\n",
    "    }\n",
    "    if (n === 3) {\n",
    "        result.push(3);\n",
    "    }\n",
    "    return result;\n",
    "}"
   ]
  },
  {
   "cell_type": "code",
   "execution_count": null,
   "id": "304559dba9a8f934",
   "metadata": {
    "slideshow": {
     "slide_type": "subslide"
    },
    "tags": [
     "subslide",
     "alt"
    ]
   },
   "outputs": [],
   "source": [
    "Deno.test(\"Test prime factors of 1\", () => {\n",
    "    assertEquals(primeFactors(1), []);\n",
    "});\n",
    "\n",
    "Deno.test(\"Test prime factors of 2\", () => {\n",
    "    assertEquals(primeFactors(2), [2]);\n",
    "});\n",
    "\n",
    "Deno.test(\"Test prime factors of 3\", () => {\n",
    "    assertEquals(primeFactors(3), [3]);\n",
    "});"
   ]
  },
  {
   "cell_type": "code",
   "execution_count": null,
   "id": "8f1dc398a621af90",
   "metadata": {
    "slideshow": {
     "slide_type": "subslide"
    },
    "tags": [
     "subslide",
     "alt"
    ]
   },
   "outputs": [],
   "source": [
    "function primeFactors(n: number): number[] {\n",
    "    let result: number[] = [];\n",
    "    if (n % 2 === 0) {\n",
    "        result.push(2);\n",
    "    }\n",
    "    if (n % 3 === 0) {\n",
    "        result.push(3);\n",
    "    }\n",
    "    return result;\n",
    "}"
   ]
  },
  {
   "cell_type": "code",
   "execution_count": null,
   "id": "ea27e22d8ce66a6d",
   "metadata": {
    "lines_to_next_cell": 2,
    "slideshow": {
     "slide_type": "subslide"
    },
    "tags": [
     "subslide",
     "alt"
    ]
   },
   "outputs": [],
   "source": [
    "Deno.test(\"Test prime factors of 1\", () => {\n",
    "    assertEquals(primeFactors(1), []);\n",
    "});\n",
    "\n",
    "Deno.test(\"Test prime factors of 2\", () => {\n",
    "    assertEquals(primeFactors(2), [2]);\n",
    "});\n",
    "\n",
    "Deno.test(\"Test prime factors of 3\", () => {\n",
    "    assertEquals(primeFactors(3), [3]);\n",
    "});"
   ]
  },
  {
   "cell_type": "code",
   "execution_count": null,
   "id": "95d13a412da394e4",
   "metadata": {
    "slideshow": {
     "slide_type": "subslide"
    },
    "tags": [
     "subslide",
     "alt"
    ]
   },
   "outputs": [],
   "source": [
    "// Deno.test(\"Test prime factors of 4\", () => {\n",
    "//     assertEquals(primeFactors(4), [2, 2]);\n",
    "// });"
   ]
  },
  {
   "cell_type": "code",
   "execution_count": null,
   "id": "960c817a7be88286",
   "metadata": {
    "slideshow": {
     "slide_type": "subslide"
    },
    "tags": [
     "subslide",
     "alt"
    ]
   },
   "outputs": [],
   "source": [
    "function primeFactors(n: number): number[] {\n",
    "    let result: number[] = [];\n",
    "    if (n % 2 === 0) {\n",
    "        result.push(2);\n",
    "    }\n",
    "    if (n % 3 === 0) {\n",
    "        result.push(3);\n",
    "    }\n",
    "    if (n % 4 === 0) {\n",
    "        result.push(2);\n",
    "    }\n",
    "    return result;\n",
    "}"
   ]
  },
  {
   "cell_type": "code",
   "execution_count": null,
   "id": "30ea3f2717241fc9",
   "metadata": {
    "slideshow": {
     "slide_type": "subslide"
    },
    "tags": [
     "subslide",
     "alt"
    ]
   },
   "outputs": [],
   "source": [
    "Deno.test(\"Test prime factors of 1\", () => {\n",
    "    assertEquals(primeFactors(1), []);\n",
    "});\n",
    "\n",
    "Deno.test(\"Test prime factors of 2\", () => {\n",
    "    assertEquals(primeFactors(2), [2]);\n",
    "});\n",
    "\n",
    "Deno.test(\"Test prime factors of 3\", () => {\n",
    "    assertEquals(primeFactors(3), [3]);\n",
    "});\n",
    "\n",
    "Deno.test(\"Test prime factors of 4\", () => {\n",
    "    assertEquals(primeFactors(4), [2, 2]);\n",
    "});"
   ]
  },
  {
   "cell_type": "code",
   "execution_count": null,
   "id": "a6edbb46510fa99c",
   "metadata": {
    "slideshow": {
     "slide_type": "subslide"
    },
    "tags": [
     "subslide",
     "alt"
    ]
   },
   "outputs": [],
   "source": [
    "function primeFactors(n: number): number[] {\n",
    "    let result: number[] = [];\n",
    "    if (n % 2 === 0) {\n",
    "        result.push(2);\n",
    "        if (n % 4 === 0)\n",
    "            result.push(2);\n",
    "    }\n",
    "    if (n % 3 === 0)\n",
    "        result.push(3);\n",
    "    return result;\n",
    "}"
   ]
  },
  {
   "cell_type": "code",
   "execution_count": null,
   "id": "e1321a50d1e123ab",
   "metadata": {
    "slideshow": {
     "slide_type": "subslide"
    },
    "tags": [
     "subslide",
     "alt"
    ]
   },
   "outputs": [],
   "source": [
    "Deno.test(\"Test prime factors of 1\", () => {\n",
    "    assertEquals(primeFactors(1), []);\n",
    "});\n",
    "\n",
    "Deno.test(\"Test prime factors of 2\", () => {\n",
    "    assertEquals(primeFactors(2), [2]);\n",
    "});\n",
    "\n",
    "Deno.test(\"Test prime factors of 3\", () => {\n",
    "    assertEquals(primeFactors(3), [3]);\n",
    "});\n",
    "\n",
    "Deno.test(\"Test prime factors of 4\", () => {\n",
    "    assertEquals(primeFactors(4), [2, 2]);\n",
    "});"
   ]
  },
  {
   "cell_type": "code",
   "execution_count": null,
   "id": "f57f9a08d95a821c",
   "metadata": {
    "slideshow": {
     "slide_type": "subslide"
    },
    "tags": [
     "subslide",
     "alt"
    ]
   },
   "outputs": [],
   "source": [
    "function primeFactors(n: number): number[] {\n",
    "    let result: number[] = [];\n",
    "    if (n % 2 === 0) {\n",
    "        result.push(2);\n",
    "        n /= 2;\n",
    "        if (n % 2 === 0)\n",
    "            result.push(2);\n",
    "    }\n",
    "    if (n % 3 === 0)\n",
    "        result.push(3);\n",
    "    return result;\n",
    "}"
   ]
  },
  {
   "cell_type": "code",
   "execution_count": null,
   "id": "d174acb7265fb945",
   "metadata": {
    "slideshow": {
     "slide_type": "subslide"
    },
    "tags": [
     "subslide",
     "alt"
    ]
   },
   "outputs": [],
   "source": [
    "Deno.test(\"Test prime factors of 1\", () => {\n",
    "    assertEquals(primeFactors(1), []);\n",
    "});\n",
    "\n",
    "Deno.test(\"Test prime factors of 2\", () => {\n",
    "    assertEquals(primeFactors(2), [2]);\n",
    "});\n",
    "\n",
    "Deno.test(\"Test prime factors of 3\", () => {\n",
    "    assertEquals(primeFactors(3), [3]);\n",
    "});\n",
    "\n",
    "Deno.test(\"Test prime factors of 4\", () => {\n",
    "    assertEquals(primeFactors(4), [2, 2]);\n",
    "});"
   ]
  },
  {
   "cell_type": "code",
   "execution_count": null,
   "id": "92a98941a0bd7932",
   "metadata": {
    "slideshow": {
     "slide_type": "subslide"
    },
    "tags": [
     "subslide",
     "alt"
    ]
   },
   "outputs": [],
   "source": [
    "function primeFactors(n: number): number[] {\n",
    "    let result: number[] = [];\n",
    "    while (n % 2 === 0) {\n",
    "        result.push(2);\n",
    "        n /= 2;\n",
    "    }\n",
    "    if (n % 3 === 0)\n",
    "        result.push(3);\n",
    "    return result;\n",
    "}"
   ]
  },
  {
   "cell_type": "code",
   "execution_count": null,
   "id": "8a11890f9e98acb0",
   "metadata": {
    "slideshow": {
     "slide_type": "subslide"
    },
    "tags": [
     "subslide",
     "alt"
    ]
   },
   "outputs": [],
   "source": [
    "Deno.test(\"Test prime factors of 1\", () => {\n",
    "    assertEquals(primeFactors(1), []);\n",
    "});\n",
    "\n",
    "Deno.test(\"Test prime factors of 2\", () => {\n",
    "    assertEquals(primeFactors(2), [2]);\n",
    "});\n",
    "\n",
    "Deno.test(\"Test prime factors of 3\", () => {\n",
    "    assertEquals(primeFactors(3), [3]);\n",
    "});\n",
    "\n",
    "Deno.test(\"Test prime factors of 4\", () => {\n",
    "    assertEquals(primeFactors(4), [2, 2]);\n",
    "});"
   ]
  },
  {
   "cell_type": "code",
   "execution_count": null,
   "id": "b03d0ef596bacc39",
   "metadata": {
    "slideshow": {
     "slide_type": "subslide"
    },
    "tags": [
     "subslide",
     "alt"
    ]
   },
   "outputs": [],
   "source": [
    "function primeFactors(n: number): number[] {\n",
    "    let result: number[] = [];\n",
    "    while (n % 2 === 0) {\n",
    "        result.push(2);\n",
    "        n /= 2;\n",
    "    }\n",
    "    while (n % 3 === 0) {\n",
    "        result.push(3);\n",
    "        n /= 3;\n",
    "    }\n",
    "    return result;\n",
    "}"
   ]
  },
  {
   "cell_type": "code",
   "execution_count": null,
   "id": "75f2df83125db8e6",
   "metadata": {
    "slideshow": {
     "slide_type": "subslide"
    },
    "tags": [
     "subslide",
     "alt"
    ]
   },
   "outputs": [],
   "source": [
    "Deno.test(\"Test prime factors of 1\", () => {\n",
    "    assertEquals(primeFactors(1), []);\n",
    "});\n",
    "\n",
    "Deno.test(\"Test prime factors of 2\", () => {\n",
    "    assertEquals(primeFactors(2), [2]);\n",
    "});\n",
    "\n",
    "Deno.test(\"Test prime factors of 3\", () => {\n",
    "    assertEquals(primeFactors(3), [3]);\n",
    "});\n",
    "\n",
    "Deno.test(\"Test prime factors of 4\", () => {\n",
    "    assertEquals(primeFactors(4), [2, 2]);\n",
    "});"
   ]
  },
  {
   "cell_type": "code",
   "execution_count": null,
   "id": "4329114277aaad9e",
   "metadata": {
    "slideshow": {
     "slide_type": "subslide"
    },
    "tags": [
     "subslide",
     "alt"
    ]
   },
   "outputs": [],
   "source": [
    "// Deno.test(\"Test prime factors of 5\", () => {\n",
    "//     assertEquals(primeFactors(5), [5]);\n",
    "// });"
   ]
  },
  {
   "cell_type": "code",
   "execution_count": null,
   "id": "896aca6f9303c4fe",
   "metadata": {
    "slideshow": {
     "slide_type": "subslide"
    },
    "tags": [
     "subslide",
     "alt"
    ]
   },
   "outputs": [],
   "source": [
    "function primeFactors(n: number): number[] {\n",
    "    let result: number[] = [];\n",
    "    while (n % 2 === 0) {\n",
    "        result.push(2);\n",
    "        n /= 2;\n",
    "    }\n",
    "    while (n % 3 === 0) {\n",
    "        result.push(3);\n",
    "        n /= 3;\n",
    "    }\n",
    "    while (n % 5 === 0) {\n",
    "        result.push(5);\n",
    "        n /= 5;\n",
    "    }\n",
    "    return result;\n",
    "}"
   ]
  },
  {
   "cell_type": "code",
   "execution_count": null,
   "id": "1a56f9f19ca39e34",
   "metadata": {
    "slideshow": {
     "slide_type": "subslide"
    },
    "tags": [
     "subslide",
     "alt"
    ]
   },
   "outputs": [],
   "source": [
    "Deno.test(\"Test prime factors of 1\", () => {\n",
    "    assertEquals(primeFactors(1), []);\n",
    "});\n",
    "\n",
    "Deno.test(\"Test prime factors of 2\", () => {\n",
    "    assertEquals(primeFactors(2), [2]);\n",
    "});\n",
    "\n",
    "Deno.test(\"Test prime factors of 3\", () => {\n",
    "    assertEquals(primeFactors(3), [3]);\n",
    "});\n",
    "\n",
    "Deno.test(\"Test prime factors of 4\", () => {\n",
    "    assertEquals(primeFactors(4), [2, 2]);\n",
    "});\n",
    "\n",
    "Deno.test(\"Test prime factors of 5\", () => {\n",
    "    assertEquals(primeFactors(5), [5]);\n",
    "});"
   ]
  },
  {
   "cell_type": "code",
   "execution_count": null,
   "id": "2fee95e55647025d",
   "metadata": {
    "slideshow": {
     "slide_type": "subslide"
    },
    "tags": [
     "subslide",
     "alt"
    ]
   },
   "outputs": [],
   "source": [
    "function primeFactors(n: number): number[] {\n",
    "    let result: number[] = [];\n",
    "    for (let factor = 2; factor <= n; factor++) {\n",
    "        while (n % factor === 0) {\n",
    "            result.push(factor);\n",
    "            n /= factor;\n",
    "        }\n",
    "    }\n",
    "    return result;\n",
    "}"
   ]
  },
  {
   "cell_type": "code",
   "execution_count": null,
   "id": "4557b0b66ab5f36a",
   "metadata": {
    "slideshow": {
     "slide_type": "subslide"
    },
    "tags": [
     "subslide",
     "alt"
    ]
   },
   "outputs": [],
   "source": [
    "Deno.test(\"Test prime factors\", () => {\n",
    "    assertEquals(primeFactors(1), []);\n",
    "    assertEquals(primeFactors(2), [2]);\n",
    "    assertEquals(primeFactors(3), [3]);\n",
    "    assertEquals(primeFactors(4), [2, 2]);\n",
    "    assertEquals(primeFactors(5), [5]);\n",
    "    assertEquals(primeFactors(6), [2, 3]);\n",
    "    assertEquals(primeFactors(2 * 2 * 3 * 5 * 7 * 11 * 13 * 17), [2, 2, 3, 5, 7, 11, 13, 17]);\n",
    "    assertEquals(primeFactors(2027 * 2029), [2027, 2029]);\n",
    "    assertEquals(primeFactors(7907 * 7919), [7907, 7919]);\n",
    "});"
   ]
  },
  {
   "cell_type": "markdown",
   "id": "9fd40fddc27c4f00",
   "metadata": {
    "lang": "de",
    "slideshow": {
     "slide_type": "subslide"
    },
    "tags": [
     "subslide",
     "alt"
    ]
   },
   "source": [
    "\n",
    "Test für `computeAndFormatPrimes()`"
   ]
  },
  {
   "cell_type": "code",
   "execution_count": null,
   "id": "fa75146371cdf381",
   "metadata": {
    "slideshow": {
     "slide_type": "subslide"
    },
    "tags": [
     "subslide",
     "alt"
    ]
   },
   "outputs": [],
   "source": [
    "// Deno.test(\"TestComputeAndFormatPrimes\", () => {\n",
    "//     assertEquals(computeAndFormatPrimes(1), \"\");\n",
    "//     assertEquals(computeAndFormatPrimes(2), \"2\");\n",
    "//     assertEquals(computeAndFormatPrimes(3), \"3\");\n",
    "//     assertEquals(computeAndFormatPrimes(4), \"2,2\");\n",
    "//     assertEquals(computeAndFormatPrimes(5), \"5\");\n",
    "//     assertEquals(computeAndFormatPrimes(6), \"2,3\");\n",
    "//     assertEquals(computeAndFormatPrimes(60), \"2,2,3,5\");\n",
    "// });"
   ]
  },
  {
   "cell_type": "markdown",
   "id": "169f0c6b6b7b4e45",
   "metadata": {
    "lang": "de",
    "slideshow": {
     "slide_type": "subslide"
    },
    "tags": [
     "subslide",
     "alt"
    ]
   },
   "source": [
    "\n",
    "Funktion `computeAndFormatPrimes()`"
   ]
  },
  {
   "cell_type": "code",
   "execution_count": null,
   "id": "bdd418c74adf7638",
   "metadata": {
    "lines_to_next_cell": 2,
    "slideshow": {
     "slide_type": "subslide"
    },
    "tags": [
     "subslide",
     "alt"
    ]
   },
   "outputs": [],
   "source": [
    "function computeAndFormatPrimes(n: number): string {\n",
    "    const factors = primeFactors(n);\n",
    "    return factors.join(\",\");\n",
    "}"
   ]
  },
  {
   "cell_type": "code",
   "execution_count": null,
   "id": "13f5c35e3ff406c4",
   "metadata": {
    "lines_to_next_cell": 2,
    "slideshow": {
     "slide_type": "subslide"
    },
    "tags": [
     "subslide",
     "alt"
    ]
   },
   "outputs": [],
   "source": [
    "Deno.test(\"TestComputeAndFormatPrimes\", () => {\n",
    "    assertEquals(computeAndFormatPrimes(1), \"\");\n",
    "    assertEquals(computeAndFormatPrimes(2), \"2\");\n",
    "    assertEquals(computeAndFormatPrimes(3), \"3\");\n",
    "    assertEquals(computeAndFormatPrimes(4), \"2,2\");\n",
    "    assertEquals(computeAndFormatPrimes(5), \"5\");\n",
    "    assertEquals(computeAndFormatPrimes(6), \"2,3\");\n",
    "    assertEquals(computeAndFormatPrimes(60), \"2,2,3,5\");\n",
    "});"
   ]
  },
  {
   "cell_type": "markdown",
   "id": "a66ce4824dc63f51",
   "metadata": {
    "lang": "de",
    "slideshow": {
     "slide_type": "subslide"
    },
    "tags": [
     "subslide",
     "alt"
    ]
   },
   "source": [
    "\n",
    "Funktion `computeAndWritePrimes()`"
   ]
  },
  {
   "cell_type": "code",
   "execution_count": null,
   "id": "6736f2093a8288f8",
   "metadata": {
    "slideshow": {
     "slide_type": "subslide"
    },
    "tags": [
     "alt",
     "subslide"
    ]
   },
   "outputs": [],
   "source": [
    "function computeAndWritePrimes(n: number): void {\n",
    "    console.log(computeAndFormatPrimes(n));\n",
    "}"
   ]
  },
  {
   "cell_type": "markdown",
   "id": "ca776c8376d2368b",
   "metadata": {
    "lang": "de",
    "slideshow": {
     "slide_type": "subslide"
    },
    "tags": [
     "subslide"
    ]
   },
   "source": [
    "\n",
    "## Kata: FizzBuzz\n",
    "\n",
    "Schreiben Sie eine Funktion\n",
    "```typescript\n",
    "function printFizzBuzz(n: number): void;\n",
    "```\n",
    "die die Zahlen von 1 bis `n` auf dem Bildschirm ausgibt aber dabei\n",
    "\n",
    "- jede Zahl, die durch 3 teilbar ist, durch `Fizz` ersetzt\n",
    "- jede Zahl, die durch 5 teilbar ist, durch `Buzz` ersetzt\n",
    "- jede Zahl, die durch 3 und 5 teilbar ist, durch `FizzBuzz` ersetzt\n"
   ]
  },
  {
   "cell_type": "markdown",
   "id": "bf6e00220708b2cb",
   "metadata": {
    "lang": "de",
    "slideshow": {
     "slide_type": "subslide"
    },
    "tags": [
     "subslide"
    ]
   },
   "source": [
    "\n",
    "Zum Beispiel soll `printFizzBuzz(16)` die folgende Ausgabe erzeugen:\n",
    "\n",
    "```plaintext\n",
    "1\n",
    "2\n",
    "Fizz\n",
    "4\n",
    "Buzz\n",
    "Fizz\n",
    "7\n",
    "8\n",
    "Fizz\n",
    "Buzz\n",
    "11\n",
    "Fizz\n",
    "13\n",
    "14\n",
    "FizzBuzz\n",
    "16\n",
    "```"
   ]
  },
  {
   "cell_type": "markdown",
   "id": "027411e7e1b5f8aa",
   "metadata": {
    "lang": "de",
    "slideshow": {
     "slide_type": "subslide"
    },
    "tags": [
     "subslide",
     "alt"
    ]
   },
   "source": [
    "\n",
    "Eine direkte Implementierung ist sehr schwer zu testen:"
   ]
  },
  {
   "cell_type": "code",
   "execution_count": null,
   "id": "99b2f6bda2db03a2",
   "metadata": {
    "slideshow": {
     "slide_type": "subslide"
    },
    "tags": [
     "subslide",
     "alt"
    ]
   },
   "outputs": [],
   "source": [
    "function printFizzBuzz(n: number): void {\n",
    "    for (let i = 1; i <= n; i++) {\n",
    "        if (i % 3 === 0 && i % 5 === 0) {\n",
    "            console.log(\"FizzBuzz\");\n",
    "        } else if (i % 3 === 0) {\n",
    "            console.log(\"Fizz\");\n",
    "        } else if (i % 5 === 0) {\n",
    "            console.log(\"Buzz\");\n",
    "        } else {\n",
    "            console.log(i);\n",
    "        }\n",
    "    }\n",
    "}"
   ]
  },
  {
   "cell_type": "code",
   "execution_count": null,
   "id": "eaa0614e0d6b517c",
   "metadata": {
    "slideshow": {
     "slide_type": "subslide"
    },
    "tags": [
     "subslide",
     "alt"
    ]
   },
   "outputs": [],
   "source": [
    "printFizzBuzz(16);"
   ]
  },
  {
   "cell_type": "code",
   "execution_count": null,
   "id": "402338f47be515fa",
   "metadata": {
    "slideshow": {
     "slide_type": "subslide"
    },
    "tags": [
     "subslide",
     "alt"
    ]
   },
   "outputs": [],
   "source": [
    "function fizzBuzzNumber(n: number): string {\n",
    "    if (n % 3 === 0 && n % 5 === 0) {\n",
    "        return \"FizzBuzz\";\n",
    "    } else if (n % 3 === 0) {\n",
    "        return \"Fizz\";\n",
    "    } else if (n % 5 === 0) {\n",
    "        return \"Buzz\";\n",
    "    } else {\n",
    "        return n.toString();\n",
    "    }\n",
    "}"
   ]
  },
  {
   "cell_type": "code",
   "execution_count": null,
   "id": "a77d233b59540af2",
   "metadata": {
    "slideshow": {
     "slide_type": "subslide"
    },
    "tags": [
     "subslide",
     "alt"
    ]
   },
   "outputs": [],
   "source": [
    "Deno.test(\"TestFizzBuzzNumber\", () => {\n",
    "    assertEquals(fizzBuzzNumber(1), \"1\");\n",
    "    assertEquals(fizzBuzzNumber(2), \"2\");\n",
    "    assertEquals(fizzBuzzNumber(3), \"Fizz\");\n",
    "    assertEquals(fizzBuzzNumber(4), \"4\");\n",
    "    assertEquals(fizzBuzzNumber(5), \"Buzz\");\n",
    "    assertEquals(fizzBuzzNumber(6), \"Fizz\");\n",
    "    assertEquals(fizzBuzzNumber(7), \"7\");\n",
    "    assertEquals(fizzBuzzNumber(8), \"8\");\n",
    "    assertEquals(fizzBuzzNumber(9), \"Fizz\");\n",
    "    assertEquals(fizzBuzzNumber(10), \"Buzz\");\n",
    "    assertEquals(fizzBuzzNumber(11), \"11\");\n",
    "    assertEquals(fizzBuzzNumber(12), \"Fizz\");\n",
    "    assertEquals(fizzBuzzNumber(13), \"13\");\n",
    "    assertEquals(fizzBuzzNumber(14), \"14\");\n",
    "    assertEquals(fizzBuzzNumber(15), \"FizzBuzz\");\n",
    "});"
   ]
  },
  {
   "cell_type": "code",
   "execution_count": null,
   "id": "32dad79e33c0f41c",
   "metadata": {
    "slideshow": {
     "slide_type": "subslide"
    },
    "tags": [
     "subslide",
     "alt"
    ]
   },
   "outputs": [],
   "source": [
    "function fizzBuzzNumbers(n: number): string[] {\n",
    "    const result: string[] = [];\n",
    "    for (let i = 1; i <= n; i++) {\n",
    "        result.push(fizzBuzzNumber(i));\n",
    "    }\n",
    "    return result;\n",
    "}"
   ]
  },
  {
   "cell_type": "code",
   "execution_count": null,
   "id": "3602434d76900b6e",
   "metadata": {
    "slideshow": {
     "slide_type": "subslide"
    },
    "tags": [
     "subslide",
     "alt"
    ]
   },
   "outputs": [],
   "source": [
    "Deno.test(\"TestFizzBuzzNumbers\", () => {\n",
    "    assertEquals(fizzBuzzNumbers(1), [\"1\"]);\n",
    "    assertEquals(fizzBuzzNumbers(3), [\"1\", \"2\", \"Fizz\"]);\n",
    "    assertEquals(fizzBuzzNumbers(4), [\"1\", \"2\", \"Fizz\", \"4\"]);\n",
    "    assertEquals(fizzBuzzNumbers(5), [\"1\", \"2\", \"Fizz\", \"4\", \"Buzz\"]);\n",
    "    assertEquals(fizzBuzzNumbers(6), [\"1\", \"2\", \"Fizz\", \"4\", \"Buzz\", \"Fizz\"]);\n",
    "    assertEquals(fizzBuzzNumbers(15), [\n",
    "        \"1\",    \"2\",    \"Fizz\", \"4\",    \"Buzz\",\n",
    "        \"Fizz\", \"7\",    \"8\",    \"Fizz\", \"Buzz\",\n",
    "        \"11\",   \"Fizz\", \"13\",   \"14\",   \"FizzBuzz\"]);\n",
    "});"
   ]
  },
  {
   "cell_type": "code",
   "execution_count": null,
   "id": "c74740c77d2a9e4a",
   "metadata": {
    "slideshow": {
     "slide_type": "subslide"
    },
    "tags": [
     "subslide",
     "alt"
    ]
   },
   "outputs": [],
   "source": [
    "function printFizzBuzz(n: number, output: TextEncoder): void {\n",
    "    const fizzBuzzList = fizzBuzzNumbers(n);\n",
    "    for (const item of fizzBuzzList) {\n",
    "        console.log(item);\n",
    "    }\n",
    "}"
   ]
  },
  {
   "cell_type": "code",
   "execution_count": null,
   "id": "e52385d69ab20ee5",
   "metadata": {},
   "outputs": [],
   "source": [
    "printFizzBuzz(16);"
   ]
  },
  {
   "cell_type": "code",
   "execution_count": null,
   "id": "c5349d7c517332c9",
   "metadata": {},
   "outputs": [],
   "source": []
  }
 ],
 "metadata": {
  "jupytext": {
   "cell_metadata_filter": "tags,incorrectly_encoded_metadata,lang,-all",
   "encoding": "// -*- coding: utf-8 -*-",
   "main_language": "typescript",
   "notebook_metadata_filter": "-all"
  },
  "kernelspec": {
   "display_name": "Deno",
   "language": "typescript",
   "name": "deno"
  },
  "language_info": {
   "codemirror_mode": "typescript",
   "file_extension": ".ts",
   "mimetype": "text/x.typescript",
   "name": "typescript",
   "pygments_lexer": "typescript",
   "version": "5.6.2"
  }
 },
 "nbformat": 4,
 "nbformat_minor": 5
}
