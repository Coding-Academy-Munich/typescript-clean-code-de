{
 "cells": [
  {
   "cell_type": "markdown",
   "id": "234ab8c466f48ceb",
   "metadata": {
    "lang": "de",
    "slideshow": {
     "slide_type": "slide"
    },
    "tags": [
     "slide"
    ]
   },
   "source": [
    "\n",
    "<img src=\"data:image/svg+xml;base64,PHN2ZyBmaWxsPSJub25lIiBoZWlnaHQ9IjUxMiIgdmlld0JveD0iMCAwIDUxMiA1MTIiIHdpZHRo\n",
    "PSI1MTIiIHhtbG5zPSJodHRwOi8vd3d3LnczLm9yZy8yMDAwL3N2ZyI+PHJlY3QgZmlsbD0iIzMx\n",
    "NzhjNiIgaGVpZ2h0PSI1MTIiIHJ4PSI1MCIgd2lkdGg9IjUxMiIvPjxyZWN0IGZpbGw9IiMzMTc4\n",
    "YzYiIGhlaWdodD0iNTEyIiByeD0iNTAiIHdpZHRoPSI1MTIiLz48cGF0aCBjbGlwLXJ1bGU9ImV2\n",
    "ZW5vZGQiIGQ9Im0zMTYuOTM5IDQwNy40MjR2NTAuMDYxYzguMTM4IDQuMTcyIDE3Ljc2MyA3LjMg\n",
    "MjguODc1IDkuMzg2czIyLjgyMyAzLjEyOSAzNS4xMzUgMy4xMjljMTEuOTk5IDAgMjMuMzk3LTEu\n",
    "MTQ3IDM0LjE5Ni0zLjQ0MiAxMC43OTktMi4yOTQgMjAuMjY4LTYuMDc1IDI4LjQwNi0xMS4zNDIg\n",
    "OC4xMzgtNS4yNjYgMTQuNTgxLTEyLjE1IDE5LjMyOC0yMC42NXM3LjEyMS0xOS4wMDcgNy4xMjEt\n",
    "MzEuNTIyYzAtOS4wNzQtMS4zNTYtMTcuMDI2LTQuMDY5LTIzLjg1N3MtNi42MjUtMTIuOTA2LTEx\n",
    "LjczOC0xOC4yMjVjLTUuMTEyLTUuMzE5LTExLjI0Mi0xMC4wOTEtMTguMzg5LTE0LjMxNXMtMTUu\n",
    "MjA3LTguMjEzLTI0LjE4LTExLjk2N2MtNi41NzMtMi43MTItMTIuNDY4LTUuMzQ1LTE3LjY4NS03\n",
    "LjktNS4yMTctMi41NTYtOS42NTEtNS4xNjMtMTMuMzAzLTcuODIyLTMuNjUyLTIuNjYtNi40Njkt\n",
    "NS40NzYtOC40NTEtOC40NDgtMS45ODItMi45NzMtMi45NzQtNi4zMzYtMi45NzQtMTAuMDkxIDAt\n",
    "My40NDEuODg3LTYuNTQ0IDIuNjYxLTkuMzA4czQuMjc4LTUuMTM2IDcuNTEyLTcuMTE4YzMuMjM1\n",
    "LTEuOTgxIDcuMTk5LTMuNTIgMTEuODk0LTQuNjE1IDQuNjk2LTEuMDk1IDkuOTEyLTEuNjQyIDE1\n",
    "LjY1MS0xLjY0MiA0LjE3MyAwIDguNTgxLjMxMyAxMy4yMjQuOTM4IDQuNjQzLjYyNiA5LjMxMiAx\n",
    "LjU5MSAxNC4wMDggMi44OTQgNC42OTUgMS4zMDQgOS4yNTkgMi45NDcgMTMuNjk0IDQuOTI4IDQu\n",
    "NDM0IDEuOTgyIDguNTI5IDQuMjc2IDEyLjI4NSA2Ljg4NHYtNDYuNzc2Yy03LjYxNi0yLjkyLTE1\n",
    "LjkzNy01LjA4NC0yNC45NjItNi40OTJzLTE5LjM4MS0yLjExMi0zMS4wNjYtMi4xMTJjLTExLjg5\n",
    "NSAwLTIzLjE2MyAxLjI3OC0zMy44MDUgMy44MzNzLTIwLjAwNiA2LjU0NC0yOC4wOTMgMTEuOTY3\n",
    "Yy04LjA4NiA1LjQyNC0xNC40NzYgMTIuMzMzLTE5LjE3MSAyMC43MjktNC42OTUgOC4zOTUtNy4w\n",
    "NDMgMTguNDMzLTcuMDQzIDMwLjExNCAwIDE0LjkxNCA0LjMwNCAyNy42MzggMTIuOTEyIDM4LjE3\n",
    "MiA4LjYwNyAxMC41MzMgMjEuNjc1IDE5LjQ1IDM5LjIwNCAyNi43NTEgNi44ODYgMi44MTYgMTMu\n",
    "MzAzIDUuNTc5IDE5LjI1IDguMjkxczExLjA4NiA1LjUyOCAxNS40MTUgOC40NDhjNC4zMyAyLjky\n",
    "IDcuNzQ3IDYuMTAxIDEwLjI1MiA5LjU0MyAyLjUwNCAzLjQ0MSAzLjc1NiA3LjM1MiAzLjc1NiAx\n",
    "MS43MzMgMCAzLjIzMy0uNzgzIDYuMjMxLTIuMzQ4IDguOTk1cy0zLjkzOSA1LjE2Mi03LjEyMSA3\n",
    "LjE5Ni03LjE0NyAzLjYyNC0xMS44OTQgNC43NzFjLTQuNzQ4IDEuMTQ4LTEwLjMwMyAxLjcyMS0x\n",
    "Ni42NjggMS43MjEtMTAuODUxIDAtMjEuNTk3LTEuOTAzLTMyLjI0LTUuNzEtMTAuNjQyLTMuODA2\n",
    "LTIwLjUwMi05LjUxNi0yOS41NzktMTcuMTN6bS04NC4xNTktMTIzLjM0Mmg2NC4yMnYtNDEuMDgy\n",
    "aC0xNzl2NDEuMDgyaDYzLjkwNnYxODIuOTE4aDUwLjg3NHoiIGZpbGw9IiNmZmYiIGZpbGwtcnVs\n",
    "ZT0iZXZlbm9kZCIvPjwvc3ZnPg==\n",
    "\"\n",
    "     alt=\"TypeScript Logo\" style=\"display:block;margin:auto;width:5%\"/>\n",
    "<br>\n",
    "\n",
    "<div style=\"text-align:center; font-size:200%;\">\n",
    "  <b>Das Deno Test Framework</b>\n",
    "</div>\n",
    "<br/>\n",
    "<div style=\"text-align:center; font-size:120%;\">Dr. Matthias Hölzl</div>\n",
    "<br/>\n",
    "<div style=\"text-align:center;\">Coding-Akademie München</div>\n",
    "<br/>"
   ]
  },
  {
   "cell_type": "code",
   "execution_count": null,
   "id": "c05aeeda4bd93b02",
   "metadata": {
    "slideshow": {
     "slide_type": "subslide"
    },
    "tags": [
     "keep",
     "subslide"
    ]
   },
   "outputs": [],
   "source": [
    "import { assertEquals } from \"jsr:@std/assert\";"
   ]
  },
  {
   "cell_type": "code",
   "execution_count": null,
   "id": "3e62731d1cd7eb28",
   "metadata": {},
   "outputs": [],
   "source": [
    "assertEquals(4, 2 + 2);"
   ]
  },
  {
   "cell_type": "code",
   "execution_count": null,
   "id": "2d4544950032a1d6",
   "metadata": {
    "slideshow": {
     "slide_type": "subslide"
    },
    "tags": [
     "subslide"
    ]
   },
   "outputs": [],
   "source": [
    "Deno.test(\"test addition\", () => {\n",
    "    assertEquals(4, 2 + 2);\n",
    "    }\n",
    ");"
   ]
  },
  {
   "cell_type": "code",
   "execution_count": null,
   "id": "88b5509dcd576bb0",
   "metadata": {
    "tags": [
     "keep"
    ]
   },
   "outputs": [],
   "source": [
    "import {\n",
    "    assert,\n",
    "    assertFalse,\n",
    "    assertNotEquals,\n",
    "    assertAlmostEquals,\n",
    "    assertStrictEquals,\n",
    "    assertNotStrictEquals,\n",
    "    assertThrows } from \"jsr:@std/assert\";"
   ]
  },
  {
   "cell_type": "code",
   "execution_count": null,
   "id": "6d60195eba1de1e7",
   "metadata": {},
   "outputs": [],
   "source": [
    "Deno.test(\"5 is greater than 3\", () => {\n",
    "    assert(5 > 3);\n",
    "});"
   ]
  },
  {
   "cell_type": "code",
   "execution_count": null,
   "id": "228979ba644b986b",
   "metadata": {},
   "outputs": [],
   "source": [
    "Deno.test(\"2 is not greater than 5\", () => {\n",
    "    assertFalse(2 > 5);\n",
    "});"
   ]
  },
  {
   "cell_type": "code",
   "execution_count": null,
   "id": "a38b39451619f1e2",
   "metadata": {},
   "outputs": [],
   "source": [
    "Deno.test(\"2 + 2 is equal to 4\", () => {\n",
    "    assertEquals(4, 2 + 2);\n",
    "});"
   ]
  },
  {
   "cell_type": "code",
   "execution_count": null,
   "id": "6c5a66a15b9378b1",
   "metadata": {},
   "outputs": [],
   "source": [
    "Deno.test(\"5 is not equal to 2 + 2\", () => {\n",
    "    assertNotEquals(5, 2 + 2);\n",
    "});"
   ]
  },
  {
   "cell_type": "code",
   "execution_count": null,
   "id": "05cdca24a4a20498",
   "metadata": {
    "slideshow": {
     "slide_type": "subslide"
    },
    "tags": [
     "subslide",
     "keep"
    ]
   },
   "outputs": [],
   "source": [
    "const str1 = \"Hello\";\n",
    "const str2 = \"Hello\";"
   ]
  },
  {
   "cell_type": "code",
   "execution_count": null,
   "id": "b3aa60ff14d929b2",
   "metadata": {},
   "outputs": [],
   "source": [
    "Deno.test(\"str1 is equal to str2\", () => {\n",
    "    assertEquals(str1, str2);\n",
    "});"
   ]
  },
  {
   "cell_type": "code",
   "execution_count": null,
   "id": "0d7a3cccb1e2e29c",
   "metadata": {},
   "outputs": [],
   "source": [
    "Deno.test(\"str1 is equal to str2 using assert\", () => {\n",
    "    assert(str1 === str2);\n",
    "});"
   ]
  },
  {
   "cell_type": "code",
   "execution_count": null,
   "id": "78cdcbfc40265281",
   "metadata": {},
   "outputs": [],
   "source": [
    "Deno.test(\"0.1 + 0.2 is approximately equal to 0.3\", () => {\n",
    "    assertAlmostEquals(0.1 + 0.2, 0.3);\n",
    "});"
   ]
  },
  {
   "cell_type": "code",
   "execution_count": null,
   "id": "6416fbad38b7f680",
   "metadata": {},
   "outputs": [],
   "source": [
    "Deno.test(\"0.1 + 0.2 is approximately equal to 0.3\", () => {\n",
    "    assertAlmostEquals(0.1 + 0.2, 0.3, 1e-7);\n",
    "});"
   ]
  },
  {
   "cell_type": "code",
   "execution_count": null,
   "id": "26c2af8b6c6c6408",
   "metadata": {},
   "outputs": [],
   "source": [
    "Deno.test(\"0.1 is almost equal to 0.11\", () => {\n",
    "    assertAlmostEquals(0.1, 0.11, 0.02);\n",
    "});"
   ]
  },
  {
   "cell_type": "code",
   "execution_count": null,
   "id": "a419b7b05e9dabaa",
   "metadata": {},
   "outputs": [],
   "source": [
    "Deno.test(\"0.1 and 0.11 match to 1 decimal place\", () => {\n",
    "    assertAlmostEquals(0.1, 0.11, 0.02);\n",
    "});"
   ]
  },
  {
   "cell_type": "code",
   "execution_count": null,
   "id": "9d0767db51dae2da",
   "metadata": {},
   "outputs": [],
   "source": [
    "Deno.test(\"Strings 'Hello' are the same object\", () => {\n",
    "    assertStrictEquals(\"Hello\", \"Hello\");\n",
    "});"
   ]
  },
  {
   "cell_type": "code",
   "execution_count": null,
   "id": "8d55d5a36d1fc8de",
   "metadata": {},
   "outputs": [],
   "source": [
    "Deno.test(\"Two objects are equal\", () => {\n",
    "    assertEquals({}, {});\n",
    "});"
   ]
  },
  {
   "cell_type": "code",
   "execution_count": null,
   "id": "3cb2696193db4630",
   "metadata": {},
   "outputs": [],
   "source": [
    "const obj = {}"
   ]
  },
  {
   "cell_type": "code",
   "execution_count": null,
   "id": "e0e80be6999bb194",
   "metadata": {},
   "outputs": [],
   "source": [
    "Deno.test(\"str1 is the same object as itself\", () => {\n",
    "    assertStrictEquals(obj, obj);\n",
    "});"
   ]
  },
  {
   "cell_type": "code",
   "execution_count": null,
   "id": "67679b38603fbdc6",
   "metadata": {},
   "outputs": [],
   "source": [
    "Deno.test(\"str1 is not the same object as itself\", () => {\n",
    "    assertNotStrictEquals({}, {});\n",
    "});"
   ]
  },
  {
   "cell_type": "code",
   "execution_count": null,
   "id": "267f2c788e384c0f",
   "metadata": {},
   "outputs": [],
   "source": [
    "const add = (x: number, y: number): number => x + y;"
   ]
  },
  {
   "cell_type": "code",
   "execution_count": null,
   "id": "687845984fc08fa0",
   "metadata": {},
   "outputs": [],
   "source": [
    "console.log(add(2, 3));\n",
    "\n",
    "// // %%\n",
    "// const print = (s: string): void => {\n",
    "//     console.log(\"Hello, \" + s);\n",
    "// };\n",
    "\n",
    "// // %%\n",
    "// print(\"World!\");\n",
    "\n",
    "// // %%\n",
    "// Deno.test(\"Throwing an exception, well..., throws an exception\", () => {\n",
    "//     assertThrows(() => {\n",
    "//         throw new TypeError(\"Something went wrong.\")\n",
    "//     });\n",
    "// });\n",
    "\n",
    "// // %% tags=[\"subslide\"]\n",
    "// Deno.test(\"Throwing a TypeError\", () => {\n",
    "//     assertThrows(() => { throw new TypeError(\"Something went wrong.\") }, TypeError);\n",
    "// });\n",
    "\n",
    "// // %%\n",
    "// Object.getPrototypeOf(TypeError)\n",
    "\n",
    "// // %% tags=[\"subslide\"]\n",
    "// Deno.test(\"Throwing a TypeError\", () => {\n",
    "//     assertThrows(() => { throw new TypeError(\"Something went wrong.\") }, Error);\n",
    "// });"
   ]
  }
 ],
 "metadata": {
  "jupytext": {
   "cell_metadata_filter": "lang,tags,-all",
   "encoding": "// -*- coding: utf-8 -*-",
   "main_language": "typescript",
   "notebook_metadata_filter": "-all"
  },
  "kernelspec": {
   "display_name": "Deno",
   "language": "typescript",
   "name": "deno"
  },
  "language_info": {
   "codemirror_mode": "typescript",
   "file_extension": ".ts",
   "mimetype": "text/x.typescript",
   "name": "typescript",
   "nbconvert_exporter": "script",
   "pygments_lexer": "typescript",
   "version": "5.6.2"
  }
 },
 "nbformat": 4,
 "nbformat_minor": 5
}
