{
 "cells": [
  {
   "cell_type": "markdown",
   "id": "88df4d6460f0df64",
   "metadata": {
    "lang": "de",
    "slideshow": {
     "slide_type": "slide"
    },
    "tags": [
     "slide"
    ]
   },
   "source": [
    "\n",
    "<img src=\"data:image/svg+xml;base64,PHN2ZyBmaWxsPSJub25lIiBoZWlnaHQ9IjUxMiIgdmlld0JveD0iMCAwIDUxMiA1MTIiIHdpZHRo\n",
    "PSI1MTIiIHhtbG5zPSJodHRwOi8vd3d3LnczLm9yZy8yMDAwL3N2ZyI+PHJlY3QgZmlsbD0iIzMx\n",
    "NzhjNiIgaGVpZ2h0PSI1MTIiIHJ4PSI1MCIgd2lkdGg9IjUxMiIvPjxyZWN0IGZpbGw9IiMzMTc4\n",
    "YzYiIGhlaWdodD0iNTEyIiByeD0iNTAiIHdpZHRoPSI1MTIiLz48cGF0aCBjbGlwLXJ1bGU9ImV2\n",
    "ZW5vZGQiIGQ9Im0zMTYuOTM5IDQwNy40MjR2NTAuMDYxYzguMTM4IDQuMTcyIDE3Ljc2MyA3LjMg\n",
    "MjguODc1IDkuMzg2czIyLjgyMyAzLjEyOSAzNS4xMzUgMy4xMjljMTEuOTk5IDAgMjMuMzk3LTEu\n",
    "MTQ3IDM0LjE5Ni0zLjQ0MiAxMC43OTktMi4yOTQgMjAuMjY4LTYuMDc1IDI4LjQwNi0xMS4zNDIg\n",
    "OC4xMzgtNS4yNjYgMTQuNTgxLTEyLjE1IDE5LjMyOC0yMC42NXM3LjEyMS0xOS4wMDcgNy4xMjEt\n",
    "MzEuNTIyYzAtOS4wNzQtMS4zNTYtMTcuMDI2LTQuMDY5LTIzLjg1N3MtNi42MjUtMTIuOTA2LTEx\n",
    "LjczOC0xOC4yMjVjLTUuMTEyLTUuMzE5LTExLjI0Mi0xMC4wOTEtMTguMzg5LTE0LjMxNXMtMTUu\n",
    "MjA3LTguMjEzLTI0LjE4LTExLjk2N2MtNi41NzMtMi43MTItMTIuNDY4LTUuMzQ1LTE3LjY4NS03\n",
    "LjktNS4yMTctMi41NTYtOS42NTEtNS4xNjMtMTMuMzAzLTcuODIyLTMuNjUyLTIuNjYtNi40Njkt\n",
    "NS40NzYtOC40NTEtOC40NDgtMS45ODItMi45NzMtMi45NzQtNi4zMzYtMi45NzQtMTAuMDkxIDAt\n",
    "My40NDEuODg3LTYuNTQ0IDIuNjYxLTkuMzA4czQuMjc4LTUuMTM2IDcuNTEyLTcuMTE4YzMuMjM1\n",
    "LTEuOTgxIDcuMTk5LTMuNTIgMTEuODk0LTQuNjE1IDQuNjk2LTEuMDk1IDkuOTEyLTEuNjQyIDE1\n",
    "LjY1MS0xLjY0MiA0LjE3MyAwIDguNTgxLjMxMyAxMy4yMjQuOTM4IDQuNjQzLjYyNiA5LjMxMiAx\n",
    "LjU5MSAxNC4wMDggMi44OTQgNC42OTUgMS4zMDQgOS4yNTkgMi45NDcgMTMuNjk0IDQuOTI4IDQu\n",
    "NDM0IDEuOTgyIDguNTI5IDQuMjc2IDEyLjI4NSA2Ljg4NHYtNDYuNzc2Yy03LjYxNi0yLjkyLTE1\n",
    "LjkzNy01LjA4NC0yNC45NjItNi40OTJzLTE5LjM4MS0yLjExMi0zMS4wNjYtMi4xMTJjLTExLjg5\n",
    "NSAwLTIzLjE2MyAxLjI3OC0zMy44MDUgMy44MzNzLTIwLjAwNiA2LjU0NC0yOC4wOTMgMTEuOTY3\n",
    "Yy04LjA4NiA1LjQyNC0xNC40NzYgMTIuMzMzLTE5LjE3MSAyMC43MjktNC42OTUgOC4zOTUtNy4w\n",
    "NDMgMTguNDMzLTcuMDQzIDMwLjExNCAwIDE0LjkxNCA0LjMwNCAyNy42MzggMTIuOTEyIDM4LjE3\n",
    "MiA4LjYwNyAxMC41MzMgMjEuNjc1IDE5LjQ1IDM5LjIwNCAyNi43NTEgNi44ODYgMi44MTYgMTMu\n",
    "MzAzIDUuNTc5IDE5LjI1IDguMjkxczExLjA4NiA1LjUyOCAxNS40MTUgOC40NDhjNC4zMyAyLjky\n",
    "IDcuNzQ3IDYuMTAxIDEwLjI1MiA5LjU0MyAyLjUwNCAzLjQ0MSAzLjc1NiA3LjM1MiAzLjc1NiAx\n",
    "MS43MzMgMCAzLjIzMy0uNzgzIDYuMjMxLTIuMzQ4IDguOTk1cy0zLjkzOSA1LjE2Mi03LjEyMSA3\n",
    "LjE5Ni03LjE0NyAzLjYyNC0xMS44OTQgNC43NzFjLTQuNzQ4IDEuMTQ4LTEwLjMwMyAxLjcyMS0x\n",
    "Ni42NjggMS43MjEtMTAuODUxIDAtMjEuNTk3LTEuOTAzLTMyLjI0LTUuNzEtMTAuNjQyLTMuODA2\n",
    "LTIwLjUwMi05LjUxNi0yOS41NzktMTcuMTN6bS04NC4xNTktMTIzLjM0Mmg2NC4yMnYtNDEuMDgy\n",
    "aC0xNzl2NDEuMDgyaDYzLjkwNnYxODIuOTE4aDUwLjg3NHoiIGZpbGw9IiNmZmYiIGZpbGwtcnVs\n",
    "ZT0iZXZlbm9kZCIvPjwvc3ZnPg==\n",
    "\"\n",
    "     alt=\"TypeScript Logo\" style=\"display:block;margin:auto;width:5%\"/>\n",
    "<br>\n",
    "\n",
    "<div style=\"text-align:center; font-size:200%;\">\n",
    "  <b>Refactoring und Tests</b>\n",
    "</div>\n",
    "<br/>\n",
    "<div style=\"text-align:center; font-size:120%;\">Dr. Matthias Hölzl</div>\n",
    "<br/>\n",
    "<div style=\"text-align:center;\">Coding-Akademie München</div>\n",
    "<br/>"
   ]
  },
  {
   "cell_type": "markdown",
   "id": "a2d2ea99a511eedc",
   "metadata": {
    "lang": "de",
    "slideshow": {
     "slide_type": "subslide"
    },
    "tags": [
     "subslide"
    ]
   },
   "source": [
    "\n",
    "- Zum Refactoring brauchen wir Tests\n",
    "  - Sonst können wir nicht wissen, ob wir das Verhalten geändert haben\n",
    "- Aber: manche Tests erschweren das Refactoring"
   ]
  },
  {
   "cell_type": "markdown",
   "id": "60a66139d71baa2a",
   "metadata": {
    "lang": "de",
    "slideshow": {
     "slide_type": "subslide"
    },
    "tags": [
     "subslide"
    ]
   },
   "source": [
    "\n",
    "## Tests für Refactoring\n",
    "\n",
    "- Schreiben Sie Tests, die das öffentliche Verhalten testen\n",
    "- Vermeiden Sie alle Tests, die sich auf Implementierungs-Details beziehen\n",
    "  - Auch für Unit-Tests\n",
    "- Dazu testen sich oft Methoden gegenseitig\n",
    "- Das ist OK!"
   ]
  },
  {
   "cell_type": "code",
   "execution_count": null,
   "id": "c84dcf0c63cbc97b",
   "metadata": {
    "slideshow": {
     "slide_type": "subslide"
    },
    "tags": [
     "keep",
     "subslide"
    ]
   },
   "outputs": [],
   "source": [
    "class Stack<T> {\n",
    "    private _data: T[] = [];\n",
    "\n",
    "    push(item: T): void {\n",
    "        this._data.push(item);\n",
    "    }\n",
    "\n",
    "    pop(): T {\n",
    "        if (this._data.length === 0) {\n",
    "            throw new Error(\"Stack is empty\");\n",
    "        }\n",
    "        return this._data.pop()!;\n",
    "    }\n",
    "}"
   ]
  },
  {
   "cell_type": "markdown",
   "id": "eecf65d75cc8c70b",
   "metadata": {
    "lang": "de",
    "slideshow": {
     "slide_type": "subslide"
    },
    "tags": [
     "subslide"
    ]
   },
   "source": [
    "\n",
    "**Testen Sie NICHT so!**"
   ]
  },
  {
   "cell_type": "code",
   "execution_count": null,
   "id": "de9bc9ffff07e600",
   "metadata": {
    "slideshow": {
     "slide_type": "subslide"
    },
    "tags": [
     "keep",
     "subslide"
    ]
   },
   "outputs": [],
   "source": [
    "import { assertEquals, assertThrows } from \"jsr:@std/assert\";"
   ]
  },
  {
   "cell_type": "code",
   "execution_count": null,
   "id": "bcfd6c67df7f1a5d",
   "metadata": {
    "tags": [
     "keep"
    ]
   },
   "outputs": [],
   "source": [
    "Deno.test(\"push pushes an element on the stack\", () => {\n",
    "    const unit = new Stack<number>();\n",
    "    unit.push(2);\n",
    "\n",
    "    assertEquals(unit._data.length, 1, \"one element was pushed onto the stack\");\n",
    "    assertEquals(unit._data[0], 2, \"the first element of the stack is 2\");\n",
    "});"
   ]
  },
  {
   "cell_type": "code",
   "execution_count": null,
   "id": "e20fe41810094c1c",
   "metadata": {
    "tags": [
     "keep"
    ]
   },
   "outputs": [],
   "source": [
    "Deno.test(\"pop removes and returns the top element\", () => {\n",
    "    const unit = new Stack<number>();\n",
    "    unit.push(2);\n",
    "    const result = unit.pop();\n",
    "\n",
    "    assertEquals(result, 2, \"Pop result is 1\");\n",
    "    assertEquals(unit._data.length, 0, \"Size after popping is 0\");\n",
    "});"
   ]
  },
  {
   "cell_type": "markdown",
   "id": "4be8858fc55a4c1d",
   "metadata": {
    "lang": "de",
    "slideshow": {
     "slide_type": "subslide"
    },
    "tags": [
     "subslide"
    ]
   },
   "source": [
    "\n",
    "- Wir greifen hier auf die Implementierung zu, die sich jederzeit ändern kann\n",
    "- Testen Sie statt dessen so:"
   ]
  },
  {
   "cell_type": "code",
   "execution_count": null,
   "id": "d6b79c5486d6e2dd",
   "metadata": {
    "tags": [
     "keep"
    ]
   },
   "outputs": [],
   "source": [
    "Deno.test(\"push and pop maintain the stack\", () => {\n",
    "    const unit = new Stack<number>();\n",
    "    unit.push(2);\n",
    "\n",
    "    assertEquals(unit.pop(), 2, \"Topmost element is 2\");\n",
    "    assertThrows(() => unit.pop(), Error, \"Stack is empty\");\n",
    "});"
   ]
  },
  {
   "cell_type": "markdown",
   "id": "615add38df4efe68",
   "metadata": {
    "lang": "de",
    "slideshow": {
     "slide_type": "subslide"
    },
    "tags": [
     "subslide"
    ]
   },
   "source": [
    "\n",
    "- Diese Tests testen das öffentliche Verhalten\n",
    "- Das öffentliche Interface muss geeignet sein, diese Tests zu schreiben\n",
    "  - In diesem Fall ist die Testbarkeit unseres Stacks nicht optimal\n",
    "  - Versuchen Sie **nicht**, das durch Getter und Setter für jeden\n",
    "    Daten-Member zu erreichen\n",
    "  - Stattdessen sollten Sie Abfragen oder einen \"abstrakten Zustand\"\n",
    "    öffentlich machen\n",
    "  - Für den Stack wären das z.B. die `peek()` und `length()`-Properties\n",
    "- Meistens macht das auch die normale Benutzung der Klasse einfacher\n",
    "- TDD ist ein Weg um das zu erreichen\n",
    "  - Aber: Schreiben Sie auch in TDD Tests für Feature-Inkremente, nicht für\n",
    "    Implementierungs-Inkremente"
   ]
  },
  {
   "cell_type": "code",
   "execution_count": null,
   "id": "2d47ca0acdb7d3a0",
   "metadata": {
    "slideshow": {
     "slide_type": "subslide"
    },
    "tags": [
     "keep",
     "subslide"
    ]
   },
   "outputs": [],
   "source": [
    "class Stack<T> {\n",
    "    private _data: T[] = [];\n",
    "\n",
    "    push(item: T): void {\n",
    "        this._data.push(item);\n",
    "    }\n",
    "\n",
    "    pop(): T {\n",
    "        if (this._data.length === 0) {\n",
    "            throw new Error(\"Stack is empty\");\n",
    "        }\n",
    "        return this._data.pop()!;\n",
    "    }\n",
    "\n",
    "    peek(): T {\n",
    "        if (this._data.length === 0) {\n",
    "            throw new Error(\"Stack is empty\");\n",
    "        }\n",
    "        return this._data[this._data.length - 1];\n",
    "    }\n",
    "\n",
    "    get length(): number {\n",
    "        return this._data.length;\n",
    "    }\n",
    "}"
   ]
  },
  {
   "cell_type": "code",
   "execution_count": null,
   "id": "b0ecfe071e9207fa",
   "metadata": {
    "slideshow": {
     "slide_type": "subslide"
    },
    "tags": [
     "keep",
     "subslide"
    ]
   },
   "outputs": [],
   "source": [
    "Deno.test(\"push() puts an element on the stack\", () => {\n",
    "    const stack = new Stack<number>();\n",
    "    stack.push(1);\n",
    "\n",
    "    assertEquals(stack.length, 1);\n",
    "    assertEquals(stack.peek(), 1);\n",
    "});"
   ]
  },
  {
   "cell_type": "code",
   "execution_count": null,
   "id": "87ba23a654aa0359",
   "metadata": {
    "tags": [
     "keep"
    ]
   },
   "outputs": [],
   "source": [
    "Deno.test(\"pop() removes and returns the top element\", () => {\n",
    "    const stack = new Stack<number>();\n",
    "    stack.push(1);\n",
    "    const result = stack.pop();\n",
    "\n",
    "    assertEquals(result, 1);\n",
    "    assertEquals(stack.length, 0);\n",
    "});"
   ]
  },
  {
   "cell_type": "code",
   "execution_count": null,
   "id": "be1933c83d8ed05d",
   "metadata": {
    "tags": [
     "keep"
    ]
   },
   "outputs": [],
   "source": [
    "Deno.test(\"push() and pop() respect LIFO property\", () => {\n",
    "    const stack = new Stack<number>();\n",
    "    stack.push(5);\n",
    "    stack.push(10);\n",
    "\n",
    "    assertEquals(stack.peek(), 10);\n",
    "    assertEquals(stack.length, 2);\n",
    "\n",
    "    assertEquals(stack.pop(), 10);\n",
    "\n",
    "    assertEquals(stack.peek(), 5);\n",
    "    assertEquals(stack.length, 1);\n",
    "\n",
    "    assertEquals(stack.pop(), 5);\n",
    "\n",
    "    assertEquals(stack.length, 0);\n",
    "});"
   ]
  },
  {
   "cell_type": "markdown",
   "id": "8bf4d06bb5b4bbeb",
   "metadata": {
    "lang": "de",
    "slideshow": {
     "slide_type": "subslide"
    },
    "tags": [
     "subslide"
    ]
   },
   "source": [
    "\n",
    "## Workshop: Vorrangwarteschlange (Priority Queue)\n",
    "\n",
    "In diesem Workshop sollen Sie eine Vorrangwarteschlange testen, ohne sich auf\n",
    "ihre internen Implementierungsdetails zu verlassen.\n",
    "\n",
    "### Hintergrund\n",
    "\n",
    "Eine Vorrangwarteschlange ist eine Datenstruktur, die Elemente mit\n",
    "zugehörigen Prioritäten speichert. Sie unterstützt zwei Hauptoperationen:\n",
    "- Enqueue: Füge ein Element mit einer gegebenen Priorität hinzu\n",
    "- Dequeue: Entferne und gib das Element mit der höchsten Priorität zurück\n",
    "\n",
    "Die Herausforderung besteht darin, zu überprüfen, dass die Vorrangwarteschlange\n",
    "die Reihenfolge der Elemente korrekt beibehält, ohne direkt auf ihre interne\n",
    "Struktur zuzugreifen."
   ]
  },
  {
   "cell_type": "markdown",
   "id": "82f6cd12d76e16a4",
   "metadata": {
    "lang": "de",
    "slideshow": {
     "slide_type": "subslide"
    },
    "tags": [
     "subslide"
    ]
   },
   "source": [
    "\n",
    "Die folgende `PriorityQueue<T>`-Klasse implementiert die übliche Schnittstelle\n",
    "für eine Vorrangwarteschlange mit einer einfachen Listen-basierten\n",
    "Repräsentation:\n",
    "\n",
    "- `void Enqueue(T item, int priority)`: Füge ein Element mit der gegebenen\n",
    "  Priorität hinzu\n",
    "- `T Dequeue()`: Entferne und gib das Element mit der höchsten Priorität zurück\n",
    "- `bool IsEmpty`: Gib true zurück, wenn die Warteschlange leer ist, sonst\n",
    "  false"
   ]
  },
  {
   "cell_type": "code",
   "execution_count": null,
   "id": "82f198e369d5be97",
   "metadata": {
    "lines_to_next_cell": 0,
    "slideshow": {
     "slide_type": "subslide"
    },
    "tags": [
     "keep",
     "subslide"
    ]
   },
   "outputs": [],
   "source": [
    "class PriorityQueue<T> {\n",
    "    private items: { item: T; priority: number }[] = [];\n",
    "\n",
    "    enqueue(item: T, priority: number): void {\n",
    "        this.items.push({ item, priority });\n",
    "        this.items.sort((a, b) => b.priority - a.priority);\n",
    "    }\n",
    "\n",
    "    dequeue(): T {\n",
    "        if (this.isEmpty) {\n",
    "            throw new Error(\"Queue is empty\");\n",
    "        }\n",
    "        const item = this.items.shift()!;\n",
    "        return item.item;\n",
    "    }\n",
    "\n",
    "    get isEmpty(): boolean {\n",
    "        return this.items.length === 0;\n",
    "    }\n",
    "}"
   ]
  },
  {
   "cell_type": "markdown",
   "id": "b2764485be26f2d5",
   "metadata": {
    "lang": "de",
    "slideshow": {
     "slide_type": "subslide"
    },
    "tags": [
     "subslide"
    ]
   },
   "source": [
    "\n",
    "Schreiben Sie Tests, die das korrekte Verhalten der\n",
    "Vorrangwarteschlange über ihre öffentliche Schnittstelle verifizieren. Ihre\n",
    "Tests sollten folgendes abdecken:\n",
    "\n",
    "1. Grundlegende Funktionalität (`enqueue`, `dequeue`, `isEmpty`)\n",
    "2. Korrekte Prioritäten-Reihenfolge beim Herausnehmen von Elementen mit `dequeue`\n",
    "3. Umgang mit Elementen mit gleichen Prioritäten\n",
    "4. Randfälle (leere Warteschlange, einzelnes Element)\n",
    "\n",
    "Denken Sie daran, dass Sie in Ihren Tests nicht auf die interne Struktur der\n",
    "Warteschlange zugreifen können!\n",
    "\n",
    "- Welche Strategien haben Sie verwendet, um die Prioritäten-Reihenfolge zu\n",
    "  testen, ohne auf die interne Struktur zuzugreifen?\n",
    "- Wie sicher sind Sie, dass Ihre Tests das Verhalten der Vorrangwarteschlange\n",
    "  vollständig verifizieren?"
   ]
  },
  {
   "cell_type": "code",
   "execution_count": null,
   "id": "892b07715b3e488f",
   "metadata": {},
   "outputs": [],
   "source": [
    "import { assert, assertFalse } from \"jsr:@std/assert\";"
   ]
  },
  {
   "cell_type": "code",
   "execution_count": null,
   "id": "6a8cea9c41a61270",
   "metadata": {
    "slideshow": {
     "slide_type": "subslide"
    },
    "tags": [
     "subslide",
     "keep"
    ]
   },
   "outputs": [],
   "source": [
    "Deno.test(\"isEmpty is true for new queue\", () => {\n",
    "    const queue = new PriorityQueue<string>();\n",
    "    assert(queue.isEmpty);\n",
    "});"
   ]
  },
  {
   "cell_type": "code",
   "execution_count": null,
   "id": "d6aa35787f670032",
   "metadata": {
    "tags": [
     "keep"
    ]
   },
   "outputs": [],
   "source": [
    "Deno.test(\"isEmpty is false after enqueue()\", () => {\n",
    "    const queue = new PriorityQueue<string>();\n",
    "    queue.enqueue(\"Item\", 1);\n",
    "    assertFalse(queue.isEmpty);\n",
    "});"
   ]
  },
  {
   "cell_type": "code",
   "execution_count": null,
   "id": "34ec562c3c8fe7f5",
   "metadata": {
    "tags": [
     "keep"
    ]
   },
   "outputs": [],
   "source": [
    "Deno.test(\"isEmpty is true after dequeueing last item\", () => {\n",
    "    const queue = new PriorityQueue<string>();\n",
    "    queue.enqueue(\"Item\", 1);\n",
    "    queue.dequeue();\n",
    "    assert(queue.isEmpty, \"Queue should be empty after dequeuing the last item\");\n",
    "});"
   ]
  },
  {
   "cell_type": "code",
   "execution_count": null,
   "id": "ee1358dce6bdd923",
   "metadata": {
    "slideshow": {
     "slide_type": "subslide"
    },
    "tags": [
     "keep",
     "subslide"
    ]
   },
   "outputs": [],
   "source": [
    "Deno.test(\"dequeue returns the previously enqueued item\", () => {\n",
    "    const queue = new PriorityQueue<string>();\n",
    "    queue.enqueue(\"Item\", 1);\n",
    "    assertEquals(queue.dequeue(), \"Item\");\n",
    "});"
   ]
  },
  {
   "cell_type": "code",
   "execution_count": null,
   "id": "ab96578603c3101f",
   "metadata": {
    "tags": [
     "keep"
    ]
   },
   "outputs": [],
   "source": [
    "Deno.test(\"enqueue and dequeue respect priorities (low enqueued before high)\", () => {\n",
    "    const queue = new PriorityQueue<string>();\n",
    "    queue.enqueue(\"Low\", 1);\n",
    "    queue.enqueue(\"High\", 2);\n",
    "    assertEquals(queue.dequeue(), \"High\");\n",
    "    assertEquals(queue.dequeue(), \"Low\");\n",
    "});"
   ]
  },
  {
   "cell_type": "code",
   "execution_count": null,
   "id": "2bba891663d0ef2c",
   "metadata": {
    "tags": [
     "keep"
    ]
   },
   "outputs": [],
   "source": [
    "Deno.test(\"enqueue and dequeue respect priorities (high enqueued before low)\", () => {\n",
    "    const queue = new PriorityQueue<string>();\n",
    "    queue.enqueue(\"High\", 2);\n",
    "    queue.enqueue(\"Low\", 1);\n",
    "    assertEquals(queue.dequeue(), \"High\");\n",
    "    assertEquals(queue.dequeue(), \"Low\");\n",
    "});"
   ]
  },
  {
   "cell_type": "code",
   "execution_count": null,
   "id": "028e985e988bc738",
   "metadata": {
    "slideshow": {
     "slide_type": "subslide"
    },
    "tags": [
     "keep",
     "subslide"
    ]
   },
   "outputs": [],
   "source": [
    "Deno.test(\"enqueue and dequeue respect priorities for multiple items\", () => {\n",
    "    const queue = new PriorityQueue<string>();\n",
    "    queue.enqueue(\"Lowest\", 1);\n",
    "    queue.enqueue(\"Highest\", 4);\n",
    "    queue.enqueue(\"Medium\", 2);\n",
    "    queue.enqueue(\"High\", 3);\n",
    "\n",
    "    assertEquals(queue.dequeue(), \"Highest\");\n",
    "    assertEquals(queue.dequeue(), \"High\");\n",
    "    assertEquals(queue.dequeue(), \"Medium\");\n",
    "    assertEquals(queue.dequeue(), \"Lowest\");\n",
    "    assert(queue.isEmpty)\n",
    "});"
   ]
  },
  {
   "cell_type": "code",
   "execution_count": null,
   "id": "0e8c93b33fc2ae98",
   "metadata": {
    "slideshow": {
     "slide_type": "subslide"
    },
    "tags": [
     "keep",
     "subslide"
    ]
   },
   "outputs": [],
   "source": [
    "Deno.test(\"queue respects insertion order for items with same priority\", () => {\n",
    "    const queue = new PriorityQueue<string>();\n",
    "    queue.enqueue(\"First\", 1);\n",
    "    queue.enqueue(\"Second\", 1);\n",
    "\n",
    "    const first = queue.dequeue();\n",
    "    const second = queue.dequeue();\n",
    "\n",
    "    assert(\n",
    "        first === \"First\" && second === \"Second\",\n",
    "        \"Items with equal priorities must maintain insertion order\"\n",
    "    );\n",
    "});"
   ]
  },
  {
   "cell_type": "code",
   "execution_count": null,
   "id": "dacd8cbee6bc1409",
   "metadata": {
    "slideshow": {
     "slide_type": "subslide"
    },
    "tags": [
     "keep",
     "subslide"
    ]
   },
   "outputs": [],
   "source": [
    "Deno.test(\"mixed operations preserve priorities\", () => {\n",
    "    const queue = new PriorityQueue<string>();\n",
    "    queue.enqueue(\"Low\", 1);\n",
    "    queue.enqueue(\"High\", 3);\n",
    "    assertEquals(queue.dequeue(), \"High\");\n",
    "    queue.enqueue(\"Medium\", 2);\n",
    "    assertEquals(queue.dequeue(), \"Medium\");\n",
    "    assertEquals(queue.dequeue(), \"Low\");\n",
    "});"
   ]
  },
  {
   "cell_type": "code",
   "execution_count": null,
   "id": "26793bfbc993d1b3",
   "metadata": {
    "slideshow": {
     "slide_type": "subslide"
    },
    "tags": [
     "keep",
     "subslide"
    ]
   },
   "outputs": [],
   "source": [
    "Deno.test(\"dequeue throws for empty queue\", () => {\n",
    "    const queue = new PriorityQueue<string>();\n",
    "    assertThrows(() => queue.dequeue(), Error, \"Queue is empty\");\n",
    "});"
   ]
  },
  {
   "cell_type": "markdown",
   "id": "4489640a7969cc59",
   "metadata": {
    "lang": "de",
    "slideshow": {
     "slide_type": "subslide"
    },
    "tags": [
     "subslide"
    ]
   },
   "source": [
    "\n",
    "### Heap-basierte Implementierung\n",
    "\n",
    "Die Listen-basierte Implementierung der Vorrangwarteschlange hat eine\n",
    "Komplexität von O(n) für das Einfügen und Entfernen von Elementen. Eine\n",
    "effizientere Implementierung verwendet einen Heap, um die Operationen in O(log\n",
    "n) durchzuführen.\n",
    "\n",
    "Hier ist eine einfache Heap-basierte Implementierung der Vorrangwarteschlange:"
   ]
  },
  {
   "cell_type": "code",
   "execution_count": null,
   "id": "ea05b7005f3226c3",
   "metadata": {
    "slideshow": {
     "slide_type": "subslide"
    },
    "tags": [
     "keep",
     "subslide"
    ]
   },
   "outputs": [],
   "source": [
    "class PriorityQueue<T> {\n",
    "    private heap: { item: T; priority: number }[] = [];\n",
    "    private comparison = (a: { item: T; priority: number }, b: { item: T; priority: number }) => b.priority - a.priority;\n",
    "\n",
    "    enqueue(item: T, priority: number): void {\n",
    "        this.heap.push({ item, priority });\n",
    "        this.siftUp(this.heap.length - 1);\n",
    "    }\n",
    "\n",
    "    dequeue(): T {\n",
    "        if (this.isEmpty) {\n",
    "            throw new Error(\"Queue is empty\");\n",
    "        }\n",
    "        const item = this.heap[0].item;\n",
    "        const lastIndex = this.heap.length - 1;\n",
    "        this.heap[0] = this.heap[lastIndex];\n",
    "        this.heap.pop();\n",
    "        if (!this.isEmpty) {\n",
    "            this.siftDown(0);\n",
    "        }\n",
    "        return item;\n",
    "    }\n",
    "\n",
    "    get isEmpty(): boolean {\n",
    "        return this.heap.length === 0;\n",
    "    }\n",
    "\n",
    "    private siftUp(index: number): void {\n",
    "        while (index > 0) {\n",
    "            const parentIndex = Math.floor((index - 1) / 2);\n",
    "            if (this.comparison(this.heap[index], this.heap[parentIndex]) >= 0) {\n",
    "                break;\n",
    "            }\n",
    "            this.swap(index, parentIndex);\n",
    "            index = parentIndex;\n",
    "        }\n",
    "    }\n",
    "\n",
    "    private siftDown(index: number): void {\n",
    "        const size = this.heap.length;\n",
    "        while (true) {\n",
    "            const leftChild = 2 * index + 1;\n",
    "            const rightChild = 2 * index + 2;\n",
    "            let highest = index;\n",
    "\n",
    "            if (leftChild < size && this.comparison(this.heap[leftChild], this.heap[highest]) < 0) {\n",
    "                highest = leftChild;\n",
    "            }\n",
    "            if (rightChild < size && this.comparison(this.heap[rightChild], this.heap[highest]) < 0) {\n",
    "                highest = rightChild;\n",
    "            }\n",
    "\n",
    "            if (highest === index) {\n",
    "                break;\n",
    "            }\n",
    "\n",
    "            this.swap(index, highest);\n",
    "            index = highest;\n",
    "        }\n",
    "    }\n",
    "\n",
    "    private swap(i: number, j: number): void {\n",
    "        const temp = this.heap[i];\n",
    "        this.heap[i] = this.heap[j];\n",
    "        this.heap[j] = temp;\n",
    "    }\n",
    "}"
   ]
  },
  {
   "cell_type": "markdown",
   "id": "e6e76bed291bcdb5",
   "metadata": {
    "lang": "de",
    "slideshow": {
     "slide_type": "subslide"
    },
    "tags": [
     "subslide"
    ]
   },
   "source": [
    "\n",
    "Funktionieren Ihre Tests für die Listen-basierte Implementierung auch für die\n",
    "Heap-basierte Implementierung?\n",
    "\n",
    "*Hinweis:* Sie können im Notebook einfach die Zelle mit der neuen\n",
    "Implementierung der Vorrangwarteschlange ausführen und dann die Zellen mit\n",
    "Ihren Tests erneut ausführen."
   ]
  },
  {
   "cell_type": "markdown",
   "id": "c6e34f348628d770",
   "metadata": {
    "lang": "de",
    "slideshow": {
     "slide_type": "subslide"
    },
    "tags": [
     "subslide"
    ]
   },
   "source": [
    "\n",
    "Die Tests sind eine exakte Kopie der vorherigen Tests. Sie sind hier nochmal\n",
    "angegeben, um das Testen der Heap-basierten Implementierung zu erleichtern."
   ]
  },
  {
   "cell_type": "code",
   "execution_count": null,
   "id": "d408cd3941783c97",
   "metadata": {
    "slideshow": {
     "slide_type": "subslide"
    },
    "tags": [
     "subslide",
     "keep"
    ]
   },
   "outputs": [],
   "source": [
    "Deno.test(\"isEmpty is true for new queue\", () => {\n",
    "    const queue = new PriorityQueue<string>();\n",
    "    assert(queue.isEmpty);\n",
    "});"
   ]
  },
  {
   "cell_type": "code",
   "execution_count": null,
   "id": "d016187179fd6c1f",
   "metadata": {
    "tags": [
     "keep"
    ]
   },
   "outputs": [],
   "source": [
    "Deno.test(\"isEmpty is false after enqueue()\", () => {\n",
    "    const queue = new PriorityQueue<string>();\n",
    "    queue.enqueue(\"Item\", 1);\n",
    "    assertFalse(queue.isEmpty);\n",
    "});"
   ]
  },
  {
   "cell_type": "code",
   "execution_count": null,
   "id": "3409ba4860e6e914",
   "metadata": {
    "tags": [
     "keep"
    ]
   },
   "outputs": [],
   "source": [
    "Deno.test(\"isEmpty is true after dequeueing last item\", () => {\n",
    "    const queue = new PriorityQueue<string>();\n",
    "    queue.enqueue(\"Item\", 1);\n",
    "    queue.dequeue();\n",
    "    assert(queue.isEmpty, \"Queue should be empty after dequeuing the last item\");\n",
    "});"
   ]
  },
  {
   "cell_type": "code",
   "execution_count": null,
   "id": "5022918cd0910b3d",
   "metadata": {
    "slideshow": {
     "slide_type": "subslide"
    },
    "tags": [
     "keep",
     "subslide"
    ]
   },
   "outputs": [],
   "source": [
    "Deno.test(\"dequeue returns the previously enqueued item\", () => {\n",
    "    const queue = new PriorityQueue<string>();\n",
    "    queue.enqueue(\"Item\", 1);\n",
    "    assertEquals(queue.dequeue(), \"Item\");\n",
    "});"
   ]
  },
  {
   "cell_type": "code",
   "execution_count": null,
   "id": "bfa60b943dbef620",
   "metadata": {
    "tags": [
     "keep"
    ]
   },
   "outputs": [],
   "source": [
    "Deno.test(\"enqueue and dequeue respect priorities (low enqueued before high)\", () => {\n",
    "    const queue = new PriorityQueue<string>();\n",
    "    queue.enqueue(\"Low\", 1);\n",
    "    queue.enqueue(\"High\", 2);\n",
    "    assertEquals(queue.dequeue(), \"High\");\n",
    "    assertEquals(queue.dequeue(), \"Low\");\n",
    "});"
   ]
  },
  {
   "cell_type": "code",
   "execution_count": null,
   "id": "6b0a6537ce374886",
   "metadata": {
    "tags": [
     "keep"
    ]
   },
   "outputs": [],
   "source": [
    "Deno.test(\"enqueue and dequeue respect priorities (high enqueued before low)\", () => {\n",
    "    const queue = new PriorityQueue<string>();\n",
    "    queue.enqueue(\"High\", 2);\n",
    "    queue.enqueue(\"Low\", 1);\n",
    "    assertEquals(queue.dequeue(), \"High\");\n",
    "    assertEquals(queue.dequeue(), \"Low\");\n",
    "});"
   ]
  },
  {
   "cell_type": "code",
   "execution_count": null,
   "id": "084758657c21950d",
   "metadata": {
    "slideshow": {
     "slide_type": "subslide"
    },
    "tags": [
     "keep",
     "subslide"
    ]
   },
   "outputs": [],
   "source": [
    "Deno.test(\"enqueue and dequeue respect priorities for multiple items\", () => {\n",
    "    const queue = new PriorityQueue<string>();\n",
    "    queue.enqueue(\"Lowest\", 1);\n",
    "    queue.enqueue(\"Highest\", 4);\n",
    "    queue.enqueue(\"Medium\", 2);\n",
    "    queue.enqueue(\"High\", 3);\n",
    "\n",
    "    assertEquals(queue.dequeue(), \"Highest\");\n",
    "    assertEquals(queue.dequeue(), \"High\");\n",
    "    assertEquals(queue.dequeue(), \"Medium\");\n",
    "    assertEquals(queue.dequeue(), \"Lowest\");\n",
    "    assert(queue.isEmpty)\n",
    "});"
   ]
  },
  {
   "cell_type": "code",
   "execution_count": null,
   "id": "2d8696aa84edfdb1",
   "metadata": {
    "slideshow": {
     "slide_type": "subslide"
    },
    "tags": [
     "keep",
     "subslide"
    ]
   },
   "outputs": [],
   "source": [
    "Deno.test(\"queue respects insertion order for items with same priority\", () => {\n",
    "    const queue = new PriorityQueue<string>();\n",
    "    queue.enqueue(\"First\", 1);\n",
    "    queue.enqueue(\"Second\", 1);\n",
    "\n",
    "    const first = queue.dequeue();\n",
    "    const second = queue.dequeue();\n",
    "\n",
    "    assert(\n",
    "        first === \"First\" && second === \"Second\",\n",
    "        \"Items with equal priorities must maintain insertion order\"\n",
    "    );\n",
    "});"
   ]
  },
  {
   "cell_type": "code",
   "execution_count": null,
   "id": "b9925359b0627970",
   "metadata": {
    "slideshow": {
     "slide_type": "subslide"
    },
    "tags": [
     "keep",
     "subslide"
    ]
   },
   "outputs": [],
   "source": [
    "Deno.test(\"mixed operations preserve priorities\", () => {\n",
    "    const queue = new PriorityQueue<string>();\n",
    "    queue.enqueue(\"Low\", 1);\n",
    "    queue.enqueue(\"High\", 3);\n",
    "    assertEquals(queue.dequeue(), \"High\");\n",
    "    queue.enqueue(\"Medium\", 2);\n",
    "    assertEquals(queue.dequeue(), \"Medium\");\n",
    "    assertEquals(queue.dequeue(), \"Low\");\n",
    "});"
   ]
  },
  {
   "cell_type": "code",
   "execution_count": null,
   "id": "8b4a703c814ab4f2",
   "metadata": {
    "slideshow": {
     "slide_type": "subslide"
    },
    "tags": [
     "keep",
     "subslide"
    ]
   },
   "outputs": [],
   "source": [
    "Deno.test(\"dequeue throws for empty queue\", () => {\n",
    "    const queue = new PriorityQueue<string>();\n",
    "    assertThrows(() => queue.dequeue(), Error, \"Queue is empty\");\n",
    "});"
   ]
  }
 ],
 "metadata": {
  "jupytext": {
   "cell_metadata_filter": "tags,lang,-all",
   "encoding": "// -*- coding: utf-8 -*-",
   "main_language": "typescript",
   "notebook_metadata_filter": "-all"
  },
  "kernelspec": {
   "display_name": "Deno",
   "language": "typescript",
   "name": "deno"
  },
  "language_info": {
   "codemirror_mode": "typescript",
   "file_extension": ".ts",
   "mimetype": "text/x.typescript",
   "name": "typescript",
   "pygments_lexer": "typescript",
   "version": "5.6.2"
  }
 },
 "nbformat": 4,
 "nbformat_minor": 5
}
