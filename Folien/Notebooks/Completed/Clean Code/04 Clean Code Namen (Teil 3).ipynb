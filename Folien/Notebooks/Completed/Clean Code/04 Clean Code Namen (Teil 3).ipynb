{
 "cells": [
  {
   "cell_type": "markdown",
   "id": "ba50e9d1377e3c9d",
   "metadata": {
    "lang": "de",
    "slideshow": {
     "slide_type": "slide"
    },
    "tags": [
     "slide"
    ]
   },
   "source": [
    "\n",
    "<img src=\"data:image/svg+xml;base64,PHN2ZyBmaWxsPSJub25lIiBoZWlnaHQ9IjUxMiIgdmlld0JveD0iMCAwIDUxMiA1MTIiIHdpZHRo\n",
    "PSI1MTIiIHhtbG5zPSJodHRwOi8vd3d3LnczLm9yZy8yMDAwL3N2ZyI+PHJlY3QgZmlsbD0iIzMx\n",
    "NzhjNiIgaGVpZ2h0PSI1MTIiIHJ4PSI1MCIgd2lkdGg9IjUxMiIvPjxyZWN0IGZpbGw9IiMzMTc4\n",
    "YzYiIGhlaWdodD0iNTEyIiByeD0iNTAiIHdpZHRoPSI1MTIiLz48cGF0aCBjbGlwLXJ1bGU9ImV2\n",
    "ZW5vZGQiIGQ9Im0zMTYuOTM5IDQwNy40MjR2NTAuMDYxYzguMTM4IDQuMTcyIDE3Ljc2MyA3LjMg\n",
    "MjguODc1IDkuMzg2czIyLjgyMyAzLjEyOSAzNS4xMzUgMy4xMjljMTEuOTk5IDAgMjMuMzk3LTEu\n",
    "MTQ3IDM0LjE5Ni0zLjQ0MiAxMC43OTktMi4yOTQgMjAuMjY4LTYuMDc1IDI4LjQwNi0xMS4zNDIg\n",
    "OC4xMzgtNS4yNjYgMTQuNTgxLTEyLjE1IDE5LjMyOC0yMC42NXM3LjEyMS0xOS4wMDcgNy4xMjEt\n",
    "MzEuNTIyYzAtOS4wNzQtMS4zNTYtMTcuMDI2LTQuMDY5LTIzLjg1N3MtNi42MjUtMTIuOTA2LTEx\n",
    "LjczOC0xOC4yMjVjLTUuMTEyLTUuMzE5LTExLjI0Mi0xMC4wOTEtMTguMzg5LTE0LjMxNXMtMTUu\n",
    "MjA3LTguMjEzLTI0LjE4LTExLjk2N2MtNi41NzMtMi43MTItMTIuNDY4LTUuMzQ1LTE3LjY4NS03\n",
    "LjktNS4yMTctMi41NTYtOS42NTEtNS4xNjMtMTMuMzAzLTcuODIyLTMuNjUyLTIuNjYtNi40Njkt\n",
    "NS40NzYtOC40NTEtOC40NDgtMS45ODItMi45NzMtMi45NzQtNi4zMzYtMi45NzQtMTAuMDkxIDAt\n",
    "My40NDEuODg3LTYuNTQ0IDIuNjYxLTkuMzA4czQuMjc4LTUuMTM2IDcuNTEyLTcuMTE4YzMuMjM1\n",
    "LTEuOTgxIDcuMTk5LTMuNTIgMTEuODk0LTQuNjE1IDQuNjk2LTEuMDk1IDkuOTEyLTEuNjQyIDE1\n",
    "LjY1MS0xLjY0MiA0LjE3MyAwIDguNTgxLjMxMyAxMy4yMjQuOTM4IDQuNjQzLjYyNiA5LjMxMiAx\n",
    "LjU5MSAxNC4wMDggMi44OTQgNC42OTUgMS4zMDQgOS4yNTkgMi45NDcgMTMuNjk0IDQuOTI4IDQu\n",
    "NDM0IDEuOTgyIDguNTI5IDQuMjc2IDEyLjI4NSA2Ljg4NHYtNDYuNzc2Yy03LjYxNi0yLjkyLTE1\n",
    "LjkzNy01LjA4NC0yNC45NjItNi40OTJzLTE5LjM4MS0yLjExMi0zMS4wNjYtMi4xMTJjLTExLjg5\n",
    "NSAwLTIzLjE2MyAxLjI3OC0zMy44MDUgMy44MzNzLTIwLjAwNiA2LjU0NC0yOC4wOTMgMTEuOTY3\n",
    "Yy04LjA4NiA1LjQyNC0xNC40NzYgMTIuMzMzLTE5LjE3MSAyMC43MjktNC42OTUgOC4zOTUtNy4w\n",
    "NDMgMTguNDMzLTcuMDQzIDMwLjExNCAwIDE0LjkxNCA0LjMwNCAyNy42MzggMTIuOTEyIDM4LjE3\n",
    "MiA4LjYwNyAxMC41MzMgMjEuNjc1IDE5LjQ1IDM5LjIwNCAyNi43NTEgNi44ODYgMi44MTYgMTMu\n",
    "MzAzIDUuNTc5IDE5LjI1IDguMjkxczExLjA4NiA1LjUyOCAxNS40MTUgOC40NDhjNC4zMyAyLjky\n",
    "IDcuNzQ3IDYuMTAxIDEwLjI1MiA5LjU0MyAyLjUwNCAzLjQ0MSAzLjc1NiA3LjM1MiAzLjc1NiAx\n",
    "MS43MzMgMCAzLjIzMy0uNzgzIDYuMjMxLTIuMzQ4IDguOTk1cy0zLjkzOSA1LjE2Mi03LjEyMSA3\n",
    "LjE5Ni03LjE0NyAzLjYyNC0xMS44OTQgNC43NzFjLTQuNzQ4IDEuMTQ4LTEwLjMwMyAxLjcyMS0x\n",
    "Ni42NjggMS43MjEtMTAuODUxIDAtMjEuNTk3LTEuOTAzLTMyLjI0LTUuNzEtMTAuNjQyLTMuODA2\n",
    "LTIwLjUwMi05LjUxNi0yOS41NzktMTcuMTN6bS04NC4xNTktMTIzLjM0Mmg2NC4yMnYtNDEuMDgy\n",
    "aC0xNzl2NDEuMDgyaDYzLjkwNnYxODIuOTE4aDUwLjg3NHoiIGZpbGw9IiNmZmYiIGZpbGwtcnVs\n",
    "ZT0iZXZlbm9kZCIvPjwvc3ZnPg==\n",
    "\"\n",
    "     alt=\"TypeScript Logo\" style=\"display:block;margin:auto;width:5%\"/>\n",
    "<br>\n",
    "\n",
    "<div style=\"text-align:center; font-size:200%;\">\n",
    "  <b>Clean Code: Namen (Teil 3)</b>\n",
    "</div>\n",
    "<br/>\n",
    "<div style=\"text-align:center; font-size:120%;\">Dr. Matthias Hölzl</div>\n",
    "<br/>\n",
    "<div style=\"text-align:center;\">Coding-Akademie München</div>\n",
    "<br/>"
   ]
  },
  {
   "cell_type": "markdown",
   "id": "8bf9311dfe34339d",
   "metadata": {
    "lang": "de",
    "slideshow": {
     "slide_type": "slide"
    },
    "tags": [
     "slide"
    ]
   },
   "source": [
    "\n",
    "## Disinformation und sinnvolle Unterscheidungen\n",
    "\n",
    "- Namen bedeuten etwas\n",
    "- Disinformation:\n",
    "  - Die Bedeutung des Namens impliziert etwas anderes als der Programmcode:"
   ]
  },
  {
   "cell_type": "code",
   "execution_count": null,
   "id": "82f9d7ee450e52d6",
   "metadata": {
    "tags": [
     "keep"
    ]
   },
   "outputs": [],
   "source": [
    "let verifyConfiguration = false;"
   ]
  },
  {
   "cell_type": "code",
   "execution_count": null,
   "id": "3eebbb82c4aa6741",
   "metadata": {
    "tags": [
     "keep"
    ]
   },
   "outputs": [],
   "source": [
    "if (verifyConfiguration) {\n",
    "    console.log(\"Deleting configuration files...\");\n",
    "}"
   ]
  },
  {
   "cell_type": "code",
   "execution_count": null,
   "id": "92bb5171fa314c6d",
   "metadata": {
    "slideshow": {
     "slide_type": "subslide"
    },
    "tags": [
     "subslide",
     "keep"
    ]
   },
   "outputs": [],
   "source": [
    "class Pair {\n",
    "    constructor(\n",
    "        public first: number,\n",
    "        public second: number,\n",
    "        public third: number\n",
    "    ) {}\n",
    "}"
   ]
  },
  {
   "cell_type": "code",
   "execution_count": null,
   "id": "d36667483558a861",
   "metadata": {
    "tags": [
     "alt"
    ]
   },
   "outputs": [],
   "source": [
    "class Triple {\n",
    "    constructor(\n",
    "        public first: number,\n",
    "        public second: number,\n",
    "        public third: number\n",
    "    ) {}\n",
    "}"
   ]
  },
  {
   "cell_type": "markdown",
   "id": "37cfafc462fcca1e",
   "metadata": {
    "lang": "de",
    "slideshow": {
     "slide_type": "subslide"
    },
    "tags": [
     "subslide"
    ]
   },
   "source": [
    "\n",
    "## Regeln zur Vermeidung von Disinformation\n",
    "\n",
    "- Nimm keinen Typ in einen Variablennamen auf, wenn die Variable nicht von\n",
    "  diesem Typ ist\n",
    "  - Meistens: Gib überhaupt keinen Typ in einem Variablennamen an"
   ]
  },
  {
   "cell_type": "code",
   "execution_count": null,
   "id": "20ae94efaca8acf5",
   "metadata": {
    "tags": [
     "keep"
    ]
   },
   "outputs": [],
   "source": [
    "let vectorOfCards = 0;"
   ]
  },
  {
   "cell_type": "code",
   "execution_count": null,
   "id": "1aae5610801e5287",
   "metadata": {
    "tags": [
     "keep"
    ]
   },
   "outputs": [],
   "source": [
    "let numCards = 0;"
   ]
  },
  {
   "cell_type": "code",
   "execution_count": null,
   "id": "65d402d0f3f1847b",
   "metadata": {
    "tags": [
     "keep"
    ]
   },
   "outputs": [],
   "source": [
    "let cardArray: number[] = [];"
   ]
  },
  {
   "cell_type": "code",
   "execution_count": null,
   "id": "94e11e6f3aefafe0",
   "metadata": {
    "tags": [
     "keep"
    ]
   },
   "outputs": [],
   "source": [
    "let cardDeck: number[] = [];"
   ]
  },
  {
   "cell_type": "markdown",
   "id": "d65d5f16a9470385",
   "metadata": {
    "lang": "de",
    "slideshow": {
     "slide_type": "subslide"
    },
    "tags": [
     "subslide"
    ]
   },
   "source": [
    "\n",
    "## Regeln zur Vermeidung von Disinformation\n",
    "\n",
    "- Sei vorsichtig mit Namen, die sich nur geringfügig unterscheiden"
   ]
  },
  {
   "cell_type": "code",
   "execution_count": null,
   "id": "e6d5dbe047ed2438",
   "metadata": {
    "tags": [
     "keep"
    ]
   },
   "outputs": [],
   "source": [
    "let isMeleeDefenceAvailable = true;\n",
    "let isMeleeDefenseAvailable = false;"
   ]
  },
  {
   "cell_type": "code",
   "execution_count": null,
   "id": "b926a0c6a6abe6d9",
   "metadata": {
    "tags": [
     "keep"
    ]
   },
   "outputs": [],
   "source": [
    "// Ooops...\n",
    "console.log(isMeleeDefenceAvailable === isMeleeDefenseAvailable);"
   ]
  },
  {
   "cell_type": "markdown",
   "id": "2b0ec54f8c1db7dd",
   "metadata": {
    "lang": "de",
    "slideshow": {
     "slide_type": "subslide"
    },
    "tags": [
     "subslide"
    ]
   },
   "source": [
    "\n",
    "## Regeln zur Vermeidung von Disinformation\n",
    "\n",
    "- Benutze Namen, die etwas bedeuten"
   ]
  },
  {
   "cell_type": "code",
   "execution_count": null,
   "id": "84899a98443a937d",
   "metadata": {
    "tags": [
     "keep"
    ]
   },
   "outputs": [],
   "source": [
    "let foobar = 0;\n",
    "let bar = 1;"
   ]
  },
  {
   "cell_type": "code",
   "execution_count": null,
   "id": "ec5664d88b536d0f",
   "metadata": {
    "tags": [
     "keep"
    ]
   },
   "outputs": [],
   "source": [
    "let numberOfVisitors = 0;\n",
    "let daysSinceRelease = 1;"
   ]
  },
  {
   "cell_type": "markdown",
   "id": "da4869d9d088009d",
   "metadata": {
    "lang": "de",
    "slideshow": {
     "slide_type": "subslide"
    },
    "tags": [
     "subslide"
    ]
   },
   "source": [
    "\n",
    "## Regeln zur Vermeidung von Disinformation\n",
    "\n",
    "- Sei bei der Namensgebung konsistent"
   ]
  },
  {
   "cell_type": "code",
   "execution_count": null,
   "id": "32fe90bdf31fd50c",
   "metadata": {
    "tags": [
     "keep"
    ]
   },
   "outputs": [],
   "source": [
    "let numberOfObjects = 10;\n",
    "let numBuyers = 12;\n",
    "let nTransactions = 2;"
   ]
  },
  {
   "cell_type": "code",
   "execution_count": null,
   "id": "09f72129c7d19648",
   "metadata": {
    "tags": [
     "keep"
    ]
   },
   "outputs": [],
   "source": [
    "let numObjects = 10;\n",
    "let numBuyers = 12;\n",
    "let numTransactions = 2;"
   ]
  },
  {
   "cell_type": "code",
   "execution_count": null,
   "id": "e3bd9238239717a2",
   "metadata": {
    "tags": [
     "keep"
    ]
   },
   "outputs": [],
   "source": [
    "let nObjects = 10;\n",
    "let nBuyers = 12;\n",
    "let nTransactions = 2;"
   ]
  },
  {
   "cell_type": "markdown",
   "id": "e73397120fa2b3df",
   "metadata": {
    "lang": "de",
    "slideshow": {
     "slide_type": "slide"
    },
    "tags": [
     "slide"
    ]
   },
   "source": [
    "\n",
    "## Sinnvolle Unterscheidungen\n",
    "\n",
    "- Verwende Namen, die die Bedeutung der Konzepte so klar wie möglich ausdrücken"
   ]
  },
  {
   "cell_type": "code",
   "execution_count": null,
   "id": "faa934a895d82ad9",
   "metadata": {
    "tags": [
     "keep"
    ]
   },
   "outputs": [],
   "source": [
    "let a1 = \"Fluffy\";\n",
    "let a2 = \"Garfield\";"
   ]
  },
  {
   "cell_type": "code",
   "execution_count": null,
   "id": "0c010cc5e9540a2c",
   "metadata": {
    "tags": [
     "keep"
    ]
   },
   "outputs": [],
   "source": [
    "let myDog = \"Fluffy\";\n",
    "let jonsCat = \"Garfield\";"
   ]
  },
  {
   "cell_type": "code",
   "execution_count": null,
   "id": "44f6018ce127a18f",
   "metadata": {
    "slideshow": {
     "slide_type": "subslide"
    },
    "tags": [
     "keep",
     "subslide"
    ]
   },
   "outputs": [],
   "source": [
    "const includeNone = 0;\n",
    "const includeFirst = 1;\n",
    "const includeSecond = 2;\n",
    "const includeBoth = 3;"
   ]
  },
  {
   "cell_type": "code",
   "execution_count": null,
   "id": "a7e55e93021d8c7f",
   "metadata": {
    "tags": [
     "keep"
    ]
   },
   "outputs": [],
   "source": [
    "const includeNoDate = 0;\n",
    "const includeStartDate = 1;\n",
    "const includeEndDate = 2;\n",
    "const includeStartAndEndDate = 3;"
   ]
  },
  {
   "cell_type": "code",
   "execution_count": null,
   "id": "098b01b38bee153f",
   "metadata": {
    "tags": [
     "keep"
    ]
   },
   "outputs": [],
   "source": [
    "enum DatesToInclude {\n",
    "    None = 0,\n",
    "    Start = 1,\n",
    "    End = 2,\n",
    "    StartAndEnd = 3\n",
    "}"
   ]
  },
  {
   "cell_type": "code",
   "execution_count": null,
   "id": "5d35764d5eaec91e",
   "metadata": {},
   "outputs": [],
   "source": [
    "console.log(DatesToInclude.None);"
   ]
  },
  {
   "cell_type": "code",
   "execution_count": null,
   "id": "016829f555c9b4fd",
   "metadata": {},
   "outputs": [],
   "source": [
    "console.log(DatesToInclude.StartAndEnd);"
   ]
  },
  {
   "cell_type": "code",
   "execution_count": null,
   "id": "684a4ce69d85acb1",
   "metadata": {},
   "outputs": [],
   "source": [
    "console.log(DatesToInclude.Start | DatesToInclude.End);"
   ]
  },
  {
   "cell_type": "markdown",
   "id": "8baf9d2bb4ba1556",
   "metadata": {
    "lang": "de",
    "slideshow": {
     "slide_type": "subslide"
    },
    "tags": [
     "subslide"
    ]
   },
   "source": [
    "\n",
    "## Sinnvolle Unterscheidungen\n",
    "\n",
    "- Verwende denselben Namen für dasselbe Konzept"
   ]
  },
  {
   "cell_type": "code",
   "execution_count": null,
   "id": "bf14dc03b60e91ca",
   "metadata": {
    "tags": [
     "keep"
    ]
   },
   "outputs": [],
   "source": [
    "let myPath = \"my-data\";\n",
    "let yourDir = \"your-data\";\n",
    "let fileLoc = \"file-loc\";\n",
    "console.log(fileLoc);"
   ]
  },
  {
   "cell_type": "code",
   "execution_count": null,
   "id": "16fa189776352957",
   "metadata": {
    "tags": [
     "keep"
    ]
   },
   "outputs": [],
   "source": [
    "let myPath = \"my-data\";\n",
    "let yourPath = \"your-data\";\n",
    "let filePath = \"file-loc\";\n",
    "console.log(filePath);"
   ]
  },
  {
   "cell_type": "code",
   "execution_count": null,
   "id": "2364e1fcad2ef505",
   "metadata": {
    "tags": [
     "keep"
    ]
   },
   "outputs": [],
   "source": [
    "let database = `${Deno.env.get(\"HOME\")}/my-db.sqlite`;\n",
    "console.log(database);"
   ]
  },
  {
   "cell_type": "markdown",
   "id": "44ac975557baee77",
   "metadata": {
    "lang": "de",
    "slideshow": {
     "slide_type": "subslide"
    },
    "tags": [
     "subslide"
    ]
   },
   "source": [
    "\n",
    "## Workshop: Namen in existierendem Code\n",
    "\n",
    "- Analysieren Sie ein Programm, an dem Sie arbeiten ob die Namen gut sind\n",
    "- Verbessern Sie die Namen, falls das möglich ist\n",
    "  - Achten Sie aber darauf, dass Sie nicht gegen die Coding-Standards\n",
    "    des Projekts verstoßen\n",
    "- Verbessert sich die Lesbarkeit des Codes?\n",
    "- Diskutieren Sie Ihre Ergebnisse mit Ihren Kollegen"
   ]
  }
 ],
 "metadata": {
  "jupytext": {
   "cell_metadata_filter": "lang,tags,-all",
   "encoding": "// -*- coding: utf-8 -*-",
   "main_language": "typescript",
   "notebook_metadata_filter": "-all"
  },
  "kernelspec": {
   "display_name": "Deno",
   "language": "typescript",
   "name": "deno"
  },
  "language_info": {
   "codemirror_mode": "typescript",
   "file_extension": ".ts",
   "mimetype": "text/x.typescript",
   "name": "typescript",
   "pygments_lexer": "typescript",
   "version": "5.6.2"
  }
 },
 "nbformat": 4,
 "nbformat_minor": 5
}
