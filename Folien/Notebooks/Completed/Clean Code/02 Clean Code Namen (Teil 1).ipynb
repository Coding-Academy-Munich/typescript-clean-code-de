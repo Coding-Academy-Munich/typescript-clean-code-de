{
 "cells": [
  {
   "cell_type": "markdown",
   "id": "3d42d22b34f75f9a",
   "metadata": {
    "lang": "de",
    "slideshow": {
     "slide_type": "slide"
    },
    "tags": [
     "slide"
    ]
   },
   "source": [
    "\n",
    "<img src=\"data:image/svg+xml;base64,PHN2ZyBmaWxsPSJub25lIiBoZWlnaHQ9IjUxMiIgdmlld0JveD0iMCAwIDUxMiA1MTIiIHdpZHRo\n",
    "PSI1MTIiIHhtbG5zPSJodHRwOi8vd3d3LnczLm9yZy8yMDAwL3N2ZyI+PHJlY3QgZmlsbD0iIzMx\n",
    "NzhjNiIgaGVpZ2h0PSI1MTIiIHJ4PSI1MCIgd2lkdGg9IjUxMiIvPjxyZWN0IGZpbGw9IiMzMTc4\n",
    "YzYiIGhlaWdodD0iNTEyIiByeD0iNTAiIHdpZHRoPSI1MTIiLz48cGF0aCBjbGlwLXJ1bGU9ImV2\n",
    "ZW5vZGQiIGQ9Im0zMTYuOTM5IDQwNy40MjR2NTAuMDYxYzguMTM4IDQuMTcyIDE3Ljc2MyA3LjMg\n",
    "MjguODc1IDkuMzg2czIyLjgyMyAzLjEyOSAzNS4xMzUgMy4xMjljMTEuOTk5IDAgMjMuMzk3LTEu\n",
    "MTQ3IDM0LjE5Ni0zLjQ0MiAxMC43OTktMi4yOTQgMjAuMjY4LTYuMDc1IDI4LjQwNi0xMS4zNDIg\n",
    "OC4xMzgtNS4yNjYgMTQuNTgxLTEyLjE1IDE5LjMyOC0yMC42NXM3LjEyMS0xOS4wMDcgNy4xMjEt\n",
    "MzEuNTIyYzAtOS4wNzQtMS4zNTYtMTcuMDI2LTQuMDY5LTIzLjg1N3MtNi42MjUtMTIuOTA2LTEx\n",
    "LjczOC0xOC4yMjVjLTUuMTEyLTUuMzE5LTExLjI0Mi0xMC4wOTEtMTguMzg5LTE0LjMxNXMtMTUu\n",
    "MjA3LTguMjEzLTI0LjE4LTExLjk2N2MtNi41NzMtMi43MTItMTIuNDY4LTUuMzQ1LTE3LjY4NS03\n",
    "LjktNS4yMTctMi41NTYtOS42NTEtNS4xNjMtMTMuMzAzLTcuODIyLTMuNjUyLTIuNjYtNi40Njkt\n",
    "NS40NzYtOC40NTEtOC40NDgtMS45ODItMi45NzMtMi45NzQtNi4zMzYtMi45NzQtMTAuMDkxIDAt\n",
    "My40NDEuODg3LTYuNTQ0IDIuNjYxLTkuMzA4czQuMjc4LTUuMTM2IDcuNTEyLTcuMTE4YzMuMjM1\n",
    "LTEuOTgxIDcuMTk5LTMuNTIgMTEuODk0LTQuNjE1IDQuNjk2LTEuMDk1IDkuOTEyLTEuNjQyIDE1\n",
    "LjY1MS0xLjY0MiA0LjE3MyAwIDguNTgxLjMxMyAxMy4yMjQuOTM4IDQuNjQzLjYyNiA5LjMxMiAx\n",
    "LjU5MSAxNC4wMDggMi44OTQgNC42OTUgMS4zMDQgOS4yNTkgMi45NDcgMTMuNjk0IDQuOTI4IDQu\n",
    "NDM0IDEuOTgyIDguNTI5IDQuMjc2IDEyLjI4NSA2Ljg4NHYtNDYuNzc2Yy03LjYxNi0yLjkyLTE1\n",
    "LjkzNy01LjA4NC0yNC45NjItNi40OTJzLTE5LjM4MS0yLjExMi0zMS4wNjYtMi4xMTJjLTExLjg5\n",
    "NSAwLTIzLjE2MyAxLjI3OC0zMy44MDUgMy44MzNzLTIwLjAwNiA2LjU0NC0yOC4wOTMgMTEuOTY3\n",
    "Yy04LjA4NiA1LjQyNC0xNC40NzYgMTIuMzMzLTE5LjE3MSAyMC43MjktNC42OTUgOC4zOTUtNy4w\n",
    "NDMgMTguNDMzLTcuMDQzIDMwLjExNCAwIDE0LjkxNCA0LjMwNCAyNy42MzggMTIuOTEyIDM4LjE3\n",
    "MiA4LjYwNyAxMC41MzMgMjEuNjc1IDE5LjQ1IDM5LjIwNCAyNi43NTEgNi44ODYgMi44MTYgMTMu\n",
    "MzAzIDUuNTc5IDE5LjI1IDguMjkxczExLjA4NiA1LjUyOCAxNS40MTUgOC40NDhjNC4zMyAyLjky\n",
    "IDcuNzQ3IDYuMTAxIDEwLjI1MiA5LjU0MyAyLjUwNCAzLjQ0MSAzLjc1NiA3LjM1MiAzLjc1NiAx\n",
    "MS43MzMgMCAzLjIzMy0uNzgzIDYuMjMxLTIuMzQ4IDguOTk1cy0zLjkzOSA1LjE2Mi03LjEyMSA3\n",
    "LjE5Ni03LjE0NyAzLjYyNC0xMS44OTQgNC43NzFjLTQuNzQ4IDEuMTQ4LTEwLjMwMyAxLjcyMS0x\n",
    "Ni42NjggMS43MjEtMTAuODUxIDAtMjEuNTk3LTEuOTAzLTMyLjI0LTUuNzEtMTAuNjQyLTMuODA2\n",
    "LTIwLjUwMi05LjUxNi0yOS41NzktMTcuMTN6bS04NC4xNTktMTIzLjM0Mmg2NC4yMnYtNDEuMDgy\n",
    "aC0xNzl2NDEuMDgyaDYzLjkwNnYxODIuOTE4aDUwLjg3NHoiIGZpbGw9IiNmZmYiIGZpbGwtcnVs\n",
    "ZT0iZXZlbm9kZCIvPjwvc3ZnPg==\n",
    "\"\n",
    "     alt=\"TypeScript Logo\" style=\"display:block;margin:auto;width:5%\"/>\n",
    "<br>\n",
    "\n",
    "<div style=\"text-align:center; font-size:200%;\">\n",
    "  <b>Clean Code: Namen (Teil 1)</b>\n",
    "</div>\n",
    "<br/>\n",
    "<div style=\"text-align:center; font-size:120%;\">Dr. Matthias Hölzl</div>\n",
    "<br/>\n",
    "<div style=\"text-align:center;\">Coding-Akademie München</div>\n",
    "<br/>"
   ]
  },
  {
   "cell_type": "markdown",
   "id": "6cca43b3d6fdcec4",
   "metadata": {
    "lang": "de",
    "slideshow": {
     "slide_type": "subslide"
    },
    "tags": [
     "subslide"
    ]
   },
   "source": [
    "\n",
    "Namen sind ein mächtiges Kommunikationsmittel.\n",
    "\n",
    "- Sie sind überall im Programm zu finden\n",
    "- Sie verbinden den Code mit Domänen-Konzepten."
   ]
  },
  {
   "cell_type": "code",
   "execution_count": null,
   "id": "c8df4398f7e5a7ab",
   "metadata": {
    "slideshow": {
     "slide_type": "subslide"
    },
    "tags": [
     "keep",
     "subslide"
    ]
   },
   "outputs": [],
   "source": [
    "function foo(a: number, b: number): number {\n",
    "    if (b > 40.0) {\n",
    "        throw new Error(\"Not allowed!\");\n",
    "    }\n",
    "    return 40.0 * a + 60.0 * b;\n",
    "}"
   ]
  },
  {
   "cell_type": "code",
   "execution_count": null,
   "id": "9462ef32d99a89ab",
   "metadata": {
    "tags": [
     "keep"
    ]
   },
   "outputs": [],
   "source": [
    "console.log(foo(40.0, 3.5));"
   ]
  },
  {
   "cell_type": "code",
   "execution_count": null,
   "id": "f8fd881ea9b651b2",
   "metadata": {
    "slideshow": {
     "slide_type": "subslide"
    },
    "tags": [
     "subslide",
     "keep"
    ]
   },
   "outputs": [],
   "source": [
    "const regularPayPerHour = 40.0;\n",
    "const overtimePayPerHour = 60.0;\n",
    "const maxAllowedOvertime = 40.0;"
   ]
  },
  {
   "cell_type": "code",
   "execution_count": null,
   "id": "c9d9a7caffda729c",
   "metadata": {
    "tags": [
     "keep"
    ]
   },
   "outputs": [],
   "source": [
    "function computeTotalSalary(regularHoursWorked: number, overtimeHoursWorked: number): number {\n",
    "    if (overtimeHoursWorked > maxAllowedOvertime) {\n",
    "        throw new Error(\"Not allowed!\");\n",
    "    }\n",
    "    const regularPay = regularHoursWorked * regularPayPerHour;\n",
    "    const overtimePay = overtimeHoursWorked * overtimePayPerHour;\n",
    "    return regularPay + overtimePay;\n",
    "}"
   ]
  },
  {
   "cell_type": "code",
   "execution_count": null,
   "id": "db5821f8276c24d7",
   "metadata": {
    "tags": [
     "keep"
    ]
   },
   "outputs": [],
   "source": [
    "console.log(computeTotalSalary(40.0, 3.5));"
   ]
  },
  {
   "cell_type": "code",
   "execution_count": null,
   "id": "0ef420337b086960",
   "metadata": {
    "slideshow": {
     "slide_type": "subslide"
    },
    "tags": [
     "keep",
     "subslide"
    ]
   },
   "outputs": [],
   "source": [
    "let severity = 30; // Is this high or low?"
   ]
  },
  {
   "cell_type": "code",
   "execution_count": null,
   "id": "8357d3d6f921c345",
   "metadata": {
    "tags": [
     "keep"
    ]
   },
   "outputs": [],
   "source": [
    "console.log(severity);"
   ]
  },
  {
   "cell_type": "markdown",
   "id": "755b1e8dcc93fcea",
   "metadata": {
    "lang": "de",
    "slideshow": {
     "slide_type": "subslide"
    },
    "tags": [
     "subslide"
    ]
   },
   "source": [
    "\n",
    "### Konstanten\n",
    "\n",
    "- Namen für besondere Werte\n",
    "- Klarer, als die Werte direkt zu verwenden\n",
    "- Direkter Bezug zwischen Name und Wert\n",
    "- Wenig Information über alle möglichen Werte\n",
    "- Wenig Bezug zum Typsystem"
   ]
  },
  {
   "cell_type": "code",
   "execution_count": null,
   "id": "41756745362dcb49",
   "metadata": {
    "tags": [
     "keep"
    ]
   },
   "outputs": [],
   "source": [
    "const severityHigh = 30;"
   ]
  },
  {
   "cell_type": "code",
   "execution_count": null,
   "id": "51e9294f45cd44f6",
   "metadata": {
    "tags": [
     "keep"
    ]
   },
   "outputs": [],
   "source": [
    "let severity = severityHigh; // This is important!"
   ]
  },
  {
   "cell_type": "markdown",
   "id": "65dea3ad06652caf",
   "metadata": {
    "lang": "de",
    "slideshow": {
     "slide_type": "subslide"
    },
    "tags": [
     "subslide"
    ]
   },
   "source": [
    "\n",
    "### Enumerationen\n",
    "\n",
    "- Alternative zu Konstanten\n",
    "- Dokumentieren, welche Werte erwartet werden\n",
    "- Bessere Typsicherheit\n",
    "- Weniger Flexibilität"
   ]
  },
  {
   "cell_type": "code",
   "execution_count": null,
   "id": "228020a3d13d7f42",
   "metadata": {
    "tags": [
     "keep"
    ]
   },
   "outputs": [],
   "source": [
    "enum Severity {\n",
    "    High,\n",
    "    Medium,\n",
    "    Low\n",
    "}"
   ]
  },
  {
   "cell_type": "code",
   "execution_count": null,
   "id": "9885309c67069155",
   "metadata": {
    "tags": [
     "keep"
    ]
   },
   "outputs": [],
   "source": [
    "let severity: Severity = Severity.High;"
   ]
  },
  {
   "cell_type": "markdown",
   "id": "f344c6119ad0f25b",
   "metadata": {
    "lang": "de",
    "slideshow": {
     "slide_type": "subslide"
    },
    "tags": [
     "subslide"
    ]
   },
   "source": [
    "\n",
    "### Klassen und Structs"
   ]
  },
  {
   "cell_type": "code",
   "execution_count": null,
   "id": "296f48ca0477d973",
   "metadata": {},
   "outputs": [],
   "source": [
    "function analyzeReview(text: string): [number, string] {\n",
    "    return [5, \"Generally positive\"];\n",
    "}"
   ]
  },
  {
   "cell_type": "code",
   "execution_count": null,
   "id": "c7eac0b3c0c196d3",
   "metadata": {
    "tags": [
     "keep"
    ]
   },
   "outputs": [],
   "source": [
    "console.log(analyzeReview(\"Some review text\"));"
   ]
  },
  {
   "cell_type": "code",
   "execution_count": null,
   "id": "30d3991903a0065d",
   "metadata": {
    "tags": [
     "keep"
    ]
   },
   "outputs": [],
   "source": [
    "type ReviewResult = {\n",
    "    rating: number;\n",
    "    summary: string;\n",
    "};"
   ]
  },
  {
   "cell_type": "code",
   "execution_count": null,
   "id": "551097862ef06029",
   "metadata": {
    "lines_to_next_cell": 0,
    "tags": [
     "keep"
    ]
   },
   "outputs": [],
   "source": [
    "function analyzeReview(text: string): ReviewResult {\n",
    "    return { rating: 5, summary: \"Generally positive\" };\n",
    "}"
   ]
  },
  {
   "cell_type": "code",
   "execution_count": null,
   "id": "e17fc01d0fc1fb35",
   "metadata": {
    "tags": [
     "keep"
    ]
   },
   "outputs": [],
   "source": [
    "const result = analyzeReview(\"Some review text\");"
   ]
  },
  {
   "cell_type": "code",
   "execution_count": null,
   "id": "d8a7315136cf8dd8",
   "metadata": {
    "tags": [
     "keep"
    ]
   },
   "outputs": [],
   "source": [
    "console.log(result);"
   ]
  },
  {
   "cell_type": "code",
   "execution_count": null,
   "id": "201b50e711079623",
   "metadata": {
    "slideshow": {
     "slide_type": "subslide"
    },
    "tags": [
     "keep",
     "subslide"
    ]
   },
   "outputs": [],
   "source": [
    "enum Rating {\n",
    "    Unknown = 0,\n",
    "    Low,\n",
    "    ModeratelyLow,\n",
    "    Medium,\n",
    "    ModeratelyHigh,\n",
    "    High,\n",
    "};"
   ]
  },
  {
   "cell_type": "code",
   "execution_count": null,
   "id": "9a01cead2ae2eb83",
   "metadata": {},
   "outputs": [],
   "source": [
    "type ReviewResult = {\n",
    "    rating: Rating;\n",
    "    summary: string;\n",
    "};"
   ]
  },
  {
   "cell_type": "code",
   "execution_count": null,
   "id": "e949703b2b2691d0",
   "metadata": {
    "tags": [
     "keep"
    ]
   },
   "outputs": [],
   "source": [
    "function analyzeReview(text: string): ReviewResult {\n",
    "    return {rating: Rating.ModeratelyHigh, summary: \"Overall positive\"};\n",
    "}"
   ]
  },
  {
   "cell_type": "code",
   "execution_count": null,
   "id": "78e992b2e652f959",
   "metadata": {
    "tags": [
     "keep"
    ]
   },
   "outputs": [],
   "source": [
    "console.log(analyzeReview(\"Some review text\"));"
   ]
  },
  {
   "cell_type": "markdown",
   "id": "60ec04344f97790e",
   "metadata": {
    "lang": "de",
    "slideshow": {
     "slide_type": "subslide"
    },
    "tags": [
     "subslide"
    ]
   },
   "source": [
    "\n",
    "## Was ist ein guter Name?\n",
    "\n",
    "- Präzise (sagt was er meint, meint was er sagt)\n",
    "- Beantwortet\n",
    "  - Warum gibt es diese Variable (Funktion, Klasse, Modul, Objekt...)?\n",
    "  - Was macht sie?\n",
    "  - Wie wird sie verwendet?\n",
    "\n",
    "Gute Namen sind schwer zu finden!"
   ]
  },
  {
   "cell_type": "markdown",
   "id": "1804c18ec5d18007",
   "metadata": {
    "lang": "de",
    "slideshow": {
     "slide_type": "subslide"
    },
    "tags": [
     "subslide"
    ]
   },
   "source": [
    "\n",
    "## Was ist ein schlechter Name?\n",
    "\n",
    "- Braucht einen Kommentar\n",
    "- Verbreitet Disinformation\n",
    "- Entspricht nicht den Namensregeln"
   ]
  },
  {
   "cell_type": "markdown",
   "id": "c63d5fe74a029bd7",
   "metadata": {
    "lang": "de",
    "slideshow": {
     "slide_type": "slide"
    },
    "tags": [
     "slide"
    ]
   },
   "source": [
    "\n",
    "## Workshop: Rezepte\n",
    "\n",
    "In `Code/StarterKits/RecipesSk` ist ein Programm, mit dem sich ein\n",
    "Kochbuch verwalten lässt. Leider hat der Programmierer sehr schlechte Namen\n",
    "verwendet, dadurch ist das Programm schwer zu verstehen.\n",
    "\n",
    "Ändern Sie die Namen so, dass das Programm leichter verständlich wird.\n",
    "\n",
    "### Hinweis\n",
    "\n",
    "Verwenden Sie die Refactoring-Tools Ihrer Entwicklungsumgebung!"
   ]
  }
 ],
 "metadata": {
  "jupytext": {
   "cell_metadata_filter": "lang,tags,-all",
   "encoding": "// -*- coding: utf-8 -*-",
   "main_language": "typescript",
   "notebook_metadata_filter": "-all"
  },
  "kernelspec": {
   "display_name": "Deno",
   "language": "typescript",
   "name": "deno"
  },
  "language_info": {
   "codemirror_mode": "typescript",
   "file_extension": ".ts",
   "mimetype": "text/x.typescript",
   "name": "typescript",
   "pygments_lexer": "typescript",
   "version": "5.6.2"
  }
 },
 "nbformat": 4,
 "nbformat_minor": 5
}
