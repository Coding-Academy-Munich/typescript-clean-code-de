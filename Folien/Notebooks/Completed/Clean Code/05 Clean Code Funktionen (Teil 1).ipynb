{
 "cells": [
  {
   "cell_type": "markdown",
   "id": "f295b817bdd2d8ec",
   "metadata": {
    "lang": "de",
    "slideshow": {
     "slide_type": "slide"
    },
    "tags": [
     "slide"
    ]
   },
   "source": [
    "\n",
    "<img src=\"data:image/svg+xml;base64,PHN2ZyBmaWxsPSJub25lIiBoZWlnaHQ9IjUxMiIgdmlld0JveD0iMCAwIDUxMiA1MTIiIHdpZHRo\n",
    "PSI1MTIiIHhtbG5zPSJodHRwOi8vd3d3LnczLm9yZy8yMDAwL3N2ZyI+PHJlY3QgZmlsbD0iIzMx\n",
    "NzhjNiIgaGVpZ2h0PSI1MTIiIHJ4PSI1MCIgd2lkdGg9IjUxMiIvPjxyZWN0IGZpbGw9IiMzMTc4\n",
    "YzYiIGhlaWdodD0iNTEyIiByeD0iNTAiIHdpZHRoPSI1MTIiLz48cGF0aCBjbGlwLXJ1bGU9ImV2\n",
    "ZW5vZGQiIGQ9Im0zMTYuOTM5IDQwNy40MjR2NTAuMDYxYzguMTM4IDQuMTcyIDE3Ljc2MyA3LjMg\n",
    "MjguODc1IDkuMzg2czIyLjgyMyAzLjEyOSAzNS4xMzUgMy4xMjljMTEuOTk5IDAgMjMuMzk3LTEu\n",
    "MTQ3IDM0LjE5Ni0zLjQ0MiAxMC43OTktMi4yOTQgMjAuMjY4LTYuMDc1IDI4LjQwNi0xMS4zNDIg\n",
    "OC4xMzgtNS4yNjYgMTQuNTgxLTEyLjE1IDE5LjMyOC0yMC42NXM3LjEyMS0xOS4wMDcgNy4xMjEt\n",
    "MzEuNTIyYzAtOS4wNzQtMS4zNTYtMTcuMDI2LTQuMDY5LTIzLjg1N3MtNi42MjUtMTIuOTA2LTEx\n",
    "LjczOC0xOC4yMjVjLTUuMTEyLTUuMzE5LTExLjI0Mi0xMC4wOTEtMTguMzg5LTE0LjMxNXMtMTUu\n",
    "MjA3LTguMjEzLTI0LjE4LTExLjk2N2MtNi41NzMtMi43MTItMTIuNDY4LTUuMzQ1LTE3LjY4NS03\n",
    "LjktNS4yMTctMi41NTYtOS42NTEtNS4xNjMtMTMuMzAzLTcuODIyLTMuNjUyLTIuNjYtNi40Njkt\n",
    "NS40NzYtOC40NTEtOC40NDgtMS45ODItMi45NzMtMi45NzQtNi4zMzYtMi45NzQtMTAuMDkxIDAt\n",
    "My40NDEuODg3LTYuNTQ0IDIuNjYxLTkuMzA4czQuMjc4LTUuMTM2IDcuNTEyLTcuMTE4YzMuMjM1\n",
    "LTEuOTgxIDcuMTk5LTMuNTIgMTEuODk0LTQuNjE1IDQuNjk2LTEuMDk1IDkuOTEyLTEuNjQyIDE1\n",
    "LjY1MS0xLjY0MiA0LjE3MyAwIDguNTgxLjMxMyAxMy4yMjQuOTM4IDQuNjQzLjYyNiA5LjMxMiAx\n",
    "LjU5MSAxNC4wMDggMi44OTQgNC42OTUgMS4zMDQgOS4yNTkgMi45NDcgMTMuNjk0IDQuOTI4IDQu\n",
    "NDM0IDEuOTgyIDguNTI5IDQuMjc2IDEyLjI4NSA2Ljg4NHYtNDYuNzc2Yy03LjYxNi0yLjkyLTE1\n",
    "LjkzNy01LjA4NC0yNC45NjItNi40OTJzLTE5LjM4MS0yLjExMi0zMS4wNjYtMi4xMTJjLTExLjg5\n",
    "NSAwLTIzLjE2MyAxLjI3OC0zMy44MDUgMy44MzNzLTIwLjAwNiA2LjU0NC0yOC4wOTMgMTEuOTY3\n",
    "Yy04LjA4NiA1LjQyNC0xNC40NzYgMTIuMzMzLTE5LjE3MSAyMC43MjktNC42OTUgOC4zOTUtNy4w\n",
    "NDMgMTguNDMzLTcuMDQzIDMwLjExNCAwIDE0LjkxNCA0LjMwNCAyNy42MzggMTIuOTEyIDM4LjE3\n",
    "MiA4LjYwNyAxMC41MzMgMjEuNjc1IDE5LjQ1IDM5LjIwNCAyNi43NTEgNi44ODYgMi44MTYgMTMu\n",
    "MzAzIDUuNTc5IDE5LjI1IDguMjkxczExLjA4NiA1LjUyOCAxNS40MTUgOC40NDhjNC4zMyAyLjky\n",
    "IDcuNzQ3IDYuMTAxIDEwLjI1MiA5LjU0MyAyLjUwNCAzLjQ0MSAzLjc1NiA3LjM1MiAzLjc1NiAx\n",
    "MS43MzMgMCAzLjIzMy0uNzgzIDYuMjMxLTIuMzQ4IDguOTk1cy0zLjkzOSA1LjE2Mi03LjEyMSA3\n",
    "LjE5Ni03LjE0NyAzLjYyNC0xMS44OTQgNC43NzFjLTQuNzQ4IDEuMTQ4LTEwLjMwMyAxLjcyMS0x\n",
    "Ni42NjggMS43MjEtMTAuODUxIDAtMjEuNTk3LTEuOTAzLTMyLjI0LTUuNzEtMTAuNjQyLTMuODA2\n",
    "LTIwLjUwMi05LjUxNi0yOS41NzktMTcuMTN6bS04NC4xNTktMTIzLjM0Mmg2NC4yMnYtNDEuMDgy\n",
    "aC0xNzl2NDEuMDgyaDYzLjkwNnYxODIuOTE4aDUwLjg3NHoiIGZpbGw9IiNmZmYiIGZpbGwtcnVs\n",
    "ZT0iZXZlbm9kZCIvPjwvc3ZnPg==\n",
    "\"\n",
    "     alt=\"TypeScript Logo\" style=\"display:block;margin:auto;width:5%\"/>\n",
    "<br>\n",
    "\n",
    "<div style=\"text-align:center; font-size:200%;\">\n",
    "  <b>Clean Code: Funktionen (Teil 1)</b>\n",
    "</div>\n",
    "<br/>\n",
    "<div style=\"text-align:center; font-size:120%;\">Dr. Matthias Hölzl</div>\n",
    "<br/>\n",
    "<div style=\"text-align:center;\">Coding-Akademie München</div>\n",
    "<br/>"
   ]
  },
  {
   "cell_type": "markdown",
   "id": "f3767273ac64982b",
   "metadata": {
    "lang": "de",
    "slideshow": {
     "slide_type": "slide"
    },
    "tags": [
     "slide"
    ]
   },
   "source": [
    "\n",
    "[Fasse Operationen, die logisch zusammengehören, als sorgfältig benannte\n",
    "Funktionen zusammen (CG,\n",
    "F.1)](https://isocpp.github.io/CppCoreGuidelines/CppCoreGuidelines#Rf-package)\n",
    "\n",
    "- Besser lesbar\n",
    "- Einfacher zu testen\n",
    "- Fehler sind weniger wahrscheinlich\n",
    "- Wird eher wiederverwendet"
   ]
  },
  {
   "cell_type": "markdown",
   "id": "434fea343edae7d1",
   "metadata": {
    "lang": "de",
    "slideshow": {
     "slide_type": "subslide"
    },
    "tags": [
     "subslide"
    ]
   },
   "source": [
    "\n",
    "## Die 1. Clean Code Regel für Funktionen\n",
    "\n",
    "- Funktionen sollten kurz sein\n",
    "- Kürzer als man meint!\n",
    "- Maximal 4 Zeilen!"
   ]
  },
  {
   "cell_type": "markdown",
   "id": "7bf537a2195a48a0",
   "metadata": {
    "lang": "de",
    "slideshow": {
     "slide_type": "subslide"
    },
    "tags": [
     "subslide"
    ]
   },
   "source": [
    "\n",
    "## C++ Core Guidelines\n",
    "\n",
    "- Eine etwas entspanntere Variante dieser Regel ist in vielen anderen Coding Guidelines zu finden\n",
    "- Ich finde die Version in den C++ Core-Guidelines sehr gut\n",
    "- Auch für andere Sprachen, wie TypeScript\n",
    "- [Halte Funktionen kurz und einfach (CG\n",
    "  F.3)](https://isocpp.github.io/CppCoreGuidelines/CppCoreGuidelines#f3-keep-functions-short-and-simple)\n",
    "  - Funktionen sollten auf einen Bildschirm passen\n",
    "  - Große Funktionen sollten in kleinere, zusammenhängende und benannte\n",
    "    Funktionen aufgeteilt werden\n",
    "  - Funktionen mit einer bis fünf Zeilen sollten als normal angesehen werden"
   ]
  },
  {
   "cell_type": "markdown",
   "id": "2e0c4a65aec79aa1",
   "metadata": {
    "lang": "de",
    "slideshow": {
     "slide_type": "subslide"
    },
    "tags": [
     "subslide"
    ]
   },
   "source": [
    "\n",
    "## Konzentration auf eine Aufgabe\n",
    "\n",
    "- Funktionen sollten eine Aufgabe erfüllen (\"do one thing\")\n",
    "- Sie sollten diese Aufgabe gut erfüllen\n",
    "- Sie sollten nur diese Aufgabe erfüllen"
   ]
  },
  {
   "cell_type": "code",
   "execution_count": null,
   "id": "8d0529a2dc0fdfd3",
   "metadata": {
    "slideshow": {
     "slide_type": "subslide"
    },
    "tags": [
     "keep",
     "subslide"
    ]
   },
   "outputs": [],
   "source": [
    "function doStuff(a: number, b: number, results: number[]): number {\n",
    "    // Get measurement from sensors based on config data...\n",
    "    const measurement = a + b;\n",
    "    // ... and perform a complex computation\n",
    "    const newResult = measurement + 1;\n",
    "    // ... save the result to the list of results\n",
    "    if (newResult > 0) {\n",
    "        results.push(newResult);\n",
    "    }\n",
    "    // ... print all results\n",
    "    for (const result of results) {\n",
    "        console.log(result);\n",
    "    }\n",
    "    // ... and return the result\n",
    "    return newResult;\n",
    "}"
   ]
  },
  {
   "cell_type": "code",
   "execution_count": null,
   "id": "4577392e9e9c3c49",
   "metadata": {
    "slideshow": {
     "slide_type": "subslide"
    },
    "tags": [
     "subslide",
     "keep"
    ]
   },
   "outputs": [],
   "source": [
    "const allResults: number[] = [12, 43];"
   ]
  },
  {
   "cell_type": "code",
   "execution_count": null,
   "id": "d7134a8403868cfc",
   "metadata": {},
   "outputs": [],
   "source": [
    "const newResult = doStuff(2, 4, allResults);"
   ]
  },
  {
   "cell_type": "code",
   "execution_count": null,
   "id": "8d1e3e1625de5840",
   "metadata": {},
   "outputs": [],
   "source": [
    "console.log(newResult);"
   ]
  },
  {
   "cell_type": "code",
   "execution_count": null,
   "id": "d294330302aa57c3",
   "metadata": {},
   "outputs": [],
   "source": [
    "console.log(allResults);"
   ]
  },
  {
   "cell_type": "markdown",
   "id": "215c412bffd34117",
   "metadata": {
    "lang": "de",
    "slideshow": {
     "slide_type": "subslide"
    },
    "tags": [
     "subslide"
    ]
   },
   "source": [
    "\n",
    "- Messung, Auswertung und Validierung der Ergebnisse"
   ]
  },
  {
   "cell_type": "code",
   "execution_count": null,
   "id": "d8236970372fb57c",
   "metadata": {},
   "outputs": [],
   "source": [
    "function getMeasurement(a: number, b: number): number {\n",
    "    return a + b;\n",
    "}"
   ]
  },
  {
   "cell_type": "code",
   "execution_count": null,
   "id": "cdfb5e74b0ac035c",
   "metadata": {},
   "outputs": [],
   "source": [
    "function computeDataForNextTimestep(measurement: number): number {\n",
    "    return measurement + 1;\n",
    "}"
   ]
  },
  {
   "cell_type": "code",
   "execution_count": null,
   "id": "79ceab70a874cdf9",
   "metadata": {},
   "outputs": [],
   "source": [
    "function isValidResult(result: number): boolean {\n",
    "    return result > 0;\n",
    "}"
   ]
  },
  {
   "cell_type": "markdown",
   "id": "cf76867982712550",
   "metadata": {
    "lang": "de",
    "slideshow": {
     "slide_type": "subslide"
    },
    "tags": [
     "subslide"
    ]
   },
   "source": [
    "\n",
    "- Speichern und Drucken der Ergebnisse:"
   ]
  },
  {
   "cell_type": "code",
   "execution_count": null,
   "id": "fe76496430eb36ef",
   "metadata": {},
   "outputs": [],
   "source": [
    "function saveResult(newResult: number, results: number[]): void {\n",
    "    results.push(newResult);\n",
    "}"
   ]
  },
  {
   "cell_type": "code",
   "execution_count": null,
   "id": "bbd7280b50f97e7d",
   "metadata": {},
   "outputs": [],
   "source": [
    "function printResults(results: number[]): void {\n",
    "    for (const result of results) {\n",
    "        console.log(result);\n",
    "    }\n",
    "}"
   ]
  },
  {
   "cell_type": "markdown",
   "id": "8c37c75b84aa3a6f",
   "metadata": {
    "lang": "de",
    "slideshow": {
     "slide_type": "subslide"
    },
    "tags": [
     "subslide"
    ]
   },
   "source": [
    "\n",
    "- Zusammenführung der Funktionen:"
   ]
  },
  {
   "cell_type": "code",
   "execution_count": null,
   "id": "e0efae2704580a90",
   "metadata": {
    "lines_to_next_cell": 0
   },
   "outputs": [],
   "source": [
    "function performMeasurementAndProcessResult(a: number, b: number, results: number[]): number {\n",
    "    const measurement = getMeasurement(a, b);\n",
    "    const newResult = computeDataForNextTimestep(measurement);\n",
    "    if (isValidResult(newResult)) {\n",
    "        saveResult(newResult, results);\n",
    "    }\n",
    "    printResults(results);\n",
    "    return newResult;\n",
    "}"
   ]
  },
  {
   "cell_type": "code",
   "execution_count": null,
   "id": "76731c0a4f2dcf4f",
   "metadata": {
    "slideshow": {
     "slide_type": "subslide"
    },
    "tags": [
     "subslide"
    ]
   },
   "outputs": [],
   "source": [
    "const allResults: number[] = [12, 43];"
   ]
  },
  {
   "cell_type": "code",
   "execution_count": null,
   "id": "676ddcad94711397",
   "metadata": {},
   "outputs": [],
   "source": [
    "const newResult = performMeasurementAndProcessResult(2, 4, allResults);"
   ]
  },
  {
   "cell_type": "code",
   "execution_count": null,
   "id": "4ca82f9fbcc345e5",
   "metadata": {},
   "outputs": [],
   "source": [
    "console.log(newResult);"
   ]
  },
  {
   "cell_type": "code",
   "execution_count": null,
   "id": "7cf6f0fac0bd2e98",
   "metadata": {},
   "outputs": [],
   "source": [
    "console.log(allResults);"
   ]
  },
  {
   "cell_type": "markdown",
   "id": "0aa228e5c129826b",
   "metadata": {
    "lang": "de",
    "slideshow": {
     "slide_type": "subslide"
    },
    "tags": [
     "subslide"
    ]
   },
   "source": [
    "\n",
    "### Fragen\n",
    "\n",
    "- Macht `performMeasurementAndProcessResult()` das Gleiche wie `doStuff()`?\n",
    "- Ist die Funktion `performMeasurementAndProcessResult()` wirklich besser?\n",
    "- Konzentriert sie sich auf eine Aufgabe?\n",
    "- Unterscheiden sich Ihre Aufgaben von `doStuff()`?\n",
    "- Warum (nicht)?"
   ]
  },
  {
   "cell_type": "markdown",
   "id": "b8284cdf9e7fc77d",
   "metadata": {
    "lang": "de",
    "slideshow": {
     "slide_type": "subslide"
    },
    "tags": [
     "subslide"
    ]
   },
   "source": [
    "\n",
    "## Hilfsmittel: Änderungsgründe\n",
    "\n",
    "- Welche möglichen Änderungsgründe gibt es?\n",
    "- Wie viele davon betreffen die jeweilige Funktion?"
   ]
  },
  {
   "cell_type": "markdown",
   "id": "11dfa972c8bbce45",
   "metadata": {
    "lang": "de",
    "slideshow": {
     "slide_type": "subslide"
    },
    "tags": [
     "subslide"
    ]
   },
   "source": [
    "\n",
    "| Änderungsgrund        | `doStuff()` | `performMeasurementAndProcessResult()` |\n",
    "| --------------------- | :---------- | :------------------------------------- |\n",
    "| Messung               | ✓           | ❌ `getMeasurement()`                 |\n",
    "| Berechnung            | ✓           | ❌ `computeDataForNextTimestep()`     |\n",
    "| Validierung           | ✓           | ❌ `isValidResult()`                  |\n",
    "| Speichern             | ✓           | ❌ `saveResult()`                     |\n",
    "| Drucken               | ✓           | ❌ `printResults()`                   |\n",
    "| Neue/andere Tätigkeit | ✓           | ✓                                     |"
   ]
  },
  {
   "cell_type": "markdown",
   "id": "2ef7237b8ced31aa",
   "metadata": {
    "lang": "de",
    "slideshow": {
     "slide_type": "slide"
    },
    "tags": [
     "slide"
    ]
   },
   "source": [
    "\n",
    "# Abstraktionsebenen\n",
    "\n",
    "- Alles, was die Funktion in ihrem Rumpf tut, sollte eine (und nur eine)\n",
    "  Abstraktionsebene unterhalb der Funktion selbst sein.\n",
    "- Beispiel: `performMeasurementAndProcessResult()`\n",
    "- Gegenbeispiel: `createAndDistributeExam()`:"
   ]
  },
  {
   "cell_type": "markdown",
   "id": "40fef6e993523505",
   "metadata": {
    "lines_to_next_cell": 0,
    "slideshow": {
     "slide_type": "subslide"
    },
    "tags": [
     "subslide"
    ]
   },
   "source": [
    "\n",
    "```typescript\n",
    "function createAndDistributeExam(subject: string): void {\n",
    "    // high level abstraction\n",
    "    const exam = createExamUsingChatGPT(subject);\n",
    "\n",
    "    // low level abstractions\n",
    "    const fileName = `${subject}_exam.pdf`;\n",
    "    const encoder = new TextEncoder();\n",
    "    const fileData: Uint8Array[] = [];\n",
    "\n",
    "    fileData.push(encoder.encode(writePdfHeader()));\n",
    "    for (const question of exam.getQuestions()) {\n",
    "        const pdfQuestion = convertQuestionToPdf(question);\n",
    "        fileData.push(encoder.encode(pdfQuestion + \"\\n\"));\n",
    "    }\n",
    "\n",
    "    saveToFile(fileName, fileData);\n",
    "\n",
    "    // higher level abstraction\n",
    "    distributeExamToStudents(fileName);\n",
    "}\n",
    "```"
   ]
  },
  {
   "cell_type": "markdown",
   "id": "ed995939e3b8307d",
   "metadata": {
    "lang": "de",
    "slideshow": {
     "slide_type": "subslide"
    },
    "tags": [
     "subslide"
    ]
   },
   "source": [
    "\n",
    "## Kontrolle der Abstraktionsebenen: \"Um-Zu\"-Absätze\n",
    "\n",
    "`performMeasurementAndProcessResult()`:\n",
    "\n",
    "Um eine Messung durchzuführen und das Ergebnis zu verarbeiten:\n",
    "- Hole ein Messergebnis\n",
    "- Berechne die Daten für den nächsten Zeitschritt\n",
    "- Speichere das Ergebnis, falls es gültig ist\n",
    "- Drucke alle Ergebnisse, unabhängig davon, ob das neue Ergebnis gültig ist"
   ]
  },
  {
   "cell_type": "markdown",
   "id": "e100813f27abbf07",
   "metadata": {
    "lang": "de",
    "slideshow": {
     "slide_type": "subslide"
    },
    "tags": [
     "subslide"
    ]
   },
   "source": [
    "\n",
    "## Kommentare als \"Um-Zu\"-Absätze\n",
    "\n",
    "- Beim Schreiben von Code können wir das \"Um-Zu\"-Muster verwenden, um die\n",
    "  Abstraktionsebenen zu kontrollieren\n",
    "- Wir können die \"Um-Zu\"-Absätze als Kommentare schreiben bevor wir den Code\n",
    "  schreiben\n",
    "- Meistens wird jeder Kommentar zu einer Funktion"
   ]
  },
  {
   "cell_type": "code",
   "execution_count": null,
   "id": "d18bb48b6225f34a",
   "metadata": {
    "lang": "de",
    "tags": [
     "keep"
    ]
   },
   "outputs": [],
   "source": [
    "class OrderProcessor {\n",
    "    processOrder(orderId: string): void {\n",
    "        // Hole die Bestelldetails anhand der `orderId`\n",
    "        // Validiere die Lagerverfügbarkeit für jeden Artikel in der Bestellung\n",
    "        // Aktualisiere den Lagerbestand bei erfolgreicher Validierung\n",
    "        // Erzeuge eine Lieferung für die Bestellung\n",
    "        // Benachrichtige den Kunden mit den Lieferdetails\n",
    "    }\n",
    "}"
   ]
  },
  {
   "cell_type": "markdown",
   "id": "0b15c37f2d02fbc2",
   "metadata": {
    "lang": "de",
    "slideshow": {
     "slide_type": "subslide"
    },
    "tags": [
     "subslide"
    ]
   },
   "source": [
    "\n",
    "## Funktionen als \"Um-Zu\"-Absätze\n",
    "\n",
    "Wir können die \"Um-Zu\"-Absätze auch gleich als Funktionsaufrufe schreiben:"
   ]
  },
  {
   "cell_type": "code",
   "execution_count": null,
   "id": "31791461ab182924",
   "metadata": {
    "lang": "de",
    "slideshow": {
     "slide_type": "subslide"
    },
    "tags": [
     "keep",
     "subslide"
    ]
   },
   "outputs": [],
   "source": [
    "class OrderProcessor {\n",
    "    processOrder(orderId: string): void {\n",
    "        // Hole die Bestelldetails anhand der `orderId`\n",
    "        this.fetchOrderDetails(orderId);\n",
    "        // Validiere die Lagerverfügbarkeit für jeden Artikel in der Bestellung\n",
    "        this.validateStockAvailability(orderId);\n",
    "        // Aktualisiere den Lagerbestand bei erfolgreicher Validierung\n",
    "        this.updateInventory(orderId);\n",
    "        // Erzeuge eine Lieferung für die Bestellung\n",
    "        this.generateShipment(orderId);\n",
    "        // Benachrichtige den Kunden mit den Lieferdetails\n",
    "        this.notifyCustomer(orderId);\n",
    "    }\n",
    "\n",
    "    private fetchOrderDetails(orderId: string): void {}\n",
    "    private validateStockAvailability(orderId: string): void {}\n",
    "    private updateInventory(orderId: string): void {}\n",
    "    private generateShipment(orderId: string): void {}\n",
    "    private notifyCustomer(orderId: string): void {}\n",
    "}"
   ]
  },
  {
   "cell_type": "markdown",
   "id": "702f82f566892aff",
   "metadata": {
    "lang": "de",
    "slideshow": {
     "slide_type": "subslide"
    },
    "tags": [
     "subslide"
    ]
   },
   "source": [
    "\n",
    "## Die Step-Down-Regel\n",
    "\n",
    "- Wir wollen, dass sich der Code wie eine Erzählung von oben nach unten liest\n",
    "- Auf jede Funktion sollten die Funktionen eine Abstraktionsebene darunter\n",
    "  folgen"
   ]
  },
  {
   "cell_type": "markdown",
   "id": "a883bd3e63514a3f",
   "metadata": {
    "lang": "de",
    "slideshow": {
     "slide_type": "slide"
    },
    "tags": [
     "slide"
    ]
   },
   "source": [
    "\n",
    "## Mini-Workshop: Do one Thing\n",
    "\n",
    "Die Funktion `handleMoneyStuff()` macht mehr als eine Sache.\n",
    "\n",
    "Teilen Sie sie in mehrere Funktionen auf, so dass jede nur eine Sache tut.\n",
    "Stellen Sie sicher, dass\n",
    "- jede Funktion ihre Aufgabe gut erfüllt und sich auf einer einzigen\n",
    "  Abstraktionsebene befindet,\n",
    "- alle Namen angemessen sind, und\n",
    "- der Code leicht zu verstehen ist.\n",
    "\n",
    "Falls Sie die Aufgabe lieber in Ihrer gewohnten Entwicklungsumgebung\n",
    "bearbeiten möchten, finden Sie den Code im Verzeichnis\n",
    "`Code/StarterKits/SalariesSk`.\n",
    "\n",
    "*Tipp:* Beginnen Sie damit, die Variablen gemäß den Kommentaren umzubenennen,\n",
    "um den Rest der Arbeit zu vereinfachen."
   ]
  },
  {
   "cell_type": "code",
   "execution_count": null,
   "id": "1b9e095f3c4b4fec",
   "metadata": {
    "slideshow": {
     "slide_type": "subslide"
    },
    "tags": [
     "keep",
     "subslide"
    ]
   },
   "outputs": [],
   "source": [
    "const lstDns: string[] = [\"Mon\", \"Tue\", \"Wed\", \"Thu\", \"Fri\"];"
   ]
  },
  {
   "cell_type": "code",
   "execution_count": null,
   "id": "743f0d2c6291e495",
   "metadata": {
    "slideshow": {
     "slide_type": "subslide"
    },
    "tags": [
     "keep",
     "subslide"
    ]
   },
   "outputs": [],
   "source": [
    "function handleMoneyStuff(\n",
    "    iDow: number,\n",
    "    fSpd: number,\n",
    "    strN: string,\n",
    "    lstSlrs: number[]\n",
    "): number {\n",
    "    // Get the day of week from the list of days.\n",
    "    // We count Sunday as 1, Monday as 2, etc. but the work week starts on Monday.\n",
    "    const strDow = lstDns[iDow - 1];\n",
    "    // Compute the salary so far based on the day\n",
    "    let fSsf = (iDow - 1) * fSpd;\n",
    "    // The tax\n",
    "    let fT = 0.0;\n",
    "    if (fSsf > 500.0 && fSsf <= 1000.0) {\n",
    "        fT = fSsf * 0.05;\n",
    "    } else if (fSsf > 1000.0 && fSsf <= 2000.0) {\n",
    "        fT = fSsf * 0.1;\n",
    "    } else {\n",
    "        fT = fSsf * 0.15;\n",
    "    }\n",
    "    // Update salary based on the tax to pay\n",
    "    fSsf = fSsf - fT;\n",
    "    // Add the salary to the list of all salaries paid\n",
    "    lstSlrs.push(fSsf);\n",
    "    console.log(`${strN} worked till ${strDow} and earned $${fSsf} this week.`);\n",
    "    console.log(`Their taxes were $${fT}.`);\n",
    "    return fT;\n",
    "}"
   ]
  },
  {
   "cell_type": "code",
   "execution_count": null,
   "id": "4e379386351caa03",
   "metadata": {
    "slideshow": {
     "slide_type": "subslide"
    },
    "tags": [
     "keep",
     "subslide"
    ]
   },
   "outputs": [],
   "source": [
    "const salaries: number[] = [2345, 1234];\n",
    "const result = handleMoneyStuff(4, 200, \"Joe\", salaries);\n",
    "console.log(result);"
   ]
  },
  {
   "cell_type": "code",
   "execution_count": null,
   "id": "dc550a8ec18b2dc8",
   "metadata": {
    "tags": [
     "keep"
    ]
   },
   "outputs": [],
   "source": [
    "console.assert(JSON.stringify(salaries) === JSON.stringify([2345, 1234, 570]));\n",
    "console.assert(result === 30);"
   ]
  },
  {
   "cell_type": "code",
   "execution_count": null,
   "id": "334c4144c4371e01",
   "metadata": {
    "slideshow": {
     "slide_type": "subslide"
    },
    "tags": [
     "alt",
     "subslide"
    ]
   },
   "outputs": [],
   "source": [
    "const dayOfWeekNames: string[] = [\"Mon\", \"Tue\", \"Wed\", \"Thu\", \"Fri\"];"
   ]
  },
  {
   "cell_type": "code",
   "execution_count": null,
   "id": "f7f36313fe45376b",
   "metadata": {
    "slideshow": {
     "slide_type": "slide"
    },
    "tags": [
     "alt",
     "slide"
    ]
   },
   "outputs": [],
   "source": [
    "function computeSalaryAndTaxesV2(\n",
    "    dayOfWeekIndex: number,\n",
    "    salaryPerDay: number,\n",
    "    employeeName: string,\n",
    "    salaries: number[]\n",
    "): number {\n",
    "    const baseSalary = computeBaseSalary(dayOfWeekIndex, salaryPerDay);\n",
    "    const [netSalary, tax] = computeNetSalaryAndTax(baseSalary);\n",
    "    storeNetSalary(netSalary, salaries);\n",
    "    printEmployeeInfo(dayOfWeekIndex, employeeName, netSalary, tax);\n",
    "    return tax;\n",
    "}"
   ]
  },
  {
   "cell_type": "code",
   "execution_count": null,
   "id": "c3734deade91e36e",
   "metadata": {
    "slideshow": {
     "slide_type": "subslide"
    },
    "tags": [
     "alt",
     "subslide"
    ]
   },
   "outputs": [],
   "source": [
    "function computeBaseSalary(dayOfWeekIndex: number, salaryPerDay: number): number {\n",
    "    const daysWorkedThisWeek = dayOfWeekIndex - 1;\n",
    "    return daysWorkedThisWeek * salaryPerDay;\n",
    "}"
   ]
  },
  {
   "cell_type": "code",
   "execution_count": null,
   "id": "52446b55dc4ec431",
   "metadata": {
    "tags": [
     "alt"
    ]
   },
   "outputs": [],
   "source": [
    "function computeNetSalaryAndTax(baseSalary: number): [number, number] {\n",
    "    const tax = computeTax(baseSalary);\n",
    "    const netSalary = baseSalary - tax;\n",
    "    return [netSalary, tax];\n",
    "}"
   ]
  },
  {
   "cell_type": "code",
   "execution_count": null,
   "id": "4678bccf1ad7aeb2",
   "metadata": {
    "slideshow": {
     "slide_type": "subslide"
    },
    "tags": [
     "alt",
     "subslide"
    ]
   },
   "outputs": [],
   "source": [
    "function computeTax(baseSalary: number): number {\n",
    "    if (baseSalary > 500.0 && baseSalary <= 1000.0) {\n",
    "        return baseSalary * 0.05;\n",
    "    } else if (baseSalary > 1000.0 && baseSalary <= 2000.0) {\n",
    "        return baseSalary * 0.1;\n",
    "    } else {\n",
    "        return baseSalary * 0.15;\n",
    "    }\n",
    "}"
   ]
  },
  {
   "cell_type": "code",
   "execution_count": null,
   "id": "81a8917d8c0c74fb",
   "metadata": {
    "tags": [
     "alt"
    ]
   },
   "outputs": [],
   "source": [
    "function storeNetSalary(netSalary: number, salaries: number[]): void {\n",
    "    salaries.push(netSalary);\n",
    "}"
   ]
  },
  {
   "cell_type": "code",
   "execution_count": null,
   "id": "56ba306fc720133e",
   "metadata": {
    "slideshow": {
     "slide_type": "subslide"
    },
    "tags": [
     "alt",
     "subslide"
    ]
   },
   "outputs": [],
   "source": [
    "function printEmployeeInfo(\n",
    "    dayOfWeekIndex: number,\n",
    "    name: string,\n",
    "    salary: number,\n",
    "    tax: number\n",
    "): void {\n",
    "    const dayOfWeek = getDayOfWeekFromIndex(dayOfWeekIndex);\n",
    "    console.log(`${name} worked till ${dayOfWeek} and earned $${salary} this week.`);\n",
    "    console.log(`Their taxes were $${tax}.`);\n",
    "}"
   ]
  },
  {
   "cell_type": "code",
   "execution_count": null,
   "id": "0bc13b8a33fe3ead",
   "metadata": {
    "tags": [
     "alt"
    ]
   },
   "outputs": [],
   "source": [
    "function getDayOfWeekFromIndex(index: number): string {\n",
    "    return dayOfWeekNames[index - 1];\n",
    "}"
   ]
  },
  {
   "cell_type": "code",
   "execution_count": null,
   "id": "41fe9b93af4f5a30",
   "metadata": {
    "slideshow": {
     "slide_type": "subslide"
    },
    "tags": [
     "alt",
     "subslide"
    ]
   },
   "outputs": [],
   "source": [
    "const _salaries: number[] = [2345, 1234];\n",
    "const _result = computeSalaryAndTaxesV2(4, 200, \"Joe\", _salaries);\n",
    "console.log(_result);"
   ]
  },
  {
   "cell_type": "code",
   "execution_count": null,
   "id": "228579e21a8a61e7",
   "metadata": {
    "tags": [
     "alt"
    ]
   },
   "outputs": [],
   "source": [
    "console.assert(JSON.stringify(_salaries) === JSON.stringify([2345, 1234, 570]));\n",
    "console.assert(_result === 30);"
   ]
  }
 ],
 "metadata": {
  "jupytext": {
   "cell_metadata_filter": "tags,lang,-all",
   "encoding": "// -*- coding: utf-8 -*-",
   "main_language": "typescript",
   "notebook_metadata_filter": "-all"
  },
  "kernelspec": {
   "display_name": "Deno",
   "language": "typescript",
   "name": "deno"
  },
  "language_info": {
   "codemirror_mode": "typescript",
   "file_extension": ".ts",
   "mimetype": "text/x.typescript",
   "name": "typescript",
   "pygments_lexer": "typescript",
   "version": "5.6.2"
  }
 },
 "nbformat": 4,
 "nbformat_minor": 5
}
