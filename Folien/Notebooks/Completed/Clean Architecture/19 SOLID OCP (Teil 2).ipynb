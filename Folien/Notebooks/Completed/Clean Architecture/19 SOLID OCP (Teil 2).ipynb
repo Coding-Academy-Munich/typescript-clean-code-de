{
 "cells": [
  {
   "cell_type": "markdown",
   "id": "068fdf58403ddd79",
   "metadata": {
    "lang": "de",
    "slideshow": {
     "slide_type": "slide"
    },
    "tags": [
     "slide"
    ]
   },
   "source": [
    "\n",
    "<img src=\"data:image/svg+xml;base64,PHN2ZyBmaWxsPSJub25lIiBoZWlnaHQ9IjUxMiIgdmlld0JveD0iMCAwIDUxMiA1MTIiIHdpZHRo\n",
    "PSI1MTIiIHhtbG5zPSJodHRwOi8vd3d3LnczLm9yZy8yMDAwL3N2ZyI+PHJlY3QgZmlsbD0iIzMx\n",
    "NzhjNiIgaGVpZ2h0PSI1MTIiIHJ4PSI1MCIgd2lkdGg9IjUxMiIvPjxyZWN0IGZpbGw9IiMzMTc4\n",
    "YzYiIGhlaWdodD0iNTEyIiByeD0iNTAiIHdpZHRoPSI1MTIiLz48cGF0aCBjbGlwLXJ1bGU9ImV2\n",
    "ZW5vZGQiIGQ9Im0zMTYuOTM5IDQwNy40MjR2NTAuMDYxYzguMTM4IDQuMTcyIDE3Ljc2MyA3LjMg\n",
    "MjguODc1IDkuMzg2czIyLjgyMyAzLjEyOSAzNS4xMzUgMy4xMjljMTEuOTk5IDAgMjMuMzk3LTEu\n",
    "MTQ3IDM0LjE5Ni0zLjQ0MiAxMC43OTktMi4yOTQgMjAuMjY4LTYuMDc1IDI4LjQwNi0xMS4zNDIg\n",
    "OC4xMzgtNS4yNjYgMTQuNTgxLTEyLjE1IDE5LjMyOC0yMC42NXM3LjEyMS0xOS4wMDcgNy4xMjEt\n",
    "MzEuNTIyYzAtOS4wNzQtMS4zNTYtMTcuMDI2LTQuMDY5LTIzLjg1N3MtNi42MjUtMTIuOTA2LTEx\n",
    "LjczOC0xOC4yMjVjLTUuMTEyLTUuMzE5LTExLjI0Mi0xMC4wOTEtMTguMzg5LTE0LjMxNXMtMTUu\n",
    "MjA3LTguMjEzLTI0LjE4LTExLjk2N2MtNi41NzMtMi43MTItMTIuNDY4LTUuMzQ1LTE3LjY4NS03\n",
    "LjktNS4yMTctMi41NTYtOS42NTEtNS4xNjMtMTMuMzAzLTcuODIyLTMuNjUyLTIuNjYtNi40Njkt\n",
    "NS40NzYtOC40NTEtOC40NDgtMS45ODItMi45NzMtMi45NzQtNi4zMzYtMi45NzQtMTAuMDkxIDAt\n",
    "My40NDEuODg3LTYuNTQ0IDIuNjYxLTkuMzA4czQuMjc4LTUuMTM2IDcuNTEyLTcuMTE4YzMuMjM1\n",
    "LTEuOTgxIDcuMTk5LTMuNTIgMTEuODk0LTQuNjE1IDQuNjk2LTEuMDk1IDkuOTEyLTEuNjQyIDE1\n",
    "LjY1MS0xLjY0MiA0LjE3MyAwIDguNTgxLjMxMyAxMy4yMjQuOTM4IDQuNjQzLjYyNiA5LjMxMiAx\n",
    "LjU5MSAxNC4wMDggMi44OTQgNC42OTUgMS4zMDQgOS4yNTkgMi45NDcgMTMuNjk0IDQuOTI4IDQu\n",
    "NDM0IDEuOTgyIDguNTI5IDQuMjc2IDEyLjI4NSA2Ljg4NHYtNDYuNzc2Yy03LjYxNi0yLjkyLTE1\n",
    "LjkzNy01LjA4NC0yNC45NjItNi40OTJzLTE5LjM4MS0yLjExMi0zMS4wNjYtMi4xMTJjLTExLjg5\n",
    "NSAwLTIzLjE2MyAxLjI3OC0zMy44MDUgMy44MzNzLTIwLjAwNiA2LjU0NC0yOC4wOTMgMTEuOTY3\n",
    "Yy04LjA4NiA1LjQyNC0xNC40NzYgMTIuMzMzLTE5LjE3MSAyMC43MjktNC42OTUgOC4zOTUtNy4w\n",
    "NDMgMTguNDMzLTcuMDQzIDMwLjExNCAwIDE0LjkxNCA0LjMwNCAyNy42MzggMTIuOTEyIDM4LjE3\n",
    "MiA4LjYwNyAxMC41MzMgMjEuNjc1IDE5LjQ1IDM5LjIwNCAyNi43NTEgNi44ODYgMi44MTYgMTMu\n",
    "MzAzIDUuNTc5IDE5LjI1IDguMjkxczExLjA4NiA1LjUyOCAxNS40MTUgOC40NDhjNC4zMyAyLjky\n",
    "IDcuNzQ3IDYuMTAxIDEwLjI1MiA5LjU0MyAyLjUwNCAzLjQ0MSAzLjc1NiA3LjM1MiAzLjc1NiAx\n",
    "MS43MzMgMCAzLjIzMy0uNzgzIDYuMjMxLTIuMzQ4IDguOTk1cy0zLjkzOSA1LjE2Mi03LjEyMSA3\n",
    "LjE5Ni03LjE0NyAzLjYyNC0xMS44OTQgNC43NzFjLTQuNzQ4IDEuMTQ4LTEwLjMwMyAxLjcyMS0x\n",
    "Ni42NjggMS43MjEtMTAuODUxIDAtMjEuNTk3LTEuOTAzLTMyLjI0LTUuNzEtMTAuNjQyLTMuODA2\n",
    "LTIwLjUwMi05LjUxNi0yOS41NzktMTcuMTN6bS04NC4xNTktMTIzLjM0Mmg2NC4yMnYtNDEuMDgy\n",
    "aC0xNzl2NDEuMDgyaDYzLjkwNnYxODIuOTE4aDUwLjg3NHoiIGZpbGw9IiNmZmYiIGZpbGwtcnVs\n",
    "ZT0iZXZlbm9kZCIvPjwvc3ZnPg==\n",
    "\"\n",
    "     alt=\"TypeScript Logo\" style=\"display:block;margin:auto;width:5%\"/>\n",
    "<br>\n",
    "\n",
    "<div style=\"text-align:center; font-size:200%;\">\n",
    "  <b>SOLID: OCP (Teil 2)</b>\n",
    "</div>\n",
    "<br/>\n",
    "<div style=\"text-align:center; font-size:120%;\">Dr. Matthias Hölzl</div>\n",
    "<br/>\n",
    "<div style=\"text-align:center;\">Coding-Akademie München</div>\n",
    "<br/>"
   ]
  },
  {
   "cell_type": "markdown",
   "id": "406e5f065b8941c4",
   "metadata": {
    "lang": "de",
    "slideshow": {
     "slide_type": "subslide"
    },
    "tags": [
     "subslide"
    ]
   },
   "source": [
    "\n",
    "## Wiederholung: OCP-Verletzung\n",
    "\n",
    "<img src=\"img/movie_v0.png\" alt=\"MovieV0\"\n",
    "     style=\"display:block;margin:auto;width:50%\"/>"
   ]
  },
  {
   "cell_type": "markdown",
   "id": "ae67fce730765352",
   "metadata": {
    "lang": "de",
    "slideshow": {
     "slide_type": "subslide"
    },
    "tags": [
     "subslide"
    ]
   },
   "source": [
    "\n",
    "## Lösungsversuch 1: Vererbung\n",
    "\n",
    "<img src=\"img/movie_v2.png\" alt=\"MovieV2\"\n",
    "     style=\"display:block;margin:auto;width:70%\"/>"
   ]
  },
  {
   "cell_type": "markdown",
   "id": "455adc169508e662",
   "metadata": {
    "lang": "de",
    "slideshow": {
     "slide_type": "subslide"
    },
    "tags": [
     "subslide"
    ]
   },
   "source": [
    "\n",
    "- OCP ist erfüllt\n",
    "- Großer Scope der Vererbung\n",
    "  - Preisberechnung ist das wichtigste an Filmen?\n",
    "- Nur eindimensionale Klassifikation\n",
    "- Keine Möglichkeit, Preisschema zu wechseln"
   ]
  },
  {
   "cell_type": "markdown",
   "id": "c8641602f3f5afc1",
   "metadata": {
    "lang": "de",
    "slideshow": {
     "slide_type": "subslide"
    },
    "tags": [
     "subslide"
    ]
   },
   "source": [
    "\n",
    "## Lösungsversuch 2: Strategie-Muster\n",
    "\n",
    "<img src=\"img/movie_v3.png\" alt=\"MovieV3\"\n",
    "     style=\"display:block;margin:auto;width:80%\"/>"
   ]
  },
  {
   "cell_type": "markdown",
   "id": "cebc960a3989d448",
   "metadata": {
    "lang": "de",
    "slideshow": {
     "slide_type": "subslide"
    },
    "tags": [
     "subslide"
    ]
   },
   "source": [
    "\n",
    "- OCP ist erfüllt\n",
    "- Vererbung ist auf die Preisberechnung beschränkt\n",
    "- Mehrdimensionale Klassifikation ist einfach\n",
    "- Preisschema kann zur Laufzeit gewechselt werden"
   ]
  },
  {
   "cell_type": "markdown",
   "id": "3f08e9a984126a54",
   "metadata": {
    "lang": "de",
    "slideshow": {
     "slide_type": "subslide"
    },
    "tags": [
     "subslide"
    ]
   },
   "source": [
    "\n",
    "## Implementierung"
   ]
  },
  {
   "cell_type": "code",
   "execution_count": null,
   "id": "dc01915b49cdb846",
   "metadata": {
    "slideshow": {
     "slide_type": "subslide"
    },
    "tags": [
     "subslide"
    ]
   },
   "outputs": [],
   "source": [
    "interface IMovie\n",
    "{\n",
    "    price: number;\n",
    "    printInfo(): void;\n",
    "}"
   ]
  },
  {
   "cell_type": "code",
   "execution_count": null,
   "id": "a8902767e5fda5ba",
   "metadata": {},
   "outputs": [],
   "source": [
    "interface IPricingStrategy {\n",
    "    computePrice(movie: IMovie): number;\n",
    "}"
   ]
  },
  {
   "cell_type": "code",
   "execution_count": null,
   "id": "c2cdfab29ba987b5",
   "metadata": {
    "slideshow": {
     "slide_type": "subslide"
    },
    "tags": [
     "subslide"
    ]
   },
   "outputs": [],
   "source": [
    "class RegularPricingStrategy implements IPricingStrategy {\n",
    "    computePrice(movie: IMovie): number {\n",
    "        return 4.99;\n",
    "    }\n",
    "}"
   ]
  },
  {
   "cell_type": "code",
   "execution_count": null,
   "id": "40c84e4145ba1a0e",
   "metadata": {},
   "outputs": [],
   "source": [
    "class ChildrenPricingStrategy implements IPricingStrategy {\n",
    "    computePrice(movie: IMovie): number {\n",
    "        return 5.99;\n",
    "    }\n",
    "}"
   ]
  },
  {
   "cell_type": "code",
   "execution_count": null,
   "id": "7ae06ac299b2b854",
   "metadata": {
    "slideshow": {
     "slide_type": "subslide"
    },
    "tags": [
     "keep",
     "subslide"
    ]
   },
   "outputs": [],
   "source": [
    "class Movie implements IMovie {\n",
    "    constructor(public title: string, public pricingStrategy: IPricingStrategy) {}\n",
    "\n",
    "    get price(): number {\n",
    "        return this.pricingStrategy.computePrice(this);\n",
    "    }\n",
    "\n",
    "    printInfo(): void {\n",
    "        console.log(`${this.title} costs ${this.price}`);\n",
    "    }\n",
    "}"
   ]
  },
  {
   "cell_type": "code",
   "execution_count": null,
   "id": "0eeb247961a685ce",
   "metadata": {
    "slideshow": {
     "slide_type": "subslide"
    },
    "tags": [
     "keep",
     "subslide"
    ]
   },
   "outputs": [],
   "source": [
    "const movies: IMovie[] = [\n",
    "    new Movie(\"Casablanca\", new RegularPricingStrategy()),\n",
    "    new Movie(\"Shrek\", new ChildrenPricingStrategy()),\n",
    "];"
   ]
  },
  {
   "cell_type": "code",
   "execution_count": null,
   "id": "55ace1bd2991a575",
   "metadata": {},
   "outputs": [],
   "source": [
    "movies.forEach(m => m.printInfo());"
   ]
  },
  {
   "cell_type": "code",
   "execution_count": null,
   "id": "9f57179fc4621c8f",
   "metadata": {
    "slideshow": {
     "slide_type": "subslide"
    },
    "tags": [
     "subslide"
    ]
   },
   "outputs": [],
   "source": [
    "class NewReleasePricingStrategy implements IPricingStrategy {\n",
    "    computePrice(movie: IMovie): number {\n",
    "        return 6.99;\n",
    "    }\n",
    "}"
   ]
  },
  {
   "cell_type": "code",
   "execution_count": null,
   "id": "94f21d9f33579a41",
   "metadata": {
    "slideshow": {
     "slide_type": "subslide"
    },
    "tags": [
     "subslide"
    ]
   },
   "outputs": [],
   "source": [
    "const godfather = new Movie(\"The Godfather\", new NewReleasePricingStrategy());"
   ]
  },
  {
   "cell_type": "code",
   "execution_count": null,
   "id": "77ee7d1e49614196",
   "metadata": {},
   "outputs": [],
   "source": [
    "movies.push(godfather);\n",
    "console.log(movies);"
   ]
  },
  {
   "cell_type": "code",
   "execution_count": null,
   "id": "968fd577b1ed14cc",
   "metadata": {},
   "outputs": [],
   "source": [
    "movies.forEach(m => m.printInfo());"
   ]
  },
  {
   "cell_type": "code",
   "execution_count": null,
   "id": "67fd08b7f06062cb",
   "metadata": {
    "slideshow": {
     "slide_type": "subslide"
    },
    "tags": [
     "subslide"
    ]
   },
   "outputs": [],
   "source": [
    "godfather.pricingStrategy = new RegularPricingStrategy();\n",
    "\n",
    "movies.forEach(m => m.printInfo());"
   ]
  },
  {
   "cell_type": "markdown",
   "id": "7d258a92bfe34e34",
   "metadata": {
    "lang": "de",
    "slideshow": {
     "slide_type": "subslide"
    },
    "tags": [
     "subslide"
    ]
   },
   "source": [
    "\n",
    "## Workshop: Berechnung von ÖPNV-Fahrpreisen\n",
    "\n",
    "In einer modernen Stadt stehen verschiedene öffentliche Verkehrsmittel zur\n",
    "Verfügung – Busse, U-Bahnen, Züge, Boote, etc. Jedes dieser Verkehrsmittel\n",
    "hat seine eigene Methode zur Fahrpreisberechnung. Zum Beispiel können\n",
    "Bustarife auf Pauschalpreisen basieren, U-Bahnen können auf\n",
    "Entfernungstarifen basieren und Boote können Premiumtarife für\n",
    "landschaftlich reizvolle Strecken haben."
   ]
  },
  {
   "cell_type": "markdown",
   "id": "7780f7fb98c91f01",
   "metadata": {
    "lang": "de",
    "slideshow": {
     "slide_type": "subslide"
    },
    "tags": [
     "subslide"
    ]
   },
   "source": [
    "\n",
    "Sie haben ein rudimentäres Fahrpreisberechnungssystem, das den Fahrpreis\n",
    "basierend auf dem Verkehrsmittel bestimmt. Leider verstößt dieses System\n",
    "gegen das OCP, da es ohne Modifikation nicht für die Erweiterung geöffnet\n",
    "ist. Jedes Mal, wenn ein neues Verkehrsmittel hinzugefügt werden muss, muss\n",
    "das Kernsystem geändert werden.\n",
    "\n",
    "Ihre Aufgabe ist es, das System so zu refaktorisieren, dass es dem OCP\n",
    "entspricht. Genauer gesagt, werden Sie die `switch`-Anweisung aus der\n",
    "Fahrpreisberechnungslogik entfernen. Das Ziel ist es, das System leicht\n",
    "erweiterbar zu machen, so dass neue Verkehrsmittel hinzugefügt werden können,\n",
    "ohne den vorhandenen Code zu ändern."
   ]
  },
  {
   "cell_type": "code",
   "execution_count": null,
   "id": "d269b9ac00e7c988",
   "metadata": {
    "slideshow": {
     "slide_type": "subslide"
    },
    "tags": [
     "keep",
     "subslide"
    ]
   },
   "outputs": [],
   "source": [
    "enum TransportType {\n",
    "    Bus,\n",
    "    Subway,\n",
    "    Train,\n",
    "    Boat\n",
    "}"
   ]
  },
  {
   "cell_type": "code",
   "execution_count": null,
   "id": "2a7e4b8f114f28fe",
   "metadata": {
    "slideshow": {
     "slide_type": "subslide"
    },
    "tags": [
     "keep",
     "subslide"
    ]
   },
   "outputs": [],
   "source": [
    "class Transport\n",
    "{\n",
    "    constructor(private type: TransportType) {}\n",
    "\n",
    "    calculateFare(distance: number): number {\n",
    "        switch (this.type) {\n",
    "            case TransportType.Bus:\n",
    "                return 2.50; // flat rate\n",
    "            case TransportType.Subway:\n",
    "                return 1.50 + (distance * 0.20); // base rate + per km\n",
    "            case TransportType.Train:\n",
    "                return 5.00 + (distance * 0.15); // base rate + per km\n",
    "            case TransportType.Boat:\n",
    "                return 10.00; // premium rate\n",
    "            default:\n",
    "                return 0.0;\n",
    "    }\n",
    "    }\n",
    "}"
   ]
  },
  {
   "cell_type": "code",
   "execution_count": null,
   "id": "f8628b0f3c03e8e4",
   "metadata": {
    "slideshow": {
     "slide_type": "subslide"
    },
    "tags": [
     "keep",
     "subslide"
    ]
   },
   "outputs": [],
   "source": [
    "const bus = new Transport(TransportType.Bus);\n",
    "console.log(`Bus fare: ${bus.calculateFare(10)}`);"
   ]
  },
  {
   "cell_type": "code",
   "execution_count": null,
   "id": "1a475693dd3b4550",
   "metadata": {
    "tags": [
     "keep"
    ]
   },
   "outputs": [],
   "source": [
    "const subway = new Transport(TransportType.Subway);\n",
    "console.log(`Subway fare: ${subway.calculateFare(10)}`);"
   ]
  },
  {
   "cell_type": "code",
   "execution_count": null,
   "id": "d358dd2de32c1f15",
   "metadata": {
    "tags": [
     "keep"
    ]
   },
   "outputs": [],
   "source": [
    "const train = new Transport(TransportType.Train);\n",
    "console.log(`Train fare: ${train.calculateFare(10)}`);"
   ]
  },
  {
   "cell_type": "code",
   "execution_count": null,
   "id": "f40ab2b494b5af8a",
   "metadata": {
    "tags": [
     "keep"
    ]
   },
   "outputs": [],
   "source": [
    "const boat = new Transport(TransportType.Boat);\n",
    "console.log(`Boat fare: ${boat.calculateFare(10)}`);"
   ]
  },
  {
   "cell_type": "code",
   "execution_count": null,
   "id": "b30b24ce61a5d0db",
   "metadata": {
    "slideshow": {
     "slide_type": "subslide"
    },
    "tags": [
     "alt",
     "subslide"
    ]
   },
   "outputs": [],
   "source": [
    "interface IFareCalculationStrategy {\n",
    "    calculateFare(distance: number): number;\n",
    "}"
   ]
  },
  {
   "cell_type": "code",
   "execution_count": null,
   "id": "65e71b8e5c5148df",
   "metadata": {
    "slideshow": {
     "slide_type": "subslide"
    },
    "tags": [
     "alt",
     "subslide"
    ]
   },
   "outputs": [],
   "source": [
    "class BusFare implements IFareCalculationStrategy {\n",
    "    calculateFare(distance: number): number {\n",
    "        return 2.50; // flat rate\n",
    "    }\n",
    "}"
   ]
  },
  {
   "cell_type": "code",
   "execution_count": null,
   "id": "c92666dbfaa7c8ae",
   "metadata": {
    "tags": [
     "alt"
    ]
   },
   "outputs": [],
   "source": [
    "class SubwayFare implements IFareCalculationStrategy {\n",
    "    calculateFare(distance: number): number {\n",
    "        return 1.50 + (distance * 0.20); // base rate + per km\n",
    "    }\n",
    "}"
   ]
  },
  {
   "cell_type": "code",
   "execution_count": null,
   "id": "777f4c7436dfec83",
   "metadata": {
    "slideshow": {
     "slide_type": "subslide"
    },
    "tags": [
     "alt",
     "subslide"
    ]
   },
   "outputs": [],
   "source": [
    "class TrainFare implements IFareCalculationStrategy {\n",
    "    calculateFare(distance: number): number {\n",
    "        return 5.00 + (distance * 0.15); // base rate + per km\n",
    "    }\n",
    "}"
   ]
  },
  {
   "cell_type": "code",
   "execution_count": null,
   "id": "3207de42df51d80a",
   "metadata": {
    "tags": [
     "alt"
    ]
   },
   "outputs": [],
   "source": [
    "class BoatFare implements IFareCalculationStrategy {\n",
    "    calculateFare(distance: number): number {\n",
    "        return 10.00; // premium rate\n",
    "    }\n",
    "}"
   ]
  },
  {
   "cell_type": "code",
   "execution_count": null,
   "id": "24b5c81efbfdfcaf",
   "metadata": {
    "slideshow": {
     "slide_type": "subslide"
    },
    "tags": [
     "alt",
     "subslide"
    ]
   },
   "outputs": [],
   "source": [
    "class Transport {\n",
    "    private fareStrategy: IFareCalculationStrategy;\n",
    "\n",
    "    constructor(fareStrategy: IFareCalculationStrategy) {\n",
    "        this.fareStrategy = fareStrategy;\n",
    "    }\n",
    "\n",
    "    calculateFare(distance: number): number {\n",
    "        return this.fareStrategy.calculateFare(distance);\n",
    "    }\n",
    "}"
   ]
  },
  {
   "cell_type": "code",
   "execution_count": null,
   "id": "4e75bf3fc3f925b7",
   "metadata": {
    "slideshow": {
     "slide_type": "subslide"
    },
    "tags": [
     "alt",
     "subslide"
    ]
   },
   "outputs": [],
   "source": [
    "const bus = new Transport(new BusFare());\n",
    "console.log(`Bus fare: ${bus.calculateFare(10)}`);"
   ]
  },
  {
   "cell_type": "code",
   "execution_count": null,
   "id": "0f9a2c24049d6b81",
   "metadata": {
    "tags": [
     "alt"
    ]
   },
   "outputs": [],
   "source": [
    "const subway = new Transport(new SubwayFare());\n",
    "console.log(`Subway fare: ${subway.calculateFare(10)}`);"
   ]
  },
  {
   "cell_type": "code",
   "execution_count": null,
   "id": "e6208beef66c47fc",
   "metadata": {
    "tags": [
     "alt"
    ]
   },
   "outputs": [],
   "source": [
    "const train = new Transport(new TrainFare());\n",
    "console.log(`Train fare: ${train.calculateFare(10)}`);"
   ]
  },
  {
   "cell_type": "code",
   "execution_count": null,
   "id": "a95fd2e94c79f96e",
   "metadata": {
    "tags": [
     "alt"
    ]
   },
   "outputs": [],
   "source": [
    "const boat = new Transport(new BoatFare());\n",
    "console.log(`Boat fare: ${boat.calculateFare(10)}`);"
   ]
  },
  {
   "cell_type": "markdown",
   "id": "65723c0628fbbaf5",
   "metadata": {
    "lang": "de",
    "slideshow": {
     "slide_type": "subslide"
    },
    "tags": [
     "subslide"
    ]
   },
   "source": [
    "\n",
    "## Extra-Workshop: Smart Home Device Control System mit Strategy\n",
    "\n",
    "In einem früheren Workshop haben wir ein System zur Kontrolle von Smart Home\n",
    "Devices implementiert.\n",
    "\n",
    "Lösen Sie das OCP-Problem für dieses System mit dem Strategy-Muster."
   ]
  },
  {
   "cell_type": "code",
   "execution_count": null,
   "id": "2990d1c4c69a59fe",
   "metadata": {
    "slideshow": {
     "slide_type": "subslide"
    },
    "tags": [
     "subslide"
    ]
   },
   "outputs": [],
   "source": [
    "interface IDeviceStrategy {\n",
    "    control(): void;\n",
    "    getStatus(): void;\n",
    "}"
   ]
  },
  {
   "cell_type": "code",
   "execution_count": null,
   "id": "071e68e3dc4fc516",
   "metadata": {
    "slideshow": {
     "slide_type": "subslide"
    },
    "tags": [
     "subslide",
     "alt"
    ]
   },
   "outputs": [],
   "source": [
    "class LightStrategy implements IDeviceStrategy {\n",
    "    control(): void {\n",
    "        console.log(\"Light control\");\n",
    "    }\n",
    "\n",
    "    getStatus(): void {\n",
    "        console.log(\"Light status\");\n",
    "    }\n",
    "}"
   ]
  },
  {
   "cell_type": "code",
   "execution_count": null,
   "id": "241bf6dad1237d48",
   "metadata": {
    "tags": [
     "alt"
    ]
   },
   "outputs": [],
   "source": [
    "class ThermostatStrategy implements IDeviceStrategy {\n",
    "    control(): void {\n",
    "        console.log(\"Thermostat control\");\n",
    "    }\n",
    "\n",
    "    getStatus(): void {\n",
    "        console.log(\"Thermostat status\");\n",
    "    }\n",
    "}"
   ]
  },
  {
   "cell_type": "code",
   "execution_count": null,
   "id": "03784ed2ea25cd49",
   "metadata": {
    "tags": [
     "alt"
    ]
   },
   "outputs": [],
   "source": [
    "class SecurityCameraStrategy implements IDeviceStrategy {\n",
    "    control(): void {\n",
    "        console.log(\"Security camera control\");\n",
    "    }\n",
    "\n",
    "    getStatus(): void {\n",
    "        console.log(\"Security camera status\");\n",
    "    }\n",
    "}"
   ]
  },
  {
   "cell_type": "code",
   "execution_count": null,
   "id": "2cd04529f548f155",
   "metadata": {
    "tags": [
     "alt"
    ]
   },
   "outputs": [],
   "source": [
    "class SmartLockStrategy implements IDeviceStrategy {\n",
    "    control(): void {\n",
    "        console.log(\"Smart lock control\");\n",
    "    }\n",
    "\n",
    "    getStatus(): void {\n",
    "        console.log(\"Smart lock status\");\n",
    "    }\n",
    "}"
   ]
  },
  {
   "cell_type": "code",
   "execution_count": null,
   "id": "42db348ba1092c4a",
   "metadata": {
    "slideshow": {
     "slide_type": "subslide"
    },
    "tags": [
     "subslide",
     "alt"
    ]
   },
   "outputs": [],
   "source": [
    "class SmartHomeDevice {\n",
    "    private strategy: IDeviceStrategy;\n",
    "\n",
    "    constructor(strategy: IDeviceStrategy) {\n",
    "        this.strategy = strategy;\n",
    "    }\n",
    "\n",
    "    public control(): void {\n",
    "        this.strategy.control();\n",
    "    }\n",
    "\n",
    "    public getStatus(): void {\n",
    "        this.strategy.getStatus();\n",
    "    }\n",
    "}"
   ]
  },
  {
   "cell_type": "code",
   "execution_count": null,
   "id": "657d6e2f60896c0c",
   "metadata": {
    "slideshow": {
     "slide_type": "subslide"
    },
    "tags": [
     "subslide",
     "alt"
    ]
   },
   "outputs": [],
   "source": [
    "const devices: SmartHomeDevice[] = [];"
   ]
  },
  {
   "cell_type": "code",
   "execution_count": null,
   "id": "43be6c758e41b8a2",
   "metadata": {
    "tags": [
     "alt"
    ]
   },
   "outputs": [],
   "source": [
    "devices.push(new SmartHomeDevice(new LightStrategy()));\n",
    "devices.push(new SmartHomeDevice(new ThermostatStrategy()));\n",
    "devices.push(new SmartHomeDevice(new SecurityCameraStrategy()));\n",
    "devices.push(new SmartHomeDevice(new SmartLockStrategy()));\n",
    "console.log(devices);"
   ]
  },
  {
   "cell_type": "code",
   "execution_count": null,
   "id": "8a98e6df91967e2d",
   "metadata": {
    "tags": [
     "alt"
    ]
   },
   "outputs": [],
   "source": [
    "devices.forEach(device => {\n",
    "    device.control();\n",
    "    device.getStatus();\n",
    "});"
   ]
  }
 ],
 "metadata": {
  "jupytext": {
   "cell_metadata_filter": "tags,lang,-all",
   "encoding": "// -*- coding: utf-8 -*-",
   "main_language": "typescript",
   "notebook_metadata_filter": "-all"
  },
  "kernelspec": {
   "display_name": "Deno",
   "language": "typescript",
   "name": "deno"
  },
  "language_info": {
   "codemirror_mode": "typescript",
   "file_extension": ".ts",
   "mimetype": "text/x.typescript",
   "name": "typescript",
   "pygments_lexer": "typescript",
   "version": "5.6.2"
  }
 },
 "nbformat": 4,
 "nbformat_minor": 5
}
