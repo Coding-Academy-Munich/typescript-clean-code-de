{
 "cells": [
  {
   "cell_type": "markdown",
   "id": "c9d221e201bd422f",
   "metadata": {
    "lang": "de",
    "slideshow": {
     "slide_type": "slide"
    },
    "tags": [
     "slide"
    ]
   },
   "source": [
    "<!--\n",
    "clang-format off\n",
    "-->\n",
    "\n",
    "<img src=\"data:image/svg+xml;base64,PHN2ZyBmaWxsPSJub25lIiBoZWlnaHQ9IjUxMiIgdmlld0JveD0iMCAwIDUxMiA1MTIiIHdpZHRo\n",
    "PSI1MTIiIHhtbG5zPSJodHRwOi8vd3d3LnczLm9yZy8yMDAwL3N2ZyI+PHJlY3QgZmlsbD0iIzMx\n",
    "NzhjNiIgaGVpZ2h0PSI1MTIiIHJ4PSI1MCIgd2lkdGg9IjUxMiIvPjxyZWN0IGZpbGw9IiMzMTc4\n",
    "YzYiIGhlaWdodD0iNTEyIiByeD0iNTAiIHdpZHRoPSI1MTIiLz48cGF0aCBjbGlwLXJ1bGU9ImV2\n",
    "ZW5vZGQiIGQ9Im0zMTYuOTM5IDQwNy40MjR2NTAuMDYxYzguMTM4IDQuMTcyIDE3Ljc2MyA3LjMg\n",
    "MjguODc1IDkuMzg2czIyLjgyMyAzLjEyOSAzNS4xMzUgMy4xMjljMTEuOTk5IDAgMjMuMzk3LTEu\n",
    "MTQ3IDM0LjE5Ni0zLjQ0MiAxMC43OTktMi4yOTQgMjAuMjY4LTYuMDc1IDI4LjQwNi0xMS4zNDIg\n",
    "OC4xMzgtNS4yNjYgMTQuNTgxLTEyLjE1IDE5LjMyOC0yMC42NXM3LjEyMS0xOS4wMDcgNy4xMjEt\n",
    "MzEuNTIyYzAtOS4wNzQtMS4zNTYtMTcuMDI2LTQuMDY5LTIzLjg1N3MtNi42MjUtMTIuOTA2LTEx\n",
    "LjczOC0xOC4yMjVjLTUuMTEyLTUuMzE5LTExLjI0Mi0xMC4wOTEtMTguMzg5LTE0LjMxNXMtMTUu\n",
    "MjA3LTguMjEzLTI0LjE4LTExLjk2N2MtNi41NzMtMi43MTItMTIuNDY4LTUuMzQ1LTE3LjY4NS03\n",
    "LjktNS4yMTctMi41NTYtOS42NTEtNS4xNjMtMTMuMzAzLTcuODIyLTMuNjUyLTIuNjYtNi40Njkt\n",
    "NS40NzYtOC40NTEtOC40NDgtMS45ODItMi45NzMtMi45NzQtNi4zMzYtMi45NzQtMTAuMDkxIDAt\n",
    "My40NDEuODg3LTYuNTQ0IDIuNjYxLTkuMzA4czQuMjc4LTUuMTM2IDcuNTEyLTcuMTE4YzMuMjM1\n",
    "LTEuOTgxIDcuMTk5LTMuNTIgMTEuODk0LTQuNjE1IDQuNjk2LTEuMDk1IDkuOTEyLTEuNjQyIDE1\n",
    "LjY1MS0xLjY0MiA0LjE3MyAwIDguNTgxLjMxMyAxMy4yMjQuOTM4IDQuNjQzLjYyNiA5LjMxMiAx\n",
    "LjU5MSAxNC4wMDggMi44OTQgNC42OTUgMS4zMDQgOS4yNTkgMi45NDcgMTMuNjk0IDQuOTI4IDQu\n",
    "NDM0IDEuOTgyIDguNTI5IDQuMjc2IDEyLjI4NSA2Ljg4NHYtNDYuNzc2Yy03LjYxNi0yLjkyLTE1\n",
    "LjkzNy01LjA4NC0yNC45NjItNi40OTJzLTE5LjM4MS0yLjExMi0zMS4wNjYtMi4xMTJjLTExLjg5\n",
    "NSAwLTIzLjE2MyAxLjI3OC0zMy44MDUgMy44MzNzLTIwLjAwNiA2LjU0NC0yOC4wOTMgMTEuOTY3\n",
    "Yy04LjA4NiA1LjQyNC0xNC40NzYgMTIuMzMzLTE5LjE3MSAyMC43MjktNC42OTUgOC4zOTUtNy4w\n",
    "NDMgMTguNDMzLTcuMDQzIDMwLjExNCAwIDE0LjkxNCA0LjMwNCAyNy42MzggMTIuOTEyIDM4LjE3\n",
    "MiA4LjYwNyAxMC41MzMgMjEuNjc1IDE5LjQ1IDM5LjIwNCAyNi43NTEgNi44ODYgMi44MTYgMTMu\n",
    "MzAzIDUuNTc5IDE5LjI1IDguMjkxczExLjA4NiA1LjUyOCAxNS40MTUgOC40NDhjNC4zMyAyLjky\n",
    "IDcuNzQ3IDYuMTAxIDEwLjI1MiA5LjU0MyAyLjUwNCAzLjQ0MSAzLjc1NiA3LjM1MiAzLjc1NiAx\n",
    "MS43MzMgMCAzLjIzMy0uNzgzIDYuMjMxLTIuMzQ4IDguOTk1cy0zLjkzOSA1LjE2Mi03LjEyMSA3\n",
    "LjE5Ni03LjE0NyAzLjYyNC0xMS44OTQgNC43NzFjLTQuNzQ4IDEuMTQ4LTEwLjMwMyAxLjcyMS0x\n",
    "Ni42NjggMS43MjEtMTAuODUxIDAtMjEuNTk3LTEuOTAzLTMyLjI0LTUuNzEtMTAuNjQyLTMuODA2\n",
    "LTIwLjUwMi05LjUxNi0yOS41NzktMTcuMTN6bS04NC4xNTktMTIzLjM0Mmg2NC4yMnYtNDEuMDgy\n",
    "aC0xNzl2NDEuMDgyaDYzLjkwNnYxODIuOTE4aDUwLjg3NHoiIGZpbGw9IiNmZmYiIGZpbGwtcnVs\n",
    "ZT0iZXZlbm9kZCIvPjwvc3ZnPg==\n",
    "\"\n",
    "     alt=\"TypeScript Logo\" style=\"display:block;margin:auto;width:5%\"/>\n",
    "<br>\n",
    "\n",
    "<div style=\"text-align:center; font-size:200%;\">\n",
    "  <b>SOLID: Interface-Segregations-Prinzip</b>\n",
    "</div>\n",
    "<br/>\n",
    "<div style=\"text-align:center; font-size:120%;\">Dr. Matthias Hölzl</div>\n",
    "<br/>\n",
    "<div style=\"text-align:center;\">Coding-Akademie München</div>\n",
    "<br/>"
   ]
  },
  {
   "cell_type": "markdown",
   "id": "0a0f1bc85d2c2102",
   "metadata": {
    "lang": "de",
    "slideshow": {
     "slide_type": "slide"
    },
    "tags": [
     "slide"
    ]
   },
   "source": [
    "\n",
    "## SOLID : Interface-Segregations-Prinzip\n",
    "\n",
    "- Kein Client einer Klasse `C` sollte von Methoden abhängen, die er nicht\n",
    "  benutzt.\n",
    "- Wenn das nicht der Fall ist\n",
    "- Unterteile die Schnittstelle von `C` in mehrere unabhängige Schnittstellen.\n",
    "- Ersetze `C` in jedem Client durch die vom Client tatsächlich verwendeten\n",
    "  Schnittstellen."
   ]
  },
  {
   "cell_type": "code",
   "execution_count": null,
   "id": "6adf4bce1053641b",
   "metadata": {
    "slideshow": {
     "slide_type": "subslide"
    },
    "tags": [
     "keep",
     "subslide"
    ]
   },
   "outputs": [],
   "source": [
    "class Car {\n",
    "    drive(): void {\n",
    "        console.log(\"Accelerating.\");\n",
    "    }\n",
    "\n",
    "    repair(): void {\n",
    "        console.log(\"Repairing.\");\n",
    "    }\n",
    "}"
   ]
  },
  {
   "cell_type": "code",
   "execution_count": null,
   "id": "5df9308e21a34c1f",
   "metadata": {
    "slideshow": {
     "slide_type": "subslide"
    },
    "tags": [
     "keep",
     "subslide"
    ]
   },
   "outputs": [],
   "source": [
    "class Driver {\n",
    "    drive(car: Car): void {\n",
    "        car.drive();\n",
    "    }\n",
    "}"
   ]
  },
  {
   "cell_type": "code",
   "execution_count": null,
   "id": "54584f0eb25e293b",
   "metadata": {
    "tags": [
     "keep"
    ]
   },
   "outputs": [],
   "source": [
    "class Mechanic {\n",
    "    workOn(car: Car): void {\n",
    "        car.repair();\n",
    "    }\n",
    "}"
   ]
  },
  {
   "cell_type": "code",
   "execution_count": null,
   "id": "14637772a16cf806",
   "metadata": {
    "slideshow": {
     "slide_type": "subslide"
    },
    "tags": [
     "keep",
     "subslide"
    ]
   },
   "outputs": [],
   "source": [
    "const driver = new Driver();\n",
    "const mechanic = new Mechanic();\n",
    "const car = new Car();"
   ]
  },
  {
   "cell_type": "code",
   "execution_count": null,
   "id": "487d8b5900d96cf2",
   "metadata": {
    "tags": [
     "keep"
    ]
   },
   "outputs": [],
   "source": [
    "driver.drive(car);"
   ]
  },
  {
   "cell_type": "code",
   "execution_count": null,
   "id": "e843d7ed93b2018c",
   "metadata": {
    "tags": [
     "keep"
    ]
   },
   "outputs": [],
   "source": [
    "mechanic.workOn(car);"
   ]
  },
  {
   "cell_type": "code",
   "execution_count": null,
   "id": "d38d87de38615883",
   "metadata": {
    "slideshow": {
     "slide_type": "subslide"
    },
    "tags": [
     "keep",
     "subslide"
    ]
   },
   "outputs": [],
   "source": [
    "interface Drivable {\n",
    "    drive(): void;\n",
    "}"
   ]
  },
  {
   "cell_type": "code",
   "execution_count": null,
   "id": "4fcaeeeb192dce1a",
   "metadata": {
    "tags": [
     "keep"
    ]
   },
   "outputs": [],
   "source": [
    "interface Repairable {\n",
    "    repair(): void;\n",
    "}"
   ]
  },
  {
   "cell_type": "code",
   "execution_count": null,
   "id": "58f73476540c1c02",
   "metadata": {
    "tags": [
     "keep"
    ]
   },
   "outputs": [],
   "source": [
    "class CarV2 implements Drivable, Repairable {\n",
    "    drive(): void {\n",
    "        console.log(\"Accelerating.\");\n",
    "    }\n",
    "\n",
    "    repair(): void {\n",
    "        console.log(\"Repairing.\");\n",
    "    }\n",
    "}"
   ]
  },
  {
   "cell_type": "code",
   "execution_count": null,
   "id": "65d9ec4e4c67bcac",
   "metadata": {
    "slideshow": {
     "slide_type": "subslide"
    },
    "tags": [
     "keep",
     "subslide"
    ]
   },
   "outputs": [],
   "source": [
    "class DriverV2 {\n",
    "    drive(car: Drivable): void {\n",
    "        car.drive();\n",
    "    }\n",
    "}"
   ]
  },
  {
   "cell_type": "code",
   "execution_count": null,
   "id": "49208900f38c0018",
   "metadata": {
    "tags": [
     "keep"
    ]
   },
   "outputs": [],
   "source": [
    "class MechanicV2 {\n",
    "    workOn(car: Repairable): void {\n",
    "        car.repair();\n",
    "    }\n",
    "}"
   ]
  },
  {
   "cell_type": "code",
   "execution_count": null,
   "id": "e5aa3ebb8620f75e",
   "metadata": {
    "slideshow": {
     "slide_type": "subslide"
    },
    "tags": [
     "keep",
     "subslide"
    ]
   },
   "outputs": [],
   "source": [
    "const driverV2 = new DriverV2();\n",
    "const mechanicV2 = new MechanicV2();\n",
    "const carV2 = new CarV2();"
   ]
  },
  {
   "cell_type": "code",
   "execution_count": null,
   "id": "3a15d6986fc8f460",
   "metadata": {
    "tags": [
     "keep"
    ]
   },
   "outputs": [],
   "source": [
    "driverV2.drive(carV2);"
   ]
  },
  {
   "cell_type": "code",
   "execution_count": null,
   "id": "9eb2182c208ea397",
   "metadata": {
    "tags": [
     "keep"
    ]
   },
   "outputs": [],
   "source": [
    "mechanicV2.workOn(carV2);"
   ]
  },
  {
   "cell_type": "markdown",
   "id": "0618b219a7380c6c",
   "metadata": {
    "lang": "de",
    "slideshow": {
     "slide_type": "subslide"
    },
    "tags": [
     "subslide"
    ]
   },
   "source": [
    "\n",
    "## Workshop:\n",
    "\n",
    "In diesem Workshop werden wir an einem Restaurant-Management-System arbeiten.\n",
    "\n",
    "Stellen Sie sich vor, Sie haben den Code eines Restaurant-Management-Systems\n",
    "erhalten. Das System hat derzeit eine einzige Schnittstelle\n",
    "`IRestaurantOperations`, die alle Operationen definiert, die in einem\n",
    "Restaurant durchgeführt werden können. Verschiedene Rollen im Restaurant, wie\n",
    "der Kunde, der Koch, der Kassierer und der Hausmeister, verwenden alle\n",
    "dieselbe Schnittstelle, aber jede Rolle verwendet nur einen Teil ihrer\n",
    "Funktionen.\n",
    "\n",
    "Ihre Aufgabe ist es, dieses System so umzubauen, dass es dem\n",
    "Interface-Segregations-Prinzip entspricht. Das bedeutet, dass kein Client\n",
    "gezwungen werden sollte, von Schnittstellen abhängig zu sein, die er nicht\n",
    "verwendet."
   ]
  },
  {
   "cell_type": "markdown",
   "id": "8af396f1367e7e27",
   "metadata": {
    "lang": "de",
    "slideshow": {
     "slide_type": "subslide"
    },
    "tags": [
     "subslide"
    ]
   },
   "source": [
    "\n",
    "1. Identifizieren Sie, welche Operationen für welche Rollen relevant sind.\n",
    "2. Teilen Sie das `IRestaurantOperations`-Interface in kleinere,\n",
    "   rollenspezifische Schnittstellen auf.\n",
    "3. Passen Sie die `Restaurant`-Klasse und die rollenbasierten Client-Klassen\n",
    "   (`Customer`, `Chef`, `Cashier`, `Janitor`) an die neuen Schnittstellen an.\n",
    "4. Stellen Sie sicher, dass jede Client-Klasse nur über die für ihre Rolle\n",
    "   relevanten Operationen Bescheid weiß."
   ]
  },
  {
   "cell_type": "code",
   "execution_count": null,
   "id": "13cafaf02412647a",
   "metadata": {
    "slideshow": {
     "slide_type": "subslide"
    },
    "tags": [
     "subslide",
     "keep"
    ]
   },
   "outputs": [],
   "source": [
    "interface RestaurantOperations {\n",
    "    placeOrder(): void;\n",
    "    cookOrder(): void;\n",
    "    calculateBill(): void;\n",
    "    cleanTables(): void;\n",
    "}"
   ]
  },
  {
   "cell_type": "code",
   "execution_count": null,
   "id": "af596d4b9d9845f0",
   "metadata": {
    "slideshow": {
     "slide_type": "subslide"
    },
    "tags": [
     "keep",
     "subslide"
    ]
   },
   "outputs": [],
   "source": [
    "class Restaurant implements RestaurantOperations {\n",
    "    placeOrder(): void {\n",
    "        console.log(\"Order has been placed.\");\n",
    "    }\n",
    "\n",
    "    cookOrder(): void {\n",
    "        console.log(\"Order is being cooked.\");\n",
    "    }\n",
    "\n",
    "    calculateBill(): void {\n",
    "        console.log(\"Bill is being calculated.\");\n",
    "    }\n",
    "\n",
    "    cleanTables(): void {\n",
    "        console.log(\"Tables are being cleaned.\");\n",
    "    }\n",
    "}"
   ]
  },
  {
   "cell_type": "code",
   "execution_count": null,
   "id": "8437c9eaaa04f90c",
   "metadata": {
    "slideshow": {
     "slide_type": "subslide"
    },
    "tags": [
     "keep",
     "subslide"
    ]
   },
   "outputs": [],
   "source": [
    "class Customer {\n",
    "    private restaurant: RestaurantOperations;\n",
    "\n",
    "    constructor(restaurant: RestaurantOperations) {\n",
    "        this.restaurant = restaurant;\n",
    "    }\n",
    "\n",
    "    makeOrder(): void {\n",
    "        this.restaurant.placeOrder();\n",
    "        this.restaurant.calculateBill();\n",
    "    }\n",
    "}"
   ]
  },
  {
   "cell_type": "code",
   "execution_count": null,
   "id": "92edbf11d96e54ff",
   "metadata": {
    "slideshow": {
     "slide_type": "subslide"
    },
    "tags": [
     "keep",
     "subslide"
    ]
   },
   "outputs": [],
   "source": [
    "class Chef {\n",
    "    constructor(private restaurant: RestaurantOperations) {}\n",
    "\n",
    "    prepareFood(): void {\n",
    "        this.restaurant.cookOrder();\n",
    "    }\n",
    "}"
   ]
  },
  {
   "cell_type": "code",
   "execution_count": null,
   "id": "8d525aac149b20e3",
   "metadata": {
    "slideshow": {
     "slide_type": "subslide"
    },
    "tags": [
     "keep",
     "subslide"
    ]
   },
   "outputs": [],
   "source": [
    "class Cashier {\n",
    "    constructor(private restaurant: RestaurantOperations) { }\n",
    "\n",
    "    generateBill(): void {\n",
    "        this.restaurant.calculateBill();\n",
    "    }\n",
    "}"
   ]
  },
  {
   "cell_type": "code",
   "execution_count": null,
   "id": "84f4a773b9a9ca5d",
   "metadata": {
    "slideshow": {
     "slide_type": "subslide"
    },
    "tags": [
     "keep",
     "subslide"
    ]
   },
   "outputs": [],
   "source": [
    "class Janitor {\n",
    "    constructor(private restaurant: RestaurantOperations) {\n",
    "        this.restaurant = restaurant;\n",
    "    }\n",
    "\n",
    "    clean(): void {\n",
    "        this.restaurant.cleanTables();\n",
    "    }\n",
    "}"
   ]
  },
  {
   "cell_type": "code",
   "execution_count": null,
   "id": "a34434f54349376d",
   "metadata": {
    "slideshow": {
     "slide_type": "subslide"
    },
    "tags": [
     "keep",
     "subslide"
    ]
   },
   "outputs": [],
   "source": [
    "const restaurant = new Restaurant();\n",
    "const customer = new Customer(restaurant);\n",
    "const chef = new Chef(restaurant);\n",
    "const cashier = new Cashier(restaurant);\n",
    "const janitor = new Janitor(restaurant);"
   ]
  },
  {
   "cell_type": "code",
   "execution_count": null,
   "id": "6ace6581f5f525bf",
   "metadata": {
    "tags": [
     "keep"
    ]
   },
   "outputs": [],
   "source": [
    "customer.makeOrder();\n",
    "chef.prepareFood();\n",
    "cashier.generateBill();\n",
    "janitor.clean();"
   ]
  },
  {
   "cell_type": "code",
   "execution_count": null,
   "id": "61135741d01978ad",
   "metadata": {
    "slideshow": {
     "slide_type": "subslide"
    },
    "tags": [
     "subslide",
     "alt"
    ]
   },
   "outputs": [],
   "source": [
    "interface Ordering {\n",
    "    placeOrder(): void;\n",
    "}"
   ]
  },
  {
   "cell_type": "code",
   "execution_count": null,
   "id": "1dccddb40dc27c03",
   "metadata": {
    "tags": [
     "alt"
    ]
   },
   "outputs": [],
   "source": [
    "interface Cooking {\n",
    "    cookOrder(): void;\n",
    "}"
   ]
  },
  {
   "cell_type": "code",
   "execution_count": null,
   "id": "3f38dd857a7397e0",
   "metadata": {
    "tags": [
     "alt"
    ]
   },
   "outputs": [],
   "source": [
    "interface Billing {\n",
    "    calculateBill(): void;\n",
    "}"
   ]
  },
  {
   "cell_type": "code",
   "execution_count": null,
   "id": "7edd34f75e458f5d",
   "metadata": {
    "tags": [
     "alt"
    ]
   },
   "outputs": [],
   "source": [
    "interface Cleaning {\n",
    "    cleanTables(): void;\n",
    "}"
   ]
  },
  {
   "cell_type": "code",
   "execution_count": null,
   "id": "e19d56a610b7a4bb",
   "metadata": {
    "slideshow": {
     "slide_type": "subslide"
    },
    "tags": [
     "alt",
     "subslide"
    ]
   },
   "outputs": [],
   "source": [
    "class RestaurantV2 implements Ordering, Cooking, Billing, Cleaning {\n",
    "    placeOrder(): void {\n",
    "        console.log(\"Order has been placed.\");\n",
    "    }\n",
    "\n",
    "    cookOrder(): void {\n",
    "        console.log(\"Order is being cooked.\");\n",
    "    }\n",
    "\n",
    "    calculateBill(): void {\n",
    "        console.log(\"Bill is being calculated.\");\n",
    "    }\n",
    "\n",
    "    cleanTables(): void {\n",
    "        console.log(\"Tables are being cleaned.\");\n",
    "    }\n",
    "}"
   ]
  },
  {
   "cell_type": "code",
   "execution_count": null,
   "id": "07838103ed3a231e",
   "metadata": {
    "slideshow": {
     "slide_type": "subslide"
    },
    "tags": [
     "alt",
     "subslide"
    ]
   },
   "outputs": [],
   "source": [
    "class CustomerV2 {\n",
    "    constructor(private ordering: Ordering, private billing: Billing) {}\n",
    "\n",
    "    makeOrder(): void {\n",
    "        this.ordering.placeOrder();\n",
    "        this.billing.calculateBill();\n",
    "    }\n",
    "}"
   ]
  },
  {
   "cell_type": "code",
   "execution_count": null,
   "id": "c2ac2194d87fa426",
   "metadata": {
    "slideshow": {
     "slide_type": "subslide"
    },
    "tags": [
     "alt",
     "subslide"
    ]
   },
   "outputs": [],
   "source": [
    "class ChefV2 {\n",
    "    constructor(private cooking: Cooking) {\n",
    "        this.cooking = cooking;\n",
    "    }\n",
    "\n",
    "    prepareFood(): void {\n",
    "        this.cooking.cookOrder();\n",
    "    }\n",
    "}"
   ]
  },
  {
   "cell_type": "code",
   "execution_count": null,
   "id": "007430b9723f8e19",
   "metadata": {
    "slideshow": {
     "slide_type": "subslide"
    },
    "tags": [
     "alt",
     "subslide"
    ]
   },
   "outputs": [],
   "source": [
    "class CashierV2 {\n",
    "    constructor(private billing: Billing) {\n",
    "        this.billing = billing;\n",
    "    }\n",
    "\n",
    "    generateBill(): void {\n",
    "        this.billing.calculateBill();\n",
    "    }\n",
    "}"
   ]
  },
  {
   "cell_type": "code",
   "execution_count": null,
   "id": "0abdd308c6cc0cb7",
   "metadata": {
    "slideshow": {
     "slide_type": "subslide"
    },
    "tags": [
     "alt",
     "subslide"
    ]
   },
   "outputs": [],
   "source": [
    "class JanitorV2 {\n",
    "    constructor(private cleaning: Cleaning) {}\n",
    "\n",
    "    clean(): void {\n",
    "        this.cleaning.cleanTables();\n",
    "    }\n",
    "}"
   ]
  },
  {
   "cell_type": "code",
   "execution_count": null,
   "id": "4420deb86af8cbfe",
   "metadata": {
    "slideshow": {
     "slide_type": "subslide"
    },
    "tags": [
     "alt",
     "subslide"
    ]
   },
   "outputs": [],
   "source": [
    "const restaurantV2 = new RestaurantV2();\n",
    "const customerV2 = new CustomerV2(restaurantV2, restaurantV2);\n",
    "const chefV2 = new ChefV2(restaurantV2);\n",
    "const cashierV2 = new CashierV2(restaurantV2);\n",
    "const janitorV2 = new JanitorV2(restaurantV2);"
   ]
  },
  {
   "cell_type": "code",
   "execution_count": null,
   "id": "0a8601406b28b9d1",
   "metadata": {
    "slideshow": {
     "slide_type": "subslide"
    },
    "tags": [
     "alt",
     "subslide"
    ]
   },
   "outputs": [],
   "source": [
    "customerV2.makeOrder();\n",
    "chefV2.prepareFood();\n",
    "cashierV2.generateBill();\n",
    "janitorV2.clean();"
   ]
  }
 ],
 "metadata": {
  "jupytext": {
   "cell_metadata_filter": "tags,lang,-all",
   "encoding": "// -*- coding: utf-8 -*-",
   "main_language": "typescript",
   "notebook_metadata_filter": "-all"
  },
  "kernelspec": {
   "display_name": "Deno",
   "language": "typescript",
   "name": "deno"
  },
  "language_info": {
   "codemirror_mode": "typescript",
   "file_extension": ".ts",
   "mimetype": "text/x.typescript",
   "name": "typescript",
   "pygments_lexer": "typescript",
   "version": "5.6.2"
  }
 },
 "nbformat": 4,
 "nbformat_minor": 5
}
