{
 "cells": [
  {
   "cell_type": "markdown",
   "id": "0062d40e7a9d7636",
   "metadata": {
    "lang": "de",
    "slideshow": {
     "slide_type": "slide"
    },
    "tags": [
     "slide"
    ]
   },
   "source": [
    "\n",
    "<img src=\"data:image/svg+xml;base64,PHN2ZyBmaWxsPSJub25lIiBoZWlnaHQ9IjUxMiIgdmlld0JveD0iMCAwIDUxMiA1MTIiIHdpZHRo\n",
    "PSI1MTIiIHhtbG5zPSJodHRwOi8vd3d3LnczLm9yZy8yMDAwL3N2ZyI+PHJlY3QgZmlsbD0iIzMx\n",
    "NzhjNiIgaGVpZ2h0PSI1MTIiIHJ4PSI1MCIgd2lkdGg9IjUxMiIvPjxyZWN0IGZpbGw9IiMzMTc4\n",
    "YzYiIGhlaWdodD0iNTEyIiByeD0iNTAiIHdpZHRoPSI1MTIiLz48cGF0aCBjbGlwLXJ1bGU9ImV2\n",
    "ZW5vZGQiIGQ9Im0zMTYuOTM5IDQwNy40MjR2NTAuMDYxYzguMTM4IDQuMTcyIDE3Ljc2MyA3LjMg\n",
    "MjguODc1IDkuMzg2czIyLjgyMyAzLjEyOSAzNS4xMzUgMy4xMjljMTEuOTk5IDAgMjMuMzk3LTEu\n",
    "MTQ3IDM0LjE5Ni0zLjQ0MiAxMC43OTktMi4yOTQgMjAuMjY4LTYuMDc1IDI4LjQwNi0xMS4zNDIg\n",
    "OC4xMzgtNS4yNjYgMTQuNTgxLTEyLjE1IDE5LjMyOC0yMC42NXM3LjEyMS0xOS4wMDcgNy4xMjEt\n",
    "MzEuNTIyYzAtOS4wNzQtMS4zNTYtMTcuMDI2LTQuMDY5LTIzLjg1N3MtNi42MjUtMTIuOTA2LTEx\n",
    "LjczOC0xOC4yMjVjLTUuMTEyLTUuMzE5LTExLjI0Mi0xMC4wOTEtMTguMzg5LTE0LjMxNXMtMTUu\n",
    "MjA3LTguMjEzLTI0LjE4LTExLjk2N2MtNi41NzMtMi43MTItMTIuNDY4LTUuMzQ1LTE3LjY4NS03\n",
    "LjktNS4yMTctMi41NTYtOS42NTEtNS4xNjMtMTMuMzAzLTcuODIyLTMuNjUyLTIuNjYtNi40Njkt\n",
    "NS40NzYtOC40NTEtOC40NDgtMS45ODItMi45NzMtMi45NzQtNi4zMzYtMi45NzQtMTAuMDkxIDAt\n",
    "My40NDEuODg3LTYuNTQ0IDIuNjYxLTkuMzA4czQuMjc4LTUuMTM2IDcuNTEyLTcuMTE4YzMuMjM1\n",
    "LTEuOTgxIDcuMTk5LTMuNTIgMTEuODk0LTQuNjE1IDQuNjk2LTEuMDk1IDkuOTEyLTEuNjQyIDE1\n",
    "LjY1MS0xLjY0MiA0LjE3MyAwIDguNTgxLjMxMyAxMy4yMjQuOTM4IDQuNjQzLjYyNiA5LjMxMiAx\n",
    "LjU5MSAxNC4wMDggMi44OTQgNC42OTUgMS4zMDQgOS4yNTkgMi45NDcgMTMuNjk0IDQuOTI4IDQu\n",
    "NDM0IDEuOTgyIDguNTI5IDQuMjc2IDEyLjI4NSA2Ljg4NHYtNDYuNzc2Yy03LjYxNi0yLjkyLTE1\n",
    "LjkzNy01LjA4NC0yNC45NjItNi40OTJzLTE5LjM4MS0yLjExMi0zMS4wNjYtMi4xMTJjLTExLjg5\n",
    "NSAwLTIzLjE2MyAxLjI3OC0zMy44MDUgMy44MzNzLTIwLjAwNiA2LjU0NC0yOC4wOTMgMTEuOTY3\n",
    "Yy04LjA4NiA1LjQyNC0xNC40NzYgMTIuMzMzLTE5LjE3MSAyMC43MjktNC42OTUgOC4zOTUtNy4w\n",
    "NDMgMTguNDMzLTcuMDQzIDMwLjExNCAwIDE0LjkxNCA0LjMwNCAyNy42MzggMTIuOTEyIDM4LjE3\n",
    "MiA4LjYwNyAxMC41MzMgMjEuNjc1IDE5LjQ1IDM5LjIwNCAyNi43NTEgNi44ODYgMi44MTYgMTMu\n",
    "MzAzIDUuNTc5IDE5LjI1IDguMjkxczExLjA4NiA1LjUyOCAxNS40MTUgOC40NDhjNC4zMyAyLjky\n",
    "IDcuNzQ3IDYuMTAxIDEwLjI1MiA5LjU0MyAyLjUwNCAzLjQ0MSAzLjc1NiA3LjM1MiAzLjc1NiAx\n",
    "MS43MzMgMCAzLjIzMy0uNzgzIDYuMjMxLTIuMzQ4IDguOTk1cy0zLjkzOSA1LjE2Mi03LjEyMSA3\n",
    "LjE5Ni03LjE0NyAzLjYyNC0xMS44OTQgNC43NzFjLTQuNzQ4IDEuMTQ4LTEwLjMwMyAxLjcyMS0x\n",
    "Ni42NjggMS43MjEtMTAuODUxIDAtMjEuNTk3LTEuOTAzLTMyLjI0LTUuNzEtMTAuNjQyLTMuODA2\n",
    "LTIwLjUwMi05LjUxNi0yOS41NzktMTcuMTN6bS04NC4xNTktMTIzLjM0Mmg2NC4yMnYtNDEuMDgy\n",
    "aC0xNzl2NDEuMDgyaDYzLjkwNnYxODIuOTE4aDUwLjg3NHoiIGZpbGw9IiNmZmYiIGZpbGwtcnVs\n",
    "ZT0iZXZlbm9kZCIvPjwvc3ZnPg==\n",
    "\"\n",
    "     alt=\"TypeScript Logo\" style=\"display:block;margin:auto;width:5%\"/>\n",
    "<br>\n",
    "\n",
    "<div style=\"text-align:center; font-size:200%;\">\n",
    "  <b>GRASP: Creator</b>\n",
    "</div>\n",
    "<br/>\n",
    "<div style=\"text-align:center; font-size:120%;\">Dr. Matthias Hölzl</div>\n",
    "<br/>\n",
    "<div style=\"text-align:center;\">Coding-Akademie München</div>\n",
    "<br/>"
   ]
  },
  {
   "cell_type": "markdown",
   "id": "b3a0fce4e78c9957",
   "metadata": {
    "lang": "de",
    "slideshow": {
     "slide_type": "subslide"
    },
    "tags": [
     "subslide"
    ]
   },
   "source": [
    "\n",
    "- Use Case \"Spiel initialisieren\"\n",
    "- Bisher:\n",
    "  - `World`- und `Location`-Klassen\n",
    "  - Attribute und Getter\n",
    "- Frage:\n",
    "  - Wer erzeugt die `Location`-Instanzen?"
   ]
  },
  {
   "cell_type": "markdown",
   "id": "f57595341cbe2c96",
   "metadata": {
    "lang": "de",
    "slideshow": {
     "slide_type": "subslide"
    },
    "tags": [
     "subslide"
    ]
   },
   "source": [
    "\n",
    "## Kandidaten\n",
    "\n",
    "<div style=\"float:left;margin:auto;padding:80px 0;width:25%\">\n",
    "<ul>\n",
    "<li> <code>Player</code></li>\n",
    "<li> <code>Game</code></li>\n",
    "<li> <code>Pawn</code></li>\n",
    "<li> <code>Location</code></li>\n",
    "<li> <code>World</code></li>\n",
    "<li> Eine andere Klasse?</li>\n",
    "</ul>\n",
    "</div>\n",
    "<img src=\"img/adv-domain-03-small.png\"\n",
    "     style=\"float:right;margin:auto;width:70%\"/>"
   ]
  },
  {
   "cell_type": "markdown",
   "id": "e1e3c631b149a72d",
   "metadata": {
    "lang": "de",
    "slideshow": {
     "slide_type": "slide"
    },
    "tags": [
     "slide"
    ]
   },
   "source": [
    "\n",
    "## Das Creator Pattern (GRASP)\n",
    "\n",
    "### Frage\n",
    "\n",
    "- Wer ist verantwortlich für die Erzeugung eines Objekts?\n",
    "\n",
    "### Antwort\n",
    "\n",
    "Klasse `A` bekommt die Verantwortung, ein Objekt der Klasse `B` zu erzeugen,\n",
    "wenn eine oder mehrere der folgenden Bedingungen zutreffen:\n",
    "\n",
    "- `A` enthält `B` (oder ist Eigentümer von `B`)\n",
    "- `A` verwaltet `B` (registriert, zeichnet auf)\n",
    "- `A` verwendet `B` intensiv\n",
    "- `A` hat die initialisierenden Daten, die `B` benötigt"
   ]
  },
  {
   "cell_type": "markdown",
   "id": "cb33f74484b9ed49",
   "metadata": {
    "lang": "de",
    "slideshow": {
     "slide_type": "subslide"
    },
    "tags": [
     "subslide"
    ]
   },
   "source": [
    "\n",
    "### Bemerkung\n",
    "\n",
    "- Factory ist oft eine Alternative zu Creator"
   ]
  },
  {
   "cell_type": "markdown",
   "id": "b9cf50c83f9828d3",
   "metadata": {
    "lang": "de",
    "slideshow": {
     "slide_type": "subslide"
    },
    "tags": [
     "subslide"
    ]
   },
   "source": [
    "\n",
    "## Creator\n",
    "\n",
    "<div style=\"float:left;margin:auto;padding:80px 0;width:25%\">\n",
    "<ul>\n",
    "<li> <strike><code>Player</code></strike></li>\n",
    "<li> <strike><code>Game</code></strike></li>\n",
    "<li> <code>Pawn</code></li>\n",
    "<li> <code>Location</code></li>\n",
    "<li> <b><code>World</code></b></li>\n",
    "<li> <strike>Eine andere Klasse?</strike></li>\n",
    "</ul>\n",
    "</div>\n",
    "<img src=\"img/adv-domain-03-small.png\"\n",
    "     style=\"float:right;margin:auto;width:70%\"/>"
   ]
  },
  {
   "cell_type": "code",
   "execution_count": null,
   "id": "167bf0e6b234a71f",
   "metadata": {
    "slideshow": {
     "slide_type": "subslide"
    },
    "tags": [
     "keep",
     "subslide"
    ]
   },
   "outputs": [],
   "source": [
    "import { LocationData, loadLocationData } from \"./jsonLoader.ts\";"
   ]
  },
  {
   "cell_type": "code",
   "execution_count": null,
   "id": "d2d339e813e7cd00",
   "metadata": {
    "tags": [
     "keep"
    ]
   },
   "outputs": [],
   "source": [
    "const simpleLocationsData = loadLocationData(\"simple-locations.json\");"
   ]
  },
  {
   "cell_type": "code",
   "execution_count": null,
   "id": "1b46d5706618169b",
   "metadata": {},
   "outputs": [],
   "source": [
    "console.log(simpleLocationsData);"
   ]
  },
  {
   "cell_type": "code",
   "execution_count": null,
   "id": "470ec60483e51244",
   "metadata": {
    "slideshow": {
     "slide_type": "subslide"
    },
    "tags": [
     "keep",
     "subslide"
    ]
   },
   "outputs": [],
   "source": [
    "class Location {\n",
    "    constructor(\n",
    "        public name: string,\n",
    "        public description: string\n",
    "    ) {}\n",
    "\n",
    "    static fromData(data: LocationData): Location {\n",
    "        const name = data[\"name\"]?.toString() ?? \"<missing name>\";\n",
    "        const description = data[\"description\"]?.toString() ?? \"\";\n",
    "        return new Location(name, description);\n",
    "    }\n",
    "}"
   ]
  },
  {
   "cell_type": "code",
   "execution_count": null,
   "id": "0a4df4175c87cd18",
   "metadata": {
    "tags": [
     "alt"
    ]
   },
   "outputs": [],
   "source": [
    "class World {\n",
    "    constructor(\n",
    "        public locations: Map<string, Location>,\n",
    "        public initialLocationName: string\n",
    "    ) {}\n",
    "\n",
    "    static fromLocationData(locationData: LocationData[]): World {\n",
    "        const locations = new Map(\n",
    "            locationData\n",
    "                .map(Location.fromData)\n",
    "                .map(location => [location.name, location])\n",
    "        );\n",
    "        const initialLocationName = locationData[0][\"name\"] as string;\n",
    "        return new World(locations, initialLocationName);\n",
    "    }\n",
    "\n",
    "    static fromJsonFile(fileName: string): World {\n",
    "        const locationData = loadLocationData(fileName);\n",
    "        return World.fromLocationData(locationData);\n",
    "    }\n",
    "\n",
    "    toString(): string {\n",
    "        const locationCount = Object.keys(this.locations).length;\n",
    "        return `World(Initial location = '${this.initialLocationName}', ${locationCount} locations)`;\n",
    "    }\n",
    "}"
   ]
  },
  {
   "cell_type": "markdown",
   "id": "36db4ba4096e0965",
   "metadata": {
    "lang": "de",
    "slideshow": {
     "slide_type": "subslide"
    },
    "tags": [
     "subslide"
    ]
   },
   "source": [
    "\n",
    "- Wir können die `World`-Klasse jetzt verwenden."
   ]
  },
  {
   "cell_type": "code",
   "execution_count": null,
   "id": "4f9de04fdc149d2f",
   "metadata": {},
   "outputs": [],
   "source": [
    "let world = World.fromJsonFile(\"simple-locations.json\");"
   ]
  },
  {
   "cell_type": "code",
   "execution_count": null,
   "id": "928d5331025b3aab",
   "metadata": {},
   "outputs": [],
   "source": [
    "console.log(world);"
   ]
  },
  {
   "cell_type": "code",
   "execution_count": null,
   "id": "65c91b0121df732d",
   "metadata": {},
   "outputs": [],
   "source": [
    "let dungeon = World.fromJsonFile(\"dungeon-locations.json\");"
   ]
  },
  {
   "cell_type": "code",
   "execution_count": null,
   "id": "b8a4d70c32cd6f31",
   "metadata": {},
   "outputs": [],
   "source": [
    "console.log(dungeon);"
   ]
  }
 ],
 "metadata": {
  "jupytext": {
   "cell_metadata_filter": "lang,tags,-all",
   "encoding": "// -*- coding: utf-8 -*-",
   "main_language": "typescript",
   "notebook_metadata_filter": "-all"
  },
  "kernelspec": {
   "display_name": "Deno",
   "language": "typescript",
   "name": "deno"
  },
  "language_info": {
   "codemirror_mode": "typescript",
   "file_extension": ".ts",
   "mimetype": "text/x.typescript",
   "name": "typescript",
   "pygments_lexer": "typescript",
   "version": "5.6.2"
  }
 },
 "nbformat": 4,
 "nbformat_minor": 5
}
